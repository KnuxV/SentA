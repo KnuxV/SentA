{
 "cells": [
  {
   "cell_type": "code",
   "execution_count": 10,
   "outputs": [],
   "source": [
    "import pandas as pd\n",
    "import re\n",
    "# import swifter\n",
    "from tqdm import tqdm\n",
    "import tqdm\n",
    "import numpy as np"
   ],
   "metadata": {
    "collapsed": false
   }
  },
  {
   "cell_type": "code",
   "execution_count": 38,
   "metadata": {
    "collapsed": true
   },
   "outputs": [],
   "source": [
    "df_digi_keywords = pd.read_csv(\"../../SDG/data/keyword_digital_simplified.csv\").transpose()\n",
    "dic_digi = {}\n",
    "set_cat = set()\n",
    "for digi_cat, *digi_keywords in df_digi_keywords.itertuples(name=None):\n",
    "    set_cat.add(digi_cat)\n",
    "    for keyword in digi_keywords:\n",
    "        try:\n",
    "            dic_digi[keyword.replace(\"*\", \"\\w*\")] = digi_cat\n",
    "        except:\n",
    "            pass\n",
    "\n",
    "def check_for_dt(txt:str, how=\"dic\"):\n",
    "    if how==\"dic\":\n",
    "        res = {cat:[] for cat in set_cat}\n",
    "        for key, cat in dic_digi.items():\n",
    "            key = key.replace(' ', '[\\s-]')\n",
    "            m = re.search(key, txt, re.IGNORECASE)\n",
    "            if m:\n",
    "                 res[cat].append(m.group())\n",
    "        return {dt:lst for dt,lst in res.items() if lst}\n",
    "    elif how == \"keywords\":\n",
    "        res = []\n",
    "        for key, cat in dic_digi.items():\n",
    "             m = re.search(key, txt, re.IGNORECASE)\n",
    "             if m:\n",
    "                 res.append(m.group())\n",
    "        return \", \".join(res)\n",
    "    else:\n",
    "        print(\"wrong argument\")\n"
   ]
  },
  {
   "cell_type": "code",
   "execution_count": null,
   "outputs": [],
   "source": [],
   "metadata": {
    "collapsed": false
   }
  },
  {
   "cell_type": "code",
   "execution_count": 4,
   "outputs": [],
   "source": [
    "df_inter = pd.read_pickle(\"../results/inter.pkl\")\n",
    "df = pd.read_pickle(\"../../SDG/data/dataframes/full_pubs.pkl\")"
   ],
   "metadata": {
    "collapsed": false
   }
  },
  {
   "cell_type": "code",
   "execution_count": 6,
   "outputs": [
    {
     "data": {
      "text/plain": "                    PT                                                 AU  \\\nUT                                                                          \nWOS:000570328900001  J               Gusiatin, ZM; Kulikowska, D; Klik, B   \nWOS:000635505300001  J                              Vitko, TG; Suffet, IH   \nWOS:000410925400094  C                             Ntasiou, M; Andreou, E   \nWOS:000744257400019  J      Wu, LP; Zhang, SR; Chen, MM; Liu, J; Ding, XD   \nWOS:000501603000009  C                                          Staicu, D   \n...                 ..                                                ...   \nWOS:000399395700065  C  Dieffenderfer, J; Wilkins, M; Hood, C; Beppler...   \nWOS:000402630000005  C  Dinesh, K; Xiong, ML; Adams, J; Dorsey, R; Sha...   \nWOS:000390094700044  C    Ding, CW; Heidari, S; Wang, YZ; Liu, YP; Hu, JT   \nWOS:000391829200039  C        Ding, CW; Li, HJ; Hu, JT; Liu, YP; Wang, YZ   \nWOS:000391251700018  C                                  Ding, Y; Zilic, Z   \n\n                                                                    AF  \\\nUT                                                                       \nWOS:000570328900001  Gusiatin, Zygmunt M.; Kulikowska, Dorota; Klik...   \nWOS:000635505300001            Vitko, Tadeo G.; Suffet, Irwin H. (Mel)   \nWOS:000410925400094                           Ntasiou, M.; Andreou, E.   \nWOS:000744257400019  Wu, Lipeng; Zhang, Shirong; Chen, Mengmeng; Li...   \nWOS:000501603000009                                    Staicu, Daniela   \n...                                                                ...   \nWOS:000399395700065  Dieffenderfer, James; Wilkins, Michael; Hood, ...   \nWOS:000402630000005  Dinesh, Karthik; Xiong, Mulin; Adams, Jamie; D...   \nWOS:000390094700044  Ding, Caiwen; Heidari, Soroush; Wang, Yanzhi; ...   \nWOS:000391829200039  Ding, Caiwen; Li, Hongjia; Hu, Jingtong; Liu, ...   \nWOS:000391251700018                   Ding, Yi (Steven); Zilic, Zeljko   \n\n                                                                    TI  \\\nUT                                                                       \nWOS:000570328900001  New-Generation Washing Agents in Remediation o...   \nWOS:000635505300001  Corrective factors applied to reduced sulfur c...   \nWOS:000410925400094  The Standard of Industrial Symbiosis. Environm...   \nWOS:000744257400019  A sustainable option: Biochar addition can imp...   \nWOS:000501603000009  Contributions of social entrepreneurship to te...   \n...                                                                ...   \nWOS:000399395700065  Towards a Sweat-based Wireless and Wearable El...   \nWOS:000402630000005  SIGNAL ANALYSIS FOR DETECTING MOTOR SYMPTOMS I...   \nWOS:000390094700044  Multi-Source In-Door Energy Harvesting for Non...   \nWOS:000391829200039  Dynamic Converter Reconfiguration for Near-Thr...   \nWOS:000391251700018        ECG Compression for Mobile Sensor Platforms   \n\n                                                                    SO  \\\nUT                                                                       \nWOS:000570328900001  INTERNATIONAL JOURNAL OF ENVIRONMENTAL RESEARC...   \nWOS:000635505300001                         WATER ENVIRONMENT RESEARCH   \nWOS:000410925400094  SUSTAINABLE SYNERGIES FROM BUILDINGS TO THE UR...   \nWOS:000744257400019              ENVIRONMENTAL TECHNOLOGY & INNOVATION   \nWOS:000501603000009  PROCEEDINGS OF THE INTERNATIONAL CONFERENCE ON...   \n...                                                                ...   \nWOS:000399395700065                                  2016 IEEE SENSORS   \nWOS:000402630000005  2016 IEEE WESTERN NEW YORK IMAGE AND SIGNAL PR...   \nWOS:000390094700044  2016 IEEE INTERNATIONAL SYMPOSIUM ON CIRCUITS ...   \nWOS:000391829200039  PROCEEDINGS OF THE 34TH IEEE INTERNATIONAL CON...   \nWOS:000391251700018  2016 IEEE 13TH INTERNATIONAL CONFERENCE ON WEA...   \n\n                                    DT  \\\nUT                                       \nWOS:000570328900001             Review   \nWOS:000635505300001            Article   \nWOS:000410925400094  Proceedings Paper   \nWOS:000744257400019            Article   \nWOS:000501603000009  Proceedings Paper   \n...                                ...   \nWOS:000399395700065  Proceedings Paper   \nWOS:000402630000005  Proceedings Paper   \nWOS:000390094700044  Proceedings Paper   \nWOS:000391829200039  Proceedings Paper   \nWOS:000391251700018  Proceedings Paper   \n\n                                                                    DE  \\\nUT                                                                       \nWOS:000570328900001  soil washing; soil flushing; heavy metals; soi...   \nWOS:000635505300001  odor treatment design; odors; reduced sulfur o...   \nWOS:000410925400094   Industrial; Business; Parks; Symbiosis; Standard   \nWOS:000744257400019  Biochar; Phosphorus retention; Microbial bioma...   \nWOS:000501603000009  textile waste prevention; clothing reuse; soci...   \n...                                                                ...   \nWOS:000399395700065  potentiostat; electrochemical; wearable sensin...   \nWOS:000402630000005  Wearable sensors; Parkinson's; Huntington's; a...   \nWOS:000390094700044                                                NaN   \nWOS:000391829200039  Non-volatile processor (NVP); Near-Threshold C...   \nWOS:000391251700018                                                NaN   \n\n                                                                    ID  \\\nUT                                                                       \nWOS:000570328900001  DISSOLVED ORGANIC-MATTER; REMOVE HEAVY-METALS;...   \nWOS:000635505300001                                                NaN   \nWOS:000410925400094                                                NaN   \nWOS:000744257400019  AGRICULTURAL SOILS; EXTRACTION METHOD; AVAILAB...   \nWOS:000501603000009               ENVIRONMENTAL-IMPACT; FASHION; REUSE   \n...                                                                ...   \nWOS:000399395700065          LACTATE CONCENTRATIONS; BIOSENSORS; BLOOD   \nWOS:000402630000005                                                NaN   \nWOS:000390094700044                                          CONVERTER   \nWOS:000391829200039                                                NaN   \nWOS:000391251700018                                                NaN   \n\n                                                                    AB  \\\nUT                                                                       \nWOS:000570328900001  Soil quality is seriously reduced due to chemi...   \nWOS:000635505300001  To determine accurately odorant concentrations...   \nWOS:000410925400094  The siting of an Industrial park with environm...   \nWOS:000744257400019  Application of straw and its derived biochar h...   \nWOS:000501603000009  The current system for producing, distributing...   \n...                                                                ...   \nWOS:000399395700065  The analysis of biomarkers within sweat is adv...   \nWOS:000402630000005  We report on a pilot study for signal processi...   \nWOS:000390094700044  Due to size, longevity, safety, and recharging...   \nWOS:000391829200039  Energy harvesting is becoming a preferred choi...   \nWOS:000391251700018  This paper presents a low-complexity compressi...   \n\n                                                                    C1  ...  \\\nUT                                                                      ...   \nWOS:000570328900001  [Gusiatin, Zygmunt M.; Kulikowska, Dorota; Kli...  ...   \nWOS:000635505300001  [Vitko, Tadeo G.] 26362 Via Conchita, Mission ...  ...   \nWOS:000410925400094  [Ntasiou, M.; Andreou, E.] Hellen Open Univ, S...  ...   \nWOS:000744257400019  [Wu, Lipeng; Zhang, Shirong; Chen, Mengmeng; D...  ...   \nWOS:000501603000009  [Staicu, Daniela] Bucharest Univ Econ Studies,...  ...   \n...                                                                ...  ...   \nWOS:000399395700065  [Dieffenderfer, James; Wilkins, Michael; Hood,...  ...   \nWOS:000402630000005  [Dinesh, Karthik; Sharma, Gaurav] Univ Rochest...  ...   \nWOS:000390094700044  [Ding, Caiwen; Wang, Yanzhi] Syracuse Univ, De...  ...   \nWOS:000391829200039  [Ding, Caiwen; Li, Hongjia; Wang, Yanzhi] Syra...  ...   \nWOS:000391251700018  [Ding, Yi (Steven); Zilic, Zeljko] McGill Univ...  ...   \n\n                     SDG15  SDG16  SDG17  additive_manufacturing     AI  \\\nUT                                                                        \nWOS:000570328900001  False  False  False                   False  False   \nWOS:000635505300001  False  False  False                   False  False   \nWOS:000410925400094  False  False  False                   False  False   \nWOS:000744257400019  False  False  False                   False  False   \nWOS:000501603000009  False  False  False                   False  False   \n...                    ...    ...    ...                     ...    ...   \nWOS:000399395700065  False  False  False                   False  False   \nWOS:000402630000005  False  False  False                   False  False   \nWOS:000390094700044  False  False  False                   False  False   \nWOS:000391829200039  False  False  False                   False  False   \nWOS:000391251700018  False  False  False                   False  False   \n\n                     big_data blockchain computing_infrastructure    IOT  \\\nUT                                                                         \nWOS:000570328900001     False      False                    False  False   \nWOS:000635505300001     False      False                    False  False   \nWOS:000410925400094     False      False                    False  False   \nWOS:000744257400019     False      False                    False  False   \nWOS:000501603000009     False      False                    False  False   \n...                       ...        ...                      ...    ...   \nWOS:000399395700065     False      False                    False   True   \nWOS:000402630000005     False      False                    False   True   \nWOS:000390094700044     False      False                    False   True   \nWOS:000391829200039     False      False                    False   True   \nWOS:000391251700018     False      False                    False   True   \n\n                    robotics  \nUT                            \nWOS:000570328900001    False  \nWOS:000635505300001    False  \nWOS:000410925400094    False  \nWOS:000744257400019    False  \nWOS:000501603000009    False  \n...                      ...  \nWOS:000399395700065    False  \nWOS:000402630000005    False  \nWOS:000390094700044    False  \nWOS:000391829200039    False  \nWOS:000391251700018    False  \n\n[2798088 rows x 51 columns]",
      "text/html": "<div>\n<style scoped>\n    .dataframe tbody tr th:only-of-type {\n        vertical-align: middle;\n    }\n\n    .dataframe tbody tr th {\n        vertical-align: top;\n    }\n\n    .dataframe thead th {\n        text-align: right;\n    }\n</style>\n<table border=\"1\" class=\"dataframe\">\n  <thead>\n    <tr style=\"text-align: right;\">\n      <th></th>\n      <th>PT</th>\n      <th>AU</th>\n      <th>AF</th>\n      <th>TI</th>\n      <th>SO</th>\n      <th>DT</th>\n      <th>DE</th>\n      <th>ID</th>\n      <th>AB</th>\n      <th>C1</th>\n      <th>...</th>\n      <th>SDG15</th>\n      <th>SDG16</th>\n      <th>SDG17</th>\n      <th>additive_manufacturing</th>\n      <th>AI</th>\n      <th>big_data</th>\n      <th>blockchain</th>\n      <th>computing_infrastructure</th>\n      <th>IOT</th>\n      <th>robotics</th>\n    </tr>\n    <tr>\n      <th>UT</th>\n      <th></th>\n      <th></th>\n      <th></th>\n      <th></th>\n      <th></th>\n      <th></th>\n      <th></th>\n      <th></th>\n      <th></th>\n      <th></th>\n      <th></th>\n      <th></th>\n      <th></th>\n      <th></th>\n      <th></th>\n      <th></th>\n      <th></th>\n      <th></th>\n      <th></th>\n      <th></th>\n      <th></th>\n    </tr>\n  </thead>\n  <tbody>\n    <tr>\n      <th>WOS:000570328900001</th>\n      <td>J</td>\n      <td>Gusiatin, ZM; Kulikowska, D; Klik, B</td>\n      <td>Gusiatin, Zygmunt M.; Kulikowska, Dorota; Klik...</td>\n      <td>New-Generation Washing Agents in Remediation o...</td>\n      <td>INTERNATIONAL JOURNAL OF ENVIRONMENTAL RESEARC...</td>\n      <td>Review</td>\n      <td>soil washing; soil flushing; heavy metals; soi...</td>\n      <td>DISSOLVED ORGANIC-MATTER; REMOVE HEAVY-METALS;...</td>\n      <td>Soil quality is seriously reduced due to chemi...</td>\n      <td>[Gusiatin, Zygmunt M.; Kulikowska, Dorota; Kli...</td>\n      <td>...</td>\n      <td>False</td>\n      <td>False</td>\n      <td>False</td>\n      <td>False</td>\n      <td>False</td>\n      <td>False</td>\n      <td>False</td>\n      <td>False</td>\n      <td>False</td>\n      <td>False</td>\n    </tr>\n    <tr>\n      <th>WOS:000635505300001</th>\n      <td>J</td>\n      <td>Vitko, TG; Suffet, IH</td>\n      <td>Vitko, Tadeo G.; Suffet, Irwin H. (Mel)</td>\n      <td>Corrective factors applied to reduced sulfur c...</td>\n      <td>WATER ENVIRONMENT RESEARCH</td>\n      <td>Article</td>\n      <td>odor treatment design; odors; reduced sulfur o...</td>\n      <td>NaN</td>\n      <td>To determine accurately odorant concentrations...</td>\n      <td>[Vitko, Tadeo G.] 26362 Via Conchita, Mission ...</td>\n      <td>...</td>\n      <td>False</td>\n      <td>False</td>\n      <td>False</td>\n      <td>False</td>\n      <td>False</td>\n      <td>False</td>\n      <td>False</td>\n      <td>False</td>\n      <td>False</td>\n      <td>False</td>\n    </tr>\n    <tr>\n      <th>WOS:000410925400094</th>\n      <td>C</td>\n      <td>Ntasiou, M; Andreou, E</td>\n      <td>Ntasiou, M.; Andreou, E.</td>\n      <td>The Standard of Industrial Symbiosis. Environm...</td>\n      <td>SUSTAINABLE SYNERGIES FROM BUILDINGS TO THE UR...</td>\n      <td>Proceedings Paper</td>\n      <td>Industrial; Business; Parks; Symbiosis; Standard</td>\n      <td>NaN</td>\n      <td>The siting of an Industrial park with environm...</td>\n      <td>[Ntasiou, M.; Andreou, E.] Hellen Open Univ, S...</td>\n      <td>...</td>\n      <td>False</td>\n      <td>False</td>\n      <td>False</td>\n      <td>False</td>\n      <td>False</td>\n      <td>False</td>\n      <td>False</td>\n      <td>False</td>\n      <td>False</td>\n      <td>False</td>\n    </tr>\n    <tr>\n      <th>WOS:000744257400019</th>\n      <td>J</td>\n      <td>Wu, LP; Zhang, SR; Chen, MM; Liu, J; Ding, XD</td>\n      <td>Wu, Lipeng; Zhang, Shirong; Chen, Mengmeng; Li...</td>\n      <td>A sustainable option: Biochar addition can imp...</td>\n      <td>ENVIRONMENTAL TECHNOLOGY &amp; INNOVATION</td>\n      <td>Article</td>\n      <td>Biochar; Phosphorus retention; Microbial bioma...</td>\n      <td>AGRICULTURAL SOILS; EXTRACTION METHOD; AVAILAB...</td>\n      <td>Application of straw and its derived biochar h...</td>\n      <td>[Wu, Lipeng; Zhang, Shirong; Chen, Mengmeng; D...</td>\n      <td>...</td>\n      <td>False</td>\n      <td>False</td>\n      <td>False</td>\n      <td>False</td>\n      <td>False</td>\n      <td>False</td>\n      <td>False</td>\n      <td>False</td>\n      <td>False</td>\n      <td>False</td>\n    </tr>\n    <tr>\n      <th>WOS:000501603000009</th>\n      <td>C</td>\n      <td>Staicu, D</td>\n      <td>Staicu, Daniela</td>\n      <td>Contributions of social entrepreneurship to te...</td>\n      <td>PROCEEDINGS OF THE INTERNATIONAL CONFERENCE ON...</td>\n      <td>Proceedings Paper</td>\n      <td>textile waste prevention; clothing reuse; soci...</td>\n      <td>ENVIRONMENTAL-IMPACT; FASHION; REUSE</td>\n      <td>The current system for producing, distributing...</td>\n      <td>[Staicu, Daniela] Bucharest Univ Econ Studies,...</td>\n      <td>...</td>\n      <td>False</td>\n      <td>False</td>\n      <td>False</td>\n      <td>False</td>\n      <td>False</td>\n      <td>False</td>\n      <td>False</td>\n      <td>False</td>\n      <td>False</td>\n      <td>False</td>\n    </tr>\n    <tr>\n      <th>...</th>\n      <td>...</td>\n      <td>...</td>\n      <td>...</td>\n      <td>...</td>\n      <td>...</td>\n      <td>...</td>\n      <td>...</td>\n      <td>...</td>\n      <td>...</td>\n      <td>...</td>\n      <td>...</td>\n      <td>...</td>\n      <td>...</td>\n      <td>...</td>\n      <td>...</td>\n      <td>...</td>\n      <td>...</td>\n      <td>...</td>\n      <td>...</td>\n      <td>...</td>\n      <td>...</td>\n    </tr>\n    <tr>\n      <th>WOS:000399395700065</th>\n      <td>C</td>\n      <td>Dieffenderfer, J; Wilkins, M; Hood, C; Beppler...</td>\n      <td>Dieffenderfer, James; Wilkins, Michael; Hood, ...</td>\n      <td>Towards a Sweat-based Wireless and Wearable El...</td>\n      <td>2016 IEEE SENSORS</td>\n      <td>Proceedings Paper</td>\n      <td>potentiostat; electrochemical; wearable sensin...</td>\n      <td>LACTATE CONCENTRATIONS; BIOSENSORS; BLOOD</td>\n      <td>The analysis of biomarkers within sweat is adv...</td>\n      <td>[Dieffenderfer, James; Wilkins, Michael; Hood,...</td>\n      <td>...</td>\n      <td>False</td>\n      <td>False</td>\n      <td>False</td>\n      <td>False</td>\n      <td>False</td>\n      <td>False</td>\n      <td>False</td>\n      <td>False</td>\n      <td>True</td>\n      <td>False</td>\n    </tr>\n    <tr>\n      <th>WOS:000402630000005</th>\n      <td>C</td>\n      <td>Dinesh, K; Xiong, ML; Adams, J; Dorsey, R; Sha...</td>\n      <td>Dinesh, Karthik; Xiong, Mulin; Adams, Jamie; D...</td>\n      <td>SIGNAL ANALYSIS FOR DETECTING MOTOR SYMPTOMS I...</td>\n      <td>2016 IEEE WESTERN NEW YORK IMAGE AND SIGNAL PR...</td>\n      <td>Proceedings Paper</td>\n      <td>Wearable sensors; Parkinson's; Huntington's; a...</td>\n      <td>NaN</td>\n      <td>We report on a pilot study for signal processi...</td>\n      <td>[Dinesh, Karthik; Sharma, Gaurav] Univ Rochest...</td>\n      <td>...</td>\n      <td>False</td>\n      <td>False</td>\n      <td>False</td>\n      <td>False</td>\n      <td>False</td>\n      <td>False</td>\n      <td>False</td>\n      <td>False</td>\n      <td>True</td>\n      <td>False</td>\n    </tr>\n    <tr>\n      <th>WOS:000390094700044</th>\n      <td>C</td>\n      <td>Ding, CW; Heidari, S; Wang, YZ; Liu, YP; Hu, JT</td>\n      <td>Ding, Caiwen; Heidari, Soroush; Wang, Yanzhi; ...</td>\n      <td>Multi-Source In-Door Energy Harvesting for Non...</td>\n      <td>2016 IEEE INTERNATIONAL SYMPOSIUM ON CIRCUITS ...</td>\n      <td>Proceedings Paper</td>\n      <td>NaN</td>\n      <td>CONVERTER</td>\n      <td>Due to size, longevity, safety, and recharging...</td>\n      <td>[Ding, Caiwen; Wang, Yanzhi] Syracuse Univ, De...</td>\n      <td>...</td>\n      <td>False</td>\n      <td>False</td>\n      <td>False</td>\n      <td>False</td>\n      <td>False</td>\n      <td>False</td>\n      <td>False</td>\n      <td>False</td>\n      <td>True</td>\n      <td>False</td>\n    </tr>\n    <tr>\n      <th>WOS:000391829200039</th>\n      <td>C</td>\n      <td>Ding, CW; Li, HJ; Hu, JT; Liu, YP; Wang, YZ</td>\n      <td>Ding, Caiwen; Li, Hongjia; Hu, Jingtong; Liu, ...</td>\n      <td>Dynamic Converter Reconfiguration for Near-Thr...</td>\n      <td>PROCEEDINGS OF THE 34TH IEEE INTERNATIONAL CON...</td>\n      <td>Proceedings Paper</td>\n      <td>Non-volatile processor (NVP); Near-Threshold C...</td>\n      <td>NaN</td>\n      <td>Energy harvesting is becoming a preferred choi...</td>\n      <td>[Ding, Caiwen; Li, Hongjia; Wang, Yanzhi] Syra...</td>\n      <td>...</td>\n      <td>False</td>\n      <td>False</td>\n      <td>False</td>\n      <td>False</td>\n      <td>False</td>\n      <td>False</td>\n      <td>False</td>\n      <td>False</td>\n      <td>True</td>\n      <td>False</td>\n    </tr>\n    <tr>\n      <th>WOS:000391251700018</th>\n      <td>C</td>\n      <td>Ding, Y; Zilic, Z</td>\n      <td>Ding, Yi (Steven); Zilic, Zeljko</td>\n      <td>ECG Compression for Mobile Sensor Platforms</td>\n      <td>2016 IEEE 13TH INTERNATIONAL CONFERENCE ON WEA...</td>\n      <td>Proceedings Paper</td>\n      <td>NaN</td>\n      <td>NaN</td>\n      <td>This paper presents a low-complexity compressi...</td>\n      <td>[Ding, Yi (Steven); Zilic, Zeljko] McGill Univ...</td>\n      <td>...</td>\n      <td>False</td>\n      <td>False</td>\n      <td>False</td>\n      <td>False</td>\n      <td>False</td>\n      <td>False</td>\n      <td>False</td>\n      <td>False</td>\n      <td>True</td>\n      <td>False</td>\n    </tr>\n  </tbody>\n</table>\n<p>2798088 rows × 51 columns</p>\n</div>"
     },
     "execution_count": 6,
     "metadata": {},
     "output_type": "execute_result"
    }
   ],
   "source": [
    "df = df.set_index(\"UT\")\n",
    "df"
   ],
   "metadata": {
    "collapsed": false
   }
  },
  {
   "cell_type": "code",
   "execution_count": 7,
   "outputs": [
    {
     "data": {
      "text/plain": "UT\nWOS:000403196900003                    MECHANICAL-PROPERTIES; REGRESSION\nWOS:000391589800021                             INTERNET; SYSTEM; THINGS\nWOS:000474676300032    REGRESSION-MODEL; DRIP IRRIGATION; NEURAL-NETW...\nWOS:000554798600001                            ELECTRONIC EQUIPMENT WEEE\nWOS:000704509900001    SMART PRODUCTION; SUSTAINABILITY; CHALLENGES; ...\n                                             ...                        \nWOS:000419575300008                                                  NaN\nWOS:000290433900004             WELFARE-STATE; TIME-USE; CONTEXT; EQUITY\nWOS:000485280200015    PARENTS INVESTING LESS; DIVISION-OF-LABOR; CHI...\nWOS:000565956100003    ANI MUSCLE SUBDIVISIONS; GENITAL MUTILATION; F...\nWOS:000600644200048    HEALTH; ASSOCIATION; INTERVENTIONS; MORTALITY;...\nName: ID, Length: 53494, dtype: object"
     },
     "execution_count": 7,
     "metadata": {},
     "output_type": "execute_result"
    }
   ],
   "source": [
    "df_add = df.loc[df_inter.index, 'ID']\n",
    "df_add"
   ],
   "metadata": {
    "collapsed": false
   }
  },
  {
   "cell_type": "code",
   "execution_count": 8,
   "outputs": [
    {
     "data": {
      "text/plain": "                                                                    AB  \\\nUT                                                                       \nWOS:000403196900003  The Taiwanese liquid crystal display (LCD) ind...   \nWOS:000391589800021  Congestion of vehicular traffic in the cities ...   \nWOS:000474676300032  There is a global shortage of fresh water to m...   \nWOS:000554798600001  Considering the amount of waste of electrical ...   \nWOS:000704509900001  In the last decade, both Industry 4.0 technolo...   \n...                                                                ...   \nWOS:000419575300008  This article analyses visions of everyday life...   \nWOS:000290433900004  Cross-national trends in paid and unpaid work ...   \nWOS:000485280200015  Research on time use has seen several major de...   \nWOS:000565956100003  Background: Myths, misconceptions, and taboos ...   \nWOS:000600644200048  Background: Prior research documents that Indi...   \n\n                                                                   TXT  \\\nUT                                                                       \nWOS:000403196900003  A neural-based predictive model of the compres...   \nWOS:000391589800021  A Low-cost IoT Application for the Urban Traff...   \nWOS:000474676300032  Precision irrigation perspectives on the susta...   \nWOS:000554798600001  WEEE Recycling and Circular Economy Assisted b...   \nWOS:000704509900001  Exploring the influence of industry 4.0 techno...   \n...                                                                ...   \nWOS:000419575300008  Aesthetic pleasures and gendered tech-work in ...   \nWOS:000290433900004  Gender Convergence in Domestic Work: Discernin...   \nWOS:000485280200015  The Social Structure of Time: Emerging Trends ...   \nWOS:000565956100003  In Vivo Imaging-Based 3-Dimensional Pelvic Pro...   \nWOS:000600644200048  Application of machine learning to understand ...   \n\n                                                                    DE  \\\nUT                                                                       \nWOS:000403196900003  waste LCD concrete; compressive strength; back...   \nWOS:000391589800021  Congestion of vehicular traffic; Wireless Sens...   \nWOS:000474676300032  Field crop; Water demand prediction; Irrigatio...   \nWOS:000554798600001  human-robot collaboration; collaborative robot...   \nWOS:000704509900001  Industry 4; 0; Circular economy; Literature re...   \n...                                                                ...   \nWOS:000419575300008  aesthetics; digital housekeeping; gender; hous...   \nWOS:000290433900004        domestic work; gender convergence; time use   \nWOS:000485280200015  time use; time allocation; gender division of ...   \nWOS:000565956100003  Clitoris; Penis; Female Genital Mutilation; Se...   \nWOS:000600644200048            Child marriage; Machine learning; India   \n\n                                                                    TI  \\\nUT                                                                       \nWOS:000403196900003  A neural-based predictive model of the compres...   \nWOS:000391589800021  A Low-cost IoT Application for the Urban Traff...   \nWOS:000474676300032  Precision irrigation perspectives on the susta...   \nWOS:000554798600001  WEEE Recycling and Circular Economy Assisted b...   \nWOS:000704509900001  Exploring the influence of industry 4.0 techno...   \n...                                                                ...   \nWOS:000419575300008  Aesthetic pleasures and gendered tech-work in ...   \nWOS:000290433900004  Gender Convergence in Domestic Work: Discernin...   \nWOS:000485280200015  The Social Structure of Time: Emerging Trends ...   \nWOS:000565956100003  In Vivo Imaging-Based 3-Dimensional Pelvic Pro...   \nWOS:000600644200048  Application of machine learning to understand ...   \n\n                                                                    ID  \nUT                                                                      \nWOS:000403196900003                  MECHANICAL-PROPERTIES; REGRESSION  \nWOS:000391589800021                           INTERNET; SYSTEM; THINGS  \nWOS:000474676300032  REGRESSION-MODEL; DRIP IRRIGATION; NEURAL-NETW...  \nWOS:000554798600001                          ELECTRONIC EQUIPMENT WEEE  \nWOS:000704509900001  SMART PRODUCTION; SUSTAINABILITY; CHALLENGES; ...  \n...                                                                ...  \nWOS:000419575300008                                                NaN  \nWOS:000290433900004           WELFARE-STATE; TIME-USE; CONTEXT; EQUITY  \nWOS:000485280200015  PARENTS INVESTING LESS; DIVISION-OF-LABOR; CHI...  \nWOS:000565956100003  ANI MUSCLE SUBDIVISIONS; GENITAL MUTILATION; F...  \nWOS:000600644200048  HEALTH; ASSOCIATION; INTERVENTIONS; MORTALITY;...  \n\n[53494 rows x 5 columns]",
      "text/html": "<div>\n<style scoped>\n    .dataframe tbody tr th:only-of-type {\n        vertical-align: middle;\n    }\n\n    .dataframe tbody tr th {\n        vertical-align: top;\n    }\n\n    .dataframe thead th {\n        text-align: right;\n    }\n</style>\n<table border=\"1\" class=\"dataframe\">\n  <thead>\n    <tr style=\"text-align: right;\">\n      <th></th>\n      <th>AB</th>\n      <th>TXT</th>\n      <th>DE</th>\n      <th>TI</th>\n      <th>ID</th>\n    </tr>\n    <tr>\n      <th>UT</th>\n      <th></th>\n      <th></th>\n      <th></th>\n      <th></th>\n      <th></th>\n    </tr>\n  </thead>\n  <tbody>\n    <tr>\n      <th>WOS:000403196900003</th>\n      <td>The Taiwanese liquid crystal display (LCD) ind...</td>\n      <td>A neural-based predictive model of the compres...</td>\n      <td>waste LCD concrete; compressive strength; back...</td>\n      <td>A neural-based predictive model of the compres...</td>\n      <td>MECHANICAL-PROPERTIES; REGRESSION</td>\n    </tr>\n    <tr>\n      <th>WOS:000391589800021</th>\n      <td>Congestion of vehicular traffic in the cities ...</td>\n      <td>A Low-cost IoT Application for the Urban Traff...</td>\n      <td>Congestion of vehicular traffic; Wireless Sens...</td>\n      <td>A Low-cost IoT Application for the Urban Traff...</td>\n      <td>INTERNET; SYSTEM; THINGS</td>\n    </tr>\n    <tr>\n      <th>WOS:000474676300032</th>\n      <td>There is a global shortage of fresh water to m...</td>\n      <td>Precision irrigation perspectives on the susta...</td>\n      <td>Field crop; Water demand prediction; Irrigatio...</td>\n      <td>Precision irrigation perspectives on the susta...</td>\n      <td>REGRESSION-MODEL; DRIP IRRIGATION; NEURAL-NETW...</td>\n    </tr>\n    <tr>\n      <th>WOS:000554798600001</th>\n      <td>Considering the amount of waste of electrical ...</td>\n      <td>WEEE Recycling and Circular Economy Assisted b...</td>\n      <td>human-robot collaboration; collaborative robot...</td>\n      <td>WEEE Recycling and Circular Economy Assisted b...</td>\n      <td>ELECTRONIC EQUIPMENT WEEE</td>\n    </tr>\n    <tr>\n      <th>WOS:000704509900001</th>\n      <td>In the last decade, both Industry 4.0 technolo...</td>\n      <td>Exploring the influence of industry 4.0 techno...</td>\n      <td>Industry 4; 0; Circular economy; Literature re...</td>\n      <td>Exploring the influence of industry 4.0 techno...</td>\n      <td>SMART PRODUCTION; SUSTAINABILITY; CHALLENGES; ...</td>\n    </tr>\n    <tr>\n      <th>...</th>\n      <td>...</td>\n      <td>...</td>\n      <td>...</td>\n      <td>...</td>\n      <td>...</td>\n    </tr>\n    <tr>\n      <th>WOS:000419575300008</th>\n      <td>This article analyses visions of everyday life...</td>\n      <td>Aesthetic pleasures and gendered tech-work in ...</td>\n      <td>aesthetics; digital housekeeping; gender; hous...</td>\n      <td>Aesthetic pleasures and gendered tech-work in ...</td>\n      <td>NaN</td>\n    </tr>\n    <tr>\n      <th>WOS:000290433900004</th>\n      <td>Cross-national trends in paid and unpaid work ...</td>\n      <td>Gender Convergence in Domestic Work: Discernin...</td>\n      <td>domestic work; gender convergence; time use</td>\n      <td>Gender Convergence in Domestic Work: Discernin...</td>\n      <td>WELFARE-STATE; TIME-USE; CONTEXT; EQUITY</td>\n    </tr>\n    <tr>\n      <th>WOS:000485280200015</th>\n      <td>Research on time use has seen several major de...</td>\n      <td>The Social Structure of Time: Emerging Trends ...</td>\n      <td>time use; time allocation; gender division of ...</td>\n      <td>The Social Structure of Time: Emerging Trends ...</td>\n      <td>PARENTS INVESTING LESS; DIVISION-OF-LABOR; CHI...</td>\n    </tr>\n    <tr>\n      <th>WOS:000565956100003</th>\n      <td>Background: Myths, misconceptions, and taboos ...</td>\n      <td>In Vivo Imaging-Based 3-Dimensional Pelvic Pro...</td>\n      <td>Clitoris; Penis; Female Genital Mutilation; Se...</td>\n      <td>In Vivo Imaging-Based 3-Dimensional Pelvic Pro...</td>\n      <td>ANI MUSCLE SUBDIVISIONS; GENITAL MUTILATION; F...</td>\n    </tr>\n    <tr>\n      <th>WOS:000600644200048</th>\n      <td>Background: Prior research documents that Indi...</td>\n      <td>Application of machine learning to understand ...</td>\n      <td>Child marriage; Machine learning; India</td>\n      <td>Application of machine learning to understand ...</td>\n      <td>HEALTH; ASSOCIATION; INTERVENTIONS; MORTALITY;...</td>\n    </tr>\n  </tbody>\n</table>\n<p>53494 rows × 5 columns</p>\n</div>"
     },
     "execution_count": 8,
     "metadata": {},
     "output_type": "execute_result"
    }
   ],
   "source": [
    "df_inter = df_inter.merge(df_add, left_index=True, right_index=True)\n",
    "df_inter"
   ],
   "metadata": {
    "collapsed": false
   }
  },
  {
   "cell_type": "code",
   "execution_count": 13,
   "outputs": [],
   "source": [
    "df_inter['ID'].fillna('', inplace=True)"
   ],
   "metadata": {
    "collapsed": false
   }
  },
  {
   "cell_type": "code",
   "execution_count": 39,
   "outputs": [
    {
     "name": "stderr",
     "output_type": "stream",
     "text": [
      "100%|██████████| 53494/53494 [01:56<00:00, 459.52it/s]\n"
     ]
    }
   ],
   "source": [
    "tqdm.tqdm.pandas()\n",
    "df_inter['TXT'] = df_inter['TI'] + \"    \" + df_inter['DE'] + \"    \" + df_inter['ID'] + \"    \" + df_inter['AB']\n",
    "df_inter['dtkeyword'] = df_inter['TXT'].progress_apply(lambda x: check_for_dt(x, how='dic'))\n"
   ],
   "metadata": {
    "collapsed": false
   }
  },
  {
   "cell_type": "code",
   "execution_count": 20,
   "outputs": [
    {
     "data": {
      "text/plain": "                                                                    AB  \\\nUT                                                                       \nWOS:000403196900003  The Taiwanese liquid crystal display (LCD) ind...   \nWOS:000391589800021  Congestion of vehicular traffic in the cities ...   \nWOS:000474676300032  There is a global shortage of fresh water to m...   \nWOS:000554798600001  Considering the amount of waste of electrical ...   \nWOS:000704509900001  In the last decade, both Industry 4.0 technolo...   \n...                                                                ...   \nWOS:000419575300008  This article analyses visions of everyday life...   \nWOS:000290433900004  Cross-national trends in paid and unpaid work ...   \nWOS:000485280200015  Research on time use has seen several major de...   \nWOS:000565956100003  Background: Myths, misconceptions, and taboos ...   \nWOS:000600644200048  Background: Prior research documents that Indi...   \n\n                                                                   TXT  \\\nUT                                                                       \nWOS:000403196900003  A neural-based predictive model of the compres...   \nWOS:000391589800021  A Low-cost IoT Application for the Urban Traff...   \nWOS:000474676300032  Precision irrigation perspectives on the susta...   \nWOS:000554798600001  WEEE Recycling and Circular Economy Assisted b...   \nWOS:000704509900001  Exploring the influence of industry 4.0 techno...   \n...                                                                ...   \nWOS:000419575300008  Aesthetic pleasures and gendered tech-work in ...   \nWOS:000290433900004  Gender Convergence in Domestic Work: Discernin...   \nWOS:000485280200015  The Social Structure of Time: Emerging Trends ...   \nWOS:000565956100003  In Vivo Imaging-Based 3-Dimensional Pelvic Pro...   \nWOS:000600644200048  Application of machine learning to understand ...   \n\n                                                                    DE  \\\nUT                                                                       \nWOS:000403196900003  waste LCD concrete; compressive strength; back...   \nWOS:000391589800021  Congestion of vehicular traffic; Wireless Sens...   \nWOS:000474676300032  Field crop; Water demand prediction; Irrigatio...   \nWOS:000554798600001  human-robot collaboration; collaborative robot...   \nWOS:000704509900001  Industry 4; 0; Circular economy; Literature re...   \n...                                                                ...   \nWOS:000419575300008  aesthetics; digital housekeeping; gender; hous...   \nWOS:000290433900004        domestic work; gender convergence; time use   \nWOS:000485280200015  time use; time allocation; gender division of ...   \nWOS:000565956100003  Clitoris; Penis; Female Genital Mutilation; Se...   \nWOS:000600644200048            Child marriage; Machine learning; India   \n\n                                                                    TI  \\\nUT                                                                       \nWOS:000403196900003  A neural-based predictive model of the compres...   \nWOS:000391589800021  A Low-cost IoT Application for the Urban Traff...   \nWOS:000474676300032  Precision irrigation perspectives on the susta...   \nWOS:000554798600001  WEEE Recycling and Circular Economy Assisted b...   \nWOS:000704509900001  Exploring the influence of industry 4.0 techno...   \n...                                                                ...   \nWOS:000419575300008  Aesthetic pleasures and gendered tech-work in ...   \nWOS:000290433900004  Gender Convergence in Domestic Work: Discernin...   \nWOS:000485280200015  The Social Structure of Time: Emerging Trends ...   \nWOS:000565956100003  In Vivo Imaging-Based 3-Dimensional Pelvic Pro...   \nWOS:000600644200048  Application of machine learning to understand ...   \n\n                                                                    ID  \\\nUT                                                                       \nWOS:000403196900003                  MECHANICAL-PROPERTIES; REGRESSION   \nWOS:000391589800021                           INTERNET; SYSTEM; THINGS   \nWOS:000474676300032  REGRESSION-MODEL; DRIP IRRIGATION; NEURAL-NETW...   \nWOS:000554798600001                          ELECTRONIC EQUIPMENT WEEE   \nWOS:000704509900001  SMART PRODUCTION; SUSTAINABILITY; CHALLENGES; ...   \n...                                                                ...   \nWOS:000419575300008                                                      \nWOS:000290433900004           WELFARE-STATE; TIME-USE; CONTEXT; EQUITY   \nWOS:000485280200015  PARENTS INVESTING LESS; DIVISION-OF-LABOR; CHI...   \nWOS:000565956100003  ANI MUSCLE SUBDIVISIONS; GENITAL MUTILATION; F...   \nWOS:000600644200048  HEALTH; ASSOCIATION; INTERVENTIONS; MORTALITY;...   \n\n                                                             dtkeyword  \\\nUT                                                                       \nWOS:000403196900003  {'AI': ['neural networks', 'supervised learnin...   \nWOS:000391589800021           {'IOT': ['IoT'], 'AI': ['data mining ']}   \nWOS:000474676300032      {'AI': ['neural network', 'NEURAL-NETWORKS']}   \nWOS:000554798600001                           {'robotics': ['Robots']}   \nWOS:000704509900001  {'robotics': ['Robotics', 'Robotics'], 'IOT': ...   \n...                                                                ...   \nWOS:000419575300008       {'IOT': ['connected devices', 'smart home']}   \nWOS:000290433900004                 {'big_data': ['Large-scale Data']}   \nWOS:000485280200015                              {'IOT': ['wearable']}   \nWOS:000565956100003  {'IOT': ['iot'], 'additive_manufacturing': ['3...   \nWOS:000600644200048     {'AI': ['machine learning', 'neural network']}   \n\n                     dt_test  \nUT                            \nWOS:000403196900003     True  \nWOS:000391589800021     True  \nWOS:000474676300032     True  \nWOS:000554798600001     True  \nWOS:000704509900001     True  \n...                      ...  \nWOS:000419575300008     True  \nWOS:000290433900004     True  \nWOS:000485280200015     True  \nWOS:000565956100003     True  \nWOS:000600644200048     True  \n\n[53494 rows x 7 columns]",
      "text/html": "<div>\n<style scoped>\n    .dataframe tbody tr th:only-of-type {\n        vertical-align: middle;\n    }\n\n    .dataframe tbody tr th {\n        vertical-align: top;\n    }\n\n    .dataframe thead th {\n        text-align: right;\n    }\n</style>\n<table border=\"1\" class=\"dataframe\">\n  <thead>\n    <tr style=\"text-align: right;\">\n      <th></th>\n      <th>AB</th>\n      <th>TXT</th>\n      <th>DE</th>\n      <th>TI</th>\n      <th>ID</th>\n      <th>dtkeyword</th>\n      <th>dt_test</th>\n    </tr>\n    <tr>\n      <th>UT</th>\n      <th></th>\n      <th></th>\n      <th></th>\n      <th></th>\n      <th></th>\n      <th></th>\n      <th></th>\n    </tr>\n  </thead>\n  <tbody>\n    <tr>\n      <th>WOS:000403196900003</th>\n      <td>The Taiwanese liquid crystal display (LCD) ind...</td>\n      <td>A neural-based predictive model of the compres...</td>\n      <td>waste LCD concrete; compressive strength; back...</td>\n      <td>A neural-based predictive model of the compres...</td>\n      <td>MECHANICAL-PROPERTIES; REGRESSION</td>\n      <td>{'AI': ['neural networks', 'supervised learnin...</td>\n      <td>True</td>\n    </tr>\n    <tr>\n      <th>WOS:000391589800021</th>\n      <td>Congestion of vehicular traffic in the cities ...</td>\n      <td>A Low-cost IoT Application for the Urban Traff...</td>\n      <td>Congestion of vehicular traffic; Wireless Sens...</td>\n      <td>A Low-cost IoT Application for the Urban Traff...</td>\n      <td>INTERNET; SYSTEM; THINGS</td>\n      <td>{'IOT': ['IoT'], 'AI': ['data mining ']}</td>\n      <td>True</td>\n    </tr>\n    <tr>\n      <th>WOS:000474676300032</th>\n      <td>There is a global shortage of fresh water to m...</td>\n      <td>Precision irrigation perspectives on the susta...</td>\n      <td>Field crop; Water demand prediction; Irrigatio...</td>\n      <td>Precision irrigation perspectives on the susta...</td>\n      <td>REGRESSION-MODEL; DRIP IRRIGATION; NEURAL-NETW...</td>\n      <td>{'AI': ['neural network', 'NEURAL-NETWORKS']}</td>\n      <td>True</td>\n    </tr>\n    <tr>\n      <th>WOS:000554798600001</th>\n      <td>Considering the amount of waste of electrical ...</td>\n      <td>WEEE Recycling and Circular Economy Assisted b...</td>\n      <td>human-robot collaboration; collaborative robot...</td>\n      <td>WEEE Recycling and Circular Economy Assisted b...</td>\n      <td>ELECTRONIC EQUIPMENT WEEE</td>\n      <td>{'robotics': ['Robots']}</td>\n      <td>True</td>\n    </tr>\n    <tr>\n      <th>WOS:000704509900001</th>\n      <td>In the last decade, both Industry 4.0 technolo...</td>\n      <td>Exploring the influence of industry 4.0 techno...</td>\n      <td>Industry 4; 0; Circular economy; Literature re...</td>\n      <td>Exploring the influence of industry 4.0 techno...</td>\n      <td>SMART PRODUCTION; SUSTAINABILITY; CHALLENGES; ...</td>\n      <td>{'robotics': ['Robotics', 'Robotics'], 'IOT': ...</td>\n      <td>True</td>\n    </tr>\n    <tr>\n      <th>...</th>\n      <td>...</td>\n      <td>...</td>\n      <td>...</td>\n      <td>...</td>\n      <td>...</td>\n      <td>...</td>\n      <td>...</td>\n    </tr>\n    <tr>\n      <th>WOS:000419575300008</th>\n      <td>This article analyses visions of everyday life...</td>\n      <td>Aesthetic pleasures and gendered tech-work in ...</td>\n      <td>aesthetics; digital housekeeping; gender; hous...</td>\n      <td>Aesthetic pleasures and gendered tech-work in ...</td>\n      <td></td>\n      <td>{'IOT': ['connected devices', 'smart home']}</td>\n      <td>True</td>\n    </tr>\n    <tr>\n      <th>WOS:000290433900004</th>\n      <td>Cross-national trends in paid and unpaid work ...</td>\n      <td>Gender Convergence in Domestic Work: Discernin...</td>\n      <td>domestic work; gender convergence; time use</td>\n      <td>Gender Convergence in Domestic Work: Discernin...</td>\n      <td>WELFARE-STATE; TIME-USE; CONTEXT; EQUITY</td>\n      <td>{'big_data': ['Large-scale Data']}</td>\n      <td>True</td>\n    </tr>\n    <tr>\n      <th>WOS:000485280200015</th>\n      <td>Research on time use has seen several major de...</td>\n      <td>The Social Structure of Time: Emerging Trends ...</td>\n      <td>time use; time allocation; gender division of ...</td>\n      <td>The Social Structure of Time: Emerging Trends ...</td>\n      <td>PARENTS INVESTING LESS; DIVISION-OF-LABOR; CHI...</td>\n      <td>{'IOT': ['wearable']}</td>\n      <td>True</td>\n    </tr>\n    <tr>\n      <th>WOS:000565956100003</th>\n      <td>Background: Myths, misconceptions, and taboos ...</td>\n      <td>In Vivo Imaging-Based 3-Dimensional Pelvic Pro...</td>\n      <td>Clitoris; Penis; Female Genital Mutilation; Se...</td>\n      <td>In Vivo Imaging-Based 3-Dimensional Pelvic Pro...</td>\n      <td>ANI MUSCLE SUBDIVISIONS; GENITAL MUTILATION; F...</td>\n      <td>{'IOT': ['iot'], 'additive_manufacturing': ['3...</td>\n      <td>True</td>\n    </tr>\n    <tr>\n      <th>WOS:000600644200048</th>\n      <td>Background: Prior research documents that Indi...</td>\n      <td>Application of machine learning to understand ...</td>\n      <td>Child marriage; Machine learning; India</td>\n      <td>Application of machine learning to understand ...</td>\n      <td>HEALTH; ASSOCIATION; INTERVENTIONS; MORTALITY;...</td>\n      <td>{'AI': ['machine learning', 'neural network']}</td>\n      <td>True</td>\n    </tr>\n  </tbody>\n</table>\n<p>53494 rows × 7 columns</p>\n</div>"
     },
     "execution_count": 20,
     "metadata": {},
     "output_type": "execute_result"
    }
   ],
   "source": [
    "df_inter"
   ],
   "metadata": {
    "collapsed": false
   }
  },
  {
   "cell_type": "code",
   "execution_count": 41,
   "outputs": [
    {
     "data": {
      "text/plain": "                                                                    AB  \\\nUT                                                                       \nWOS:000626843000007  Rural development projects to develop sustaina...   \nWOS:000567847900008  The recent article: Nature 579, 327-328 (2020)...   \nWOS:000435746400010  Sustainable production of chemicals, materials...   \nWOS:000314105900019  Desertification is a change in soil properties...   \nWOS:000532485800011  The article deals with the impact of the Indus...   \n...                                                                ...   \nWOS:000431847900059  Evidence based urban design and planning suppo...   \nWOS:000432963500008  The growing availability of spatial data heral...   \nWOS:000476920100075  The information revolution is radically transf...   \nWOS:000345272800003  Urban spatial structure in large cities is bec...   \nWOS:000323324800004  Airborne Light Detection and Ranging (LiDAR) i...   \n\n                                                                   TXT  \\\nUT                                                                       \nWOS:000626843000007  Impacts on greenhouse gas balance and rural ec...   \nWOS:000567847900008  Online conferences - Towards a new (virtual) r...   \nWOS:000435746400010  Synthetic Toolkit for Complex Genetic Circuit ...   \nWOS:000314105900019  Global desertification: Drivers and feedbacks ...   \nWOS:000532485800011  THE IMPACT OF THE INDUSTRIAL REVOLUTION ON THE...   \n...                                                                ...   \nWOS:000431847900059  Informed Design Platform Multi-modal Data to S...   \nWOS:000432963500008  Designing with Data for Urban Resilience    In...   \nWOS:000476920100075  Urban morphology and sustainability. Towards a...   \nWOS:000345272800003  Detecting the dynamics of urban structure thro...   \nWOS:000323324800004  Classification and Extraction of Trees and Bui...   \n\n                                                                    DE  \\\nUT                                                                       \nWOS:000626843000007  Carbon footprint; Agroforestry; Compost; Syste...   \nWOS:000567847900008  Virtual conference; Virtual Winter School on C...   \nWOS:000435746400010  synthetic transcription factor; gene regulatio...   \nWOS:000314105900019  Desertification; Land degradation; Ecohydrolog...   \nWOS:000532485800011  industrial revolution; agricultural sector of ...   \n...                                                                ...   \nWOS:000431847900059  Evidence based urban design; Multi-modal data;...   \nWOS:000432963500008  Interdisciplinary; Agent based pedestrian mode...   \nWOS:000476920100075  Urban Morphology; Sustainability; Urban Design...   \nWOS:000345272800003  spatial analysis; urban movements; polycentric...   \nWOS:000323324800004  Classification; Fusion; LiDAR (Light Detection...   \n\n                                                                    TI  \\\nUT                                                                       \nWOS:000626843000007  Impacts on greenhouse gas balance and rural ec...   \nWOS:000567847900008  Online conferences - Towards a new (virtual) r...   \nWOS:000435746400010  Synthetic Toolkit for Complex Genetic Circuit ...   \nWOS:000314105900019      Global desertification: Drivers and feedbacks   \nWOS:000532485800011  THE IMPACT OF THE INDUSTRIAL REVOLUTION ON THE...   \n...                                                                ...   \nWOS:000431847900059  Informed Design Platform Multi-modal Data to S...   \nWOS:000432963500008           Designing with Data for Urban Resilience   \nWOS:000476920100075  Urban morphology and sustainability. Towards a...   \nWOS:000345272800003  Detecting the dynamics of urban structure thro...   \nWOS:000323324800004  Classification and Extraction of Trees and Bui...   \n\n                                                                    ID  \\\nUT                                                                       \nWOS:000626843000007  SOIL CARBON SEQUESTRATION; AGRICULTURE; MITIGA...   \nWOS:000567847900008                    CARBON FOOTPRINT; INTERNET; WEB   \nWOS:000435746400010  TRANSCRIPTION FACTOR; EXPRESSION; YEAST; PROMO...   \nWOS:000314105900019  MOISTURE-RAINFALL FEEDBACK; ARID GRAZING LANDS...   \nWOS:000532485800011                                                      \n...                                                                ...   \nWOS:000431847900059                                                      \nWOS:000432963500008  NEIGHBORHOOD WALKABILITY; TREE CANOPY; WALKING...   \nWOS:000476920100075                                                      \nWOS:000345272800003                                                      \nWOS:000323324800004                                                      \n\n                    dtkeyword  dt_test  \nUT                                      \nWOS:000626843000007        {}     True  \nWOS:000567847900008        {}     True  \nWOS:000435746400010        {}     True  \nWOS:000314105900019        {}     True  \nWOS:000532485800011        {}     True  \n...                       ...      ...  \nWOS:000431847900059        {}     True  \nWOS:000432963500008        {}     True  \nWOS:000476920100075        {}     True  \nWOS:000345272800003        {}     True  \nWOS:000323324800004        {}     True  \n\n[144 rows x 7 columns]",
      "text/html": "<div>\n<style scoped>\n    .dataframe tbody tr th:only-of-type {\n        vertical-align: middle;\n    }\n\n    .dataframe tbody tr th {\n        vertical-align: top;\n    }\n\n    .dataframe thead th {\n        text-align: right;\n    }\n</style>\n<table border=\"1\" class=\"dataframe\">\n  <thead>\n    <tr style=\"text-align: right;\">\n      <th></th>\n      <th>AB</th>\n      <th>TXT</th>\n      <th>DE</th>\n      <th>TI</th>\n      <th>ID</th>\n      <th>dtkeyword</th>\n      <th>dt_test</th>\n    </tr>\n    <tr>\n      <th>UT</th>\n      <th></th>\n      <th></th>\n      <th></th>\n      <th></th>\n      <th></th>\n      <th></th>\n      <th></th>\n    </tr>\n  </thead>\n  <tbody>\n    <tr>\n      <th>WOS:000626843000007</th>\n      <td>Rural development projects to develop sustaina...</td>\n      <td>Impacts on greenhouse gas balance and rural ec...</td>\n      <td>Carbon footprint; Agroforestry; Compost; Syste...</td>\n      <td>Impacts on greenhouse gas balance and rural ec...</td>\n      <td>SOIL CARBON SEQUESTRATION; AGRICULTURE; MITIGA...</td>\n      <td>{}</td>\n      <td>True</td>\n    </tr>\n    <tr>\n      <th>WOS:000567847900008</th>\n      <td>The recent article: Nature 579, 327-328 (2020)...</td>\n      <td>Online conferences - Towards a new (virtual) r...</td>\n      <td>Virtual conference; Virtual Winter School on C...</td>\n      <td>Online conferences - Towards a new (virtual) r...</td>\n      <td>CARBON FOOTPRINT; INTERNET; WEB</td>\n      <td>{}</td>\n      <td>True</td>\n    </tr>\n    <tr>\n      <th>WOS:000435746400010</th>\n      <td>Sustainable production of chemicals, materials...</td>\n      <td>Synthetic Toolkit for Complex Genetic Circuit ...</td>\n      <td>synthetic transcription factor; gene regulatio...</td>\n      <td>Synthetic Toolkit for Complex Genetic Circuit ...</td>\n      <td>TRANSCRIPTION FACTOR; EXPRESSION; YEAST; PROMO...</td>\n      <td>{}</td>\n      <td>True</td>\n    </tr>\n    <tr>\n      <th>WOS:000314105900019</th>\n      <td>Desertification is a change in soil properties...</td>\n      <td>Global desertification: Drivers and feedbacks ...</td>\n      <td>Desertification; Land degradation; Ecohydrolog...</td>\n      <td>Global desertification: Drivers and feedbacks</td>\n      <td>MOISTURE-RAINFALL FEEDBACK; ARID GRAZING LANDS...</td>\n      <td>{}</td>\n      <td>True</td>\n    </tr>\n    <tr>\n      <th>WOS:000532485800011</th>\n      <td>The article deals with the impact of the Indus...</td>\n      <td>THE IMPACT OF THE INDUSTRIAL REVOLUTION ON THE...</td>\n      <td>industrial revolution; agricultural sector of ...</td>\n      <td>THE IMPACT OF THE INDUSTRIAL REVOLUTION ON THE...</td>\n      <td></td>\n      <td>{}</td>\n      <td>True</td>\n    </tr>\n    <tr>\n      <th>...</th>\n      <td>...</td>\n      <td>...</td>\n      <td>...</td>\n      <td>...</td>\n      <td>...</td>\n      <td>...</td>\n      <td>...</td>\n    </tr>\n    <tr>\n      <th>WOS:000431847900059</th>\n      <td>Evidence based urban design and planning suppo...</td>\n      <td>Informed Design Platform Multi-modal Data to S...</td>\n      <td>Evidence based urban design; Multi-modal data;...</td>\n      <td>Informed Design Platform Multi-modal Data to S...</td>\n      <td></td>\n      <td>{}</td>\n      <td>True</td>\n    </tr>\n    <tr>\n      <th>WOS:000432963500008</th>\n      <td>The growing availability of spatial data heral...</td>\n      <td>Designing with Data for Urban Resilience    In...</td>\n      <td>Interdisciplinary; Agent based pedestrian mode...</td>\n      <td>Designing with Data for Urban Resilience</td>\n      <td>NEIGHBORHOOD WALKABILITY; TREE CANOPY; WALKING...</td>\n      <td>{}</td>\n      <td>True</td>\n    </tr>\n    <tr>\n      <th>WOS:000476920100075</th>\n      <td>The information revolution is radically transf...</td>\n      <td>Urban morphology and sustainability. Towards a...</td>\n      <td>Urban Morphology; Sustainability; Urban Design...</td>\n      <td>Urban morphology and sustainability. Towards a...</td>\n      <td></td>\n      <td>{}</td>\n      <td>True</td>\n    </tr>\n    <tr>\n      <th>WOS:000345272800003</th>\n      <td>Urban spatial structure in large cities is bec...</td>\n      <td>Detecting the dynamics of urban structure thro...</td>\n      <td>spatial analysis; urban movements; polycentric...</td>\n      <td>Detecting the dynamics of urban structure thro...</td>\n      <td></td>\n      <td>{}</td>\n      <td>True</td>\n    </tr>\n    <tr>\n      <th>WOS:000323324800004</th>\n      <td>Airborne Light Detection and Ranging (LiDAR) i...</td>\n      <td>Classification and Extraction of Trees and Bui...</td>\n      <td>Classification; Fusion; LiDAR (Light Detection...</td>\n      <td>Classification and Extraction of Trees and Bui...</td>\n      <td></td>\n      <td>{}</td>\n      <td>True</td>\n    </tr>\n  </tbody>\n</table>\n<p>144 rows × 7 columns</p>\n</div>"
     },
     "execution_count": 41,
     "metadata": {},
     "output_type": "execute_result"
    }
   ],
   "source": [
    "a = df_inter[df_inter['dtkeyword'] == {}]\n",
    "a"
   ],
   "metadata": {
    "collapsed": false
   }
  },
  {
   "cell_type": "code",
   "execution_count": 57,
   "outputs": [
    {
     "data": {
      "text/plain": "'Marginal Abatement Cost of Carbon Emissions under Different Shared Socioeconomic Pathways    EZ climate model; shared socioeconomic pathways; marginal abatement cost; average mitigation rate    CLIMATE-CHANGE    Future emissions scenarios have served as a primary basis for assessing climate change and formulating climate policies. To explore the impact of uncertainty in future emissions scenarios on major outcomes related to climate change, this study examines the marginal abatement cost (MAC) of carbon emissions under the latest Shared Socioeconomic Pathways (SSPs) subject to the economic optimum and the 1.5 degrees C temperature increase constraint using the Epstein-Zin (EZ) climate model. Taking the \"Regional Rivalry\" (SSP3) scenario narrative under the economic optimum as a representative case, the expected MACs per ton CO2 equivalent (CO(2)e) emissions in the years 2015, 2030, 2060, 2100, and 2200 are: $102.08, $84.42, $61.19, $10.71, and $0.12, respectively. In parallel, the associated expected average mitigation rates (AMRs) are 0%, 63%, 66%, 81%, and 96%, respectively. In summary, in a world developing towards regional rivalry (SSP3) or fossil-fueled development (SSP5) with high mitigation pressure, the MAC values have approximately doubled, compared with the sustainability (SSP1) and inequality (SSP4) storylines with low mitigation pressure levels. The SSP2 (Middle of the Road) shows a moderate MAC decreasing trend with moderate mitigation pressure. The results provide a carbon price benchmark for policy makers with different attitudes towards the unknown future and can be used to formulate carbon mitigation strategy to respond to specific climate goals.'"
     },
     "execution_count": 57,
     "metadata": {},
     "output_type": "execute_result"
    }
   ],
   "source": [
    "a.loc['WOS:000738458000001','TXT']"
   ],
   "metadata": {
    "collapsed": false
   }
  },
  {
   "cell_type": "code",
   "execution_count": 34,
   "outputs": [
    {
     "data": {
      "text/plain": "{'Artificial intellig\\\\w*': 'AI',\n 'Automated reasoning': 'AI',\n 'Backpropagation ': 'AI',\n 'Computer vision': 'AI',\n 'Data mining ': 'AI',\n 'Data science': 'AI',\n 'Deep learning': 'AI',\n 'Expert system\\\\w*': 'AI',\n 'Face detection': 'AI',\n 'Feature extraction': 'AI',\n 'Generative adversarial network\\\\w*': 'AI',\n 'Gesture recognition': 'AI',\n 'Image classification': 'AI',\n 'Image recognition': 'AI',\n 'Image segmentation': 'AI',\n 'Information retrieval': 'AI',\n 'Intelligent machine\\\\w*': 'AI',\n 'Kernel machine': 'AI',\n 'Knowledge representation': 'AI',\n 'Machine intelligence': 'AI',\n 'Machine learning': 'AI',\n 'Machine translation': 'AI',\n 'Meta-learning': 'AI',\n 'Multilayer perceptron\\\\w*': 'AI',\n 'Natural language processing': 'AI',\n 'Neural net\\\\w*': 'AI',\n 'Object detection': 'AI',\n 'Object identification': 'AI',\n 'Object recognition': 'AI',\n 'Pattern recognition': 'AI',\n 'Pose estimation': 'AI',\n 'Reinforcement learning': 'AI',\n 'Semantic search': 'AI',\n 'Semi-supervised learning': 'AI',\n 'Sentiment analysis': 'AI',\n 'Speech recognition': 'AI',\n 'Statistical learning': 'AI',\n 'Supervised learning': 'AI',\n 'Text classification': 'AI',\n 'Transfer learning': 'AI',\n 'Transformer network\\\\w*': 'AI',\n 'Unsupervised learning': 'AI',\n 'Voice recognition': 'AI',\n 'TensorFlow': 'AI',\n 'Keras': 'AI',\n 'PyTorch': 'AI',\n 'amrv': 'AI',\n 'Artificial realit\\\\w*': 'AI',\n 'Augmented realit\\\\w*': 'AI',\n 'Computer-mediated realit\\\\w*': 'AI',\n 'Mixed realit\\\\w*': 'AI',\n 'Virtual realit\\\\w*': 'AI',\n 'Apache Spark': 'big_data',\n 'Apache Cassandra': 'big_data',\n 'Big data': 'big_data',\n 'Data center\\\\w*': 'big_data',\n 'Data centre\\\\w*': 'big_data',\n 'Hadoop': 'big_data',\n 'Large-scale data\\\\w*': 'big_data',\n 'MapReduce': 'big_data',\n 'Massive data\\\\w*': 'big_data',\n 'Apache Kafka': 'big_data',\n 'HBase': 'big_data',\n 'BigTable': 'big_data',\n 'Docker': 'big_data',\n 'Apache Hive': 'big_data',\n 'Distributed file system\\\\w*': 'big_data',\n 'Connected device\\\\w*': 'IOT',\n 'Connected home\\\\w*': 'IOT',\n 'Cyber-physical system\\\\w*': 'IOT',\n 'Human-machine interface\\\\w*': 'IOT',\n 'Hyper connectivity': 'IOT',\n 'Industrial internet of things': 'IOT',\n 'Intelligent factor\\\\w*': 'IOT',\n 'Internet of everything': 'IOT',\n 'Internet of things': 'IOT',\n 'IoT': 'IOT',\n 'Machine-to-enterprise': 'IOT',\n 'Machine-to-human': 'IOT',\n 'Machine-to-machine': 'IOT',\n 'Pervasive sensing': 'IOT',\n 'Sensor network\\\\w*': 'IOT',\n 'Smart device\\\\w*': 'IOT',\n 'Smart factor\\\\w*': 'IOT',\n 'Smart home\\\\w*': 'IOT',\n 'Smart sensor\\\\w*': 'IOT',\n 'Wearable\\\\w*': 'IOT',\n 'Wireless body area network\\\\w*': 'IOT',\n 'Wireless sensor network\\\\w*': 'IOT',\n 'Cloud application\\\\w*': 'computing_infrastructure',\n 'Cloud architecture\\\\w*': 'computing_infrastructure',\n 'Cloud broker': 'computing_infrastructure',\n 'Cloud client': 'computing_infrastructure',\n 'Cloud computing': 'computing_infrastructure',\n 'Cloud infrastructure\\\\w*': 'computing_infrastructure',\n 'Cloud migration': 'computing_infrastructure',\n 'Cloud optimizer': 'computing_infrastructure',\n 'Cloud portfolio': 'computing_infrastructure',\n 'Cloud provider': 'computing_infrastructure',\n 'Cloud server\\\\w*': 'computing_infrastructure',\n 'Cloud service\\\\w*': 'computing_infrastructure',\n 'Cloud sourcing': 'computing_infrastructure',\n 'Cloud storage': 'computing_infrastructure',\n 'Cloud platform\\\\w*': 'computing_infrastructure',\n 'Community cloud\\\\w*': 'computing_infrastructure',\n 'Dynamic cloud\\\\w*': 'computing_infrastructure',\n 'Federated cloud\\\\w*': 'computing_infrastructure',\n 'Hybrid cloud\\\\w*': 'computing_infrastructure',\n 'Infrastructure as a service': 'computing_infrastructure',\n 'Inter-cloud computing': 'computing_infrastructure',\n 'Multi-cloud\\\\w*': 'computing_infrastructure',\n 'On-demand computing': 'computing_infrastructure',\n 'Platform as a service': 'computing_infrastructure',\n 'Private cloud\\\\w*': 'computing_infrastructure',\n 'Public cloud\\\\w*': 'computing_infrastructure',\n 'Software as a service': 'computing_infrastructure',\n 'Distributed computing': 'computing_infrastructure',\n 'Parallel computing': 'computing_infrastructure',\n 'Decentralized computing': 'computing_infrastructure',\n 'Edge computing': 'computing_infrastructure',\n 'Fog computing': 'computing_infrastructure',\n 'Grid computing': 'computing_infrastructure',\n 'Cluster computing': 'computing_infrastructure',\n 'Massively parallel processing': 'computing_infrastructure',\n 'Dew Computing': 'computing_infrastructure',\n 'Cognitive comput\\\\w*': 'computing_infrastructure',\n 'Cyberinfrastructure\\\\w*': 'computing_infrastructure',\n 'Data-intensive comput\\\\w*': 'computing_infrastructure',\n 'Hardware accelerator\\\\w*': 'computing_infrastructure',\n 'High performance comput\\\\w*': 'computing_infrastructure',\n 'Neuromorphic comput\\\\w*': 'computing_infrastructure',\n 'Optical comput\\\\w*': 'computing_infrastructure',\n 'Photonic comput\\\\w*': 'computing_infrastructure',\n 'Quantum comput\\\\w*': 'computing_infrastructure',\n 'Real-time comput\\\\w*': 'computing_infrastructure',\n 'Supercomput\\\\w*': 'computing_infrastructure',\n '5G': 'computing_infrastructure',\n '5th generation mobile': 'computing_infrastructure',\n 'Fifth generation mobile': 'computing_infrastructure',\n '5G networks': 'computing_infrastructure',\n 'Altcoin': 'blockchain',\n 'Bitcoin': 'blockchain',\n 'Blockchain\\\\w*': 'blockchain',\n 'Cryptocurrenc\\\\w*': 'blockchain',\n 'Private blockchain\\\\w*': 'blockchain',\n 'Public blockchain\\\\w*': 'blockchain',\n 'Autonomous car\\\\w*': 'robotics',\n 'Autonomous underwater vehicle\\\\w*': 'robotics',\n 'Autonomous vehicle\\\\w*': 'robotics',\n 'AUV': 'robotics',\n 'Chatbot\\\\w*': 'robotics',\n 'Cybernetics': 'robotics',\n 'Drone\\\\w*': 'robotics',\n 'Humanoid robot\\\\w*': 'robotics',\n 'Manipulator\\\\w*': 'robotics',\n 'Mobile manipulator\\\\w*': 'robotics',\n 'Mobile robot\\\\w*': 'robotics',\n 'Robot\\\\w*': 'robotics',\n 'Robotic\\\\w*': 'robotics',\n 'Self-driving car\\\\w*': 'robotics',\n 'Self-driving vehicle\\\\w*': 'robotics',\n 'UAV': 'robotics',\n 'UGV': 'robotics',\n 'Uncrewed vehicle\\\\w*': 'robotics',\n 'Unmanned aerial vehicle\\\\w*': 'robotics',\n 'Unmanned air vehicle\\\\w*': 'robotics',\n 'Unmanned aircraft system\\\\w*': 'robotics',\n 'Unmanned ground vehicle\\\\w*': 'robotics',\n 'Unmanned spacecraft': 'robotics',\n 'Unmanned underwater vehicles\\\\w*': 'robotics',\n 'Unmanned vehicle\\\\w*': 'robotics',\n '3D print\\\\w*': 'additive_manufacturing',\n '3D prototyping': 'additive_manufacturing',\n 'Additive fabrication': 'additive_manufacturing',\n 'Additive layer manufacturing': 'additive_manufacturing',\n 'Additive manufacturing': 'additive_manufacturing',\n 'Direct digital manufacturing\\xa0': 'additive_manufacturing',\n 'Industry 4.0': 'additive_manufacturing',\n 'Layered manufacturing': 'additive_manufacturing',\n 'Rapid prototyping': 'additive_manufacturing',\n 'Vat photopolymerization': 'additive_manufacturing',\n 'Material jetting': 'additive_manufacturing',\n 'Binder jetting': 'additive_manufacturing',\n 'Powder bed fusion': 'additive_manufacturing',\n 'Material extrusion': 'additive_manufacturing',\n 'Directed energy deposition': 'additive_manufacturing',\n 'Sheet lamination': 'additive_manufacturing',\n 'Composite filament fabrication': 'additive_manufacturing',\n 'Continuous liquid interface production': 'additive_manufacturing',\n 'Direct ink writing': 'additive_manufacturing',\n 'Direct metal laser sintering': 'additive_manufacturing',\n 'Electron-beam freeform fabrication': 'additive_manufacturing',\n 'Electron-beam melting': 'additive_manufacturing',\n 'Fused deposition modeling': 'additive_manufacturing',\n 'Fused filament fabrication': 'additive_manufacturing',\n 'Laminated object manufacturing': 'additive_manufacturing',\n 'Robocasting': 'additive_manufacturing',\n 'Selective laser melting': 'additive_manufacturing',\n 'Selective laser sintering': 'additive_manufacturing',\n 'Stereolithography': 'additive_manufacturing'}"
     },
     "execution_count": 34,
     "metadata": {},
     "output_type": "execute_result"
    }
   ],
   "source": [
    "dic_digi"
   ],
   "metadata": {
    "collapsed": false
   }
  },
  {
   "cell_type": "code",
   "execution_count": 47,
   "outputs": [],
   "source": [
    "t_sb = [\"\\\\b\" + word + \"\\\\b\" for word in dic_digi]\n",
    "pattern = '|'.join(t_sb)\n",
    "# pattern = '|'.join([f'(?i){keyword}' for keyword in lst_keywords])\n",
    "\n",
    "# Condition : Does the TXT contain one of the keyword?\n",
    "df_inter['TXT'] = df_inter['AB']+\" \"+df_inter[\"DE\"]+\" \"+df_inter['TI']\n",
    "condition = df_inter.TXT.str.contains(pattern, na=False, case=False)\n",
    "# We add a new column named after the key of the dic True if at\n",
    "# least on the keywords appears and False if not\n",
    "df_inter['test'] = np.where(condition, True, False)"
   ],
   "metadata": {
    "collapsed": false
   }
  },
  {
   "cell_type": "code",
   "execution_count": 46,
   "outputs": [
    {
     "data": {
      "text/plain": "True     49076\nFalse     4418\nName: test, dtype: int64"
     },
     "execution_count": 46,
     "metadata": {},
     "output_type": "execute_result"
    }
   ],
   "source": [
    "df_inter.test.value_counts()"
   ],
   "metadata": {
    "collapsed": false
   }
  },
  {
   "cell_type": "code",
   "execution_count": 35,
   "outputs": [
    {
     "data": {
      "text/plain": "{'AI': ['data mining']}"
     },
     "execution_count": 35,
     "metadata": {},
     "output_type": "execute_result"
    }
   ],
   "source": [
    "\n",
    "check_for_dt(a.loc['WOS:000581515800001','TXT'])"
   ],
   "metadata": {
    "collapsed": false
   }
  },
  {
   "cell_type": "code",
   "execution_count": 52,
   "outputs": [
    {
     "data": {
      "text/plain": "                                                                    AB  \\\nUT                                                                       \nWOS:000577345300002  Ecosystem services delivery is influenced by f...   \n\n                                                                   TXT  \\\nUT                                                                       \nWOS:000577345300002  Ecosystem services delivery is influenced by f...   \n\n                                                                    DE  \\\nUT                                                                       \nWOS:000577345300002  Digital transformation; Agriculture 4.0; Direc...   \n\n                                                                    TI  \\\nUT                                                                       \nWOS:000577345300002  The future(s) of digital agriculture and susta...   \n\n                    dtkeyword   test  \nUT                                    \nWOS:000577345300002        {}  False  ",
      "text/html": "<div>\n<style scoped>\n    .dataframe tbody tr th:only-of-type {\n        vertical-align: middle;\n    }\n\n    .dataframe tbody tr th {\n        vertical-align: top;\n    }\n\n    .dataframe thead th {\n        text-align: right;\n    }\n</style>\n<table border=\"1\" class=\"dataframe\">\n  <thead>\n    <tr style=\"text-align: right;\">\n      <th></th>\n      <th>AB</th>\n      <th>TXT</th>\n      <th>DE</th>\n      <th>TI</th>\n      <th>dtkeyword</th>\n      <th>test</th>\n    </tr>\n    <tr>\n      <th>UT</th>\n      <th></th>\n      <th></th>\n      <th></th>\n      <th></th>\n      <th></th>\n      <th></th>\n    </tr>\n  </thead>\n  <tbody>\n    <tr>\n      <th>WOS:000577345300002</th>\n      <td>Ecosystem services delivery is influenced by f...</td>\n      <td>Ecosystem services delivery is influenced by f...</td>\n      <td>Digital transformation; Agriculture 4.0; Direc...</td>\n      <td>The future(s) of digital agriculture and susta...</td>\n      <td>{}</td>\n      <td>False</td>\n    </tr>\n  </tbody>\n</table>\n</div>"
     },
     "execution_count": 52,
     "metadata": {},
     "output_type": "execute_result"
    }
   ],
   "source": [
    "df_inter[df_inter['TI'] == \"The future(s) of digital agriculture and sustainable food systems: An analysis of high-level policy documents\"]"
   ],
   "metadata": {
    "collapsed": false
   }
  },
  {
   "cell_type": "code",
   "execution_count": null,
   "outputs": [],
   "source": [
    "WOS:000577345300002"
   ],
   "metadata": {
    "collapsed": false
   }
  }
 ],
 "metadata": {
  "kernelspec": {
   "display_name": "Python 3",
   "language": "python",
   "name": "python3"
  },
  "language_info": {
   "codemirror_mode": {
    "name": "ipython",
    "version": 2
   },
   "file_extension": ".py",
   "mimetype": "text/x-python",
   "name": "python",
   "nbconvert_exporter": "python",
   "pygments_lexer": "ipython2",
   "version": "2.7.6"
  }
 },
 "nbformat": 4,
 "nbformat_minor": 0
}
