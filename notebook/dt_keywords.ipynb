{
 "cells": [
  {
   "cell_type": "code",
   "execution_count": 44,
   "metadata": {
    "collapsed": true
   },
   "outputs": [],
   "source": [
    "import re\n",
    "\n",
    "import numpy as np\n",
    "import pandas as pd"
   ]
  },
  {
   "cell_type": "code",
   "execution_count": 11,
   "outputs": [],
   "source": [
    "digi_path = \"/home/kevin-desktop/PycharmProjects/SDG/data/keyword_digital_simplified.csv\"\n",
    "full_pubs_path = \"/home/kevin-desktop/PycharmProjects/SDG/data/dataframes/full_pubs.pkl\""
   ],
   "metadata": {
    "collapsed": false
   }
  },
  {
   "cell_type": "code",
   "execution_count": 12,
   "outputs": [],
   "source": [
    "\n",
    "df_inter = pd.read_pickle(full_pubs_path)\n",
    "df_inter = df_inter[df_inter['Intersection']]"
   ],
   "metadata": {
    "collapsed": false
   }
  },
  {
   "cell_type": "code",
   "execution_count": 13,
   "outputs": [
    {
     "data": {
      "text/plain": "                    PT                                                 AU  \\\nUT                                                                          \nWOS:000403196900003  J                        Kao, CH; Wang, CC; Wang, HY   \nWOS:000391589800021  C  Nugra, H; Abad, A; Fuertes, W; Galarraga, F; A...   \nWOS:000474676300032  J  Peng, YQ; Xiao, YX; Fu, ZT; Dong, YH; Zheng, Y...   \nWOS:000554798600001  J  Alvarez-de-los-Mozos, E; Renteria-Bilbao, A; D...   \nWOS:000704509900001  J  Laskurain-Iturbe, I; Arana-Landin, G; Landeta-...   \n...                 ..                                                ...   \nWOS:000419575300008  J                          Strengers, Y; Nicholls, L   \nWOS:000290433900004  J                  Kan, MY; Sullivan, O; Gershuny, J   \nWOS:000485280200015  S              Cornwell, B; Gershuny, J; Sullivan, O   \nWOS:000565956100003  J  Abdulcadir, J; Dewaele, R; Firmenich, N; Remui...   \nWOS:000600644200048  J  Raj, A; Dehingia, N; Singh, A; McDougal, L; Mc...   \n\n                                                                    AF  \\\nUT                                                                       \nWOS:000403196900003   Kao, Chih-Han; Wang, Chien-Chih; Wang, Her -Yung   \nWOS:000391589800021  Nugra, Hugo; Abad, Alejandra; Fuertes, Walter;...   \nWOS:000474676300032  Peng, Yaoqi; Xiao, Yingxin; Fu, Zetian; Dong, ...   \nWOS:000554798600001  Alvarez-de-los-Mozos, Esther; Renteria-Bilbao,...   \nWOS:000704509900001  Laskurain-Iturbe, Iker; Arana-Landin, German; ...   \n...                                                                ...   \nWOS:000419575300008              Strengers, Yolande; Nicholls, Larissa   \nWOS:000290433900004  Kan, Man Yee; Sullivan, Oriel; Gershuny, Jonathan   \nWOS:000485280200015  Cornwell, Benjamin; Gershuny, Jonathan; Sulliv...   \nWOS:000565956100003  Abdulcadir, Jasmine; Dewaele, Romain; Firmenic...   \nWOS:000600644200048  Raj, Anita; Dehingia, Nabamallika; Singh, Abhi...   \n\n                                                                    TI  \\\nUT                                                                       \nWOS:000403196900003  A neural-based predictive model of the compres...   \nWOS:000391589800021  A Low-cost IoT Application for the Urban Traff...   \nWOS:000474676300032  Precision irrigation perspectives on the susta...   \nWOS:000554798600001  WEEE Recycling and Circular Economy Assisted b...   \nWOS:000704509900001  Exploring the influence of industry 4.0 techno...   \n...                                                                ...   \nWOS:000419575300008  Aesthetic pleasures and gendered tech-work in ...   \nWOS:000290433900004  Gender Convergence in Domestic Work: Discernin...   \nWOS:000485280200015  The Social Structure of Time: Emerging Trends ...   \nWOS:000565956100003  In Vivo Imaging-Based 3-Dimensional Pelvic Pro...   \nWOS:000600644200048  Application of machine learning to understand ...   \n\n                                                                    SO  \\\nUT                                                                       \nWOS:000403196900003                             COMPUTERS AND CONCRETE   \nWOS:000391589800021  2016 IEEE/ACM 20TH INTERNATIONAL SYMPOSIUM ON ...   \nWOS:000474676300032                      JOURNAL OF CLEANER PRODUCTION   \nWOS:000554798600001                             APPLIED SCIENCES-BASEL   \nWOS:000704509900001                      JOURNAL OF CLEANER PRODUCTION   \n...                                                                ...   \nWOS:000419575300008                      MEDIA INTERNATIONAL AUSTRALIA   \nWOS:000290433900004  SOCIOLOGY-THE JOURNAL OF THE BRITISH SOCIOLOGI...   \nWOS:000485280200015                 ANNUAL REVIEW OF SOCIOLOGY, VOL 45   \nWOS:000565956100003                         JOURNAL OF SEXUAL MEDICINE   \nWOS:000600644200048                              SSM-POPULATION HEALTH   \n\n                                        DT  \\\nUT                                           \nWOS:000403196900003                Article   \nWOS:000391589800021      Proceedings Paper   \nWOS:000474676300032                Article   \nWOS:000554798600001                Article   \nWOS:000704509900001                Article   \n...                                    ...   \nWOS:000419575300008                Article   \nWOS:000290433900004                Article   \nWOS:000485280200015  Article; Book Chapter   \nWOS:000565956100003                Article   \nWOS:000600644200048                Article   \n\n                                                                    DE  \\\nUT                                                                       \nWOS:000403196900003  waste LCD concrete; compressive strength; back...   \nWOS:000391589800021  Congestion of vehicular traffic; Wireless Sens...   \nWOS:000474676300032  Field crop; Water demand prediction; Irrigatio...   \nWOS:000554798600001  human-robot collaboration; collaborative robot...   \nWOS:000704509900001  Industry 4; 0; Circular economy; Literature re...   \n...                                                                ...   \nWOS:000419575300008  aesthetics; digital housekeeping; gender; hous...   \nWOS:000290433900004        domestic work; gender convergence; time use   \nWOS:000485280200015  time use; time allocation; gender division of ...   \nWOS:000565956100003  Clitoris; Penis; Female Genital Mutilation; Se...   \nWOS:000600644200048            Child marriage; Machine learning; India   \n\n                                                                    ID  \\\nUT                                                                       \nWOS:000403196900003                  MECHANICAL-PROPERTIES; REGRESSION   \nWOS:000391589800021                           INTERNET; SYSTEM; THINGS   \nWOS:000474676300032  REGRESSION-MODEL; DRIP IRRIGATION; NEURAL-NETW...   \nWOS:000554798600001                          ELECTRONIC EQUIPMENT WEEE   \nWOS:000704509900001  SMART PRODUCTION; SUSTAINABILITY; CHALLENGES; ...   \n...                                                                ...   \nWOS:000419575300008                                                NaN   \nWOS:000290433900004           WELFARE-STATE; TIME-USE; CONTEXT; EQUITY   \nWOS:000485280200015  PARENTS INVESTING LESS; DIVISION-OF-LABOR; CHI...   \nWOS:000565956100003  ANI MUSCLE SUBDIVISIONS; GENITAL MUTILATION; F...   \nWOS:000600644200048  HEALTH; ASSOCIATION; INTERVENTIONS; MORTALITY;...   \n\n                                                                    AB  \\\nUT                                                                       \nWOS:000403196900003  The Taiwanese liquid crystal display (LCD) ind...   \nWOS:000391589800021  Congestion of vehicular traffic in the cities ...   \nWOS:000474676300032  There is a global shortage of fresh water to m...   \nWOS:000554798600001  Considering the amount of waste of electrical ...   \nWOS:000704509900001  In the last decade, both Industry 4.0 technolo...   \n...                                                                ...   \nWOS:000419575300008  This article analyses visions of everyday life...   \nWOS:000290433900004  Cross-national trends in paid and unpaid work ...   \nWOS:000485280200015  Research on time use has seen several major de...   \nWOS:000565956100003  Background: Myths, misconceptions, and taboos ...   \nWOS:000600644200048  Background: Prior research documents that Indi...   \n\n                                                                    C1  ...  \\\nUT                                                                      ...   \nWOS:000403196900003  [Kao, Chih-Han] Natl Quemoy Univ, Dept Civil E...  ...   \nWOS:000391589800021  [Nugra, Hugo; Abad, Alejandra; Fuertes, Walter...  ...   \nWOS:000474676300032  [Peng, Yaoqi; Xiao, Yingxin; Fu, Zetian; Dong,...  ...   \nWOS:000554798600001  [Alvarez-de-los-Mozos, Esther; Diaz-Martin, Fe...  ...   \nWOS:000704509900001  [Laskurain-Iturbe, Iker; Arana-Landin, German]...  ...   \n...                                                                ...  ...   \nWOS:000419575300008  [Strengers, Yolande; Nicholls, Larissa] RMIT U...  ...   \nWOS:000290433900004  [Kan, Man Yee; Sullivan, Oriel] Univ Oxford, D...  ...   \nWOS:000485280200015  [Cornwell, Benjamin] Cornell Univ, Dept Sociol...  ...   \nWOS:000565956100003  [Abdulcadir, Jasmine; Petignat, Patrick] Genev...  ...   \nWOS:000600644200048  [Raj, Anita; Dehingia, Nabamallika; McDougal, ...  ...   \n\n                     SDG15  SDG16  SDG17  additive_manufacturing     AI  \\\nUT                                                                        \nWOS:000403196900003   True  False  False                   False   True   \nWOS:000391589800021  False  False  False                   False   True   \nWOS:000474676300032  False  False  False                   False   True   \nWOS:000554798600001  False  False  False                   False  False   \nWOS:000704509900001  False  False  False                    True   True   \n...                    ...    ...    ...                     ...    ...   \nWOS:000419575300008  False  False  False                   False  False   \nWOS:000290433900004  False  False  False                   False  False   \nWOS:000485280200015  False  False  False                   False  False   \nWOS:000565956100003  False  False  False                    True  False   \nWOS:000600644200048  False  False  False                   False   True   \n\n                     big_data blockchain computing_infrastructure    IOT  \\\nUT                                                                         \nWOS:000403196900003     False      False                    False  False   \nWOS:000391589800021     False      False                    False  False   \nWOS:000474676300032     False      False                    False  False   \nWOS:000554798600001     False      False                    False  False   \nWOS:000704509900001      True      False                    False   True   \n...                       ...        ...                      ...    ...   \nWOS:000419575300008     False      False                    False   True   \nWOS:000290433900004      True      False                    False  False   \nWOS:000485280200015     False      False                    False   True   \nWOS:000565956100003     False      False                    False  False   \nWOS:000600644200048     False      False                    False  False   \n\n                    robotics  \nUT                            \nWOS:000403196900003    False  \nWOS:000391589800021    False  \nWOS:000474676300032    False  \nWOS:000554798600001     True  \nWOS:000704509900001     True  \n...                      ...  \nWOS:000419575300008    False  \nWOS:000290433900004    False  \nWOS:000485280200015    False  \nWOS:000565956100003    False  \nWOS:000600644200048    False  \n\n[53494 rows x 51 columns]",
      "text/html": "<div>\n<style scoped>\n    .dataframe tbody tr th:only-of-type {\n        vertical-align: middle;\n    }\n\n    .dataframe tbody tr th {\n        vertical-align: top;\n    }\n\n    .dataframe thead th {\n        text-align: right;\n    }\n</style>\n<table border=\"1\" class=\"dataframe\">\n  <thead>\n    <tr style=\"text-align: right;\">\n      <th></th>\n      <th>PT</th>\n      <th>AU</th>\n      <th>AF</th>\n      <th>TI</th>\n      <th>SO</th>\n      <th>DT</th>\n      <th>DE</th>\n      <th>ID</th>\n      <th>AB</th>\n      <th>C1</th>\n      <th>...</th>\n      <th>SDG15</th>\n      <th>SDG16</th>\n      <th>SDG17</th>\n      <th>additive_manufacturing</th>\n      <th>AI</th>\n      <th>big_data</th>\n      <th>blockchain</th>\n      <th>computing_infrastructure</th>\n      <th>IOT</th>\n      <th>robotics</th>\n    </tr>\n    <tr>\n      <th>UT</th>\n      <th></th>\n      <th></th>\n      <th></th>\n      <th></th>\n      <th></th>\n      <th></th>\n      <th></th>\n      <th></th>\n      <th></th>\n      <th></th>\n      <th></th>\n      <th></th>\n      <th></th>\n      <th></th>\n      <th></th>\n      <th></th>\n      <th></th>\n      <th></th>\n      <th></th>\n      <th></th>\n      <th></th>\n    </tr>\n  </thead>\n  <tbody>\n    <tr>\n      <th>WOS:000403196900003</th>\n      <td>J</td>\n      <td>Kao, CH; Wang, CC; Wang, HY</td>\n      <td>Kao, Chih-Han; Wang, Chien-Chih; Wang, Her -Yung</td>\n      <td>A neural-based predictive model of the compres...</td>\n      <td>COMPUTERS AND CONCRETE</td>\n      <td>Article</td>\n      <td>waste LCD concrete; compressive strength; back...</td>\n      <td>MECHANICAL-PROPERTIES; REGRESSION</td>\n      <td>The Taiwanese liquid crystal display (LCD) ind...</td>\n      <td>[Kao, Chih-Han] Natl Quemoy Univ, Dept Civil E...</td>\n      <td>...</td>\n      <td>True</td>\n      <td>False</td>\n      <td>False</td>\n      <td>False</td>\n      <td>True</td>\n      <td>False</td>\n      <td>False</td>\n      <td>False</td>\n      <td>False</td>\n      <td>False</td>\n    </tr>\n    <tr>\n      <th>WOS:000391589800021</th>\n      <td>C</td>\n      <td>Nugra, H; Abad, A; Fuertes, W; Galarraga, F; A...</td>\n      <td>Nugra, Hugo; Abad, Alejandra; Fuertes, Walter;...</td>\n      <td>A Low-cost IoT Application for the Urban Traff...</td>\n      <td>2016 IEEE/ACM 20TH INTERNATIONAL SYMPOSIUM ON ...</td>\n      <td>Proceedings Paper</td>\n      <td>Congestion of vehicular traffic; Wireless Sens...</td>\n      <td>INTERNET; SYSTEM; THINGS</td>\n      <td>Congestion of vehicular traffic in the cities ...</td>\n      <td>[Nugra, Hugo; Abad, Alejandra; Fuertes, Walter...</td>\n      <td>...</td>\n      <td>False</td>\n      <td>False</td>\n      <td>False</td>\n      <td>False</td>\n      <td>True</td>\n      <td>False</td>\n      <td>False</td>\n      <td>False</td>\n      <td>False</td>\n      <td>False</td>\n    </tr>\n    <tr>\n      <th>WOS:000474676300032</th>\n      <td>J</td>\n      <td>Peng, YQ; Xiao, YX; Fu, ZT; Dong, YH; Zheng, Y...</td>\n      <td>Peng, Yaoqi; Xiao, Yingxin; Fu, Zetian; Dong, ...</td>\n      <td>Precision irrigation perspectives on the susta...</td>\n      <td>JOURNAL OF CLEANER PRODUCTION</td>\n      <td>Article</td>\n      <td>Field crop; Water demand prediction; Irrigatio...</td>\n      <td>REGRESSION-MODEL; DRIP IRRIGATION; NEURAL-NETW...</td>\n      <td>There is a global shortage of fresh water to m...</td>\n      <td>[Peng, Yaoqi; Xiao, Yingxin; Fu, Zetian; Dong,...</td>\n      <td>...</td>\n      <td>False</td>\n      <td>False</td>\n      <td>False</td>\n      <td>False</td>\n      <td>True</td>\n      <td>False</td>\n      <td>False</td>\n      <td>False</td>\n      <td>False</td>\n      <td>False</td>\n    </tr>\n    <tr>\n      <th>WOS:000554798600001</th>\n      <td>J</td>\n      <td>Alvarez-de-los-Mozos, E; Renteria-Bilbao, A; D...</td>\n      <td>Alvarez-de-los-Mozos, Esther; Renteria-Bilbao,...</td>\n      <td>WEEE Recycling and Circular Economy Assisted b...</td>\n      <td>APPLIED SCIENCES-BASEL</td>\n      <td>Article</td>\n      <td>human-robot collaboration; collaborative robot...</td>\n      <td>ELECTRONIC EQUIPMENT WEEE</td>\n      <td>Considering the amount of waste of electrical ...</td>\n      <td>[Alvarez-de-los-Mozos, Esther; Diaz-Martin, Fe...</td>\n      <td>...</td>\n      <td>False</td>\n      <td>False</td>\n      <td>False</td>\n      <td>False</td>\n      <td>False</td>\n      <td>False</td>\n      <td>False</td>\n      <td>False</td>\n      <td>False</td>\n      <td>True</td>\n    </tr>\n    <tr>\n      <th>WOS:000704509900001</th>\n      <td>J</td>\n      <td>Laskurain-Iturbe, I; Arana-Landin, G; Landeta-...</td>\n      <td>Laskurain-Iturbe, Iker; Arana-Landin, German; ...</td>\n      <td>Exploring the influence of industry 4.0 techno...</td>\n      <td>JOURNAL OF CLEANER PRODUCTION</td>\n      <td>Article</td>\n      <td>Industry 4; 0; Circular economy; Literature re...</td>\n      <td>SMART PRODUCTION; SUSTAINABILITY; CHALLENGES; ...</td>\n      <td>In the last decade, both Industry 4.0 technolo...</td>\n      <td>[Laskurain-Iturbe, Iker; Arana-Landin, German]...</td>\n      <td>...</td>\n      <td>False</td>\n      <td>False</td>\n      <td>False</td>\n      <td>True</td>\n      <td>True</td>\n      <td>True</td>\n      <td>False</td>\n      <td>False</td>\n      <td>True</td>\n      <td>True</td>\n    </tr>\n    <tr>\n      <th>...</th>\n      <td>...</td>\n      <td>...</td>\n      <td>...</td>\n      <td>...</td>\n      <td>...</td>\n      <td>...</td>\n      <td>...</td>\n      <td>...</td>\n      <td>...</td>\n      <td>...</td>\n      <td>...</td>\n      <td>...</td>\n      <td>...</td>\n      <td>...</td>\n      <td>...</td>\n      <td>...</td>\n      <td>...</td>\n      <td>...</td>\n      <td>...</td>\n      <td>...</td>\n      <td>...</td>\n    </tr>\n    <tr>\n      <th>WOS:000419575300008</th>\n      <td>J</td>\n      <td>Strengers, Y; Nicholls, L</td>\n      <td>Strengers, Yolande; Nicholls, Larissa</td>\n      <td>Aesthetic pleasures and gendered tech-work in ...</td>\n      <td>MEDIA INTERNATIONAL AUSTRALIA</td>\n      <td>Article</td>\n      <td>aesthetics; digital housekeeping; gender; hous...</td>\n      <td>NaN</td>\n      <td>This article analyses visions of everyday life...</td>\n      <td>[Strengers, Yolande; Nicholls, Larissa] RMIT U...</td>\n      <td>...</td>\n      <td>False</td>\n      <td>False</td>\n      <td>False</td>\n      <td>False</td>\n      <td>False</td>\n      <td>False</td>\n      <td>False</td>\n      <td>False</td>\n      <td>True</td>\n      <td>False</td>\n    </tr>\n    <tr>\n      <th>WOS:000290433900004</th>\n      <td>J</td>\n      <td>Kan, MY; Sullivan, O; Gershuny, J</td>\n      <td>Kan, Man Yee; Sullivan, Oriel; Gershuny, Jonathan</td>\n      <td>Gender Convergence in Domestic Work: Discernin...</td>\n      <td>SOCIOLOGY-THE JOURNAL OF THE BRITISH SOCIOLOGI...</td>\n      <td>Article</td>\n      <td>domestic work; gender convergence; time use</td>\n      <td>WELFARE-STATE; TIME-USE; CONTEXT; EQUITY</td>\n      <td>Cross-national trends in paid and unpaid work ...</td>\n      <td>[Kan, Man Yee; Sullivan, Oriel] Univ Oxford, D...</td>\n      <td>...</td>\n      <td>False</td>\n      <td>False</td>\n      <td>False</td>\n      <td>False</td>\n      <td>False</td>\n      <td>True</td>\n      <td>False</td>\n      <td>False</td>\n      <td>False</td>\n      <td>False</td>\n    </tr>\n    <tr>\n      <th>WOS:000485280200015</th>\n      <td>S</td>\n      <td>Cornwell, B; Gershuny, J; Sullivan, O</td>\n      <td>Cornwell, Benjamin; Gershuny, Jonathan; Sulliv...</td>\n      <td>The Social Structure of Time: Emerging Trends ...</td>\n      <td>ANNUAL REVIEW OF SOCIOLOGY, VOL 45</td>\n      <td>Article; Book Chapter</td>\n      <td>time use; time allocation; gender division of ...</td>\n      <td>PARENTS INVESTING LESS; DIVISION-OF-LABOR; CHI...</td>\n      <td>Research on time use has seen several major de...</td>\n      <td>[Cornwell, Benjamin] Cornell Univ, Dept Sociol...</td>\n      <td>...</td>\n      <td>False</td>\n      <td>False</td>\n      <td>False</td>\n      <td>False</td>\n      <td>False</td>\n      <td>False</td>\n      <td>False</td>\n      <td>False</td>\n      <td>True</td>\n      <td>False</td>\n    </tr>\n    <tr>\n      <th>WOS:000565956100003</th>\n      <td>J</td>\n      <td>Abdulcadir, J; Dewaele, R; Firmenich, N; Remui...</td>\n      <td>Abdulcadir, Jasmine; Dewaele, Romain; Firmenic...</td>\n      <td>In Vivo Imaging-Based 3-Dimensional Pelvic Pro...</td>\n      <td>JOURNAL OF SEXUAL MEDICINE</td>\n      <td>Article</td>\n      <td>Clitoris; Penis; Female Genital Mutilation; Se...</td>\n      <td>ANI MUSCLE SUBDIVISIONS; GENITAL MUTILATION; F...</td>\n      <td>Background: Myths, misconceptions, and taboos ...</td>\n      <td>[Abdulcadir, Jasmine; Petignat, Patrick] Genev...</td>\n      <td>...</td>\n      <td>False</td>\n      <td>False</td>\n      <td>False</td>\n      <td>True</td>\n      <td>False</td>\n      <td>False</td>\n      <td>False</td>\n      <td>False</td>\n      <td>False</td>\n      <td>False</td>\n    </tr>\n    <tr>\n      <th>WOS:000600644200048</th>\n      <td>J</td>\n      <td>Raj, A; Dehingia, N; Singh, A; McDougal, L; Mc...</td>\n      <td>Raj, Anita; Dehingia, Nabamallika; Singh, Abhi...</td>\n      <td>Application of machine learning to understand ...</td>\n      <td>SSM-POPULATION HEALTH</td>\n      <td>Article</td>\n      <td>Child marriage; Machine learning; India</td>\n      <td>HEALTH; ASSOCIATION; INTERVENTIONS; MORTALITY;...</td>\n      <td>Background: Prior research documents that Indi...</td>\n      <td>[Raj, Anita; Dehingia, Nabamallika; McDougal, ...</td>\n      <td>...</td>\n      <td>False</td>\n      <td>False</td>\n      <td>False</td>\n      <td>False</td>\n      <td>True</td>\n      <td>False</td>\n      <td>False</td>\n      <td>False</td>\n      <td>False</td>\n      <td>False</td>\n    </tr>\n  </tbody>\n</table>\n<p>53494 rows × 51 columns</p>\n</div>"
     },
     "execution_count": 13,
     "metadata": {},
     "output_type": "execute_result"
    }
   ],
   "source": [
    "df_inter = df_inter.set_index(\"UT\")\n",
    "df_inter"
   ],
   "metadata": {
    "collapsed": false
   }
  },
  {
   "cell_type": "code",
   "execution_count": 1,
   "outputs": [
    {
     "ename": "NameError",
     "evalue": "name 'df_inter' is not defined",
     "output_type": "error",
     "traceback": [
      "\u001B[0;31m---------------------------------------------------------------------------\u001B[0m",
      "\u001B[0;31mNameError\u001B[0m                                 Traceback (most recent call last)",
      "Cell \u001B[0;32mIn[1], line 1\u001B[0m\n\u001B[0;32m----> 1\u001B[0m lst_sdg \u001B[38;5;241m=\u001B[39m \u001B[38;5;28mlist\u001B[39m(\u001B[43mdf_inter\u001B[49m\u001B[38;5;241m.\u001B[39mcolumns[\u001B[38;5;241m27\u001B[39m:\u001B[38;5;241m44\u001B[39m])\n\u001B[1;32m      2\u001B[0m lst_dt \u001B[38;5;241m=\u001B[39m \u001B[38;5;28mlist\u001B[39m(df_inter\u001B[38;5;241m.\u001B[39mcolumns[\u001B[38;5;241m44\u001B[39m:\u001B[38;5;241m51\u001B[39m])\n\u001B[1;32m      3\u001B[0m df_inter \u001B[38;5;241m=\u001B[39m df_inter[lst_sdg\u001B[38;5;241m+\u001B[39mlst_dt]\n",
      "\u001B[0;31mNameError\u001B[0m: name 'df_inter' is not defined"
     ]
    }
   ],
   "source": [
    "lst_sdg = list(df_inter.columns[27:44])\n",
    "lst_dt = list(df_inter.columns[44:51])\n",
    "df_inter = df_inter[lst_sdg+lst_dt]\n",
    "df_inter"
   ],
   "metadata": {
    "collapsed": false
   }
  },
  {
   "cell_type": "code",
   "execution_count": 15,
   "outputs": [],
   "source": [
    "inter_path = \"../results/test.pkl\"\n",
    "df = pd.read_pickle(inter_path)\n"
   ],
   "metadata": {
    "collapsed": false
   }
  },
  {
   "cell_type": "code",
   "execution_count": 16,
   "outputs": [
    {
     "data": {
      "text/plain": "                                 AI                  big_data  \\\n0              Artificial intellig*              Apache Spark   \n1               Automated reasoning          Apache Cassandra   \n2                  Backpropagation                   Big data   \n3                   Computer vision              Data center*   \n4                      Data mining               Data centre*   \n5                      Data science                    Hadoop   \n6                     Deep learning         Large-scale data*   \n7                    Expert system*                 MapReduce   \n8                    Face detection             Massive data*   \n9                Feature extraction              Apache Kafka   \n10  Generative adversarial network*                     HBase   \n11              Gesture recognition                  BigTable   \n12             Image classification                    Docker   \n13                Image recognition               Apache Hive   \n14               Image segmentation  Distributed file system*   \n15            Information retrieval                       NaN   \n16             Intelligent machine*                       NaN   \n17                   Kernel machine                       NaN   \n18         Knowledge representation                       NaN   \n19             Machine intelligence                       NaN   \n20                 Machine learning                       NaN   \n21              Machine translation                       NaN   \n22                    Meta-learning                       NaN   \n23           Multilayer perceptron*                       NaN   \n24      Natural language processing                       NaN   \n25                      Neural net*                       NaN   \n26                 Object detection                       NaN   \n27            Object identification                       NaN   \n28               Object recognition                       NaN   \n29              Pattern recognition                       NaN   \n30                  Pose estimation                       NaN   \n31           Reinforcement learning                       NaN   \n32                  Semantic search                       NaN   \n33         Semi-supervised learning                       NaN   \n34               Sentiment analysis                       NaN   \n35               Speech recognition                       NaN   \n36             Statistical learning                       NaN   \n37              Supervised learning                       NaN   \n38              Text classification                       NaN   \n39                Transfer learning                       NaN   \n40             Transformer network*                       NaN   \n41            Unsupervised learning                       NaN   \n42                Voice recognition                       NaN   \n43                       TensorFlow                       NaN   \n44                            Keras                       NaN   \n45                          PyTorch                       NaN   \n46                             amrv                       NaN   \n47               Artificial realit*                       NaN   \n48                Augmented realit*                       NaN   \n49        Computer-mediated realit*                       NaN   \n50                    Mixed realit*                       NaN   \n51                  Virtual realit*                       NaN   \n\n                              IOT       computing_infrastructure  \\\n0               Connected device*             Cloud application*   \n1                 Connected home*            Cloud architecture*   \n2          Cyber-physical system*                   Cloud broker   \n3        Human-machine interface*                   Cloud client   \n4              Hyper connectivity                Cloud computing   \n5   Industrial internet of things          Cloud infrastructure*   \n6             Intelligent factor*                Cloud migration   \n7          Internet of everything                Cloud optimizer   \n8              Internet of things                Cloud portfolio   \n9                             IoT                 Cloud provider   \n10          Machine-to-enterprise                  Cloud server*   \n11               Machine-to-human                 Cloud service*   \n12             Machine-to-machine                 Cloud sourcing   \n13              Pervasive sensing                  Cloud storage   \n14                Sensor network*                Cloud platform*   \n15                  Smart device*               Community cloud*   \n16                  Smart factor*                 Dynamic cloud*   \n17                    Smart home*               Federated cloud*   \n18                  Smart sensor*                  Hybrid cloud*   \n19                      Wearable*    Infrastructure as a service   \n20    Wireless body area network*          Inter-cloud computing   \n21       Wireless sensor network*                   Multi-cloud*   \n22                            NaN            On-demand computing   \n23                            NaN          Platform as a service   \n24                            NaN                 Private cloud*   \n25                            NaN                  Public cloud*   \n26                            NaN          Software as a service   \n27                            NaN          Distributed computing   \n28                            NaN             Parallel computing   \n29                            NaN        Decentralized computing   \n30                            NaN                 Edge computing   \n31                            NaN                  Fog computing   \n32                            NaN                 Grid computing   \n33                            NaN              Cluster computing   \n34                            NaN  Massively parallel processing   \n35                            NaN                  Dew Computing   \n36                            NaN              Cognitive comput*   \n37                            NaN           Cyberinfrastructure*   \n38                            NaN         Data-intensive comput*   \n39                            NaN          Hardware accelerator*   \n40                            NaN       High performance comput*   \n41                            NaN           Neuromorphic comput*   \n42                            NaN                Optical comput*   \n43                            NaN               Photonic comput*   \n44                            NaN                Quantum comput*   \n45                            NaN              Real-time comput*   \n46                            NaN                   Supercomput*   \n47                            NaN                             5G   \n48                            NaN          5th generation mobile   \n49                            NaN        Fifth generation mobile   \n50                            NaN                    5G networks   \n51                            NaN                            NaN   \n\n             blockchain                        robotics  \\\n0               Altcoin                 Autonomous car*   \n1               Bitcoin  Autonomous underwater vehicle*   \n2           Blockchain*             Autonomous vehicle*   \n3        Cryptocurrenc*                             AUV   \n4   Private blockchain*                        Chatbot*   \n5    Public blockchain*                     Cybernetics   \n6                   NaN                          Drone*   \n7                   NaN                 Humanoid robot*   \n8                   NaN                    Manipulator*   \n9                   NaN             Mobile manipulator*   \n10                  NaN                   Mobile robot*   \n11                  NaN                          Robot*   \n12                  NaN                        Robotic*   \n13                  NaN               Self-driving car*   \n14                  NaN           Self-driving vehicle*   \n15                  NaN                             UAV   \n16                  NaN                             UGV   \n17                  NaN               Uncrewed vehicle*   \n18                  NaN        Unmanned aerial vehicle*   \n19                  NaN           Unmanned air vehicle*   \n20                  NaN       Unmanned aircraft system*   \n21                  NaN        Unmanned ground vehicle*   \n22                  NaN             Unmanned spacecraft   \n23                  NaN   Unmanned underwater vehicles*   \n24                  NaN               Unmanned vehicle*   \n25                  NaN                             NaN   \n26                  NaN                             NaN   \n27                  NaN                             NaN   \n28                  NaN                             NaN   \n29                  NaN                             NaN   \n30                  NaN                             NaN   \n31                  NaN                             NaN   \n32                  NaN                             NaN   \n33                  NaN                             NaN   \n34                  NaN                             NaN   \n35                  NaN                             NaN   \n36                  NaN                             NaN   \n37                  NaN                             NaN   \n38                  NaN                             NaN   \n39                  NaN                             NaN   \n40                  NaN                             NaN   \n41                  NaN                             NaN   \n42                  NaN                             NaN   \n43                  NaN                             NaN   \n44                  NaN                             NaN   \n45                  NaN                             NaN   \n46                  NaN                             NaN   \n47                  NaN                             NaN   \n48                  NaN                             NaN   \n49                  NaN                             NaN   \n50                  NaN                             NaN   \n51                  NaN                             NaN   \n\n                    additive_manufacturing  \n0                                3D print*  \n1                           3D prototyping  \n2                     Additive fabrication  \n3             Additive layer manufacturing  \n4                   Additive manufacturing  \n5            Direct digital manufacturing   \n6                             Industry 4.0  \n7                    Layered manufacturing  \n8                        Rapid prototyping  \n9                  Vat photopolymerization  \n10                        Material jetting  \n11                          Binder jetting  \n12                       Powder bed fusion  \n13                      Material extrusion  \n14              Directed energy deposition  \n15                        Sheet lamination  \n16          Composite filament fabrication  \n17  Continuous liquid interface production  \n18                      Direct ink writing  \n19            Direct metal laser sintering  \n20              Directed energy deposition  \n21      Electron-beam freeform fabrication  \n22                   Electron-beam melting  \n23               Fused deposition modeling  \n24              Fused filament fabrication  \n25          Laminated object manufacturing  \n26                             Robocasting  \n27                 Selective laser melting  \n28               Selective laser sintering  \n29                       Stereolithography  \n30                                     NaN  \n31                                     NaN  \n32                                     NaN  \n33                                     NaN  \n34                                     NaN  \n35                                     NaN  \n36                                     NaN  \n37                                     NaN  \n38                                     NaN  \n39                                     NaN  \n40                                     NaN  \n41                                     NaN  \n42                                     NaN  \n43                                     NaN  \n44                                     NaN  \n45                                     NaN  \n46                                     NaN  \n47                                     NaN  \n48                                     NaN  \n49                                     NaN  \n50                                     NaN  \n51                                     NaN  ",
      "text/html": "<div>\n<style scoped>\n    .dataframe tbody tr th:only-of-type {\n        vertical-align: middle;\n    }\n\n    .dataframe tbody tr th {\n        vertical-align: top;\n    }\n\n    .dataframe thead th {\n        text-align: right;\n    }\n</style>\n<table border=\"1\" class=\"dataframe\">\n  <thead>\n    <tr style=\"text-align: right;\">\n      <th></th>\n      <th>AI</th>\n      <th>big_data</th>\n      <th>IOT</th>\n      <th>computing_infrastructure</th>\n      <th>blockchain</th>\n      <th>robotics</th>\n      <th>additive_manufacturing</th>\n    </tr>\n  </thead>\n  <tbody>\n    <tr>\n      <th>0</th>\n      <td>Artificial intellig*</td>\n      <td>Apache Spark</td>\n      <td>Connected device*</td>\n      <td>Cloud application*</td>\n      <td>Altcoin</td>\n      <td>Autonomous car*</td>\n      <td>3D print*</td>\n    </tr>\n    <tr>\n      <th>1</th>\n      <td>Automated reasoning</td>\n      <td>Apache Cassandra</td>\n      <td>Connected home*</td>\n      <td>Cloud architecture*</td>\n      <td>Bitcoin</td>\n      <td>Autonomous underwater vehicle*</td>\n      <td>3D prototyping</td>\n    </tr>\n    <tr>\n      <th>2</th>\n      <td>Backpropagation</td>\n      <td>Big data</td>\n      <td>Cyber-physical system*</td>\n      <td>Cloud broker</td>\n      <td>Blockchain*</td>\n      <td>Autonomous vehicle*</td>\n      <td>Additive fabrication</td>\n    </tr>\n    <tr>\n      <th>3</th>\n      <td>Computer vision</td>\n      <td>Data center*</td>\n      <td>Human-machine interface*</td>\n      <td>Cloud client</td>\n      <td>Cryptocurrenc*</td>\n      <td>AUV</td>\n      <td>Additive layer manufacturing</td>\n    </tr>\n    <tr>\n      <th>4</th>\n      <td>Data mining</td>\n      <td>Data centre*</td>\n      <td>Hyper connectivity</td>\n      <td>Cloud computing</td>\n      <td>Private blockchain*</td>\n      <td>Chatbot*</td>\n      <td>Additive manufacturing</td>\n    </tr>\n    <tr>\n      <th>5</th>\n      <td>Data science</td>\n      <td>Hadoop</td>\n      <td>Industrial internet of things</td>\n      <td>Cloud infrastructure*</td>\n      <td>Public blockchain*</td>\n      <td>Cybernetics</td>\n      <td>Direct digital manufacturing</td>\n    </tr>\n    <tr>\n      <th>6</th>\n      <td>Deep learning</td>\n      <td>Large-scale data*</td>\n      <td>Intelligent factor*</td>\n      <td>Cloud migration</td>\n      <td>NaN</td>\n      <td>Drone*</td>\n      <td>Industry 4.0</td>\n    </tr>\n    <tr>\n      <th>7</th>\n      <td>Expert system*</td>\n      <td>MapReduce</td>\n      <td>Internet of everything</td>\n      <td>Cloud optimizer</td>\n      <td>NaN</td>\n      <td>Humanoid robot*</td>\n      <td>Layered manufacturing</td>\n    </tr>\n    <tr>\n      <th>8</th>\n      <td>Face detection</td>\n      <td>Massive data*</td>\n      <td>Internet of things</td>\n      <td>Cloud portfolio</td>\n      <td>NaN</td>\n      <td>Manipulator*</td>\n      <td>Rapid prototyping</td>\n    </tr>\n    <tr>\n      <th>9</th>\n      <td>Feature extraction</td>\n      <td>Apache Kafka</td>\n      <td>IoT</td>\n      <td>Cloud provider</td>\n      <td>NaN</td>\n      <td>Mobile manipulator*</td>\n      <td>Vat photopolymerization</td>\n    </tr>\n    <tr>\n      <th>10</th>\n      <td>Generative adversarial network*</td>\n      <td>HBase</td>\n      <td>Machine-to-enterprise</td>\n      <td>Cloud server*</td>\n      <td>NaN</td>\n      <td>Mobile robot*</td>\n      <td>Material jetting</td>\n    </tr>\n    <tr>\n      <th>11</th>\n      <td>Gesture recognition</td>\n      <td>BigTable</td>\n      <td>Machine-to-human</td>\n      <td>Cloud service*</td>\n      <td>NaN</td>\n      <td>Robot*</td>\n      <td>Binder jetting</td>\n    </tr>\n    <tr>\n      <th>12</th>\n      <td>Image classification</td>\n      <td>Docker</td>\n      <td>Machine-to-machine</td>\n      <td>Cloud sourcing</td>\n      <td>NaN</td>\n      <td>Robotic*</td>\n      <td>Powder bed fusion</td>\n    </tr>\n    <tr>\n      <th>13</th>\n      <td>Image recognition</td>\n      <td>Apache Hive</td>\n      <td>Pervasive sensing</td>\n      <td>Cloud storage</td>\n      <td>NaN</td>\n      <td>Self-driving car*</td>\n      <td>Material extrusion</td>\n    </tr>\n    <tr>\n      <th>14</th>\n      <td>Image segmentation</td>\n      <td>Distributed file system*</td>\n      <td>Sensor network*</td>\n      <td>Cloud platform*</td>\n      <td>NaN</td>\n      <td>Self-driving vehicle*</td>\n      <td>Directed energy deposition</td>\n    </tr>\n    <tr>\n      <th>15</th>\n      <td>Information retrieval</td>\n      <td>NaN</td>\n      <td>Smart device*</td>\n      <td>Community cloud*</td>\n      <td>NaN</td>\n      <td>UAV</td>\n      <td>Sheet lamination</td>\n    </tr>\n    <tr>\n      <th>16</th>\n      <td>Intelligent machine*</td>\n      <td>NaN</td>\n      <td>Smart factor*</td>\n      <td>Dynamic cloud*</td>\n      <td>NaN</td>\n      <td>UGV</td>\n      <td>Composite filament fabrication</td>\n    </tr>\n    <tr>\n      <th>17</th>\n      <td>Kernel machine</td>\n      <td>NaN</td>\n      <td>Smart home*</td>\n      <td>Federated cloud*</td>\n      <td>NaN</td>\n      <td>Uncrewed vehicle*</td>\n      <td>Continuous liquid interface production</td>\n    </tr>\n    <tr>\n      <th>18</th>\n      <td>Knowledge representation</td>\n      <td>NaN</td>\n      <td>Smart sensor*</td>\n      <td>Hybrid cloud*</td>\n      <td>NaN</td>\n      <td>Unmanned aerial vehicle*</td>\n      <td>Direct ink writing</td>\n    </tr>\n    <tr>\n      <th>19</th>\n      <td>Machine intelligence</td>\n      <td>NaN</td>\n      <td>Wearable*</td>\n      <td>Infrastructure as a service</td>\n      <td>NaN</td>\n      <td>Unmanned air vehicle*</td>\n      <td>Direct metal laser sintering</td>\n    </tr>\n    <tr>\n      <th>20</th>\n      <td>Machine learning</td>\n      <td>NaN</td>\n      <td>Wireless body area network*</td>\n      <td>Inter-cloud computing</td>\n      <td>NaN</td>\n      <td>Unmanned aircraft system*</td>\n      <td>Directed energy deposition</td>\n    </tr>\n    <tr>\n      <th>21</th>\n      <td>Machine translation</td>\n      <td>NaN</td>\n      <td>Wireless sensor network*</td>\n      <td>Multi-cloud*</td>\n      <td>NaN</td>\n      <td>Unmanned ground vehicle*</td>\n      <td>Electron-beam freeform fabrication</td>\n    </tr>\n    <tr>\n      <th>22</th>\n      <td>Meta-learning</td>\n      <td>NaN</td>\n      <td>NaN</td>\n      <td>On-demand computing</td>\n      <td>NaN</td>\n      <td>Unmanned spacecraft</td>\n      <td>Electron-beam melting</td>\n    </tr>\n    <tr>\n      <th>23</th>\n      <td>Multilayer perceptron*</td>\n      <td>NaN</td>\n      <td>NaN</td>\n      <td>Platform as a service</td>\n      <td>NaN</td>\n      <td>Unmanned underwater vehicles*</td>\n      <td>Fused deposition modeling</td>\n    </tr>\n    <tr>\n      <th>24</th>\n      <td>Natural language processing</td>\n      <td>NaN</td>\n      <td>NaN</td>\n      <td>Private cloud*</td>\n      <td>NaN</td>\n      <td>Unmanned vehicle*</td>\n      <td>Fused filament fabrication</td>\n    </tr>\n    <tr>\n      <th>25</th>\n      <td>Neural net*</td>\n      <td>NaN</td>\n      <td>NaN</td>\n      <td>Public cloud*</td>\n      <td>NaN</td>\n      <td>NaN</td>\n      <td>Laminated object manufacturing</td>\n    </tr>\n    <tr>\n      <th>26</th>\n      <td>Object detection</td>\n      <td>NaN</td>\n      <td>NaN</td>\n      <td>Software as a service</td>\n      <td>NaN</td>\n      <td>NaN</td>\n      <td>Robocasting</td>\n    </tr>\n    <tr>\n      <th>27</th>\n      <td>Object identification</td>\n      <td>NaN</td>\n      <td>NaN</td>\n      <td>Distributed computing</td>\n      <td>NaN</td>\n      <td>NaN</td>\n      <td>Selective laser melting</td>\n    </tr>\n    <tr>\n      <th>28</th>\n      <td>Object recognition</td>\n      <td>NaN</td>\n      <td>NaN</td>\n      <td>Parallel computing</td>\n      <td>NaN</td>\n      <td>NaN</td>\n      <td>Selective laser sintering</td>\n    </tr>\n    <tr>\n      <th>29</th>\n      <td>Pattern recognition</td>\n      <td>NaN</td>\n      <td>NaN</td>\n      <td>Decentralized computing</td>\n      <td>NaN</td>\n      <td>NaN</td>\n      <td>Stereolithography</td>\n    </tr>\n    <tr>\n      <th>30</th>\n      <td>Pose estimation</td>\n      <td>NaN</td>\n      <td>NaN</td>\n      <td>Edge computing</td>\n      <td>NaN</td>\n      <td>NaN</td>\n      <td>NaN</td>\n    </tr>\n    <tr>\n      <th>31</th>\n      <td>Reinforcement learning</td>\n      <td>NaN</td>\n      <td>NaN</td>\n      <td>Fog computing</td>\n      <td>NaN</td>\n      <td>NaN</td>\n      <td>NaN</td>\n    </tr>\n    <tr>\n      <th>32</th>\n      <td>Semantic search</td>\n      <td>NaN</td>\n      <td>NaN</td>\n      <td>Grid computing</td>\n      <td>NaN</td>\n      <td>NaN</td>\n      <td>NaN</td>\n    </tr>\n    <tr>\n      <th>33</th>\n      <td>Semi-supervised learning</td>\n      <td>NaN</td>\n      <td>NaN</td>\n      <td>Cluster computing</td>\n      <td>NaN</td>\n      <td>NaN</td>\n      <td>NaN</td>\n    </tr>\n    <tr>\n      <th>34</th>\n      <td>Sentiment analysis</td>\n      <td>NaN</td>\n      <td>NaN</td>\n      <td>Massively parallel processing</td>\n      <td>NaN</td>\n      <td>NaN</td>\n      <td>NaN</td>\n    </tr>\n    <tr>\n      <th>35</th>\n      <td>Speech recognition</td>\n      <td>NaN</td>\n      <td>NaN</td>\n      <td>Dew Computing</td>\n      <td>NaN</td>\n      <td>NaN</td>\n      <td>NaN</td>\n    </tr>\n    <tr>\n      <th>36</th>\n      <td>Statistical learning</td>\n      <td>NaN</td>\n      <td>NaN</td>\n      <td>Cognitive comput*</td>\n      <td>NaN</td>\n      <td>NaN</td>\n      <td>NaN</td>\n    </tr>\n    <tr>\n      <th>37</th>\n      <td>Supervised learning</td>\n      <td>NaN</td>\n      <td>NaN</td>\n      <td>Cyberinfrastructure*</td>\n      <td>NaN</td>\n      <td>NaN</td>\n      <td>NaN</td>\n    </tr>\n    <tr>\n      <th>38</th>\n      <td>Text classification</td>\n      <td>NaN</td>\n      <td>NaN</td>\n      <td>Data-intensive comput*</td>\n      <td>NaN</td>\n      <td>NaN</td>\n      <td>NaN</td>\n    </tr>\n    <tr>\n      <th>39</th>\n      <td>Transfer learning</td>\n      <td>NaN</td>\n      <td>NaN</td>\n      <td>Hardware accelerator*</td>\n      <td>NaN</td>\n      <td>NaN</td>\n      <td>NaN</td>\n    </tr>\n    <tr>\n      <th>40</th>\n      <td>Transformer network*</td>\n      <td>NaN</td>\n      <td>NaN</td>\n      <td>High performance comput*</td>\n      <td>NaN</td>\n      <td>NaN</td>\n      <td>NaN</td>\n    </tr>\n    <tr>\n      <th>41</th>\n      <td>Unsupervised learning</td>\n      <td>NaN</td>\n      <td>NaN</td>\n      <td>Neuromorphic comput*</td>\n      <td>NaN</td>\n      <td>NaN</td>\n      <td>NaN</td>\n    </tr>\n    <tr>\n      <th>42</th>\n      <td>Voice recognition</td>\n      <td>NaN</td>\n      <td>NaN</td>\n      <td>Optical comput*</td>\n      <td>NaN</td>\n      <td>NaN</td>\n      <td>NaN</td>\n    </tr>\n    <tr>\n      <th>43</th>\n      <td>TensorFlow</td>\n      <td>NaN</td>\n      <td>NaN</td>\n      <td>Photonic comput*</td>\n      <td>NaN</td>\n      <td>NaN</td>\n      <td>NaN</td>\n    </tr>\n    <tr>\n      <th>44</th>\n      <td>Keras</td>\n      <td>NaN</td>\n      <td>NaN</td>\n      <td>Quantum comput*</td>\n      <td>NaN</td>\n      <td>NaN</td>\n      <td>NaN</td>\n    </tr>\n    <tr>\n      <th>45</th>\n      <td>PyTorch</td>\n      <td>NaN</td>\n      <td>NaN</td>\n      <td>Real-time comput*</td>\n      <td>NaN</td>\n      <td>NaN</td>\n      <td>NaN</td>\n    </tr>\n    <tr>\n      <th>46</th>\n      <td>amrv</td>\n      <td>NaN</td>\n      <td>NaN</td>\n      <td>Supercomput*</td>\n      <td>NaN</td>\n      <td>NaN</td>\n      <td>NaN</td>\n    </tr>\n    <tr>\n      <th>47</th>\n      <td>Artificial realit*</td>\n      <td>NaN</td>\n      <td>NaN</td>\n      <td>5G</td>\n      <td>NaN</td>\n      <td>NaN</td>\n      <td>NaN</td>\n    </tr>\n    <tr>\n      <th>48</th>\n      <td>Augmented realit*</td>\n      <td>NaN</td>\n      <td>NaN</td>\n      <td>5th generation mobile</td>\n      <td>NaN</td>\n      <td>NaN</td>\n      <td>NaN</td>\n    </tr>\n    <tr>\n      <th>49</th>\n      <td>Computer-mediated realit*</td>\n      <td>NaN</td>\n      <td>NaN</td>\n      <td>Fifth generation mobile</td>\n      <td>NaN</td>\n      <td>NaN</td>\n      <td>NaN</td>\n    </tr>\n    <tr>\n      <th>50</th>\n      <td>Mixed realit*</td>\n      <td>NaN</td>\n      <td>NaN</td>\n      <td>5G networks</td>\n      <td>NaN</td>\n      <td>NaN</td>\n      <td>NaN</td>\n    </tr>\n    <tr>\n      <th>51</th>\n      <td>Virtual realit*</td>\n      <td>NaN</td>\n      <td>NaN</td>\n      <td>NaN</td>\n      <td>NaN</td>\n      <td>NaN</td>\n      <td>NaN</td>\n    </tr>\n  </tbody>\n</table>\n</div>"
     },
     "execution_count": 16,
     "metadata": {},
     "output_type": "execute_result"
    }
   ],
   "source": [
    "df_keywords = pd.read_csv(digi_path)\n",
    "df_keywords"
   ],
   "metadata": {
    "collapsed": false
   }
  },
  {
   "cell_type": "code",
   "execution_count": 17,
   "outputs": [
    {
     "data": {
      "text/plain": "                                                                    AB  \\\nUT                                                                       \nWOS:000580415700001  Lung sounds acquired by stethoscopes are exten...   \nWOS:000580415700001  Lung sounds acquired by stethoscopes are exten...   \nWOS:000545304800010  The recent COVID-19 pandemic has clearly shown...   \nWOS:000553292800001  Throughout the past six months, no number has ...   \nWOS:000531829000201  While the number of coronavirus cases from 201...   \n...                                                                ...   \nWOS:000759784400021  Telehealth is an increasingly critical compone...   \nWOS:000759784400021  Telehealth is an increasingly critical compone...   \nWOS:000580417200001  As of the end of 2019, the world suffered from...   \nWOS:000580417200001  As of the end of 2019, the world suffered from...   \nWOS:000580417200001  As of the end of 2019, the world suffered from...   \n\n                                           TXT  \\\nUT                                               \nWOS:000580415700001                  wearables   \nWOS:000580415700001                   wearable   \nWOS:000545304800010                              \nWOS:000553292800001           machine learning   \nWOS:000531829000201  fused deposition modeling   \n...                                        ...   \nWOS:000759784400021            computer vision   \nWOS:000759784400021           machine learning   \nWOS:000580417200001          transfer learning   \nWOS:000580417200001              deep learning   \nWOS:000580417200001             neural network   \n\n                                                                    DE  \\\nUT                                                                       \nWOS:000580415700001  wearables; auscultation; electronic stethoscop...   \nWOS:000580415700001  wearables; auscultation; electronic stethoscop...   \nWOS:000545304800010  E-commerce capability; Business agility; IT-en...   \nWOS:000553292800001  COVID-19; Epidemiology; SEIR model; Reproducti...   \nWOS:000531829000201  3-D printing; COVID-19; personal protective eq...   \n...                                                                ...   \nWOS:000759784400021  Telemedicine; Teledermatology; Computer Vision...   \nWOS:000759784400021  Telemedicine; Teledermatology; Computer Vision...   \nWOS:000580417200001  COVID-19; pneumonia; classification; deep lear...   \nWOS:000580417200001  COVID-19; pneumonia; classification; deep lear...   \nWOS:000580417200001  COVID-19; pneumonia; classification; deep lear...   \n\n                                                                    TI  \\\nUT                                                                       \nWOS:000580415700001  A Wearable Stethoscope for Long-Term Ambulator...   \nWOS:000580415700001  A Wearable Stethoscope for Long-Term Ambulator...   \nWOS:000545304800010  How do agribusinesses thrive through complexit...   \nWOS:000553292800001  The reproduction number of COVID-19 and its co...   \nWOS:000531829000201  3-D Printed Protective Equipment during COVID-...   \n...                                                                ...   \nWOS:000759784400021  TrueImage: A Machine Learning Algorithm to Imp...   \nWOS:000759784400021  TrueImage: A Machine Learning Algorithm to Imp...   \nWOS:000580417200001  Fast COVID-19 and Pneumonia Classification Usi...   \nWOS:000580417200001  Fast COVID-19 and Pneumonia Classification Usi...   \nWOS:000580417200001  Fast COVID-19 and Pneumonia Classification Usi...   \n\n                          Neg       Neu       Pos  \nUT                                                 \nWOS:000580415700001  0.036981  0.290473  0.672545  \nWOS:000580415700001  0.020563  0.290001  0.689435  \nWOS:000545304800010  0.023675  0.282825  0.693500  \nWOS:000553292800001  0.017506  0.285376  0.697118  \nWOS:000531829000201  0.052358  0.442573  0.505069  \n...                       ...       ...       ...  \nWOS:000759784400021  0.054420  0.175074  0.770507  \nWOS:000759784400021  0.049426  0.155592  0.794982  \nWOS:000580417200001  0.055628  0.250089  0.694283  \nWOS:000580417200001  0.059007  0.240207  0.700786  \nWOS:000580417200001  0.047905  0.267766  0.684329  \n\n[90705 rows x 7 columns]",
      "text/html": "<div>\n<style scoped>\n    .dataframe tbody tr th:only-of-type {\n        vertical-align: middle;\n    }\n\n    .dataframe tbody tr th {\n        vertical-align: top;\n    }\n\n    .dataframe thead th {\n        text-align: right;\n    }\n</style>\n<table border=\"1\" class=\"dataframe\">\n  <thead>\n    <tr style=\"text-align: right;\">\n      <th></th>\n      <th>AB</th>\n      <th>TXT</th>\n      <th>DE</th>\n      <th>TI</th>\n      <th>Neg</th>\n      <th>Neu</th>\n      <th>Pos</th>\n    </tr>\n    <tr>\n      <th>UT</th>\n      <th></th>\n      <th></th>\n      <th></th>\n      <th></th>\n      <th></th>\n      <th></th>\n      <th></th>\n    </tr>\n  </thead>\n  <tbody>\n    <tr>\n      <th>WOS:000580415700001</th>\n      <td>Lung sounds acquired by stethoscopes are exten...</td>\n      <td>wearables</td>\n      <td>wearables; auscultation; electronic stethoscop...</td>\n      <td>A Wearable Stethoscope for Long-Term Ambulator...</td>\n      <td>0.036981</td>\n      <td>0.290473</td>\n      <td>0.672545</td>\n    </tr>\n    <tr>\n      <th>WOS:000580415700001</th>\n      <td>Lung sounds acquired by stethoscopes are exten...</td>\n      <td>wearable</td>\n      <td>wearables; auscultation; electronic stethoscop...</td>\n      <td>A Wearable Stethoscope for Long-Term Ambulator...</td>\n      <td>0.020563</td>\n      <td>0.290001</td>\n      <td>0.689435</td>\n    </tr>\n    <tr>\n      <th>WOS:000545304800010</th>\n      <td>The recent COVID-19 pandemic has clearly shown...</td>\n      <td></td>\n      <td>E-commerce capability; Business agility; IT-en...</td>\n      <td>How do agribusinesses thrive through complexit...</td>\n      <td>0.023675</td>\n      <td>0.282825</td>\n      <td>0.693500</td>\n    </tr>\n    <tr>\n      <th>WOS:000553292800001</th>\n      <td>Throughout the past six months, no number has ...</td>\n      <td>machine learning</td>\n      <td>COVID-19; Epidemiology; SEIR model; Reproducti...</td>\n      <td>The reproduction number of COVID-19 and its co...</td>\n      <td>0.017506</td>\n      <td>0.285376</td>\n      <td>0.697118</td>\n    </tr>\n    <tr>\n      <th>WOS:000531829000201</th>\n      <td>While the number of coronavirus cases from 201...</td>\n      <td>fused deposition modeling</td>\n      <td>3-D printing; COVID-19; personal protective eq...</td>\n      <td>3-D Printed Protective Equipment during COVID-...</td>\n      <td>0.052358</td>\n      <td>0.442573</td>\n      <td>0.505069</td>\n    </tr>\n    <tr>\n      <th>...</th>\n      <td>...</td>\n      <td>...</td>\n      <td>...</td>\n      <td>...</td>\n      <td>...</td>\n      <td>...</td>\n      <td>...</td>\n    </tr>\n    <tr>\n      <th>WOS:000759784400021</th>\n      <td>Telehealth is an increasingly critical compone...</td>\n      <td>computer vision</td>\n      <td>Telemedicine; Teledermatology; Computer Vision...</td>\n      <td>TrueImage: A Machine Learning Algorithm to Imp...</td>\n      <td>0.054420</td>\n      <td>0.175074</td>\n      <td>0.770507</td>\n    </tr>\n    <tr>\n      <th>WOS:000759784400021</th>\n      <td>Telehealth is an increasingly critical compone...</td>\n      <td>machine learning</td>\n      <td>Telemedicine; Teledermatology; Computer Vision...</td>\n      <td>TrueImage: A Machine Learning Algorithm to Imp...</td>\n      <td>0.049426</td>\n      <td>0.155592</td>\n      <td>0.794982</td>\n    </tr>\n    <tr>\n      <th>WOS:000580417200001</th>\n      <td>As of the end of 2019, the world suffered from...</td>\n      <td>transfer learning</td>\n      <td>COVID-19; pneumonia; classification; deep lear...</td>\n      <td>Fast COVID-19 and Pneumonia Classification Usi...</td>\n      <td>0.055628</td>\n      <td>0.250089</td>\n      <td>0.694283</td>\n    </tr>\n    <tr>\n      <th>WOS:000580417200001</th>\n      <td>As of the end of 2019, the world suffered from...</td>\n      <td>deep learning</td>\n      <td>COVID-19; pneumonia; classification; deep lear...</td>\n      <td>Fast COVID-19 and Pneumonia Classification Usi...</td>\n      <td>0.059007</td>\n      <td>0.240207</td>\n      <td>0.700786</td>\n    </tr>\n    <tr>\n      <th>WOS:000580417200001</th>\n      <td>As of the end of 2019, the world suffered from...</td>\n      <td>neural network</td>\n      <td>COVID-19; pneumonia; classification; deep lear...</td>\n      <td>Fast COVID-19 and Pneumonia Classification Usi...</td>\n      <td>0.047905</td>\n      <td>0.267766</td>\n      <td>0.684329</td>\n    </tr>\n  </tbody>\n</table>\n<p>90705 rows × 7 columns</p>\n</div>"
     },
     "execution_count": 17,
     "metadata": {},
     "output_type": "execute_result"
    }
   ],
   "source": [
    "df"
   ],
   "metadata": {
    "collapsed": false
   }
  },
  {
   "cell_type": "code",
   "execution_count": 18,
   "outputs": [
    {
     "data": {
      "text/plain": "                                                                    AB  \\\nUT                                                                       \nWOS:000208168800004  In the context of civil rights law, discrimina...   \nWOS:000208392700003  Early forecasting of future drought conditions...   \nWOS:000208392700003  Early forecasting of future drought conditions...   \nWOS:000208401500003  Tam Dao National Park (TDNP) is a remaining pr...   \nWOS:000208401600008  The expansion of cities entails the abandonmen...   \n...                                                                ...   \nWOS:000864849700009  Urbanization increases human mobility in ways ...   \nWOS:000865951200001  In Japan, the number of emergency patients and...   \nWOS:000866319200015  We propose a framework for building Nakamoto-s...   \nWOS:000866319200015  We propose a framework for building Nakamoto-s...   \nWOS:000866319200015  We propose a framework for building Nakamoto-s...   \n\n                                      TXT  \\\nUT                                          \nWOS:000208168800004          data mining    \nWOS:000208392700003        neural network   \nWOS:000208392700003       neural networks   \nWOS:000208401500003        neural network   \nWOS:000208401600008  image classification   \n...                                   ...   \nWOS:000864849700009      machine learning   \nWOS:000865951200001      machine learning   \nWOS:000866319200015            blockchain   \nWOS:000866319200015               bitcoin   \nWOS:000866319200015           blockchains   \n\n                                                                    DE  \\\nUT                                                                       \nWOS:000208168800004               Discrimination; classification rules   \nWOS:000208392700003  aggregated drought index; artificial neural ne...   \nWOS:000208392700003  aggregated drought index; artificial neural ne...   \nWOS:000208401500003  multi-layer perceptron neural network; Markov ...   \nWOS:000208401600008  object-oriented image classification; change d...   \n...                                                                ...   \nWOS:000864849700009  human mobility; schistosomiasis; travel; water...   \nWOS:000865951200001  WBGT; risk rank for heat illness; autoregressi...   \nWOS:000866319200015  Blockchain; Proof of work; Chain-selection rul...   \nWOS:000866319200015  Blockchain; Proof of work; Chain-selection rul...   \nWOS:000866319200015  Blockchain; Proof of work; Chain-selection rul...   \n\n                                                                    TI  \\\nUT                                                                       \nWOS:000208168800004           Data Mining for Discrimination Discovery   \nWOS:000208392700003  Drought forecasting using an aggregated drough...   \nWOS:000208392700003  Drought forecasting using an aggregated drough...   \nWOS:000208401500003  Forecasting Areas Vulnerable to Forest Convers...   \nWOS:000208401600008  Analysis and Modeling of Urban Land Cover Chan...   \n...                                                                ...   \nWOS:000864849700009  Human Mobility Associated With Risk of Schisto...   \nWOS:000865951200001  Application of Machine Learning to the Predict...   \nWOS:000866319200015            Weight-Based Nakamoto-Style Blockchains   \nWOS:000866319200015            Weight-Based Nakamoto-Style Blockchains   \nWOS:000866319200015            Weight-Based Nakamoto-Style Blockchains   \n\n                          Neg       Neu       Pos   SDG1   SDG2   SDG3  ...  \\\nUT                                                                      ...   \nWOS:000208168800004  0.049513  0.771567  0.178920  False  False  False  ...   \nWOS:000208392700003  0.031430  0.328297  0.640273  False  False  False  ...   \nWOS:000208392700003  0.033301  0.345688  0.621011  False  False  False  ...   \nWOS:000208401500003  0.180062  0.390391  0.429546  False  False  False  ...   \nWOS:000208401600008  0.052280  0.342819  0.604901  False  False  False  ...   \n...                       ...       ...       ...    ...    ...    ...  ...   \nWOS:000864849700009  0.052350  0.422497  0.525152  False  False  False  ...   \nWOS:000865951200001  0.104681  0.566868  0.328451  False  False  False  ...   \nWOS:000866319200015  0.005316  0.168137  0.826547  False  False  False  ...   \nWOS:000866319200015  0.008139  0.282015  0.709847  False  False  False  ...   \nWOS:000866319200015  0.005563  0.204665  0.789772  False  False  False  ...   \n\n                     SDG15  SDG16  SDG17  additive_manufacturing     AI  \\\nUT                                                                        \nWOS:000208168800004  False   True  False                   False   True   \nWOS:000208392700003  False  False  False                   False   True   \nWOS:000208392700003  False  False  False                   False   True   \nWOS:000208401500003   True  False  False                   False   True   \nWOS:000208401600008  False  False  False                   False   True   \n...                    ...    ...    ...                     ...    ...   \nWOS:000864849700009  False  False  False                   False   True   \nWOS:000865951200001  False  False  False                   False   True   \nWOS:000866319200015  False   True  False                   False  False   \nWOS:000866319200015  False   True  False                   False  False   \nWOS:000866319200015  False   True  False                   False  False   \n\n                     big_data  blockchain  computing_infrastructure    IOT  \\\nUT                                                                           \nWOS:000208168800004     False       False                     False  False   \nWOS:000208392700003     False       False                     False  False   \nWOS:000208392700003     False       False                     False  False   \nWOS:000208401500003     False       False                     False  False   \nWOS:000208401600008     False       False                     False  False   \n...                       ...         ...                       ...    ...   \nWOS:000864849700009     False       False                     False  False   \nWOS:000865951200001     False       False                     False  False   \nWOS:000866319200015     False        True                     False  False   \nWOS:000866319200015     False        True                     False  False   \nWOS:000866319200015     False        True                     False  False   \n\n                     robotics  \nUT                             \nWOS:000208168800004     False  \nWOS:000208392700003     False  \nWOS:000208392700003     False  \nWOS:000208401500003     False  \nWOS:000208401600008     False  \n...                       ...  \nWOS:000864849700009     False  \nWOS:000865951200001     False  \nWOS:000866319200015     False  \nWOS:000866319200015     False  \nWOS:000866319200015     False  \n\n[90705 rows x 31 columns]",
      "text/html": "<div>\n<style scoped>\n    .dataframe tbody tr th:only-of-type {\n        vertical-align: middle;\n    }\n\n    .dataframe tbody tr th {\n        vertical-align: top;\n    }\n\n    .dataframe thead th {\n        text-align: right;\n    }\n</style>\n<table border=\"1\" class=\"dataframe\">\n  <thead>\n    <tr style=\"text-align: right;\">\n      <th></th>\n      <th>AB</th>\n      <th>TXT</th>\n      <th>DE</th>\n      <th>TI</th>\n      <th>Neg</th>\n      <th>Neu</th>\n      <th>Pos</th>\n      <th>SDG1</th>\n      <th>SDG2</th>\n      <th>SDG3</th>\n      <th>...</th>\n      <th>SDG15</th>\n      <th>SDG16</th>\n      <th>SDG17</th>\n      <th>additive_manufacturing</th>\n      <th>AI</th>\n      <th>big_data</th>\n      <th>blockchain</th>\n      <th>computing_infrastructure</th>\n      <th>IOT</th>\n      <th>robotics</th>\n    </tr>\n    <tr>\n      <th>UT</th>\n      <th></th>\n      <th></th>\n      <th></th>\n      <th></th>\n      <th></th>\n      <th></th>\n      <th></th>\n      <th></th>\n      <th></th>\n      <th></th>\n      <th></th>\n      <th></th>\n      <th></th>\n      <th></th>\n      <th></th>\n      <th></th>\n      <th></th>\n      <th></th>\n      <th></th>\n      <th></th>\n      <th></th>\n    </tr>\n  </thead>\n  <tbody>\n    <tr>\n      <th>WOS:000208168800004</th>\n      <td>In the context of civil rights law, discrimina...</td>\n      <td>data mining</td>\n      <td>Discrimination; classification rules</td>\n      <td>Data Mining for Discrimination Discovery</td>\n      <td>0.049513</td>\n      <td>0.771567</td>\n      <td>0.178920</td>\n      <td>False</td>\n      <td>False</td>\n      <td>False</td>\n      <td>...</td>\n      <td>False</td>\n      <td>True</td>\n      <td>False</td>\n      <td>False</td>\n      <td>True</td>\n      <td>False</td>\n      <td>False</td>\n      <td>False</td>\n      <td>False</td>\n      <td>False</td>\n    </tr>\n    <tr>\n      <th>WOS:000208392700003</th>\n      <td>Early forecasting of future drought conditions...</td>\n      <td>neural network</td>\n      <td>aggregated drought index; artificial neural ne...</td>\n      <td>Drought forecasting using an aggregated drough...</td>\n      <td>0.031430</td>\n      <td>0.328297</td>\n      <td>0.640273</td>\n      <td>False</td>\n      <td>False</td>\n      <td>False</td>\n      <td>...</td>\n      <td>False</td>\n      <td>False</td>\n      <td>False</td>\n      <td>False</td>\n      <td>True</td>\n      <td>False</td>\n      <td>False</td>\n      <td>False</td>\n      <td>False</td>\n      <td>False</td>\n    </tr>\n    <tr>\n      <th>WOS:000208392700003</th>\n      <td>Early forecasting of future drought conditions...</td>\n      <td>neural networks</td>\n      <td>aggregated drought index; artificial neural ne...</td>\n      <td>Drought forecasting using an aggregated drough...</td>\n      <td>0.033301</td>\n      <td>0.345688</td>\n      <td>0.621011</td>\n      <td>False</td>\n      <td>False</td>\n      <td>False</td>\n      <td>...</td>\n      <td>False</td>\n      <td>False</td>\n      <td>False</td>\n      <td>False</td>\n      <td>True</td>\n      <td>False</td>\n      <td>False</td>\n      <td>False</td>\n      <td>False</td>\n      <td>False</td>\n    </tr>\n    <tr>\n      <th>WOS:000208401500003</th>\n      <td>Tam Dao National Park (TDNP) is a remaining pr...</td>\n      <td>neural network</td>\n      <td>multi-layer perceptron neural network; Markov ...</td>\n      <td>Forecasting Areas Vulnerable to Forest Convers...</td>\n      <td>0.180062</td>\n      <td>0.390391</td>\n      <td>0.429546</td>\n      <td>False</td>\n      <td>False</td>\n      <td>False</td>\n      <td>...</td>\n      <td>True</td>\n      <td>False</td>\n      <td>False</td>\n      <td>False</td>\n      <td>True</td>\n      <td>False</td>\n      <td>False</td>\n      <td>False</td>\n      <td>False</td>\n      <td>False</td>\n    </tr>\n    <tr>\n      <th>WOS:000208401600008</th>\n      <td>The expansion of cities entails the abandonmen...</td>\n      <td>image classification</td>\n      <td>object-oriented image classification; change d...</td>\n      <td>Analysis and Modeling of Urban Land Cover Chan...</td>\n      <td>0.052280</td>\n      <td>0.342819</td>\n      <td>0.604901</td>\n      <td>False</td>\n      <td>False</td>\n      <td>False</td>\n      <td>...</td>\n      <td>False</td>\n      <td>False</td>\n      <td>False</td>\n      <td>False</td>\n      <td>True</td>\n      <td>False</td>\n      <td>False</td>\n      <td>False</td>\n      <td>False</td>\n      <td>False</td>\n    </tr>\n    <tr>\n      <th>...</th>\n      <td>...</td>\n      <td>...</td>\n      <td>...</td>\n      <td>...</td>\n      <td>...</td>\n      <td>...</td>\n      <td>...</td>\n      <td>...</td>\n      <td>...</td>\n      <td>...</td>\n      <td>...</td>\n      <td>...</td>\n      <td>...</td>\n      <td>...</td>\n      <td>...</td>\n      <td>...</td>\n      <td>...</td>\n      <td>...</td>\n      <td>...</td>\n      <td>...</td>\n      <td>...</td>\n    </tr>\n    <tr>\n      <th>WOS:000864849700009</th>\n      <td>Urbanization increases human mobility in ways ...</td>\n      <td>machine learning</td>\n      <td>human mobility; schistosomiasis; travel; water...</td>\n      <td>Human Mobility Associated With Risk of Schisto...</td>\n      <td>0.052350</td>\n      <td>0.422497</td>\n      <td>0.525152</td>\n      <td>False</td>\n      <td>False</td>\n      <td>False</td>\n      <td>...</td>\n      <td>False</td>\n      <td>False</td>\n      <td>False</td>\n      <td>False</td>\n      <td>True</td>\n      <td>False</td>\n      <td>False</td>\n      <td>False</td>\n      <td>False</td>\n      <td>False</td>\n    </tr>\n    <tr>\n      <th>WOS:000865951200001</th>\n      <td>In Japan, the number of emergency patients and...</td>\n      <td>machine learning</td>\n      <td>WBGT; risk rank for heat illness; autoregressi...</td>\n      <td>Application of Machine Learning to the Predict...</td>\n      <td>0.104681</td>\n      <td>0.566868</td>\n      <td>0.328451</td>\n      <td>False</td>\n      <td>False</td>\n      <td>False</td>\n      <td>...</td>\n      <td>False</td>\n      <td>False</td>\n      <td>False</td>\n      <td>False</td>\n      <td>True</td>\n      <td>False</td>\n      <td>False</td>\n      <td>False</td>\n      <td>False</td>\n      <td>False</td>\n    </tr>\n    <tr>\n      <th>WOS:000866319200015</th>\n      <td>We propose a framework for building Nakamoto-s...</td>\n      <td>blockchain</td>\n      <td>Blockchain; Proof of work; Chain-selection rul...</td>\n      <td>Weight-Based Nakamoto-Style Blockchains</td>\n      <td>0.005316</td>\n      <td>0.168137</td>\n      <td>0.826547</td>\n      <td>False</td>\n      <td>False</td>\n      <td>False</td>\n      <td>...</td>\n      <td>False</td>\n      <td>True</td>\n      <td>False</td>\n      <td>False</td>\n      <td>False</td>\n      <td>False</td>\n      <td>True</td>\n      <td>False</td>\n      <td>False</td>\n      <td>False</td>\n    </tr>\n    <tr>\n      <th>WOS:000866319200015</th>\n      <td>We propose a framework for building Nakamoto-s...</td>\n      <td>bitcoin</td>\n      <td>Blockchain; Proof of work; Chain-selection rul...</td>\n      <td>Weight-Based Nakamoto-Style Blockchains</td>\n      <td>0.008139</td>\n      <td>0.282015</td>\n      <td>0.709847</td>\n      <td>False</td>\n      <td>False</td>\n      <td>False</td>\n      <td>...</td>\n      <td>False</td>\n      <td>True</td>\n      <td>False</td>\n      <td>False</td>\n      <td>False</td>\n      <td>False</td>\n      <td>True</td>\n      <td>False</td>\n      <td>False</td>\n      <td>False</td>\n    </tr>\n    <tr>\n      <th>WOS:000866319200015</th>\n      <td>We propose a framework for building Nakamoto-s...</td>\n      <td>blockchains</td>\n      <td>Blockchain; Proof of work; Chain-selection rul...</td>\n      <td>Weight-Based Nakamoto-Style Blockchains</td>\n      <td>0.005563</td>\n      <td>0.204665</td>\n      <td>0.789772</td>\n      <td>False</td>\n      <td>False</td>\n      <td>False</td>\n      <td>...</td>\n      <td>False</td>\n      <td>True</td>\n      <td>False</td>\n      <td>False</td>\n      <td>False</td>\n      <td>False</td>\n      <td>True</td>\n      <td>False</td>\n      <td>False</td>\n      <td>False</td>\n    </tr>\n  </tbody>\n</table>\n<p>90705 rows × 31 columns</p>\n</div>"
     },
     "execution_count": 18,
     "metadata": {},
     "output_type": "execute_result"
    }
   ],
   "source": [
    "res = df.merge(df_inter, left_index=True, right_index=True)\n",
    "# res.to_pickle(\"../results/res_sent_merged.pkl\")\n",
    "res"
   ],
   "metadata": {
    "collapsed": false
   }
  },
  {
   "cell_type": "code",
   "execution_count": 19,
   "outputs": [
    {
     "data": {
      "text/plain": "{'',\n '3d print',\n '3d printability',\n '3d printable',\n '3d printed',\n '3d printeing',\n '3d printer',\n '3d printers',\n '3d printerscan',\n '3d printing',\n '3d printouts',\n '3d prints',\n '3d prototyping',\n '5g',\n '5th generation mobile',\n 'additive fabrication',\n 'additive layer manufacturing',\n 'additive manufacturing',\n 'apache cassandra',\n 'apache kafka',\n 'apache spark',\n 'artificial intelligence',\n 'artificial intelligencebased',\n 'artificial intelligences',\n 'artificial intelligent',\n 'augmented realit',\n 'augmented realities',\n 'augmented reality',\n 'automated reasoning',\n 'autonomous car',\n 'autonomous carbon',\n 'autonomous carbonate',\n 'autonomous career',\n 'autonomous carrier',\n 'autonomous cars',\n 'autonomous underwater vehicle',\n 'autonomous underwater vehiclenupiri',\n 'autonomous underwater vehicles',\n 'autonomous vehicle',\n 'autonomous vehicles',\n 'auv',\n 'backpropagation ',\n 'big data',\n 'binder jetting',\n 'bitcoin',\n 'blockchain',\n 'blockchainas',\n 'blockchainbased',\n 'blockchains',\n 'chatbot',\n 'chatbots',\n 'cloud application',\n 'cloud applications',\n 'cloud architecture',\n 'cloud architectures',\n 'cloud broker',\n 'cloud client',\n 'cloud computing',\n 'cloud infrastructure',\n 'cloud infrastructures',\n 'cloud migration',\n 'cloud platform',\n 'cloud platforms',\n 'cloud provider',\n 'cloud server',\n 'cloud servers',\n 'cloud service',\n 'cloud services',\n 'cloud sourcing',\n 'cloud storage',\n 'cluster computing',\n 'cognitive computation',\n 'cognitive computations',\n 'cognitive computerized',\n 'cognitive computing',\n 'community cloud',\n 'computer vision',\n 'connected device',\n 'connected devices',\n 'connected home',\n 'connected homelessness',\n 'connected homes',\n 'continuous liquid interface production',\n 'cryptocurrencies',\n 'cryptocurrency',\n 'cryptocurrencybitcoin',\n 'cyber-physical system',\n 'cyber-physical systems',\n 'cyberinfrastructure',\n 'cyberinfrastructures',\n 'cybernetics',\n 'data center',\n 'data centered',\n 'data centering',\n 'data centers',\n 'data centre',\n 'data centred',\n 'data centres',\n 'data mining ',\n 'data science',\n 'data-intensive computation',\n 'data-intensive computing',\n 'decentralized computing',\n 'deep learning',\n 'dew computing',\n 'direct ink writing',\n 'direct metal laser sintering',\n 'directed energy deposition',\n 'distributed computing',\n 'distributed file system',\n 'distributed file systems',\n 'docker',\n 'drone',\n 'dronedarone',\n 'dronedeploy',\n 'drones',\n 'dronescape',\n 'dronet',\n 'dynamic cloud',\n 'edge computing',\n 'expert system',\n 'expert systems',\n 'face detection',\n 'feature extraction',\n 'federated cloud',\n 'federated clouds',\n 'fifth generation mobile',\n 'fog computing',\n 'fused deposition modeling',\n 'fused filament fabrication',\n 'generative adversarial network',\n 'generative adversarial networks',\n 'gesture recognition',\n 'grid computing',\n 'hadoop',\n 'hardware accelerator',\n 'hardware accelerators',\n 'hbase',\n 'high performance computation',\n 'high performance computational',\n 'high performance computations',\n 'high performance compute',\n 'high performance computer',\n 'high performance computers',\n 'high performance computing',\n 'human-machine interface',\n 'human-machine interfaces',\n 'humanoid robot',\n 'humanoid robotic',\n 'humanoid robotics',\n 'humanoid robots',\n 'hybrid cloud',\n 'hybrid cloudlet',\n 'hybrid clouds',\n 'hyper connectivity',\n 'image classification',\n 'image recognition',\n 'image segmentation',\n 'industrial internet of things',\n 'industry 4.0',\n 'information retrieval',\n 'infrastructure as a service',\n 'intelligent factories',\n 'intelligent factory',\n 'intelligent machine',\n 'intelligent machinery',\n 'intelligent machines',\n 'internet of everything',\n 'internet of things',\n 'iot',\n 'keras',\n 'kernel machine',\n 'knowledge representation',\n 'large-scale data',\n 'large-scale database',\n 'large-scale databases',\n 'large-scale databasing',\n 'large-scale datacenters',\n 'large-scale datacentres',\n 'large-scale dataset',\n 'large-scale datasets',\n 'layered manufacturing',\n 'machine intelligence',\n 'machine learning',\n 'machine translation',\n 'machine-to-human',\n 'machine-to-machine',\n 'manipulator',\n 'manipulators',\n 'manipulatory',\n 'mapreduce',\n 'massive data',\n 'massive database',\n 'massive databases',\n 'massive dataset',\n 'massive datasets',\n 'massively parallel processing',\n 'material extrusion',\n 'material jetting',\n 'meta-learning',\n 'mixed realities',\n 'mixed reality',\n 'mobile manipulator',\n 'mobile manipulators',\n 'mobile robot',\n 'mobile robotic',\n 'mobile robotics',\n 'mobile robots',\n 'multi-cloud',\n 'multi-clouds',\n 'multilayer perceptron',\n 'multilayer perceptronfirefly',\n 'multilayer perceptrons',\n 'natural language processing',\n 'neural net',\n 'neural netowrk',\n 'neural nets',\n 'neural netwoi',\n 'neural netwoks',\n 'neural network',\n 'neural networkbased',\n 'neural networking',\n 'neural networks',\n 'neural networksclimate',\n 'neural networksmultilayer',\n 'neural networkwas',\n 'neuromorphic computation',\n 'neuromorphic computers',\n 'neuromorphic computing',\n 'object detection',\n 'object identification',\n 'object recognition',\n 'on-demand computing',\n 'optical computing',\n 'parallel computing',\n 'pattern recognition',\n 'pervasive sensing',\n 'platform as a service',\n 'pose estimation',\n 'powder bed fusion',\n 'private blockchain',\n 'private blockchains',\n 'private cloud',\n 'private clouds',\n 'public blockchain',\n 'public blockchains',\n 'public cloud',\n 'public clouds',\n 'pytorch',\n 'quantum computation',\n 'quantum computational',\n 'quantum computations',\n 'quantum computer',\n 'quantum computers',\n 'quantum computing',\n 'rapid prototyping',\n 'real-time computation',\n 'real-time computational',\n 'real-time computations',\n 'real-time computer',\n 'real-time computerised',\n 'real-time computerized',\n 'real-time computing',\n 'reinforcement learning',\n 'robocasting',\n 'robot',\n 'robota',\n 'robotarium',\n 'robotassisted',\n 'robotaxis',\n 'robotcenter',\n 'robotdyn',\n 'robotex',\n 'robotfarm',\n 'robotflocksim',\n 'robotfoto',\n 'robotic',\n 'robotically',\n 'roboticists',\n 'robotics',\n 'robotisation',\n 'robotised',\n 'robotization',\n 'robotized',\n 'robotls',\n 'robotnicze',\n 'robotrading',\n 'robots',\n 'robotscience',\n 'robotstudio',\n 'robottom',\n 'selective laser melting',\n 'selective laser sintering',\n 'self-driving car',\n 'self-driving cars',\n 'self-driving vehicle',\n 'self-driving vehicles',\n 'semantic search',\n 'semi-supervised learning',\n 'sensor network',\n 'sensor networking',\n 'sensor networks',\n 'sentiment analysis',\n 'sheet lamination',\n 'smart device',\n 'smart devices',\n 'smart factories',\n 'smart factors',\n 'smart factory',\n 'smart home',\n 'smart homeland',\n 'smart homes',\n 'smart sensor',\n 'smart sensors',\n 'smart sensory',\n 'software as a service',\n 'speech recognition',\n 'statistical learning',\n 'stereolithography',\n 'supercomputation',\n 'supercomputer',\n 'supercomputers',\n 'supercomputing',\n 'supervised learning',\n 'tensorflow',\n 'text classification',\n 'transfer learning',\n 'transformer network',\n 'transformer networks',\n 'uav',\n 'ugv',\n 'unmanned aerial vehicle',\n 'unmanned aerial vehicles',\n 'unmanned aerial vehiclesuavsfor',\n 'unmanned air vehicle',\n 'unmanned air vehicles',\n 'unmanned aircraft system',\n 'unmanned aircraft systems',\n 'unmanned ground vehicle',\n 'unmanned ground vehicles',\n 'unmanned spacecraft',\n 'unmanned underwater vehicles',\n 'unmanned vehicle',\n 'unmanned vehicles',\n 'unsupervised learning',\n 'vat photopolymerization',\n 'virtual realities',\n 'virtual reality',\n 'voice recognition',\n 'wearable',\n 'wearables',\n 'wireless body area network',\n 'wireless body area networks',\n 'wireless sensor network',\n 'wireless sensor networking',\n 'wireless sensor networks',\n 'wireless sensor networkst'}"
     },
     "execution_count": 19,
     "metadata": {},
     "output_type": "execute_result"
    }
   ],
   "source": [
    "lst_keywords = set(list(res.TXT.to_list()))\n",
    "lst_keywords"
   ],
   "metadata": {
    "collapsed": false
   }
  },
  {
   "cell_type": "code",
   "execution_count": 20,
   "outputs": [],
   "source": [
    "import re\n",
    "keyword_regex = {}\n",
    "keyword_cat = {}\n",
    "for keyword in lst_keywords:\n",
    "    # print(\"key\", keyword)\n",
    "    for dt in lst_dt:\n",
    "        for reg in df_keywords.loc[:, dt].to_list():\n",
    "            # print(\"reg\", reg)\n",
    "            if not isinstance(reg, float):\n",
    "                m = re.search(reg.replace('*', r'\\w*'), keyword, flags=re.IGNORECASE)\n",
    "                if m:\n",
    "                    keyword_cat[keyword] = dt\n",
    "                    keyword_regex[keyword] = reg\n",
    "\n",
    "                # else:\n",
    "                #     dic_keywords[keyword] = \"lol\"\n",
    "\n"
   ],
   "metadata": {
    "collapsed": false
   }
  },
  {
   "cell_type": "code",
   "execution_count": 21,
   "outputs": [
    {
     "data": {
      "text/plain": "{'human-machine interface': 'IOT',\n 'blockchainbased': 'blockchain',\n '5th generation mobile': 'computing_infrastructure',\n 'cryptocurrencies': 'blockchain',\n 'smart homes': 'IOT',\n 'unmanned underwater vehicles': 'robotics',\n 'machine translation': 'AI',\n 'supercomputing': 'computing_infrastructure',\n 'artificial intelligence': 'AI',\n 'ugv': 'robotics',\n 'artificial intelligencebased': 'AI',\n 'direct metal laser sintering': 'additive_manufacturing',\n 'augmented realit': 'AI',\n 'private blockchains': 'blockchain',\n 'cloud architecture': 'computing_infrastructure',\n 'iot': 'IOT',\n 'cluster computing': 'computing_infrastructure',\n 'stereolithography': 'additive_manufacturing',\n 'robotstudio': 'robotics',\n 'deep learning': 'AI',\n 'cyber-physical systems': 'IOT',\n '3d printer': 'additive_manufacturing',\n 'object identification': 'AI',\n 'hybrid clouds': 'computing_infrastructure',\n 'drones': 'robotics',\n 'unmanned ground vehicle': 'robotics',\n 'quantum computation': 'computing_infrastructure',\n 'hbase': 'big_data',\n 'platform as a service': 'computing_infrastructure',\n 'autonomous career': 'robotics',\n 'smart sensory': 'IOT',\n 'cognitive computations': 'computing_infrastructure',\n '3d printable': 'additive_manufacturing',\n 'cloud sourcing': 'computing_infrastructure',\n 'cloud application': 'computing_infrastructure',\n 'data center': 'big_data',\n 'robotic': 'robotics',\n 'cognitive computing': 'computing_infrastructure',\n 'big data': 'big_data',\n 'internet of everything': 'IOT',\n 'data centred': 'big_data',\n 'speech recognition': 'AI',\n 'cryptocurrencybitcoin': 'blockchain',\n 'transfer learning': 'AI',\n 'feature extraction': 'AI',\n 'wearable': 'IOT',\n 'real-time computerized': 'computing_infrastructure',\n 'semi-supervised learning': 'AI',\n 'real-time computerised': 'computing_infrastructure',\n 'hardware accelerator': 'computing_infrastructure',\n 'machine-to-human': 'IOT',\n 'quantum computers': 'computing_infrastructure',\n 'neural networks': 'AI',\n 'drone': 'robotics',\n 'automated reasoning': 'AI',\n 'wireless sensor networking': 'IOT',\n 'cloud client': 'computing_infrastructure',\n 'unmanned aerial vehicles': 'robotics',\n 'pattern recognition': 'AI',\n 'quantum computations': 'computing_infrastructure',\n 'generative adversarial network': 'AI',\n 'unmanned air vehicles': 'robotics',\n 'data centre': 'big_data',\n 'dronescape': 'robotics',\n 'private clouds': 'computing_infrastructure',\n 'blockchain': 'blockchain',\n 'sensor networks': 'IOT',\n 'supercomputers': 'computing_infrastructure',\n 'neuromorphic computing': 'computing_infrastructure',\n 'massive datasets': 'big_data',\n 'cyberinfrastructure': 'computing_infrastructure',\n 'voice recognition': 'AI',\n 'binder jetting': 'additive_manufacturing',\n 'industrial internet of things': 'IOT',\n 'data centered': 'big_data',\n 'unmanned vehicle': 'robotics',\n 'text classification': 'AI',\n 'wireless sensor network': 'IOT',\n 'chatbot': 'robotics',\n 'cloud broker': 'computing_infrastructure',\n 'self-driving car': 'robotics',\n 'pytorch': 'AI',\n 'sensor network': 'IOT',\n 'machine intelligence': 'AI',\n 'cyber-physical system': 'IOT',\n 'cloud service': 'computing_infrastructure',\n 'image classification': 'AI',\n 'supervised learning': 'AI',\n 'robotised': 'robotics',\n 'hyper connectivity': 'IOT',\n 'infrastructure as a service': 'computing_infrastructure',\n 'manipulators': 'robotics',\n 'intelligent machines': 'AI',\n 'fused filament fabrication': 'additive_manufacturing',\n '3d prints': 'additive_manufacturing',\n 'apache cassandra': 'big_data',\n 'community cloud': 'computing_infrastructure',\n 'massively parallel processing': 'computing_infrastructure',\n 'data science': 'AI',\n 'self-driving vehicles': 'robotics',\n 'autonomous carrier': 'robotics',\n 'robotization': 'robotics',\n 'internet of things': 'IOT',\n 'private cloud': 'computing_infrastructure',\n 'object detection': 'AI',\n 'humanoid robotics': 'robotics',\n 'neural nets': 'AI',\n 'robotdyn': 'robotics',\n 'robottom': 'robotics',\n 'pose estimation': 'AI',\n 'connected home': 'IOT',\n 'distributed file system': 'big_data',\n 'distributed computing': 'computing_infrastructure',\n 'neuromorphic computation': 'computing_infrastructure',\n 'unmanned air vehicle': 'robotics',\n 'cloud infrastructures': 'computing_infrastructure',\n 'data-intensive computation': 'computing_infrastructure',\n 'robotcenter': 'robotics',\n 'cloud server': 'computing_infrastructure',\n 'high performance computers': 'computing_infrastructure',\n 'robotnicze': 'robotics',\n 'autonomous cars': 'robotics',\n 'object recognition': 'AI',\n 'robotex': 'robotics',\n 'neural networksclimate': 'AI',\n 'bitcoin': 'blockchain',\n 'robocasting': 'additive_manufacturing',\n 'robotized': 'robotics',\n 'data centering': 'big_data',\n 'powder bed fusion': 'additive_manufacturing',\n 'public blockchain': 'blockchain',\n 'uav': 'robotics',\n 'intelligent machine': 'AI',\n 'humanoid robot': 'robotics',\n 'unmanned spacecraft': 'robotics',\n 'robotfoto': 'robotics',\n 'selective laser melting': 'additive_manufacturing',\n 'robotfarm': 'robotics',\n 'dew computing': 'computing_infrastructure',\n 'real-time computational': 'computing_infrastructure',\n 'unmanned aerial vehicle': 'robotics',\n 'neural net': 'AI',\n 'machine learning': 'AI',\n 'cognitive computation': 'computing_infrastructure',\n 'neural netwoks': 'AI',\n 'hybrid cloudlet': 'computing_infrastructure',\n 'mapreduce': 'big_data',\n 'cloud storage': 'computing_infrastructure',\n 'sensor networking': 'IOT',\n 'mobile manipulators': 'robotics',\n 'private blockchain': 'blockchain',\n 'smart factors': 'IOT',\n 'cybernetics': 'robotics',\n 'dronedarone': 'robotics',\n '3d printerscan': 'additive_manufacturing',\n 'mixed reality': 'AI',\n 'self-driving vehicle': 'robotics',\n 'robotassisted': 'robotics',\n 'public cloud': 'computing_infrastructure',\n 'cloud architectures': 'computing_infrastructure',\n 'autonomous vehicle': 'robotics',\n 'large-scale dataset': 'big_data',\n 'mixed realities': 'AI',\n 'manipulator': 'robotics',\n 'neural networking': 'AI',\n 'optical computing': 'computing_infrastructure',\n 'robotaxis': 'robotics',\n 'smart sensors': 'IOT',\n 'transformer networks': 'AI',\n 'mobile robotics': 'robotics',\n 'fog computing': 'computing_infrastructure',\n 'material extrusion': 'additive_manufacturing',\n 'smart factory': 'IOT',\n 'edge computing': 'computing_infrastructure',\n 'connected homelessness': 'IOT',\n 'large-scale database': 'big_data',\n 'directed energy deposition': 'additive_manufacturing',\n 'wireless sensor networks': 'IOT',\n 'cloud servers': 'computing_infrastructure',\n 'smart factories': 'IOT',\n 'distributed file systems': 'big_data',\n 'public blockchains': 'blockchain',\n 'large-scale datasets': 'big_data',\n 'apache kafka': 'big_data',\n 'cognitive computerized': 'computing_infrastructure',\n 'artificial intelligent': 'AI',\n 'multilayer perceptronfirefly': 'AI',\n 'self-driving cars': 'robotics',\n '3d printouts': 'additive_manufacturing',\n 'cloud provider': 'computing_infrastructure',\n 'quantum computer': 'computing_infrastructure',\n 'pervasive sensing': 'IOT',\n 'industry 4.0': 'additive_manufacturing',\n 'continuous liquid interface production': 'additive_manufacturing',\n 'massive dataset': 'big_data',\n 'natural language processing': 'AI',\n 'unmanned aircraft systems': 'robotics',\n 'virtual reality': 'AI',\n 'grid computing': 'computing_infrastructure',\n 'autonomous underwater vehicle': 'robotics',\n 'additive fabrication': 'additive_manufacturing',\n 'supercomputation': 'computing_infrastructure',\n '3d printers': 'additive_manufacturing',\n 'face detection': 'AI',\n 'high performance computing': 'computing_infrastructure',\n 'robotscience': 'robotics',\n 'multi-cloud': 'computing_infrastructure',\n 'sentiment analysis': 'AI',\n 'wireless body area networks': 'IOT',\n 'dynamic cloud': 'computing_infrastructure',\n 'public clouds': 'computing_infrastructure',\n 'software as a service': 'computing_infrastructure',\n 'large-scale datacentres': 'big_data',\n 'unmanned ground vehicles': 'robotics',\n 'data centres': 'big_data',\n 'meta-learning': 'AI',\n 'multilayer perceptron': 'AI',\n '5g': 'computing_infrastructure',\n 'supercomputer': 'computing_infrastructure',\n 'federated cloud': 'computing_infrastructure',\n 'multilayer perceptrons': 'AI',\n 'massive data': 'big_data',\n 'virtual realities': 'AI',\n 'intelligent machinery': 'AI',\n 'blockchains': 'blockchain',\n 'vat photopolymerization': 'additive_manufacturing',\n 'large-scale databasing': 'big_data',\n 'robotflocksim': 'robotics',\n 'large-scale datacenters': 'big_data',\n 'autonomous car': 'robotics',\n 'artificial intelligences': 'AI',\n 'high performance computation': 'computing_infrastructure',\n 'real-time computations': 'computing_infrastructure',\n 'layered manufacturing': 'additive_manufacturing',\n 'docker': 'big_data',\n 'multi-clouds': 'computing_infrastructure',\n 'parallel computing': 'computing_infrastructure',\n 'intelligent factories': 'IOT',\n 'high performance computer': 'computing_infrastructure',\n 'quantum computational': 'computing_infrastructure',\n 'neuromorphic computers': 'computing_infrastructure',\n 'cloud infrastructure': 'computing_infrastructure',\n 'autonomous underwater vehicles': 'robotics',\n 'autonomous carbon': 'robotics',\n 'manipulatory': 'robotics',\n 'high performance computations': 'computing_infrastructure',\n 'expert systems': 'AI',\n 'machine-to-machine': 'IOT',\n 'real-time computing': 'computing_infrastructure',\n 'on-demand computing': 'computing_infrastructure',\n 'augmented reality': 'AI',\n 'high performance computational': 'computing_infrastructure',\n 'connected devices': 'IOT',\n 'connected device': 'IOT',\n 'data centers': 'big_data',\n 'image recognition': 'AI',\n 'wireless sensor networkst': 'IOT',\n 'reinforcement learning': 'AI',\n 'neural networkwas': 'AI',\n 'cloud services': 'computing_infrastructure',\n 'real-time computer': 'computing_infrastructure',\n 'gesture recognition': 'AI',\n 'autonomous carbonate': 'robotics',\n 'neural networksmultilayer': 'AI',\n 'cloud applications': 'computing_infrastructure',\n 'robotls': 'robotics',\n 'neural netwoi': 'AI',\n 'roboticists': 'robotics',\n 'sheet lamination': 'additive_manufacturing',\n 'auv': 'robotics',\n 'smart home': 'IOT',\n 'fifth generation mobile': 'computing_infrastructure',\n 'hardware accelerators': 'computing_infrastructure',\n 'generative adversarial networks': 'AI',\n 'robotics': 'robotics',\n 'knowledge representation': 'AI',\n 'mobile robot': 'robotics',\n 'smart sensor': 'IOT',\n 'massive databases': 'big_data',\n 'information retrieval': 'AI',\n 'robotisation': 'robotics',\n 'statistical learning': 'AI',\n '3d printing': 'additive_manufacturing',\n 'autonomous underwater vehiclenupiri': 'robotics',\n 'rapid prototyping': 'additive_manufacturing',\n 'mobile robotic': 'robotics',\n '3d prototyping': 'additive_manufacturing',\n 'quantum computing': 'computing_infrastructure',\n 'human-machine interfaces': 'IOT',\n 'high performance compute': 'computing_infrastructure',\n 'hadoop': 'big_data',\n 'intelligent factory': 'IOT',\n 'autonomous vehicles': 'robotics',\n '3d print': 'additive_manufacturing',\n 'tensorflow': 'AI',\n 'backpropagation ': 'AI',\n 'large-scale data': 'big_data',\n 'dronedeploy': 'robotics',\n 'robotrading': 'robotics',\n 'data-intensive computing': 'computing_infrastructure',\n 'humanoid robotic': 'robotics',\n 'dronet': 'robotics',\n 'fused deposition modeling': 'additive_manufacturing',\n 'smart device': 'IOT',\n 'apache spark': 'big_data',\n 'cloud platforms': 'computing_infrastructure',\n 'cloud computing': 'computing_infrastructure',\n 'wireless body area network': 'IOT',\n 'additive layer manufacturing': 'additive_manufacturing',\n 'robotarium': 'robotics',\n 'mobile manipulator': 'robotics',\n 'large-scale databases': 'big_data',\n 'neural networkbased': 'AI',\n 'cloud migration': 'computing_infrastructure',\n 'wearables': 'IOT',\n 'computer vision': 'AI',\n 'hybrid cloud': 'computing_infrastructure',\n 'federated clouds': 'computing_infrastructure',\n 'connected homes': 'IOT',\n 'smart homeland': 'IOT',\n 'neural netowrk': 'AI',\n 'cyberinfrastructures': 'computing_infrastructure',\n 'humanoid robots': 'robotics',\n 'robots': 'robotics',\n 'decentralized computing': 'computing_infrastructure',\n 'selective laser sintering': 'additive_manufacturing',\n 'additive manufacturing': 'additive_manufacturing',\n 'neural network': 'AI',\n '3d printability': 'additive_manufacturing',\n 'chatbots': 'robotics',\n 'image segmentation': 'AI',\n 'massive database': 'big_data',\n '3d printeing': 'additive_manufacturing',\n 'robotically': 'robotics',\n 'keras': 'AI',\n 'unmanned vehicles': 'robotics',\n 'transformer network': 'AI',\n 'direct ink writing': 'additive_manufacturing',\n '3d printed': 'additive_manufacturing',\n 'augmented realities': 'AI',\n 'robot': 'robotics',\n 'blockchainas': 'blockchain',\n 'semantic search': 'AI',\n 'robota': 'robotics',\n 'unsupervised learning': 'AI',\n 'expert system': 'AI',\n 'kernel machine': 'AI',\n 'real-time computation': 'computing_infrastructure',\n 'data mining ': 'AI',\n 'smart devices': 'IOT',\n 'cloud platform': 'computing_infrastructure',\n 'cryptocurrency': 'blockchain',\n 'unmanned aircraft system': 'robotics',\n 'mobile robots': 'robotics',\n 'material jetting': 'additive_manufacturing',\n 'unmanned aerial vehiclesuavsfor': 'robotics'}"
     },
     "execution_count": 21,
     "metadata": {},
     "output_type": "execute_result"
    }
   ],
   "source": [
    "keyword_cat"
   ],
   "metadata": {
    "collapsed": false
   }
  },
  {
   "cell_type": "code",
   "execution_count": 22,
   "outputs": [
    {
     "data": {
      "text/plain": "{'3D print*': 'additive_manufacturing',\n '3D prototyping': 'additive_manufacturing',\n 'Additive fabrication': 'additive_manufacturing',\n 'Additive layer manufacturing': 'additive_manufacturing',\n 'Additive manufacturing': 'additive_manufacturing',\n 'Direct digital manufacturing\\xa0': 'additive_manufacturing',\n 'Industry 4.0': 'additive_manufacturing',\n 'Layered manufacturing': 'additive_manufacturing',\n 'Rapid prototyping': 'additive_manufacturing',\n 'Vat photopolymerization': 'additive_manufacturing',\n 'Material jetting': 'additive_manufacturing',\n 'Binder jetting': 'additive_manufacturing',\n 'Powder bed fusion': 'additive_manufacturing',\n 'Material extrusion': 'additive_manufacturing',\n 'Directed energy deposition': 'additive_manufacturing',\n 'Sheet lamination': 'additive_manufacturing',\n 'Composite filament fabrication': 'additive_manufacturing',\n 'Continuous liquid interface production': 'additive_manufacturing',\n 'Direct ink writing': 'additive_manufacturing',\n 'Direct metal laser sintering': 'additive_manufacturing',\n 'Electron-beam freeform fabrication': 'additive_manufacturing',\n 'Electron-beam melting': 'additive_manufacturing',\n 'Fused deposition modeling': 'additive_manufacturing',\n 'Fused filament fabrication': 'additive_manufacturing',\n 'Laminated object manufacturing': 'additive_manufacturing',\n 'Robocasting': 'additive_manufacturing',\n 'Selective laser melting': 'additive_manufacturing',\n 'Selective laser sintering': 'additive_manufacturing',\n 'Stereolithography': 'additive_manufacturing',\n nan: 'robotics',\n 'Artificial intellig*': 'AI',\n 'Automated reasoning': 'AI',\n 'Backpropagation ': 'AI',\n 'Computer vision': 'AI',\n 'Data mining ': 'AI',\n 'Data science': 'AI',\n 'Deep learning': 'AI',\n 'Expert system*': 'AI',\n 'Face detection': 'AI',\n 'Feature extraction': 'AI',\n 'Generative adversarial network*': 'AI',\n 'Gesture recognition': 'AI',\n 'Image classification': 'AI',\n 'Image recognition': 'AI',\n 'Image segmentation': 'AI',\n 'Information retrieval': 'AI',\n 'Intelligent machine*': 'AI',\n 'Kernel machine': 'AI',\n 'Knowledge representation': 'AI',\n 'Machine intelligence': 'AI',\n 'Machine learning': 'AI',\n 'Machine translation': 'AI',\n 'Meta-learning': 'AI',\n 'Multilayer perceptron*': 'AI',\n 'Natural language processing': 'AI',\n 'Neural net*': 'AI',\n 'Object detection': 'AI',\n 'Object identification': 'AI',\n 'Object recognition': 'AI',\n 'Pattern recognition': 'AI',\n 'Pose estimation': 'AI',\n 'Reinforcement learning': 'AI',\n 'Semantic search': 'AI',\n 'Semi-supervised learning': 'AI',\n 'Sentiment analysis': 'AI',\n 'Speech recognition': 'AI',\n 'Statistical learning': 'AI',\n 'Supervised learning': 'AI',\n 'Text classification': 'AI',\n 'Transfer learning': 'AI',\n 'Transformer network*': 'AI',\n 'Unsupervised learning': 'AI',\n 'Voice recognition': 'AI',\n 'TensorFlow': 'AI',\n 'Keras': 'AI',\n 'PyTorch': 'AI',\n 'amrv': 'AI',\n 'Artificial realit*': 'AI',\n 'Augmented realit*': 'AI',\n 'Computer-mediated realit*': 'AI',\n 'Mixed realit*': 'AI',\n 'Virtual realit*': 'AI',\n 'Apache Spark': 'big_data',\n 'Apache Cassandra': 'big_data',\n 'Big data': 'big_data',\n 'Data center*': 'big_data',\n 'Data centre*': 'big_data',\n 'Hadoop': 'big_data',\n 'Large-scale data*': 'big_data',\n 'MapReduce': 'big_data',\n 'Massive data*': 'big_data',\n 'Apache Kafka': 'big_data',\n 'HBase': 'big_data',\n 'BigTable': 'big_data',\n 'Docker': 'big_data',\n 'Apache Hive': 'big_data',\n 'Distributed file system*': 'big_data',\n 'Altcoin': 'blockchain',\n 'Bitcoin': 'blockchain',\n 'Blockchain*': 'blockchain',\n 'Cryptocurrenc*': 'blockchain',\n 'Private blockchain*': 'blockchain',\n 'Public blockchain*': 'blockchain',\n 'Cloud application*': 'computing_infrastructure',\n 'Cloud architecture*': 'computing_infrastructure',\n 'Cloud broker': 'computing_infrastructure',\n 'Cloud client': 'computing_infrastructure',\n 'Cloud computing': 'computing_infrastructure',\n 'Cloud infrastructure*': 'computing_infrastructure',\n 'Cloud migration': 'computing_infrastructure',\n 'Cloud optimizer': 'computing_infrastructure',\n 'Cloud portfolio': 'computing_infrastructure',\n 'Cloud provider': 'computing_infrastructure',\n 'Cloud server*': 'computing_infrastructure',\n 'Cloud service*': 'computing_infrastructure',\n 'Cloud sourcing': 'computing_infrastructure',\n 'Cloud storage': 'computing_infrastructure',\n 'Cloud platform*': 'computing_infrastructure',\n 'Community cloud*': 'computing_infrastructure',\n 'Dynamic cloud*': 'computing_infrastructure',\n 'Federated cloud*': 'computing_infrastructure',\n 'Hybrid cloud*': 'computing_infrastructure',\n 'Infrastructure as a service': 'computing_infrastructure',\n 'Inter-cloud computing': 'computing_infrastructure',\n 'Multi-cloud*': 'computing_infrastructure',\n 'On-demand computing': 'computing_infrastructure',\n 'Platform as a service': 'computing_infrastructure',\n 'Private cloud*': 'computing_infrastructure',\n 'Public cloud*': 'computing_infrastructure',\n 'Software as a service': 'computing_infrastructure',\n 'Distributed computing': 'computing_infrastructure',\n 'Parallel computing': 'computing_infrastructure',\n 'Decentralized computing': 'computing_infrastructure',\n 'Edge computing': 'computing_infrastructure',\n 'Fog computing': 'computing_infrastructure',\n 'Grid computing': 'computing_infrastructure',\n 'Cluster computing': 'computing_infrastructure',\n 'Massively parallel processing': 'computing_infrastructure',\n 'Dew Computing': 'computing_infrastructure',\n 'Cognitive comput*': 'computing_infrastructure',\n 'Cyberinfrastructure*': 'computing_infrastructure',\n 'Data-intensive comput*': 'computing_infrastructure',\n 'Hardware accelerator*': 'computing_infrastructure',\n 'High performance comput*': 'computing_infrastructure',\n 'Neuromorphic comput*': 'computing_infrastructure',\n 'Optical comput*': 'computing_infrastructure',\n 'Photonic comput*': 'computing_infrastructure',\n 'Quantum comput*': 'computing_infrastructure',\n 'Real-time comput*': 'computing_infrastructure',\n 'Supercomput*': 'computing_infrastructure',\n '5G': 'computing_infrastructure',\n '5th generation mobile': 'computing_infrastructure',\n 'Fifth generation mobile': 'computing_infrastructure',\n '5G networks': 'computing_infrastructure',\n 'Connected device*': 'IOT',\n 'Connected home*': 'IOT',\n 'Cyber-physical system*': 'IOT',\n 'Human-machine interface*': 'IOT',\n 'Hyper connectivity': 'IOT',\n 'Industrial internet of things': 'IOT',\n 'Intelligent factor*': 'IOT',\n 'Internet of everything': 'IOT',\n 'Internet of things': 'IOT',\n 'IoT': 'IOT',\n 'Machine-to-enterprise': 'IOT',\n 'Machine-to-human': 'IOT',\n 'Machine-to-machine': 'IOT',\n 'Pervasive sensing': 'IOT',\n 'Sensor network*': 'IOT',\n 'Smart device*': 'IOT',\n 'Smart factor*': 'IOT',\n 'Smart home*': 'IOT',\n 'Smart sensor*': 'IOT',\n 'Wearable*': 'IOT',\n 'Wireless body area network*': 'IOT',\n 'Wireless sensor network*': 'IOT',\n 'Autonomous car*': 'robotics',\n 'Autonomous underwater vehicle*': 'robotics',\n 'Autonomous vehicle*': 'robotics',\n 'AUV': 'robotics',\n 'Chatbot*': 'robotics',\n 'Cybernetics': 'robotics',\n 'Drone*': 'robotics',\n 'Humanoid robot*': 'robotics',\n 'Manipulator*': 'robotics',\n 'Mobile manipulator*': 'robotics',\n 'Mobile robot*': 'robotics',\n 'Robot*': 'robotics',\n 'Robotic*': 'robotics',\n 'Self-driving car*': 'robotics',\n 'Self-driving vehicle*': 'robotics',\n 'UAV': 'robotics',\n 'UGV': 'robotics',\n 'Uncrewed vehicle*': 'robotics',\n 'Unmanned aerial vehicle*': 'robotics',\n 'Unmanned air vehicle*': 'robotics',\n 'Unmanned aircraft system*': 'robotics',\n 'Unmanned ground vehicle*': 'robotics',\n 'Unmanned spacecraft': 'robotics',\n 'Unmanned underwater vehicles*': 'robotics',\n 'Unmanned vehicle*': 'robotics'}"
     },
     "execution_count": 22,
     "metadata": {},
     "output_type": "execute_result"
    }
   ],
   "source": [
    "reg_cat = {}\n",
    "for dt in lst_dt:\n",
    "    for reg in df_keywords[dt]:\n",
    "        reg_cat[reg] = dt\n",
    "reg_cat"
   ],
   "metadata": {
    "collapsed": false
   }
  },
  {
   "cell_type": "code",
   "execution_count": 23,
   "outputs": [
    {
     "data": {
      "text/plain": "                                                                    AB  \\\nUT                                                                       \nWOS:000208168800004  In the context of civil rights law, discrimina...   \nWOS:000208392700003  Early forecasting of future drought conditions...   \nWOS:000208392700003  Early forecasting of future drought conditions...   \nWOS:000208401500003  Tam Dao National Park (TDNP) is a remaining pr...   \nWOS:000208401600008  The expansion of cities entails the abandonmen...   \n...                                                                ...   \nWOS:000864849700009  Urbanization increases human mobility in ways ...   \nWOS:000865951200001  In Japan, the number of emergency patients and...   \nWOS:000866319200015  We propose a framework for building Nakamoto-s...   \nWOS:000866319200015  We propose a framework for building Nakamoto-s...   \nWOS:000866319200015  We propose a framework for building Nakamoto-s...   \n\n                                      TXT  \\\nUT                                          \nWOS:000208168800004          data mining    \nWOS:000208392700003        neural network   \nWOS:000208392700003       neural networks   \nWOS:000208401500003        neural network   \nWOS:000208401600008  image classification   \n...                                   ...   \nWOS:000864849700009      machine learning   \nWOS:000865951200001      machine learning   \nWOS:000866319200015            blockchain   \nWOS:000866319200015               bitcoin   \nWOS:000866319200015           blockchains   \n\n                                                                    DE  \\\nUT                                                                       \nWOS:000208168800004               Discrimination; classification rules   \nWOS:000208392700003  aggregated drought index; artificial neural ne...   \nWOS:000208392700003  aggregated drought index; artificial neural ne...   \nWOS:000208401500003  multi-layer perceptron neural network; Markov ...   \nWOS:000208401600008  object-oriented image classification; change d...   \n...                                                                ...   \nWOS:000864849700009  human mobility; schistosomiasis; travel; water...   \nWOS:000865951200001  WBGT; risk rank for heat illness; autoregressi...   \nWOS:000866319200015  Blockchain; Proof of work; Chain-selection rul...   \nWOS:000866319200015  Blockchain; Proof of work; Chain-selection rul...   \nWOS:000866319200015  Blockchain; Proof of work; Chain-selection rul...   \n\n                                                                    TI  \\\nUT                                                                       \nWOS:000208168800004           Data Mining for Discrimination Discovery   \nWOS:000208392700003  Drought forecasting using an aggregated drough...   \nWOS:000208392700003  Drought forecasting using an aggregated drough...   \nWOS:000208401500003  Forecasting Areas Vulnerable to Forest Convers...   \nWOS:000208401600008  Analysis and Modeling of Urban Land Cover Chan...   \n...                                                                ...   \nWOS:000864849700009  Human Mobility Associated With Risk of Schisto...   \nWOS:000865951200001  Application of Machine Learning to the Predict...   \nWOS:000866319200015            Weight-Based Nakamoto-Style Blockchains   \nWOS:000866319200015            Weight-Based Nakamoto-Style Blockchains   \nWOS:000866319200015            Weight-Based Nakamoto-Style Blockchains   \n\n                          Neg       Neu       Pos   SDG1   SDG2   SDG3  ...  \\\nUT                                                                      ...   \nWOS:000208168800004  0.049513  0.771567  0.178920  False  False  False  ...   \nWOS:000208392700003  0.031430  0.328297  0.640273  False  False  False  ...   \nWOS:000208392700003  0.033301  0.345688  0.621011  False  False  False  ...   \nWOS:000208401500003  0.180062  0.390391  0.429546  False  False  False  ...   \nWOS:000208401600008  0.052280  0.342819  0.604901  False  False  False  ...   \n...                       ...       ...       ...    ...    ...    ...  ...   \nWOS:000864849700009  0.052350  0.422497  0.525152  False  False  False  ...   \nWOS:000865951200001  0.104681  0.566868  0.328451  False  False  False  ...   \nWOS:000866319200015  0.005316  0.168137  0.826547  False  False  False  ...   \nWOS:000866319200015  0.008139  0.282015  0.709847  False  False  False  ...   \nWOS:000866319200015  0.005563  0.204665  0.789772  False  False  False  ...   \n\n                     SDG17  additive_manufacturing     AI  big_data  \\\nUT                                                                    \nWOS:000208168800004  False                   False   True     False   \nWOS:000208392700003  False                   False   True     False   \nWOS:000208392700003  False                   False   True     False   \nWOS:000208401500003  False                   False   True     False   \nWOS:000208401600008  False                   False   True     False   \n...                    ...                     ...    ...       ...   \nWOS:000864849700009  False                   False   True     False   \nWOS:000865951200001  False                   False   True     False   \nWOS:000866319200015  False                   False  False     False   \nWOS:000866319200015  False                   False  False     False   \nWOS:000866319200015  False                   False  False     False   \n\n                     blockchain  computing_infrastructure    IOT  robotics  \\\nUT                                                                           \nWOS:000208168800004       False                     False  False     False   \nWOS:000208392700003       False                     False  False     False   \nWOS:000208392700003       False                     False  False     False   \nWOS:000208401500003       False                     False  False     False   \nWOS:000208401600008       False                     False  False     False   \n...                         ...                       ...    ...       ...   \nWOS:000864849700009       False                     False  False     False   \nWOS:000865951200001       False                     False  False     False   \nWOS:000866319200015        True                     False  False     False   \nWOS:000866319200015        True                     False  False     False   \nWOS:000866319200015        True                     False  False     False   \n\n                                      reg         cat  \nUT                                                     \nWOS:000208168800004          Data mining           AI  \nWOS:000208392700003           Neural net*          AI  \nWOS:000208392700003           Neural net*          AI  \nWOS:000208401500003           Neural net*          AI  \nWOS:000208401600008  Image classification          AI  \n...                                   ...         ...  \nWOS:000864849700009      Machine learning          AI  \nWOS:000865951200001      Machine learning          AI  \nWOS:000866319200015           Blockchain*  blockchain  \nWOS:000866319200015               Bitcoin  blockchain  \nWOS:000866319200015           Blockchain*  blockchain  \n\n[90705 rows x 33 columns]",
      "text/html": "<div>\n<style scoped>\n    .dataframe tbody tr th:only-of-type {\n        vertical-align: middle;\n    }\n\n    .dataframe tbody tr th {\n        vertical-align: top;\n    }\n\n    .dataframe thead th {\n        text-align: right;\n    }\n</style>\n<table border=\"1\" class=\"dataframe\">\n  <thead>\n    <tr style=\"text-align: right;\">\n      <th></th>\n      <th>AB</th>\n      <th>TXT</th>\n      <th>DE</th>\n      <th>TI</th>\n      <th>Neg</th>\n      <th>Neu</th>\n      <th>Pos</th>\n      <th>SDG1</th>\n      <th>SDG2</th>\n      <th>SDG3</th>\n      <th>...</th>\n      <th>SDG17</th>\n      <th>additive_manufacturing</th>\n      <th>AI</th>\n      <th>big_data</th>\n      <th>blockchain</th>\n      <th>computing_infrastructure</th>\n      <th>IOT</th>\n      <th>robotics</th>\n      <th>reg</th>\n      <th>cat</th>\n    </tr>\n    <tr>\n      <th>UT</th>\n      <th></th>\n      <th></th>\n      <th></th>\n      <th></th>\n      <th></th>\n      <th></th>\n      <th></th>\n      <th></th>\n      <th></th>\n      <th></th>\n      <th></th>\n      <th></th>\n      <th></th>\n      <th></th>\n      <th></th>\n      <th></th>\n      <th></th>\n      <th></th>\n      <th></th>\n      <th></th>\n      <th></th>\n    </tr>\n  </thead>\n  <tbody>\n    <tr>\n      <th>WOS:000208168800004</th>\n      <td>In the context of civil rights law, discrimina...</td>\n      <td>data mining</td>\n      <td>Discrimination; classification rules</td>\n      <td>Data Mining for Discrimination Discovery</td>\n      <td>0.049513</td>\n      <td>0.771567</td>\n      <td>0.178920</td>\n      <td>False</td>\n      <td>False</td>\n      <td>False</td>\n      <td>...</td>\n      <td>False</td>\n      <td>False</td>\n      <td>True</td>\n      <td>False</td>\n      <td>False</td>\n      <td>False</td>\n      <td>False</td>\n      <td>False</td>\n      <td>Data mining</td>\n      <td>AI</td>\n    </tr>\n    <tr>\n      <th>WOS:000208392700003</th>\n      <td>Early forecasting of future drought conditions...</td>\n      <td>neural network</td>\n      <td>aggregated drought index; artificial neural ne...</td>\n      <td>Drought forecasting using an aggregated drough...</td>\n      <td>0.031430</td>\n      <td>0.328297</td>\n      <td>0.640273</td>\n      <td>False</td>\n      <td>False</td>\n      <td>False</td>\n      <td>...</td>\n      <td>False</td>\n      <td>False</td>\n      <td>True</td>\n      <td>False</td>\n      <td>False</td>\n      <td>False</td>\n      <td>False</td>\n      <td>False</td>\n      <td>Neural net*</td>\n      <td>AI</td>\n    </tr>\n    <tr>\n      <th>WOS:000208392700003</th>\n      <td>Early forecasting of future drought conditions...</td>\n      <td>neural networks</td>\n      <td>aggregated drought index; artificial neural ne...</td>\n      <td>Drought forecasting using an aggregated drough...</td>\n      <td>0.033301</td>\n      <td>0.345688</td>\n      <td>0.621011</td>\n      <td>False</td>\n      <td>False</td>\n      <td>False</td>\n      <td>...</td>\n      <td>False</td>\n      <td>False</td>\n      <td>True</td>\n      <td>False</td>\n      <td>False</td>\n      <td>False</td>\n      <td>False</td>\n      <td>False</td>\n      <td>Neural net*</td>\n      <td>AI</td>\n    </tr>\n    <tr>\n      <th>WOS:000208401500003</th>\n      <td>Tam Dao National Park (TDNP) is a remaining pr...</td>\n      <td>neural network</td>\n      <td>multi-layer perceptron neural network; Markov ...</td>\n      <td>Forecasting Areas Vulnerable to Forest Convers...</td>\n      <td>0.180062</td>\n      <td>0.390391</td>\n      <td>0.429546</td>\n      <td>False</td>\n      <td>False</td>\n      <td>False</td>\n      <td>...</td>\n      <td>False</td>\n      <td>False</td>\n      <td>True</td>\n      <td>False</td>\n      <td>False</td>\n      <td>False</td>\n      <td>False</td>\n      <td>False</td>\n      <td>Neural net*</td>\n      <td>AI</td>\n    </tr>\n    <tr>\n      <th>WOS:000208401600008</th>\n      <td>The expansion of cities entails the abandonmen...</td>\n      <td>image classification</td>\n      <td>object-oriented image classification; change d...</td>\n      <td>Analysis and Modeling of Urban Land Cover Chan...</td>\n      <td>0.052280</td>\n      <td>0.342819</td>\n      <td>0.604901</td>\n      <td>False</td>\n      <td>False</td>\n      <td>False</td>\n      <td>...</td>\n      <td>False</td>\n      <td>False</td>\n      <td>True</td>\n      <td>False</td>\n      <td>False</td>\n      <td>False</td>\n      <td>False</td>\n      <td>False</td>\n      <td>Image classification</td>\n      <td>AI</td>\n    </tr>\n    <tr>\n      <th>...</th>\n      <td>...</td>\n      <td>...</td>\n      <td>...</td>\n      <td>...</td>\n      <td>...</td>\n      <td>...</td>\n      <td>...</td>\n      <td>...</td>\n      <td>...</td>\n      <td>...</td>\n      <td>...</td>\n      <td>...</td>\n      <td>...</td>\n      <td>...</td>\n      <td>...</td>\n      <td>...</td>\n      <td>...</td>\n      <td>...</td>\n      <td>...</td>\n      <td>...</td>\n      <td>...</td>\n    </tr>\n    <tr>\n      <th>WOS:000864849700009</th>\n      <td>Urbanization increases human mobility in ways ...</td>\n      <td>machine learning</td>\n      <td>human mobility; schistosomiasis; travel; water...</td>\n      <td>Human Mobility Associated With Risk of Schisto...</td>\n      <td>0.052350</td>\n      <td>0.422497</td>\n      <td>0.525152</td>\n      <td>False</td>\n      <td>False</td>\n      <td>False</td>\n      <td>...</td>\n      <td>False</td>\n      <td>False</td>\n      <td>True</td>\n      <td>False</td>\n      <td>False</td>\n      <td>False</td>\n      <td>False</td>\n      <td>False</td>\n      <td>Machine learning</td>\n      <td>AI</td>\n    </tr>\n    <tr>\n      <th>WOS:000865951200001</th>\n      <td>In Japan, the number of emergency patients and...</td>\n      <td>machine learning</td>\n      <td>WBGT; risk rank for heat illness; autoregressi...</td>\n      <td>Application of Machine Learning to the Predict...</td>\n      <td>0.104681</td>\n      <td>0.566868</td>\n      <td>0.328451</td>\n      <td>False</td>\n      <td>False</td>\n      <td>False</td>\n      <td>...</td>\n      <td>False</td>\n      <td>False</td>\n      <td>True</td>\n      <td>False</td>\n      <td>False</td>\n      <td>False</td>\n      <td>False</td>\n      <td>False</td>\n      <td>Machine learning</td>\n      <td>AI</td>\n    </tr>\n    <tr>\n      <th>WOS:000866319200015</th>\n      <td>We propose a framework for building Nakamoto-s...</td>\n      <td>blockchain</td>\n      <td>Blockchain; Proof of work; Chain-selection rul...</td>\n      <td>Weight-Based Nakamoto-Style Blockchains</td>\n      <td>0.005316</td>\n      <td>0.168137</td>\n      <td>0.826547</td>\n      <td>False</td>\n      <td>False</td>\n      <td>False</td>\n      <td>...</td>\n      <td>False</td>\n      <td>False</td>\n      <td>False</td>\n      <td>False</td>\n      <td>True</td>\n      <td>False</td>\n      <td>False</td>\n      <td>False</td>\n      <td>Blockchain*</td>\n      <td>blockchain</td>\n    </tr>\n    <tr>\n      <th>WOS:000866319200015</th>\n      <td>We propose a framework for building Nakamoto-s...</td>\n      <td>bitcoin</td>\n      <td>Blockchain; Proof of work; Chain-selection rul...</td>\n      <td>Weight-Based Nakamoto-Style Blockchains</td>\n      <td>0.008139</td>\n      <td>0.282015</td>\n      <td>0.709847</td>\n      <td>False</td>\n      <td>False</td>\n      <td>False</td>\n      <td>...</td>\n      <td>False</td>\n      <td>False</td>\n      <td>False</td>\n      <td>False</td>\n      <td>True</td>\n      <td>False</td>\n      <td>False</td>\n      <td>False</td>\n      <td>Bitcoin</td>\n      <td>blockchain</td>\n    </tr>\n    <tr>\n      <th>WOS:000866319200015</th>\n      <td>We propose a framework for building Nakamoto-s...</td>\n      <td>blockchains</td>\n      <td>Blockchain; Proof of work; Chain-selection rul...</td>\n      <td>Weight-Based Nakamoto-Style Blockchains</td>\n      <td>0.005563</td>\n      <td>0.204665</td>\n      <td>0.789772</td>\n      <td>False</td>\n      <td>False</td>\n      <td>False</td>\n      <td>...</td>\n      <td>False</td>\n      <td>False</td>\n      <td>False</td>\n      <td>False</td>\n      <td>True</td>\n      <td>False</td>\n      <td>False</td>\n      <td>False</td>\n      <td>Blockchain*</td>\n      <td>blockchain</td>\n    </tr>\n  </tbody>\n</table>\n<p>90705 rows × 33 columns</p>\n</div>"
     },
     "execution_count": 23,
     "metadata": {},
     "output_type": "execute_result"
    }
   ],
   "source": [
    "res['reg'] = res['TXT'].map(keyword_regex)\n",
    "res['cat'] = res['TXT'].map(keyword_cat)\n",
    "res"
   ],
   "metadata": {
    "collapsed": false
   }
  },
  {
   "cell_type": "code",
   "execution_count": 24,
   "outputs": [],
   "source": [
    "# Check for NAN in reg column\n",
    "no_keywords = res[res.reg.isna()]\n",
    "\n",
    "# fill cat for NAN values\n",
    "no_keywords = no_keywords[lst_dt]\n",
    "no_keywords = no_keywords.idxmax(1).to_frame(\"DT\")\n",
    "res.loc[no_keywords.index, 'cat'] = no_keywords\n"
   ],
   "metadata": {
    "collapsed": false
   }
  },
  {
   "cell_type": "code",
   "execution_count": 25,
   "outputs": [
    {
     "data": {
      "text/plain": "                                                                    AB  \\\nUT                                                                       \nWOS:000208168800004  In the context of civil rights law, discrimina...   \nWOS:000208392700003  Early forecasting of future drought conditions...   \nWOS:000208392700003  Early forecasting of future drought conditions...   \nWOS:000208401500003  Tam Dao National Park (TDNP) is a remaining pr...   \nWOS:000208401600008  The expansion of cities entails the abandonmen...   \n...                                                                ...   \nWOS:000864849700009  Urbanization increases human mobility in ways ...   \nWOS:000865951200001  In Japan, the number of emergency patients and...   \nWOS:000866319200015  We propose a framework for building Nakamoto-s...   \nWOS:000866319200015  We propose a framework for building Nakamoto-s...   \nWOS:000866319200015  We propose a framework for building Nakamoto-s...   \n\n                                      TXT  \\\nUT                                          \nWOS:000208168800004          data mining    \nWOS:000208392700003        neural network   \nWOS:000208392700003       neural networks   \nWOS:000208401500003        neural network   \nWOS:000208401600008  image classification   \n...                                   ...   \nWOS:000864849700009      machine learning   \nWOS:000865951200001      machine learning   \nWOS:000866319200015            blockchain   \nWOS:000866319200015               bitcoin   \nWOS:000866319200015           blockchains   \n\n                                                                    DE  \\\nUT                                                                       \nWOS:000208168800004               Discrimination; classification rules   \nWOS:000208392700003  aggregated drought index; artificial neural ne...   \nWOS:000208392700003  aggregated drought index; artificial neural ne...   \nWOS:000208401500003  multi-layer perceptron neural network; Markov ...   \nWOS:000208401600008  object-oriented image classification; change d...   \n...                                                                ...   \nWOS:000864849700009  human mobility; schistosomiasis; travel; water...   \nWOS:000865951200001  WBGT; risk rank for heat illness; autoregressi...   \nWOS:000866319200015  Blockchain; Proof of work; Chain-selection rul...   \nWOS:000866319200015  Blockchain; Proof of work; Chain-selection rul...   \nWOS:000866319200015  Blockchain; Proof of work; Chain-selection rul...   \n\n                                                                    TI  \\\nUT                                                                       \nWOS:000208168800004           Data Mining for Discrimination Discovery   \nWOS:000208392700003  Drought forecasting using an aggregated drough...   \nWOS:000208392700003  Drought forecasting using an aggregated drough...   \nWOS:000208401500003  Forecasting Areas Vulnerable to Forest Convers...   \nWOS:000208401600008  Analysis and Modeling of Urban Land Cover Chan...   \n...                                                                ...   \nWOS:000864849700009  Human Mobility Associated With Risk of Schisto...   \nWOS:000865951200001  Application of Machine Learning to the Predict...   \nWOS:000866319200015            Weight-Based Nakamoto-Style Blockchains   \nWOS:000866319200015            Weight-Based Nakamoto-Style Blockchains   \nWOS:000866319200015            Weight-Based Nakamoto-Style Blockchains   \n\n                          Neg       Neu       Pos   SDG1   SDG2   SDG3  ...  \\\nUT                                                                      ...   \nWOS:000208168800004  0.049513  0.771567  0.178920  False  False  False  ...   \nWOS:000208392700003  0.031430  0.328297  0.640273  False  False  False  ...   \nWOS:000208392700003  0.033301  0.345688  0.621011  False  False  False  ...   \nWOS:000208401500003  0.180062  0.390391  0.429546  False  False  False  ...   \nWOS:000208401600008  0.052280  0.342819  0.604901  False  False  False  ...   \n...                       ...       ...       ...    ...    ...    ...  ...   \nWOS:000864849700009  0.052350  0.422497  0.525152  False  False  False  ...   \nWOS:000865951200001  0.104681  0.566868  0.328451  False  False  False  ...   \nWOS:000866319200015  0.005316  0.168137  0.826547  False  False  False  ...   \nWOS:000866319200015  0.008139  0.282015  0.709847  False  False  False  ...   \nWOS:000866319200015  0.005563  0.204665  0.789772  False  False  False  ...   \n\n                     SDG17  additive_manufacturing     AI  big_data  \\\nUT                                                                    \nWOS:000208168800004  False                   False   True     False   \nWOS:000208392700003  False                   False   True     False   \nWOS:000208392700003  False                   False   True     False   \nWOS:000208401500003  False                   False   True     False   \nWOS:000208401600008  False                   False   True     False   \n...                    ...                     ...    ...       ...   \nWOS:000864849700009  False                   False   True     False   \nWOS:000865951200001  False                   False   True     False   \nWOS:000866319200015  False                   False  False     False   \nWOS:000866319200015  False                   False  False     False   \nWOS:000866319200015  False                   False  False     False   \n\n                     blockchain  computing_infrastructure    IOT  robotics  \\\nUT                                                                           \nWOS:000208168800004       False                     False  False     False   \nWOS:000208392700003       False                     False  False     False   \nWOS:000208392700003       False                     False  False     False   \nWOS:000208401500003       False                     False  False     False   \nWOS:000208401600008       False                     False  False     False   \n...                         ...                       ...    ...       ...   \nWOS:000864849700009       False                     False  False     False   \nWOS:000865951200001       False                     False  False     False   \nWOS:000866319200015        True                     False  False     False   \nWOS:000866319200015        True                     False  False     False   \nWOS:000866319200015        True                     False  False     False   \n\n                                      reg         cat  \nUT                                                     \nWOS:000208168800004          Data mining           AI  \nWOS:000208392700003           Neural net*          AI  \nWOS:000208392700003           Neural net*          AI  \nWOS:000208401500003           Neural net*          AI  \nWOS:000208401600008  Image classification          AI  \n...                                   ...         ...  \nWOS:000864849700009      Machine learning          AI  \nWOS:000865951200001      Machine learning          AI  \nWOS:000866319200015           Blockchain*  blockchain  \nWOS:000866319200015               Bitcoin  blockchain  \nWOS:000866319200015           Blockchain*  blockchain  \n\n[90705 rows x 33 columns]",
      "text/html": "<div>\n<style scoped>\n    .dataframe tbody tr th:only-of-type {\n        vertical-align: middle;\n    }\n\n    .dataframe tbody tr th {\n        vertical-align: top;\n    }\n\n    .dataframe thead th {\n        text-align: right;\n    }\n</style>\n<table border=\"1\" class=\"dataframe\">\n  <thead>\n    <tr style=\"text-align: right;\">\n      <th></th>\n      <th>AB</th>\n      <th>TXT</th>\n      <th>DE</th>\n      <th>TI</th>\n      <th>Neg</th>\n      <th>Neu</th>\n      <th>Pos</th>\n      <th>SDG1</th>\n      <th>SDG2</th>\n      <th>SDG3</th>\n      <th>...</th>\n      <th>SDG17</th>\n      <th>additive_manufacturing</th>\n      <th>AI</th>\n      <th>big_data</th>\n      <th>blockchain</th>\n      <th>computing_infrastructure</th>\n      <th>IOT</th>\n      <th>robotics</th>\n      <th>reg</th>\n      <th>cat</th>\n    </tr>\n    <tr>\n      <th>UT</th>\n      <th></th>\n      <th></th>\n      <th></th>\n      <th></th>\n      <th></th>\n      <th></th>\n      <th></th>\n      <th></th>\n      <th></th>\n      <th></th>\n      <th></th>\n      <th></th>\n      <th></th>\n      <th></th>\n      <th></th>\n      <th></th>\n      <th></th>\n      <th></th>\n      <th></th>\n      <th></th>\n      <th></th>\n    </tr>\n  </thead>\n  <tbody>\n    <tr>\n      <th>WOS:000208168800004</th>\n      <td>In the context of civil rights law, discrimina...</td>\n      <td>data mining</td>\n      <td>Discrimination; classification rules</td>\n      <td>Data Mining for Discrimination Discovery</td>\n      <td>0.049513</td>\n      <td>0.771567</td>\n      <td>0.178920</td>\n      <td>False</td>\n      <td>False</td>\n      <td>False</td>\n      <td>...</td>\n      <td>False</td>\n      <td>False</td>\n      <td>True</td>\n      <td>False</td>\n      <td>False</td>\n      <td>False</td>\n      <td>False</td>\n      <td>False</td>\n      <td>Data mining</td>\n      <td>AI</td>\n    </tr>\n    <tr>\n      <th>WOS:000208392700003</th>\n      <td>Early forecasting of future drought conditions...</td>\n      <td>neural network</td>\n      <td>aggregated drought index; artificial neural ne...</td>\n      <td>Drought forecasting using an aggregated drough...</td>\n      <td>0.031430</td>\n      <td>0.328297</td>\n      <td>0.640273</td>\n      <td>False</td>\n      <td>False</td>\n      <td>False</td>\n      <td>...</td>\n      <td>False</td>\n      <td>False</td>\n      <td>True</td>\n      <td>False</td>\n      <td>False</td>\n      <td>False</td>\n      <td>False</td>\n      <td>False</td>\n      <td>Neural net*</td>\n      <td>AI</td>\n    </tr>\n    <tr>\n      <th>WOS:000208392700003</th>\n      <td>Early forecasting of future drought conditions...</td>\n      <td>neural networks</td>\n      <td>aggregated drought index; artificial neural ne...</td>\n      <td>Drought forecasting using an aggregated drough...</td>\n      <td>0.033301</td>\n      <td>0.345688</td>\n      <td>0.621011</td>\n      <td>False</td>\n      <td>False</td>\n      <td>False</td>\n      <td>...</td>\n      <td>False</td>\n      <td>False</td>\n      <td>True</td>\n      <td>False</td>\n      <td>False</td>\n      <td>False</td>\n      <td>False</td>\n      <td>False</td>\n      <td>Neural net*</td>\n      <td>AI</td>\n    </tr>\n    <tr>\n      <th>WOS:000208401500003</th>\n      <td>Tam Dao National Park (TDNP) is a remaining pr...</td>\n      <td>neural network</td>\n      <td>multi-layer perceptron neural network; Markov ...</td>\n      <td>Forecasting Areas Vulnerable to Forest Convers...</td>\n      <td>0.180062</td>\n      <td>0.390391</td>\n      <td>0.429546</td>\n      <td>False</td>\n      <td>False</td>\n      <td>False</td>\n      <td>...</td>\n      <td>False</td>\n      <td>False</td>\n      <td>True</td>\n      <td>False</td>\n      <td>False</td>\n      <td>False</td>\n      <td>False</td>\n      <td>False</td>\n      <td>Neural net*</td>\n      <td>AI</td>\n    </tr>\n    <tr>\n      <th>WOS:000208401600008</th>\n      <td>The expansion of cities entails the abandonmen...</td>\n      <td>image classification</td>\n      <td>object-oriented image classification; change d...</td>\n      <td>Analysis and Modeling of Urban Land Cover Chan...</td>\n      <td>0.052280</td>\n      <td>0.342819</td>\n      <td>0.604901</td>\n      <td>False</td>\n      <td>False</td>\n      <td>False</td>\n      <td>...</td>\n      <td>False</td>\n      <td>False</td>\n      <td>True</td>\n      <td>False</td>\n      <td>False</td>\n      <td>False</td>\n      <td>False</td>\n      <td>False</td>\n      <td>Image classification</td>\n      <td>AI</td>\n    </tr>\n    <tr>\n      <th>...</th>\n      <td>...</td>\n      <td>...</td>\n      <td>...</td>\n      <td>...</td>\n      <td>...</td>\n      <td>...</td>\n      <td>...</td>\n      <td>...</td>\n      <td>...</td>\n      <td>...</td>\n      <td>...</td>\n      <td>...</td>\n      <td>...</td>\n      <td>...</td>\n      <td>...</td>\n      <td>...</td>\n      <td>...</td>\n      <td>...</td>\n      <td>...</td>\n      <td>...</td>\n      <td>...</td>\n    </tr>\n    <tr>\n      <th>WOS:000864849700009</th>\n      <td>Urbanization increases human mobility in ways ...</td>\n      <td>machine learning</td>\n      <td>human mobility; schistosomiasis; travel; water...</td>\n      <td>Human Mobility Associated With Risk of Schisto...</td>\n      <td>0.052350</td>\n      <td>0.422497</td>\n      <td>0.525152</td>\n      <td>False</td>\n      <td>False</td>\n      <td>False</td>\n      <td>...</td>\n      <td>False</td>\n      <td>False</td>\n      <td>True</td>\n      <td>False</td>\n      <td>False</td>\n      <td>False</td>\n      <td>False</td>\n      <td>False</td>\n      <td>Machine learning</td>\n      <td>AI</td>\n    </tr>\n    <tr>\n      <th>WOS:000865951200001</th>\n      <td>In Japan, the number of emergency patients and...</td>\n      <td>machine learning</td>\n      <td>WBGT; risk rank for heat illness; autoregressi...</td>\n      <td>Application of Machine Learning to the Predict...</td>\n      <td>0.104681</td>\n      <td>0.566868</td>\n      <td>0.328451</td>\n      <td>False</td>\n      <td>False</td>\n      <td>False</td>\n      <td>...</td>\n      <td>False</td>\n      <td>False</td>\n      <td>True</td>\n      <td>False</td>\n      <td>False</td>\n      <td>False</td>\n      <td>False</td>\n      <td>False</td>\n      <td>Machine learning</td>\n      <td>AI</td>\n    </tr>\n    <tr>\n      <th>WOS:000866319200015</th>\n      <td>We propose a framework for building Nakamoto-s...</td>\n      <td>blockchain</td>\n      <td>Blockchain; Proof of work; Chain-selection rul...</td>\n      <td>Weight-Based Nakamoto-Style Blockchains</td>\n      <td>0.005316</td>\n      <td>0.168137</td>\n      <td>0.826547</td>\n      <td>False</td>\n      <td>False</td>\n      <td>False</td>\n      <td>...</td>\n      <td>False</td>\n      <td>False</td>\n      <td>False</td>\n      <td>False</td>\n      <td>True</td>\n      <td>False</td>\n      <td>False</td>\n      <td>False</td>\n      <td>Blockchain*</td>\n      <td>blockchain</td>\n    </tr>\n    <tr>\n      <th>WOS:000866319200015</th>\n      <td>We propose a framework for building Nakamoto-s...</td>\n      <td>bitcoin</td>\n      <td>Blockchain; Proof of work; Chain-selection rul...</td>\n      <td>Weight-Based Nakamoto-Style Blockchains</td>\n      <td>0.008139</td>\n      <td>0.282015</td>\n      <td>0.709847</td>\n      <td>False</td>\n      <td>False</td>\n      <td>False</td>\n      <td>...</td>\n      <td>False</td>\n      <td>False</td>\n      <td>False</td>\n      <td>False</td>\n      <td>True</td>\n      <td>False</td>\n      <td>False</td>\n      <td>False</td>\n      <td>Bitcoin</td>\n      <td>blockchain</td>\n    </tr>\n    <tr>\n      <th>WOS:000866319200015</th>\n      <td>We propose a framework for building Nakamoto-s...</td>\n      <td>blockchains</td>\n      <td>Blockchain; Proof of work; Chain-selection rul...</td>\n      <td>Weight-Based Nakamoto-Style Blockchains</td>\n      <td>0.005563</td>\n      <td>0.204665</td>\n      <td>0.789772</td>\n      <td>False</td>\n      <td>False</td>\n      <td>False</td>\n      <td>...</td>\n      <td>False</td>\n      <td>False</td>\n      <td>False</td>\n      <td>False</td>\n      <td>True</td>\n      <td>False</td>\n      <td>False</td>\n      <td>False</td>\n      <td>Blockchain*</td>\n      <td>blockchain</td>\n    </tr>\n  </tbody>\n</table>\n<p>90705 rows × 33 columns</p>\n</div>"
     },
     "execution_count": 25,
     "metadata": {},
     "output_type": "execute_result"
    }
   ],
   "source": [
    "res"
   ],
   "metadata": {
    "collapsed": false
   }
  },
  {
   "cell_type": "code",
   "execution_count": 16,
   "outputs": [],
   "source": [
    "# res.to_csv(\"../results/intersection_exploded_with_sentiments.csv\", sep='\\t')"
   ],
   "metadata": {
    "collapsed": false
   }
  },
  {
   "cell_type": "code",
   "execution_count": 134,
   "outputs": [
    {
     "name": "stderr",
     "output_type": "stream",
     "text": [
      "/tmp/ipykernel_5550/2850994131.py:3: FutureWarning: Indexing with multiple keys (implicitly converted to a tuple of keys) will be deprecated, use a list instead.\n",
      "  std = res[res[sdg]].groupby('reg')['Neg', 'Neu', 'Pos'].std().rename(columns={\"Neg\":\"std-neg\", \"Neu\":\"std-neu\", \"Pos\":\"std-pos\"})\n",
      "/tmp/ipykernel_5550/2850994131.py:4: FutureWarning: Indexing with multiple keys (implicitly converted to a tuple of keys) will be deprecated, use a list instead.\n",
      "  mean = res[res[sdg]].groupby('reg')['Neg', 'Neu', 'Pos'].mean().rename(columns={\"Neg\":\"avg-neg\", \"Neu\":\"avg-neu\", \"Pos\":\"avg-pos\"})\n",
      "/tmp/ipykernel_5550/2850994131.py:3: FutureWarning: Indexing with multiple keys (implicitly converted to a tuple of keys) will be deprecated, use a list instead.\n",
      "  std = res[res[sdg]].groupby('reg')['Neg', 'Neu', 'Pos'].std().rename(columns={\"Neg\":\"std-neg\", \"Neu\":\"std-neu\", \"Pos\":\"std-pos\"})\n",
      "/tmp/ipykernel_5550/2850994131.py:4: FutureWarning: Indexing with multiple keys (implicitly converted to a tuple of keys) will be deprecated, use a list instead.\n",
      "  mean = res[res[sdg]].groupby('reg')['Neg', 'Neu', 'Pos'].mean().rename(columns={\"Neg\":\"avg-neg\", \"Neu\":\"avg-neu\", \"Pos\":\"avg-pos\"})\n",
      "/tmp/ipykernel_5550/2850994131.py:3: FutureWarning: Indexing with multiple keys (implicitly converted to a tuple of keys) will be deprecated, use a list instead.\n",
      "  std = res[res[sdg]].groupby('reg')['Neg', 'Neu', 'Pos'].std().rename(columns={\"Neg\":\"std-neg\", \"Neu\":\"std-neu\", \"Pos\":\"std-pos\"})\n",
      "/tmp/ipykernel_5550/2850994131.py:4: FutureWarning: Indexing with multiple keys (implicitly converted to a tuple of keys) will be deprecated, use a list instead.\n",
      "  mean = res[res[sdg]].groupby('reg')['Neg', 'Neu', 'Pos'].mean().rename(columns={\"Neg\":\"avg-neg\", \"Neu\":\"avg-neu\", \"Pos\":\"avg-pos\"})\n",
      "/tmp/ipykernel_5550/2850994131.py:3: FutureWarning: Indexing with multiple keys (implicitly converted to a tuple of keys) will be deprecated, use a list instead.\n",
      "  std = res[res[sdg]].groupby('reg')['Neg', 'Neu', 'Pos'].std().rename(columns={\"Neg\":\"std-neg\", \"Neu\":\"std-neu\", \"Pos\":\"std-pos\"})\n",
      "/tmp/ipykernel_5550/2850994131.py:4: FutureWarning: Indexing with multiple keys (implicitly converted to a tuple of keys) will be deprecated, use a list instead.\n",
      "  mean = res[res[sdg]].groupby('reg')['Neg', 'Neu', 'Pos'].mean().rename(columns={\"Neg\":\"avg-neg\", \"Neu\":\"avg-neu\", \"Pos\":\"avg-pos\"})\n",
      "/tmp/ipykernel_5550/2850994131.py:3: FutureWarning: Indexing with multiple keys (implicitly converted to a tuple of keys) will be deprecated, use a list instead.\n",
      "  std = res[res[sdg]].groupby('reg')['Neg', 'Neu', 'Pos'].std().rename(columns={\"Neg\":\"std-neg\", \"Neu\":\"std-neu\", \"Pos\":\"std-pos\"})\n",
      "/tmp/ipykernel_5550/2850994131.py:4: FutureWarning: Indexing with multiple keys (implicitly converted to a tuple of keys) will be deprecated, use a list instead.\n",
      "  mean = res[res[sdg]].groupby('reg')['Neg', 'Neu', 'Pos'].mean().rename(columns={\"Neg\":\"avg-neg\", \"Neu\":\"avg-neu\", \"Pos\":\"avg-pos\"})\n",
      "/tmp/ipykernel_5550/2850994131.py:3: FutureWarning: Indexing with multiple keys (implicitly converted to a tuple of keys) will be deprecated, use a list instead.\n",
      "  std = res[res[sdg]].groupby('reg')['Neg', 'Neu', 'Pos'].std().rename(columns={\"Neg\":\"std-neg\", \"Neu\":\"std-neu\", \"Pos\":\"std-pos\"})\n",
      "/tmp/ipykernel_5550/2850994131.py:4: FutureWarning: Indexing with multiple keys (implicitly converted to a tuple of keys) will be deprecated, use a list instead.\n",
      "  mean = res[res[sdg]].groupby('reg')['Neg', 'Neu', 'Pos'].mean().rename(columns={\"Neg\":\"avg-neg\", \"Neu\":\"avg-neu\", \"Pos\":\"avg-pos\"})\n",
      "/tmp/ipykernel_5550/2850994131.py:3: FutureWarning: Indexing with multiple keys (implicitly converted to a tuple of keys) will be deprecated, use a list instead.\n",
      "  std = res[res[sdg]].groupby('reg')['Neg', 'Neu', 'Pos'].std().rename(columns={\"Neg\":\"std-neg\", \"Neu\":\"std-neu\", \"Pos\":\"std-pos\"})\n",
      "/tmp/ipykernel_5550/2850994131.py:4: FutureWarning: Indexing with multiple keys (implicitly converted to a tuple of keys) will be deprecated, use a list instead.\n",
      "  mean = res[res[sdg]].groupby('reg')['Neg', 'Neu', 'Pos'].mean().rename(columns={\"Neg\":\"avg-neg\", \"Neu\":\"avg-neu\", \"Pos\":\"avg-pos\"})\n",
      "/tmp/ipykernel_5550/2850994131.py:3: FutureWarning: Indexing with multiple keys (implicitly converted to a tuple of keys) will be deprecated, use a list instead.\n",
      "  std = res[res[sdg]].groupby('reg')['Neg', 'Neu', 'Pos'].std().rename(columns={\"Neg\":\"std-neg\", \"Neu\":\"std-neu\", \"Pos\":\"std-pos\"})\n",
      "/tmp/ipykernel_5550/2850994131.py:4: FutureWarning: Indexing with multiple keys (implicitly converted to a tuple of keys) will be deprecated, use a list instead.\n",
      "  mean = res[res[sdg]].groupby('reg')['Neg', 'Neu', 'Pos'].mean().rename(columns={\"Neg\":\"avg-neg\", \"Neu\":\"avg-neu\", \"Pos\":\"avg-pos\"})\n",
      "/tmp/ipykernel_5550/2850994131.py:3: FutureWarning: Indexing with multiple keys (implicitly converted to a tuple of keys) will be deprecated, use a list instead.\n",
      "  std = res[res[sdg]].groupby('reg')['Neg', 'Neu', 'Pos'].std().rename(columns={\"Neg\":\"std-neg\", \"Neu\":\"std-neu\", \"Pos\":\"std-pos\"})\n",
      "/tmp/ipykernel_5550/2850994131.py:4: FutureWarning: Indexing with multiple keys (implicitly converted to a tuple of keys) will be deprecated, use a list instead.\n",
      "  mean = res[res[sdg]].groupby('reg')['Neg', 'Neu', 'Pos'].mean().rename(columns={\"Neg\":\"avg-neg\", \"Neu\":\"avg-neu\", \"Pos\":\"avg-pos\"})\n",
      "/tmp/ipykernel_5550/2850994131.py:3: FutureWarning: Indexing with multiple keys (implicitly converted to a tuple of keys) will be deprecated, use a list instead.\n",
      "  std = res[res[sdg]].groupby('reg')['Neg', 'Neu', 'Pos'].std().rename(columns={\"Neg\":\"std-neg\", \"Neu\":\"std-neu\", \"Pos\":\"std-pos\"})\n",
      "/tmp/ipykernel_5550/2850994131.py:4: FutureWarning: Indexing with multiple keys (implicitly converted to a tuple of keys) will be deprecated, use a list instead.\n",
      "  mean = res[res[sdg]].groupby('reg')['Neg', 'Neu', 'Pos'].mean().rename(columns={\"Neg\":\"avg-neg\", \"Neu\":\"avg-neu\", \"Pos\":\"avg-pos\"})\n",
      "/tmp/ipykernel_5550/2850994131.py:3: FutureWarning: Indexing with multiple keys (implicitly converted to a tuple of keys) will be deprecated, use a list instead.\n",
      "  std = res[res[sdg]].groupby('reg')['Neg', 'Neu', 'Pos'].std().rename(columns={\"Neg\":\"std-neg\", \"Neu\":\"std-neu\", \"Pos\":\"std-pos\"})\n",
      "/tmp/ipykernel_5550/2850994131.py:4: FutureWarning: Indexing with multiple keys (implicitly converted to a tuple of keys) will be deprecated, use a list instead.\n",
      "  mean = res[res[sdg]].groupby('reg')['Neg', 'Neu', 'Pos'].mean().rename(columns={\"Neg\":\"avg-neg\", \"Neu\":\"avg-neu\", \"Pos\":\"avg-pos\"})\n",
      "/tmp/ipykernel_5550/2850994131.py:3: FutureWarning: Indexing with multiple keys (implicitly converted to a tuple of keys) will be deprecated, use a list instead.\n",
      "  std = res[res[sdg]].groupby('reg')['Neg', 'Neu', 'Pos'].std().rename(columns={\"Neg\":\"std-neg\", \"Neu\":\"std-neu\", \"Pos\":\"std-pos\"})\n",
      "/tmp/ipykernel_5550/2850994131.py:4: FutureWarning: Indexing with multiple keys (implicitly converted to a tuple of keys) will be deprecated, use a list instead.\n",
      "  mean = res[res[sdg]].groupby('reg')['Neg', 'Neu', 'Pos'].mean().rename(columns={\"Neg\":\"avg-neg\", \"Neu\":\"avg-neu\", \"Pos\":\"avg-pos\"})\n",
      "/tmp/ipykernel_5550/2850994131.py:3: FutureWarning: Indexing with multiple keys (implicitly converted to a tuple of keys) will be deprecated, use a list instead.\n",
      "  std = res[res[sdg]].groupby('reg')['Neg', 'Neu', 'Pos'].std().rename(columns={\"Neg\":\"std-neg\", \"Neu\":\"std-neu\", \"Pos\":\"std-pos\"})\n",
      "/tmp/ipykernel_5550/2850994131.py:4: FutureWarning: Indexing with multiple keys (implicitly converted to a tuple of keys) will be deprecated, use a list instead.\n",
      "  mean = res[res[sdg]].groupby('reg')['Neg', 'Neu', 'Pos'].mean().rename(columns={\"Neg\":\"avg-neg\", \"Neu\":\"avg-neu\", \"Pos\":\"avg-pos\"})\n",
      "/tmp/ipykernel_5550/2850994131.py:3: FutureWarning: Indexing with multiple keys (implicitly converted to a tuple of keys) will be deprecated, use a list instead.\n",
      "  std = res[res[sdg]].groupby('reg')['Neg', 'Neu', 'Pos'].std().rename(columns={\"Neg\":\"std-neg\", \"Neu\":\"std-neu\", \"Pos\":\"std-pos\"})\n",
      "/tmp/ipykernel_5550/2850994131.py:4: FutureWarning: Indexing with multiple keys (implicitly converted to a tuple of keys) will be deprecated, use a list instead.\n",
      "  mean = res[res[sdg]].groupby('reg')['Neg', 'Neu', 'Pos'].mean().rename(columns={\"Neg\":\"avg-neg\", \"Neu\":\"avg-neu\", \"Pos\":\"avg-pos\"})\n",
      "/tmp/ipykernel_5550/2850994131.py:3: FutureWarning: Indexing with multiple keys (implicitly converted to a tuple of keys) will be deprecated, use a list instead.\n",
      "  std = res[res[sdg]].groupby('reg')['Neg', 'Neu', 'Pos'].std().rename(columns={\"Neg\":\"std-neg\", \"Neu\":\"std-neu\", \"Pos\":\"std-pos\"})\n",
      "/tmp/ipykernel_5550/2850994131.py:4: FutureWarning: Indexing with multiple keys (implicitly converted to a tuple of keys) will be deprecated, use a list instead.\n",
      "  mean = res[res[sdg]].groupby('reg')['Neg', 'Neu', 'Pos'].mean().rename(columns={\"Neg\":\"avg-neg\", \"Neu\":\"avg-neu\", \"Pos\":\"avg-pos\"})\n",
      "/tmp/ipykernel_5550/2850994131.py:3: FutureWarning: Indexing with multiple keys (implicitly converted to a tuple of keys) will be deprecated, use a list instead.\n",
      "  std = res[res[sdg]].groupby('reg')['Neg', 'Neu', 'Pos'].std().rename(columns={\"Neg\":\"std-neg\", \"Neu\":\"std-neu\", \"Pos\":\"std-pos\"})\n",
      "/tmp/ipykernel_5550/2850994131.py:4: FutureWarning: Indexing with multiple keys (implicitly converted to a tuple of keys) will be deprecated, use a list instead.\n",
      "  mean = res[res[sdg]].groupby('reg')['Neg', 'Neu', 'Pos'].mean().rename(columns={\"Neg\":\"avg-neg\", \"Neu\":\"avg-neu\", \"Pos\":\"avg-pos\"})\n",
      "/tmp/ipykernel_5550/2850994131.py:3: FutureWarning: Indexing with multiple keys (implicitly converted to a tuple of keys) will be deprecated, use a list instead.\n",
      "  std = res[res[sdg]].groupby('reg')['Neg', 'Neu', 'Pos'].std().rename(columns={\"Neg\":\"std-neg\", \"Neu\":\"std-neu\", \"Pos\":\"std-pos\"})\n",
      "/tmp/ipykernel_5550/2850994131.py:4: FutureWarning: Indexing with multiple keys (implicitly converted to a tuple of keys) will be deprecated, use a list instead.\n",
      "  mean = res[res[sdg]].groupby('reg')['Neg', 'Neu', 'Pos'].mean().rename(columns={\"Neg\":\"avg-neg\", \"Neu\":\"avg-neu\", \"Pos\":\"avg-pos\"})\n",
      "/tmp/ipykernel_5550/2850994131.py:10: FutureWarning: Indexing with multiple keys (implicitly converted to a tuple of keys) will be deprecated, use a list instead.\n",
      "  std = res.groupby('reg')['Neg', 'Neu', 'Pos'].std().rename(columns={\"Neg\":\"std-neg\", \"Neu\":\"std-neu\", \"Pos\":\"std-pos\"})\n",
      "/tmp/ipykernel_5550/2850994131.py:11: FutureWarning: Indexing with multiple keys (implicitly converted to a tuple of keys) will be deprecated, use a list instead.\n",
      "  mean = res.groupby('reg')['Neg', 'Neu', 'Pos'].mean().rename(columns={\"Neg\":\"avg-neg\", \"Neu\":\"avg-neu\", \"Pos\":\"avg-pos\"})\n"
     ]
    }
   ],
   "source": [
    "# Keyword LEVEL\n",
    "dic_df = {}\n",
    "for sdg in lst_sdg:\n",
    "    std = res[res[sdg]].groupby('reg')['Neg', 'Neu', 'Pos'].std().rename(columns={\"Neg\":\"std-neg\", \"Neu\":\"std-neu\", \"Pos\":\"std-pos\"})\n",
    "    mean = res[res[sdg]].groupby('reg')['Neg', 'Neu', 'Pos'].mean().rename(columns={\"Neg\":\"avg-neg\", \"Neu\":\"avg-neu\", \"Pos\":\"avg-pos\"})\n",
    "    nb = res[res[sdg]].groupby('reg')['Neg'].count().rename('tot')\n",
    "    tot = pd.concat([mean, std, nb], axis=1).round(2)\n",
    "    tot['cat'] = tot.index.to_series().map(reg_cat)\n",
    "    dic_df[sdg] = tot\n",
    "\n",
    "std = res.groupby('reg')['Neg', 'Neu', 'Pos'].std().rename(columns={\"Neg\":\"std-neg\", \"Neu\":\"std-neu\", \"Pos\":\"std-pos\"})\n",
    "mean = res.groupby('reg')['Neg', 'Neu', 'Pos'].mean().rename(columns={\"Neg\":\"avg-neg\", \"Neu\":\"avg-neu\", \"Pos\":\"avg-pos\"})\n",
    "nb = res.groupby('reg')['Neg'].count().rename('tot')\n",
    "tot = pd.concat([mean, std, nb], axis=1).round(2)\n",
    "tot['cat'] = tot.index.to_series().map(reg_cat)\n",
    "dic_df[\"all\"] = tot\n",
    "\n",
    "with pd.ExcelWriter('../results/mean_std_for_keywords.xlsx') as writer:\n",
    "    for sdg, df in dic_df.items():\n",
    "        df.to_excel(writer, sheet_name=str(sdg))"
   ],
   "metadata": {
    "collapsed": false
   }
  },
  {
   "cell_type": "code",
   "execution_count": 33,
   "outputs": [
    {
     "name": "stderr",
     "output_type": "stream",
     "text": [
      "/tmp/ipykernel_5165/1936501698.py:4: FutureWarning: Indexing with multiple keys (implicitly converted to a tuple of keys) will be deprecated, use a list instead.\n",
      "  std = res[res[sdg]].groupby('cat')['Neg', 'Neu', 'Pos'].std().rename(columns={\"Neg\":\"std-neg\", \"Neu\":\"std-neu\", \"Pos\":\"std-pos\"})\n",
      "/tmp/ipykernel_5165/1936501698.py:5: FutureWarning: Indexing with multiple keys (implicitly converted to a tuple of keys) will be deprecated, use a list instead.\n",
      "  mean = res[res[sdg]].groupby('cat')['Neg', 'Neu', 'Pos'].mean().rename(columns={\"Neg\":\"avg-neg\", \"Neu\":\"avg-neu\", \"Pos\":\"avg-pos\"})\n",
      "/tmp/ipykernel_5165/1936501698.py:4: FutureWarning: Indexing with multiple keys (implicitly converted to a tuple of keys) will be deprecated, use a list instead.\n",
      "  std = res[res[sdg]].groupby('cat')['Neg', 'Neu', 'Pos'].std().rename(columns={\"Neg\":\"std-neg\", \"Neu\":\"std-neu\", \"Pos\":\"std-pos\"})\n",
      "/tmp/ipykernel_5165/1936501698.py:5: FutureWarning: Indexing with multiple keys (implicitly converted to a tuple of keys) will be deprecated, use a list instead.\n",
      "  mean = res[res[sdg]].groupby('cat')['Neg', 'Neu', 'Pos'].mean().rename(columns={\"Neg\":\"avg-neg\", \"Neu\":\"avg-neu\", \"Pos\":\"avg-pos\"})\n",
      "/tmp/ipykernel_5165/1936501698.py:4: FutureWarning: Indexing with multiple keys (implicitly converted to a tuple of keys) will be deprecated, use a list instead.\n",
      "  std = res[res[sdg]].groupby('cat')['Neg', 'Neu', 'Pos'].std().rename(columns={\"Neg\":\"std-neg\", \"Neu\":\"std-neu\", \"Pos\":\"std-pos\"})\n",
      "/tmp/ipykernel_5165/1936501698.py:5: FutureWarning: Indexing with multiple keys (implicitly converted to a tuple of keys) will be deprecated, use a list instead.\n",
      "  mean = res[res[sdg]].groupby('cat')['Neg', 'Neu', 'Pos'].mean().rename(columns={\"Neg\":\"avg-neg\", \"Neu\":\"avg-neu\", \"Pos\":\"avg-pos\"})\n",
      "/tmp/ipykernel_5165/1936501698.py:4: FutureWarning: Indexing with multiple keys (implicitly converted to a tuple of keys) will be deprecated, use a list instead.\n",
      "  std = res[res[sdg]].groupby('cat')['Neg', 'Neu', 'Pos'].std().rename(columns={\"Neg\":\"std-neg\", \"Neu\":\"std-neu\", \"Pos\":\"std-pos\"})\n",
      "/tmp/ipykernel_5165/1936501698.py:5: FutureWarning: Indexing with multiple keys (implicitly converted to a tuple of keys) will be deprecated, use a list instead.\n",
      "  mean = res[res[sdg]].groupby('cat')['Neg', 'Neu', 'Pos'].mean().rename(columns={\"Neg\":\"avg-neg\", \"Neu\":\"avg-neu\", \"Pos\":\"avg-pos\"})\n",
      "/tmp/ipykernel_5165/1936501698.py:4: FutureWarning: Indexing with multiple keys (implicitly converted to a tuple of keys) will be deprecated, use a list instead.\n",
      "  std = res[res[sdg]].groupby('cat')['Neg', 'Neu', 'Pos'].std().rename(columns={\"Neg\":\"std-neg\", \"Neu\":\"std-neu\", \"Pos\":\"std-pos\"})\n",
      "/tmp/ipykernel_5165/1936501698.py:5: FutureWarning: Indexing with multiple keys (implicitly converted to a tuple of keys) will be deprecated, use a list instead.\n",
      "  mean = res[res[sdg]].groupby('cat')['Neg', 'Neu', 'Pos'].mean().rename(columns={\"Neg\":\"avg-neg\", \"Neu\":\"avg-neu\", \"Pos\":\"avg-pos\"})\n",
      "/tmp/ipykernel_5165/1936501698.py:4: FutureWarning: Indexing with multiple keys (implicitly converted to a tuple of keys) will be deprecated, use a list instead.\n",
      "  std = res[res[sdg]].groupby('cat')['Neg', 'Neu', 'Pos'].std().rename(columns={\"Neg\":\"std-neg\", \"Neu\":\"std-neu\", \"Pos\":\"std-pos\"})\n",
      "/tmp/ipykernel_5165/1936501698.py:5: FutureWarning: Indexing with multiple keys (implicitly converted to a tuple of keys) will be deprecated, use a list instead.\n",
      "  mean = res[res[sdg]].groupby('cat')['Neg', 'Neu', 'Pos'].mean().rename(columns={\"Neg\":\"avg-neg\", \"Neu\":\"avg-neu\", \"Pos\":\"avg-pos\"})\n",
      "/tmp/ipykernel_5165/1936501698.py:4: FutureWarning: Indexing with multiple keys (implicitly converted to a tuple of keys) will be deprecated, use a list instead.\n",
      "  std = res[res[sdg]].groupby('cat')['Neg', 'Neu', 'Pos'].std().rename(columns={\"Neg\":\"std-neg\", \"Neu\":\"std-neu\", \"Pos\":\"std-pos\"})\n",
      "/tmp/ipykernel_5165/1936501698.py:5: FutureWarning: Indexing with multiple keys (implicitly converted to a tuple of keys) will be deprecated, use a list instead.\n",
      "  mean = res[res[sdg]].groupby('cat')['Neg', 'Neu', 'Pos'].mean().rename(columns={\"Neg\":\"avg-neg\", \"Neu\":\"avg-neu\", \"Pos\":\"avg-pos\"})\n",
      "/tmp/ipykernel_5165/1936501698.py:4: FutureWarning: Indexing with multiple keys (implicitly converted to a tuple of keys) will be deprecated, use a list instead.\n",
      "  std = res[res[sdg]].groupby('cat')['Neg', 'Neu', 'Pos'].std().rename(columns={\"Neg\":\"std-neg\", \"Neu\":\"std-neu\", \"Pos\":\"std-pos\"})\n",
      "/tmp/ipykernel_5165/1936501698.py:5: FutureWarning: Indexing with multiple keys (implicitly converted to a tuple of keys) will be deprecated, use a list instead.\n",
      "  mean = res[res[sdg]].groupby('cat')['Neg', 'Neu', 'Pos'].mean().rename(columns={\"Neg\":\"avg-neg\", \"Neu\":\"avg-neu\", \"Pos\":\"avg-pos\"})\n",
      "/tmp/ipykernel_5165/1936501698.py:4: FutureWarning: Indexing with multiple keys (implicitly converted to a tuple of keys) will be deprecated, use a list instead.\n",
      "  std = res[res[sdg]].groupby('cat')['Neg', 'Neu', 'Pos'].std().rename(columns={\"Neg\":\"std-neg\", \"Neu\":\"std-neu\", \"Pos\":\"std-pos\"})\n",
      "/tmp/ipykernel_5165/1936501698.py:5: FutureWarning: Indexing with multiple keys (implicitly converted to a tuple of keys) will be deprecated, use a list instead.\n",
      "  mean = res[res[sdg]].groupby('cat')['Neg', 'Neu', 'Pos'].mean().rename(columns={\"Neg\":\"avg-neg\", \"Neu\":\"avg-neu\", \"Pos\":\"avg-pos\"})\n",
      "/tmp/ipykernel_5165/1936501698.py:4: FutureWarning: Indexing with multiple keys (implicitly converted to a tuple of keys) will be deprecated, use a list instead.\n",
      "  std = res[res[sdg]].groupby('cat')['Neg', 'Neu', 'Pos'].std().rename(columns={\"Neg\":\"std-neg\", \"Neu\":\"std-neu\", \"Pos\":\"std-pos\"})\n",
      "/tmp/ipykernel_5165/1936501698.py:5: FutureWarning: Indexing with multiple keys (implicitly converted to a tuple of keys) will be deprecated, use a list instead.\n",
      "  mean = res[res[sdg]].groupby('cat')['Neg', 'Neu', 'Pos'].mean().rename(columns={\"Neg\":\"avg-neg\", \"Neu\":\"avg-neu\", \"Pos\":\"avg-pos\"})\n",
      "/tmp/ipykernel_5165/1936501698.py:4: FutureWarning: Indexing with multiple keys (implicitly converted to a tuple of keys) will be deprecated, use a list instead.\n",
      "  std = res[res[sdg]].groupby('cat')['Neg', 'Neu', 'Pos'].std().rename(columns={\"Neg\":\"std-neg\", \"Neu\":\"std-neu\", \"Pos\":\"std-pos\"})\n",
      "/tmp/ipykernel_5165/1936501698.py:5: FutureWarning: Indexing with multiple keys (implicitly converted to a tuple of keys) will be deprecated, use a list instead.\n",
      "  mean = res[res[sdg]].groupby('cat')['Neg', 'Neu', 'Pos'].mean().rename(columns={\"Neg\":\"avg-neg\", \"Neu\":\"avg-neu\", \"Pos\":\"avg-pos\"})\n",
      "/tmp/ipykernel_5165/1936501698.py:4: FutureWarning: Indexing with multiple keys (implicitly converted to a tuple of keys) will be deprecated, use a list instead.\n",
      "  std = res[res[sdg]].groupby('cat')['Neg', 'Neu', 'Pos'].std().rename(columns={\"Neg\":\"std-neg\", \"Neu\":\"std-neu\", \"Pos\":\"std-pos\"})\n",
      "/tmp/ipykernel_5165/1936501698.py:5: FutureWarning: Indexing with multiple keys (implicitly converted to a tuple of keys) will be deprecated, use a list instead.\n",
      "  mean = res[res[sdg]].groupby('cat')['Neg', 'Neu', 'Pos'].mean().rename(columns={\"Neg\":\"avg-neg\", \"Neu\":\"avg-neu\", \"Pos\":\"avg-pos\"})\n",
      "/tmp/ipykernel_5165/1936501698.py:4: FutureWarning: Indexing with multiple keys (implicitly converted to a tuple of keys) will be deprecated, use a list instead.\n",
      "  std = res[res[sdg]].groupby('cat')['Neg', 'Neu', 'Pos'].std().rename(columns={\"Neg\":\"std-neg\", \"Neu\":\"std-neu\", \"Pos\":\"std-pos\"})\n",
      "/tmp/ipykernel_5165/1936501698.py:5: FutureWarning: Indexing with multiple keys (implicitly converted to a tuple of keys) will be deprecated, use a list instead.\n",
      "  mean = res[res[sdg]].groupby('cat')['Neg', 'Neu', 'Pos'].mean().rename(columns={\"Neg\":\"avg-neg\", \"Neu\":\"avg-neu\", \"Pos\":\"avg-pos\"})\n",
      "/tmp/ipykernel_5165/1936501698.py:4: FutureWarning: Indexing with multiple keys (implicitly converted to a tuple of keys) will be deprecated, use a list instead.\n",
      "  std = res[res[sdg]].groupby('cat')['Neg', 'Neu', 'Pos'].std().rename(columns={\"Neg\":\"std-neg\", \"Neu\":\"std-neu\", \"Pos\":\"std-pos\"})\n",
      "/tmp/ipykernel_5165/1936501698.py:5: FutureWarning: Indexing with multiple keys (implicitly converted to a tuple of keys) will be deprecated, use a list instead.\n",
      "  mean = res[res[sdg]].groupby('cat')['Neg', 'Neu', 'Pos'].mean().rename(columns={\"Neg\":\"avg-neg\", \"Neu\":\"avg-neu\", \"Pos\":\"avg-pos\"})\n",
      "/tmp/ipykernel_5165/1936501698.py:4: FutureWarning: Indexing with multiple keys (implicitly converted to a tuple of keys) will be deprecated, use a list instead.\n",
      "  std = res[res[sdg]].groupby('cat')['Neg', 'Neu', 'Pos'].std().rename(columns={\"Neg\":\"std-neg\", \"Neu\":\"std-neu\", \"Pos\":\"std-pos\"})\n",
      "/tmp/ipykernel_5165/1936501698.py:5: FutureWarning: Indexing with multiple keys (implicitly converted to a tuple of keys) will be deprecated, use a list instead.\n",
      "  mean = res[res[sdg]].groupby('cat')['Neg', 'Neu', 'Pos'].mean().rename(columns={\"Neg\":\"avg-neg\", \"Neu\":\"avg-neu\", \"Pos\":\"avg-pos\"})\n",
      "/tmp/ipykernel_5165/1936501698.py:4: FutureWarning: Indexing with multiple keys (implicitly converted to a tuple of keys) will be deprecated, use a list instead.\n",
      "  std = res[res[sdg]].groupby('cat')['Neg', 'Neu', 'Pos'].std().rename(columns={\"Neg\":\"std-neg\", \"Neu\":\"std-neu\", \"Pos\":\"std-pos\"})\n",
      "/tmp/ipykernel_5165/1936501698.py:5: FutureWarning: Indexing with multiple keys (implicitly converted to a tuple of keys) will be deprecated, use a list instead.\n",
      "  mean = res[res[sdg]].groupby('cat')['Neg', 'Neu', 'Pos'].mean().rename(columns={\"Neg\":\"avg-neg\", \"Neu\":\"avg-neu\", \"Pos\":\"avg-pos\"})\n",
      "/tmp/ipykernel_5165/1936501698.py:4: FutureWarning: Indexing with multiple keys (implicitly converted to a tuple of keys) will be deprecated, use a list instead.\n",
      "  std = res[res[sdg]].groupby('cat')['Neg', 'Neu', 'Pos'].std().rename(columns={\"Neg\":\"std-neg\", \"Neu\":\"std-neu\", \"Pos\":\"std-pos\"})\n",
      "/tmp/ipykernel_5165/1936501698.py:5: FutureWarning: Indexing with multiple keys (implicitly converted to a tuple of keys) will be deprecated, use a list instead.\n",
      "  mean = res[res[sdg]].groupby('cat')['Neg', 'Neu', 'Pos'].mean().rename(columns={\"Neg\":\"avg-neg\", \"Neu\":\"avg-neu\", \"Pos\":\"avg-pos\"})\n",
      "/tmp/ipykernel_5165/1936501698.py:11: FutureWarning: Indexing with multiple keys (implicitly converted to a tuple of keys) will be deprecated, use a list instead.\n",
      "  std = res.groupby('cat')['Neg', 'Neu', 'Pos'].std().rename(columns={\"Neg\":\"std-neg\", \"Neu\":\"std-neu\", \"Pos\":\"std-pos\"})\n",
      "/tmp/ipykernel_5165/1936501698.py:12: FutureWarning: Indexing with multiple keys (implicitly converted to a tuple of keys) will be deprecated, use a list instead.\n",
      "  mean = res.groupby('cat')['Neg', 'Neu', 'Pos'].mean().rename(columns={\"Neg\":\"avg-neg\", \"Neu\":\"avg-neu\", \"Pos\":\"avg-pos\"})\n"
     ]
    }
   ],
   "source": [
    "# CATEGORIES LEVEL\n",
    "dic_df = {}\n",
    "for sdg in lst_sdg:\n",
    "    std = res[res[sdg]].groupby('cat')['Neg', 'Neu', 'Pos'].std().rename(columns={\"Neg\":\"std-neg\", \"Neu\":\"std-neu\", \"Pos\":\"std-pos\"})\n",
    "    mean = res[res[sdg]].groupby('cat')['Neg', 'Neu', 'Pos'].mean().rename(columns={\"Neg\":\"avg-neg\", \"Neu\":\"avg-neu\", \"Pos\":\"avg-pos\"})\n",
    "    nb = res[res[sdg]].groupby('cat')['Neg'].count().rename('tot')\n",
    "    tot = pd.concat([mean, std, nb], axis=1).round(2)\n",
    "    tot['cat'] = tot.index.to_series().map(reg_cat)\n",
    "    dic_df[sdg] = tot\n",
    "\n",
    "std = res.groupby('cat')['Neg', 'Neu', 'Pos'].std().rename(columns={\"Neg\":\"std-neg\", \"Neu\":\"std-neu\", \"Pos\":\"std-pos\"})\n",
    "mean = res.groupby('cat')['Neg', 'Neu', 'Pos'].mean().rename(columns={\"Neg\":\"avg-neg\", \"Neu\":\"avg-neu\", \"Pos\":\"avg-pos\"})\n",
    "nb = res.groupby('cat')['Neg'].count().rename('tot')\n",
    "tot = pd.concat([mean, std, nb], axis=1).round(2)\n",
    "tot['cat'] = tot.index.to_series().map(reg_cat)\n",
    "dic_df[\"all\"] = tot\n",
    "\n",
    "with pd.ExcelWriter('../results/mean_std_for_cat.xlsx') as writer:\n",
    "    for sdg, df in dic_df.items():\n",
    "        df.to_excel(writer, sheet_name=str(sdg))"
   ],
   "metadata": {
    "collapsed": false
   }
  },
  {
   "cell_type": "code",
   "execution_count": 26,
   "outputs": [
    {
     "data": {
      "text/plain": "                            cat      sent   SDG1   SDG2   SDG3   SDG4   SDG5  \\\nUT                                                                             \nWOS:000208168800004          AI  0.129408  False  False  False  False  False   \nWOS:000208392700003          AI  0.608842  False  False  False  False  False   \nWOS:000208392700003          AI  0.587710  False  False  False  False  False   \nWOS:000208401500003          AI  0.249484  False  False  False  False  False   \nWOS:000208401600008          AI  0.552620  False  False  False  False  False   \n...                         ...       ...    ...    ...    ...    ...    ...   \nWOS:000864849700009          AI  0.472802  False  False  False  False  False   \nWOS:000865951200001          AI  0.223769  False  False  False  False  False   \nWOS:000866319200015  blockchain  0.821231  False  False  False  False  False   \nWOS:000866319200015  blockchain  0.701708  False  False  False  False  False   \nWOS:000866319200015  blockchain  0.784208  False  False  False  False  False   \n\n                      SDG6   SDG7   SDG8   SDG9  SDG10  SDG11  SDG12  SDG13  \\\nUT                                                                            \nWOS:000208168800004  False  False  False  False   True  False  False  False   \nWOS:000208392700003   True  False  False  False  False  False  False  False   \nWOS:000208392700003   True  False  False  False  False  False  False  False   \nWOS:000208401500003  False  False  False  False  False  False  False  False   \nWOS:000208401600008  False  False  False  False  False   True  False  False   \n...                    ...    ...    ...    ...    ...    ...    ...    ...   \nWOS:000864849700009  False  False  False  False  False   True  False  False   \nWOS:000865951200001  False  False  False  False  False  False  False   True   \nWOS:000866319200015  False  False  False  False  False  False  False  False   \nWOS:000866319200015  False  False  False  False  False  False  False  False   \nWOS:000866319200015  False  False  False  False  False  False  False  False   \n\n                     SDG14  SDG15  SDG16  SDG17  \nUT                                               \nWOS:000208168800004  False  False   True  False  \nWOS:000208392700003  False  False  False  False  \nWOS:000208392700003  False  False  False  False  \nWOS:000208401500003  False   True  False  False  \nWOS:000208401600008  False  False  False  False  \n...                    ...    ...    ...    ...  \nWOS:000864849700009  False  False  False  False  \nWOS:000865951200001  False  False  False  False  \nWOS:000866319200015  False  False   True  False  \nWOS:000866319200015  False  False   True  False  \nWOS:000866319200015  False  False   True  False  \n\n[90705 rows x 19 columns]",
      "text/html": "<div>\n<style scoped>\n    .dataframe tbody tr th:only-of-type {\n        vertical-align: middle;\n    }\n\n    .dataframe tbody tr th {\n        vertical-align: top;\n    }\n\n    .dataframe thead th {\n        text-align: right;\n    }\n</style>\n<table border=\"1\" class=\"dataframe\">\n  <thead>\n    <tr style=\"text-align: right;\">\n      <th></th>\n      <th>cat</th>\n      <th>sent</th>\n      <th>SDG1</th>\n      <th>SDG2</th>\n      <th>SDG3</th>\n      <th>SDG4</th>\n      <th>SDG5</th>\n      <th>SDG6</th>\n      <th>SDG7</th>\n      <th>SDG8</th>\n      <th>SDG9</th>\n      <th>SDG10</th>\n      <th>SDG11</th>\n      <th>SDG12</th>\n      <th>SDG13</th>\n      <th>SDG14</th>\n      <th>SDG15</th>\n      <th>SDG16</th>\n      <th>SDG17</th>\n    </tr>\n    <tr>\n      <th>UT</th>\n      <th></th>\n      <th></th>\n      <th></th>\n      <th></th>\n      <th></th>\n      <th></th>\n      <th></th>\n      <th></th>\n      <th></th>\n      <th></th>\n      <th></th>\n      <th></th>\n      <th></th>\n      <th></th>\n      <th></th>\n      <th></th>\n      <th></th>\n      <th></th>\n      <th></th>\n    </tr>\n  </thead>\n  <tbody>\n    <tr>\n      <th>WOS:000208168800004</th>\n      <td>AI</td>\n      <td>0.129408</td>\n      <td>False</td>\n      <td>False</td>\n      <td>False</td>\n      <td>False</td>\n      <td>False</td>\n      <td>False</td>\n      <td>False</td>\n      <td>False</td>\n      <td>False</td>\n      <td>True</td>\n      <td>False</td>\n      <td>False</td>\n      <td>False</td>\n      <td>False</td>\n      <td>False</td>\n      <td>True</td>\n      <td>False</td>\n    </tr>\n    <tr>\n      <th>WOS:000208392700003</th>\n      <td>AI</td>\n      <td>0.608842</td>\n      <td>False</td>\n      <td>False</td>\n      <td>False</td>\n      <td>False</td>\n      <td>False</td>\n      <td>True</td>\n      <td>False</td>\n      <td>False</td>\n      <td>False</td>\n      <td>False</td>\n      <td>False</td>\n      <td>False</td>\n      <td>False</td>\n      <td>False</td>\n      <td>False</td>\n      <td>False</td>\n      <td>False</td>\n    </tr>\n    <tr>\n      <th>WOS:000208392700003</th>\n      <td>AI</td>\n      <td>0.587710</td>\n      <td>False</td>\n      <td>False</td>\n      <td>False</td>\n      <td>False</td>\n      <td>False</td>\n      <td>True</td>\n      <td>False</td>\n      <td>False</td>\n      <td>False</td>\n      <td>False</td>\n      <td>False</td>\n      <td>False</td>\n      <td>False</td>\n      <td>False</td>\n      <td>False</td>\n      <td>False</td>\n      <td>False</td>\n    </tr>\n    <tr>\n      <th>WOS:000208401500003</th>\n      <td>AI</td>\n      <td>0.249484</td>\n      <td>False</td>\n      <td>False</td>\n      <td>False</td>\n      <td>False</td>\n      <td>False</td>\n      <td>False</td>\n      <td>False</td>\n      <td>False</td>\n      <td>False</td>\n      <td>False</td>\n      <td>False</td>\n      <td>False</td>\n      <td>False</td>\n      <td>False</td>\n      <td>True</td>\n      <td>False</td>\n      <td>False</td>\n    </tr>\n    <tr>\n      <th>WOS:000208401600008</th>\n      <td>AI</td>\n      <td>0.552620</td>\n      <td>False</td>\n      <td>False</td>\n      <td>False</td>\n      <td>False</td>\n      <td>False</td>\n      <td>False</td>\n      <td>False</td>\n      <td>False</td>\n      <td>False</td>\n      <td>False</td>\n      <td>True</td>\n      <td>False</td>\n      <td>False</td>\n      <td>False</td>\n      <td>False</td>\n      <td>False</td>\n      <td>False</td>\n    </tr>\n    <tr>\n      <th>...</th>\n      <td>...</td>\n      <td>...</td>\n      <td>...</td>\n      <td>...</td>\n      <td>...</td>\n      <td>...</td>\n      <td>...</td>\n      <td>...</td>\n      <td>...</td>\n      <td>...</td>\n      <td>...</td>\n      <td>...</td>\n      <td>...</td>\n      <td>...</td>\n      <td>...</td>\n      <td>...</td>\n      <td>...</td>\n      <td>...</td>\n      <td>...</td>\n    </tr>\n    <tr>\n      <th>WOS:000864849700009</th>\n      <td>AI</td>\n      <td>0.472802</td>\n      <td>False</td>\n      <td>False</td>\n      <td>False</td>\n      <td>False</td>\n      <td>False</td>\n      <td>False</td>\n      <td>False</td>\n      <td>False</td>\n      <td>False</td>\n      <td>False</td>\n      <td>True</td>\n      <td>False</td>\n      <td>False</td>\n      <td>False</td>\n      <td>False</td>\n      <td>False</td>\n      <td>False</td>\n    </tr>\n    <tr>\n      <th>WOS:000865951200001</th>\n      <td>AI</td>\n      <td>0.223769</td>\n      <td>False</td>\n      <td>False</td>\n      <td>False</td>\n      <td>False</td>\n      <td>False</td>\n      <td>False</td>\n      <td>False</td>\n      <td>False</td>\n      <td>False</td>\n      <td>False</td>\n      <td>False</td>\n      <td>False</td>\n      <td>True</td>\n      <td>False</td>\n      <td>False</td>\n      <td>False</td>\n      <td>False</td>\n    </tr>\n    <tr>\n      <th>WOS:000866319200015</th>\n      <td>blockchain</td>\n      <td>0.821231</td>\n      <td>False</td>\n      <td>False</td>\n      <td>False</td>\n      <td>False</td>\n      <td>False</td>\n      <td>False</td>\n      <td>False</td>\n      <td>False</td>\n      <td>False</td>\n      <td>False</td>\n      <td>False</td>\n      <td>False</td>\n      <td>False</td>\n      <td>False</td>\n      <td>False</td>\n      <td>True</td>\n      <td>False</td>\n    </tr>\n    <tr>\n      <th>WOS:000866319200015</th>\n      <td>blockchain</td>\n      <td>0.701708</td>\n      <td>False</td>\n      <td>False</td>\n      <td>False</td>\n      <td>False</td>\n      <td>False</td>\n      <td>False</td>\n      <td>False</td>\n      <td>False</td>\n      <td>False</td>\n      <td>False</td>\n      <td>False</td>\n      <td>False</td>\n      <td>False</td>\n      <td>False</td>\n      <td>False</td>\n      <td>True</td>\n      <td>False</td>\n    </tr>\n    <tr>\n      <th>WOS:000866319200015</th>\n      <td>blockchain</td>\n      <td>0.784208</td>\n      <td>False</td>\n      <td>False</td>\n      <td>False</td>\n      <td>False</td>\n      <td>False</td>\n      <td>False</td>\n      <td>False</td>\n      <td>False</td>\n      <td>False</td>\n      <td>False</td>\n      <td>False</td>\n      <td>False</td>\n      <td>False</td>\n      <td>False</td>\n      <td>False</td>\n      <td>True</td>\n      <td>False</td>\n    </tr>\n  </tbody>\n</table>\n<p>90705 rows × 19 columns</p>\n</div>"
     },
     "execution_count": 26,
     "metadata": {},
     "output_type": "execute_result"
    }
   ],
   "source": [
    "## TABLE Sentiment analysis\n",
    "res['sent'] = res['Pos'] - res['Neg']\n",
    "df_plot_table = res[['cat', 'sent']+lst_sdg]\n",
    "df_plot_table"
   ],
   "metadata": {
    "collapsed": false
   }
  },
  {
   "cell_type": "code",
   "execution_count": 48,
   "outputs": [],
   "source": [
    "lst_ser = []\n",
    "for sdg in lst_sdg:\n",
    "    df = df_plot_table[df_plot_table[sdg]]\n",
    "    lst_ser.append(df.groupby('cat')['sent'].mean().rename(str(sdg)))"
   ],
   "metadata": {
    "collapsed": false
   }
  },
  {
   "cell_type": "code",
   "execution_count": 49,
   "outputs": [],
   "source": [
    "df = pd.concat(lst_ser, axis=1)"
   ],
   "metadata": {
    "collapsed": false
   }
  },
  {
   "cell_type": "code",
   "execution_count": 51,
   "outputs": [],
   "source": [
    "import pandas as pd\n",
    "# df.to_csv(\"../results/table_sentiments.csv\", sep='\\t')\n",
    "df = pd.read_csv(\"../results/table_sentiments.csv\", sep='\\t')"
   ],
   "metadata": {
    "collapsed": false
   }
  },
  {
   "cell_type": "code",
   "execution_count": 52,
   "outputs": [
    {
     "data": {
      "text/plain": "                        cat      SDG1      SDG2      SDG3      SDG4      SDG5  \\\n0                        AI  0.492981  0.604298  0.547953  0.486921  0.386513   \n1                       IOT  0.514434  0.582980  0.522464  0.414656  0.294632   \n2    additive_manufacturing  0.431685  0.489969  0.628397  0.478337  0.325481   \n3                  big_data  0.441640  0.582830  0.412534  0.409676  0.357421   \n4                blockchain  0.406607  0.480242  0.362331  0.344851  0.115886   \n5  computing_infrastructure  0.470969  0.555295  0.495091  0.480765  0.300372   \n6                  robotics  0.420108  0.625559  0.490486  0.480701  0.238016   \n\n       SDG6      SDG7      SDG8      SDG9     SDG10     SDG11     SDG12  \\\n0  0.585534  0.661216  0.533102  0.577301  0.547645  0.582142  0.581268   \n1  0.563255  0.447701  0.500641  0.482586  0.442762  0.501706  0.540793   \n2  0.734878  0.638459  0.461548  0.537017  0.499764  0.651123  0.566220   \n3  0.489244  0.362305  0.428149  0.423178  0.446450  0.514605  0.419253   \n4  0.575682  0.475004  0.430351  0.516226  0.444006  0.531867  0.483977   \n5  0.542322  0.484431  0.490549  0.477647  0.447227  0.522004  0.456146   \n6  0.579230  0.592070  0.465909  0.576023  0.498339  0.525839  0.551908   \n\n      SDG13     SDG14     SDG15     SDG16     SDG17  \n0  0.555373  0.586733  0.569917  0.493052  0.542230  \n1  0.502971  0.450325  0.555560  0.342308  0.467837  \n2  0.547893  0.645228  0.565111  0.442936  0.454167  \n3  0.420844  0.478339  0.486040  0.362598  0.472322  \n4  0.440592  0.465284  0.487652  0.256100  0.468376  \n5  0.491063  0.505701  0.535058  0.287095  0.500681  \n6  0.514157  0.540063  0.565286  0.388352  0.517499  ",
      "text/html": "<div>\n<style scoped>\n    .dataframe tbody tr th:only-of-type {\n        vertical-align: middle;\n    }\n\n    .dataframe tbody tr th {\n        vertical-align: top;\n    }\n\n    .dataframe thead th {\n        text-align: right;\n    }\n</style>\n<table border=\"1\" class=\"dataframe\">\n  <thead>\n    <tr style=\"text-align: right;\">\n      <th></th>\n      <th>cat</th>\n      <th>SDG1</th>\n      <th>SDG2</th>\n      <th>SDG3</th>\n      <th>SDG4</th>\n      <th>SDG5</th>\n      <th>SDG6</th>\n      <th>SDG7</th>\n      <th>SDG8</th>\n      <th>SDG9</th>\n      <th>SDG10</th>\n      <th>SDG11</th>\n      <th>SDG12</th>\n      <th>SDG13</th>\n      <th>SDG14</th>\n      <th>SDG15</th>\n      <th>SDG16</th>\n      <th>SDG17</th>\n    </tr>\n  </thead>\n  <tbody>\n    <tr>\n      <th>0</th>\n      <td>AI</td>\n      <td>0.492981</td>\n      <td>0.604298</td>\n      <td>0.547953</td>\n      <td>0.486921</td>\n      <td>0.386513</td>\n      <td>0.585534</td>\n      <td>0.661216</td>\n      <td>0.533102</td>\n      <td>0.577301</td>\n      <td>0.547645</td>\n      <td>0.582142</td>\n      <td>0.581268</td>\n      <td>0.555373</td>\n      <td>0.586733</td>\n      <td>0.569917</td>\n      <td>0.493052</td>\n      <td>0.542230</td>\n    </tr>\n    <tr>\n      <th>1</th>\n      <td>IOT</td>\n      <td>0.514434</td>\n      <td>0.582980</td>\n      <td>0.522464</td>\n      <td>0.414656</td>\n      <td>0.294632</td>\n      <td>0.563255</td>\n      <td>0.447701</td>\n      <td>0.500641</td>\n      <td>0.482586</td>\n      <td>0.442762</td>\n      <td>0.501706</td>\n      <td>0.540793</td>\n      <td>0.502971</td>\n      <td>0.450325</td>\n      <td>0.555560</td>\n      <td>0.342308</td>\n      <td>0.467837</td>\n    </tr>\n    <tr>\n      <th>2</th>\n      <td>additive_manufacturing</td>\n      <td>0.431685</td>\n      <td>0.489969</td>\n      <td>0.628397</td>\n      <td>0.478337</td>\n      <td>0.325481</td>\n      <td>0.734878</td>\n      <td>0.638459</td>\n      <td>0.461548</td>\n      <td>0.537017</td>\n      <td>0.499764</td>\n      <td>0.651123</td>\n      <td>0.566220</td>\n      <td>0.547893</td>\n      <td>0.645228</td>\n      <td>0.565111</td>\n      <td>0.442936</td>\n      <td>0.454167</td>\n    </tr>\n    <tr>\n      <th>3</th>\n      <td>big_data</td>\n      <td>0.441640</td>\n      <td>0.582830</td>\n      <td>0.412534</td>\n      <td>0.409676</td>\n      <td>0.357421</td>\n      <td>0.489244</td>\n      <td>0.362305</td>\n      <td>0.428149</td>\n      <td>0.423178</td>\n      <td>0.446450</td>\n      <td>0.514605</td>\n      <td>0.419253</td>\n      <td>0.420844</td>\n      <td>0.478339</td>\n      <td>0.486040</td>\n      <td>0.362598</td>\n      <td>0.472322</td>\n    </tr>\n    <tr>\n      <th>4</th>\n      <td>blockchain</td>\n      <td>0.406607</td>\n      <td>0.480242</td>\n      <td>0.362331</td>\n      <td>0.344851</td>\n      <td>0.115886</td>\n      <td>0.575682</td>\n      <td>0.475004</td>\n      <td>0.430351</td>\n      <td>0.516226</td>\n      <td>0.444006</td>\n      <td>0.531867</td>\n      <td>0.483977</td>\n      <td>0.440592</td>\n      <td>0.465284</td>\n      <td>0.487652</td>\n      <td>0.256100</td>\n      <td>0.468376</td>\n    </tr>\n    <tr>\n      <th>5</th>\n      <td>computing_infrastructure</td>\n      <td>0.470969</td>\n      <td>0.555295</td>\n      <td>0.495091</td>\n      <td>0.480765</td>\n      <td>0.300372</td>\n      <td>0.542322</td>\n      <td>0.484431</td>\n      <td>0.490549</td>\n      <td>0.477647</td>\n      <td>0.447227</td>\n      <td>0.522004</td>\n      <td>0.456146</td>\n      <td>0.491063</td>\n      <td>0.505701</td>\n      <td>0.535058</td>\n      <td>0.287095</td>\n      <td>0.500681</td>\n    </tr>\n    <tr>\n      <th>6</th>\n      <td>robotics</td>\n      <td>0.420108</td>\n      <td>0.625559</td>\n      <td>0.490486</td>\n      <td>0.480701</td>\n      <td>0.238016</td>\n      <td>0.579230</td>\n      <td>0.592070</td>\n      <td>0.465909</td>\n      <td>0.576023</td>\n      <td>0.498339</td>\n      <td>0.525839</td>\n      <td>0.551908</td>\n      <td>0.514157</td>\n      <td>0.540063</td>\n      <td>0.565286</td>\n      <td>0.388352</td>\n      <td>0.517499</td>\n    </tr>\n  </tbody>\n</table>\n</div>"
     },
     "execution_count": 52,
     "metadata": {},
     "output_type": "execute_result"
    }
   ],
   "source": [
    "df"
   ],
   "metadata": {
    "collapsed": false
   }
  },
  {
   "cell_type": "code",
   "execution_count": 56,
   "outputs": [
    {
     "data": {
      "application/vnd.plotly.v1+json": {
       "data": [
        {
         "coloraxis": "coloraxis",
         "name": "0",
         "x": [
          "cat",
          "SDG1",
          "SDG2",
          "SDG3",
          "SDG4",
          "SDG5",
          "SDG6",
          "SDG7",
          "SDG8",
          "SDG9",
          "SDG10",
          "SDG11",
          "SDG12",
          "SDG13",
          "SDG14",
          "SDG15",
          "SDG16",
          "SDG17"
         ],
         "y": [
          "AI",
          "IOT",
          "additive_manufacturing",
          "big_data",
          "blockchain",
          "computing_infrastructure",
          "robotics"
         ],
         "z": [
          [
           "AI",
           0.49298063,
           0.6042978,
           0.5479529,
           0.48692077,
           0.38651305,
           0.5855344,
           0.66121584,
           0.5331017,
           0.57730055,
           0.54764456,
           0.58214176,
           0.58126795,
           0.55537325,
           0.5867328,
           0.5699171,
           0.4930523,
           0.54223025
          ],
          [
           "IOT",
           0.5144336,
           0.5829803,
           0.522464,
           0.41465604,
           0.29463208,
           0.56325495,
           0.44770125,
           0.5006411,
           0.48258555,
           0.4427623,
           0.5017061,
           0.54079276,
           0.5029713,
           0.45032474,
           0.55556005,
           0.34230757,
           0.46783718
          ],
          [
           "additive_manufacturing",
           0.43168503,
           0.4899689,
           0.6283972,
           0.4783369,
           0.32548067,
           0.7348778,
           0.63845867,
           0.46154794,
           0.53701663,
           0.4997642,
           0.6511235,
           0.56622016,
           0.5478928,
           0.6452285,
           0.56511116,
           0.44293645,
           0.45416704
          ],
          [
           "big_data",
           0.44164023,
           0.5828298,
           0.412534,
           0.40967563,
           0.357421,
           0.48924404,
           0.3623053,
           0.42814934,
           0.42317763,
           0.4464505,
           0.51460516,
           0.41925335,
           0.42084408,
           0.47833917,
           0.4860396,
           0.36259836,
           0.4723222
          ],
          [
           "blockchain",
           0.40660676,
           0.48024178,
           0.36233142,
           0.34485093,
           0.11588573,
           0.5756825,
           0.47500372,
           0.4303511,
           0.5162255,
           0.4440059,
           0.53186715,
           0.48397705,
           0.44059193,
           0.4652835,
           0.4876525,
           0.25610003,
           0.46837628
          ],
          [
           "computing_infrastructure",
           0.47096917,
           0.5552951,
           0.4950906,
           0.4807654,
           0.30037233,
           0.54232186,
           0.48443064,
           0.49054864,
           0.4776473,
           0.44722685,
           0.5220045,
           0.4561463,
           0.4910627,
           0.5057013,
           0.5350582,
           0.28709477,
           0.50068086
          ],
          [
           "robotics",
           0.4201082,
           0.62555915,
           0.4904863,
           0.4807008,
           0.23801647,
           0.5792299,
           0.59207016,
           0.46590862,
           0.5760234,
           0.4983385,
           0.52583915,
           0.5519083,
           0.5141572,
           0.5400634,
           0.5652863,
           0.38835156,
           0.51749945
          ]
         ],
         "type": "heatmap",
         "xaxis": "x",
         "yaxis": "y",
         "hovertemplate": "x: %{x}<br>y: %{y}<br>color: %{z}<extra></extra>"
        }
       ],
       "layout": {
        "template": {
         "data": {
          "barpolar": [
           {
            "marker": {
             "line": {
              "color": "white",
              "width": 0.5
             },
             "pattern": {
              "fillmode": "overlay",
              "size": 10,
              "solidity": 0.2
             }
            },
            "type": "barpolar"
           }
          ],
          "bar": [
           {
            "error_x": {
             "color": "rgb(36,36,36)"
            },
            "error_y": {
             "color": "rgb(36,36,36)"
            },
            "marker": {
             "line": {
              "color": "white",
              "width": 0.5
             },
             "pattern": {
              "fillmode": "overlay",
              "size": 10,
              "solidity": 0.2
             }
            },
            "type": "bar"
           }
          ],
          "carpet": [
           {
            "aaxis": {
             "endlinecolor": "rgb(36,36,36)",
             "gridcolor": "white",
             "linecolor": "white",
             "minorgridcolor": "white",
             "startlinecolor": "rgb(36,36,36)"
            },
            "baxis": {
             "endlinecolor": "rgb(36,36,36)",
             "gridcolor": "white",
             "linecolor": "white",
             "minorgridcolor": "white",
             "startlinecolor": "rgb(36,36,36)"
            },
            "type": "carpet"
           }
          ],
          "choropleth": [
           {
            "colorbar": {
             "outlinewidth": 1,
             "tickcolor": "rgb(36,36,36)",
             "ticks": "outside"
            },
            "type": "choropleth"
           }
          ],
          "contourcarpet": [
           {
            "colorbar": {
             "outlinewidth": 1,
             "tickcolor": "rgb(36,36,36)",
             "ticks": "outside"
            },
            "type": "contourcarpet"
           }
          ],
          "contour": [
           {
            "colorbar": {
             "outlinewidth": 1,
             "tickcolor": "rgb(36,36,36)",
             "ticks": "outside"
            },
            "colorscale": [
             [
              0.0,
              "#440154"
             ],
             [
              0.1111111111111111,
              "#482878"
             ],
             [
              0.2222222222222222,
              "#3e4989"
             ],
             [
              0.3333333333333333,
              "#31688e"
             ],
             [
              0.4444444444444444,
              "#26828e"
             ],
             [
              0.5555555555555556,
              "#1f9e89"
             ],
             [
              0.6666666666666666,
              "#35b779"
             ],
             [
              0.7777777777777778,
              "#6ece58"
             ],
             [
              0.8888888888888888,
              "#b5de2b"
             ],
             [
              1.0,
              "#fde725"
             ]
            ],
            "type": "contour"
           }
          ],
          "heatmapgl": [
           {
            "colorbar": {
             "outlinewidth": 1,
             "tickcolor": "rgb(36,36,36)",
             "ticks": "outside"
            },
            "colorscale": [
             [
              0.0,
              "#440154"
             ],
             [
              0.1111111111111111,
              "#482878"
             ],
             [
              0.2222222222222222,
              "#3e4989"
             ],
             [
              0.3333333333333333,
              "#31688e"
             ],
             [
              0.4444444444444444,
              "#26828e"
             ],
             [
              0.5555555555555556,
              "#1f9e89"
             ],
             [
              0.6666666666666666,
              "#35b779"
             ],
             [
              0.7777777777777778,
              "#6ece58"
             ],
             [
              0.8888888888888888,
              "#b5de2b"
             ],
             [
              1.0,
              "#fde725"
             ]
            ],
            "type": "heatmapgl"
           }
          ],
          "heatmap": [
           {
            "colorbar": {
             "outlinewidth": 1,
             "tickcolor": "rgb(36,36,36)",
             "ticks": "outside"
            },
            "colorscale": [
             [
              0.0,
              "#440154"
             ],
             [
              0.1111111111111111,
              "#482878"
             ],
             [
              0.2222222222222222,
              "#3e4989"
             ],
             [
              0.3333333333333333,
              "#31688e"
             ],
             [
              0.4444444444444444,
              "#26828e"
             ],
             [
              0.5555555555555556,
              "#1f9e89"
             ],
             [
              0.6666666666666666,
              "#35b779"
             ],
             [
              0.7777777777777778,
              "#6ece58"
             ],
             [
              0.8888888888888888,
              "#b5de2b"
             ],
             [
              1.0,
              "#fde725"
             ]
            ],
            "type": "heatmap"
           }
          ],
          "histogram2dcontour": [
           {
            "colorbar": {
             "outlinewidth": 1,
             "tickcolor": "rgb(36,36,36)",
             "ticks": "outside"
            },
            "colorscale": [
             [
              0.0,
              "#440154"
             ],
             [
              0.1111111111111111,
              "#482878"
             ],
             [
              0.2222222222222222,
              "#3e4989"
             ],
             [
              0.3333333333333333,
              "#31688e"
             ],
             [
              0.4444444444444444,
              "#26828e"
             ],
             [
              0.5555555555555556,
              "#1f9e89"
             ],
             [
              0.6666666666666666,
              "#35b779"
             ],
             [
              0.7777777777777778,
              "#6ece58"
             ],
             [
              0.8888888888888888,
              "#b5de2b"
             ],
             [
              1.0,
              "#fde725"
             ]
            ],
            "type": "histogram2dcontour"
           }
          ],
          "histogram2d": [
           {
            "colorbar": {
             "outlinewidth": 1,
             "tickcolor": "rgb(36,36,36)",
             "ticks": "outside"
            },
            "colorscale": [
             [
              0.0,
              "#440154"
             ],
             [
              0.1111111111111111,
              "#482878"
             ],
             [
              0.2222222222222222,
              "#3e4989"
             ],
             [
              0.3333333333333333,
              "#31688e"
             ],
             [
              0.4444444444444444,
              "#26828e"
             ],
             [
              0.5555555555555556,
              "#1f9e89"
             ],
             [
              0.6666666666666666,
              "#35b779"
             ],
             [
              0.7777777777777778,
              "#6ece58"
             ],
             [
              0.8888888888888888,
              "#b5de2b"
             ],
             [
              1.0,
              "#fde725"
             ]
            ],
            "type": "histogram2d"
           }
          ],
          "histogram": [
           {
            "marker": {
             "line": {
              "color": "white",
              "width": 0.6
             }
            },
            "type": "histogram"
           }
          ],
          "mesh3d": [
           {
            "colorbar": {
             "outlinewidth": 1,
             "tickcolor": "rgb(36,36,36)",
             "ticks": "outside"
            },
            "type": "mesh3d"
           }
          ],
          "parcoords": [
           {
            "line": {
             "colorbar": {
              "outlinewidth": 1,
              "tickcolor": "rgb(36,36,36)",
              "ticks": "outside"
             }
            },
            "type": "parcoords"
           }
          ],
          "pie": [
           {
            "automargin": true,
            "type": "pie"
           }
          ],
          "scatter3d": [
           {
            "line": {
             "colorbar": {
              "outlinewidth": 1,
              "tickcolor": "rgb(36,36,36)",
              "ticks": "outside"
             }
            },
            "marker": {
             "colorbar": {
              "outlinewidth": 1,
              "tickcolor": "rgb(36,36,36)",
              "ticks": "outside"
             }
            },
            "type": "scatter3d"
           }
          ],
          "scattercarpet": [
           {
            "marker": {
             "colorbar": {
              "outlinewidth": 1,
              "tickcolor": "rgb(36,36,36)",
              "ticks": "outside"
             }
            },
            "type": "scattercarpet"
           }
          ],
          "scattergeo": [
           {
            "marker": {
             "colorbar": {
              "outlinewidth": 1,
              "tickcolor": "rgb(36,36,36)",
              "ticks": "outside"
             }
            },
            "type": "scattergeo"
           }
          ],
          "scattergl": [
           {
            "marker": {
             "colorbar": {
              "outlinewidth": 1,
              "tickcolor": "rgb(36,36,36)",
              "ticks": "outside"
             }
            },
            "type": "scattergl"
           }
          ],
          "scattermapbox": [
           {
            "marker": {
             "colorbar": {
              "outlinewidth": 1,
              "tickcolor": "rgb(36,36,36)",
              "ticks": "outside"
             }
            },
            "type": "scattermapbox"
           }
          ],
          "scatterpolargl": [
           {
            "marker": {
             "colorbar": {
              "outlinewidth": 1,
              "tickcolor": "rgb(36,36,36)",
              "ticks": "outside"
             }
            },
            "type": "scatterpolargl"
           }
          ],
          "scatterpolar": [
           {
            "marker": {
             "colorbar": {
              "outlinewidth": 1,
              "tickcolor": "rgb(36,36,36)",
              "ticks": "outside"
             }
            },
            "type": "scatterpolar"
           }
          ],
          "scatter": [
           {
            "fillpattern": {
             "fillmode": "overlay",
             "size": 10,
             "solidity": 0.2
            },
            "type": "scatter"
           }
          ],
          "scatterternary": [
           {
            "marker": {
             "colorbar": {
              "outlinewidth": 1,
              "tickcolor": "rgb(36,36,36)",
              "ticks": "outside"
             }
            },
            "type": "scatterternary"
           }
          ],
          "surface": [
           {
            "colorbar": {
             "outlinewidth": 1,
             "tickcolor": "rgb(36,36,36)",
             "ticks": "outside"
            },
            "colorscale": [
             [
              0.0,
              "#440154"
             ],
             [
              0.1111111111111111,
              "#482878"
             ],
             [
              0.2222222222222222,
              "#3e4989"
             ],
             [
              0.3333333333333333,
              "#31688e"
             ],
             [
              0.4444444444444444,
              "#26828e"
             ],
             [
              0.5555555555555556,
              "#1f9e89"
             ],
             [
              0.6666666666666666,
              "#35b779"
             ],
             [
              0.7777777777777778,
              "#6ece58"
             ],
             [
              0.8888888888888888,
              "#b5de2b"
             ],
             [
              1.0,
              "#fde725"
             ]
            ],
            "type": "surface"
           }
          ],
          "table": [
           {
            "cells": {
             "fill": {
              "color": "rgb(237,237,237)"
             },
             "line": {
              "color": "white"
             }
            },
            "header": {
             "fill": {
              "color": "rgb(217,217,217)"
             },
             "line": {
              "color": "white"
             }
            },
            "type": "table"
           }
          ]
         },
         "layout": {
          "annotationdefaults": {
           "arrowhead": 0,
           "arrowwidth": 1
          },
          "autotypenumbers": "strict",
          "coloraxis": {
           "colorbar": {
            "outlinewidth": 1,
            "tickcolor": "rgb(36,36,36)",
            "ticks": "outside"
           }
          },
          "colorscale": {
           "diverging": [
            [
             0.0,
             "rgb(103,0,31)"
            ],
            [
             0.1,
             "rgb(178,24,43)"
            ],
            [
             0.2,
             "rgb(214,96,77)"
            ],
            [
             0.3,
             "rgb(244,165,130)"
            ],
            [
             0.4,
             "rgb(253,219,199)"
            ],
            [
             0.5,
             "rgb(247,247,247)"
            ],
            [
             0.6,
             "rgb(209,229,240)"
            ],
            [
             0.7,
             "rgb(146,197,222)"
            ],
            [
             0.8,
             "rgb(67,147,195)"
            ],
            [
             0.9,
             "rgb(33,102,172)"
            ],
            [
             1.0,
             "rgb(5,48,97)"
            ]
           ],
           "sequential": [
            [
             0.0,
             "#440154"
            ],
            [
             0.1111111111111111,
             "#482878"
            ],
            [
             0.2222222222222222,
             "#3e4989"
            ],
            [
             0.3333333333333333,
             "#31688e"
            ],
            [
             0.4444444444444444,
             "#26828e"
            ],
            [
             0.5555555555555556,
             "#1f9e89"
            ],
            [
             0.6666666666666666,
             "#35b779"
            ],
            [
             0.7777777777777778,
             "#6ece58"
            ],
            [
             0.8888888888888888,
             "#b5de2b"
            ],
            [
             1.0,
             "#fde725"
            ]
           ],
           "sequentialminus": [
            [
             0.0,
             "#440154"
            ],
            [
             0.1111111111111111,
             "#482878"
            ],
            [
             0.2222222222222222,
             "#3e4989"
            ],
            [
             0.3333333333333333,
             "#31688e"
            ],
            [
             0.4444444444444444,
             "#26828e"
            ],
            [
             0.5555555555555556,
             "#1f9e89"
            ],
            [
             0.6666666666666666,
             "#35b779"
            ],
            [
             0.7777777777777778,
             "#6ece58"
            ],
            [
             0.8888888888888888,
             "#b5de2b"
            ],
            [
             1.0,
             "#fde725"
            ]
           ]
          },
          "colorway": [
           "#1F77B4",
           "#FF7F0E",
           "#2CA02C",
           "#D62728",
           "#9467BD",
           "#8C564B",
           "#E377C2",
           "#7F7F7F",
           "#BCBD22",
           "#17BECF"
          ],
          "font": {
           "color": "rgb(36,36,36)"
          },
          "geo": {
           "bgcolor": "white",
           "lakecolor": "white",
           "landcolor": "white",
           "showlakes": true,
           "showland": true,
           "subunitcolor": "white"
          },
          "hoverlabel": {
           "align": "left"
          },
          "hovermode": "closest",
          "mapbox": {
           "style": "light"
          },
          "paper_bgcolor": "white",
          "plot_bgcolor": "white",
          "polar": {
           "angularaxis": {
            "gridcolor": "rgb(232,232,232)",
            "linecolor": "rgb(36,36,36)",
            "showgrid": false,
            "showline": true,
            "ticks": "outside"
           },
           "bgcolor": "white",
           "radialaxis": {
            "gridcolor": "rgb(232,232,232)",
            "linecolor": "rgb(36,36,36)",
            "showgrid": false,
            "showline": true,
            "ticks": "outside"
           }
          },
          "scene": {
           "xaxis": {
            "backgroundcolor": "white",
            "gridcolor": "rgb(232,232,232)",
            "gridwidth": 2,
            "linecolor": "rgb(36,36,36)",
            "showbackground": true,
            "showgrid": false,
            "showline": true,
            "ticks": "outside",
            "zeroline": false,
            "zerolinecolor": "rgb(36,36,36)"
           },
           "yaxis": {
            "backgroundcolor": "white",
            "gridcolor": "rgb(232,232,232)",
            "gridwidth": 2,
            "linecolor": "rgb(36,36,36)",
            "showbackground": true,
            "showgrid": false,
            "showline": true,
            "ticks": "outside",
            "zeroline": false,
            "zerolinecolor": "rgb(36,36,36)"
           },
           "zaxis": {
            "backgroundcolor": "white",
            "gridcolor": "rgb(232,232,232)",
            "gridwidth": 2,
            "linecolor": "rgb(36,36,36)",
            "showbackground": true,
            "showgrid": false,
            "showline": true,
            "ticks": "outside",
            "zeroline": false,
            "zerolinecolor": "rgb(36,36,36)"
           }
          },
          "shapedefaults": {
           "fillcolor": "black",
           "line": {
            "width": 0
           },
           "opacity": 0.3
          },
          "ternary": {
           "aaxis": {
            "gridcolor": "rgb(232,232,232)",
            "linecolor": "rgb(36,36,36)",
            "showgrid": false,
            "showline": true,
            "ticks": "outside"
           },
           "baxis": {
            "gridcolor": "rgb(232,232,232)",
            "linecolor": "rgb(36,36,36)",
            "showgrid": false,
            "showline": true,
            "ticks": "outside"
           },
           "bgcolor": "white",
           "caxis": {
            "gridcolor": "rgb(232,232,232)",
            "linecolor": "rgb(36,36,36)",
            "showgrid": false,
            "showline": true,
            "ticks": "outside"
           }
          },
          "title": {
           "x": 0.05
          },
          "xaxis": {
           "automargin": true,
           "gridcolor": "rgb(232,232,232)",
           "linecolor": "rgb(36,36,36)",
           "showgrid": false,
           "showline": true,
           "ticks": "outside",
           "title": {
            "standoff": 15
           },
           "zeroline": false,
           "zerolinecolor": "rgb(36,36,36)"
          },
          "yaxis": {
           "automargin": true,
           "gridcolor": "rgb(232,232,232)",
           "linecolor": "rgb(36,36,36)",
           "showgrid": false,
           "showline": true,
           "ticks": "outside",
           "title": {
            "standoff": 15
           },
           "zeroline": false,
           "zerolinecolor": "rgb(36,36,36)"
          }
         }
        },
        "xaxis": {
         "anchor": "y",
         "domain": [
          0.0,
          1.0
         ],
         "scaleanchor": "y",
         "constrain": "domain"
        },
        "yaxis": {
         "anchor": "x",
         "domain": [
          0.0,
          1.0
         ],
         "autorange": "reversed",
         "constrain": "domain"
        },
        "coloraxis": {
         "colorscale": [
          [
           0.0,
           "#0d0887"
          ],
          [
           0.1111111111111111,
           "#46039f"
          ],
          [
           0.2222222222222222,
           "#7201a8"
          ],
          [
           0.3333333333333333,
           "#9c179e"
          ],
          [
           0.4444444444444444,
           "#bd3786"
          ],
          [
           0.5555555555555556,
           "#d8576b"
          ],
          [
           0.6666666666666666,
           "#ed7953"
          ],
          [
           0.7777777777777778,
           "#fb9f3a"
          ],
          [
           0.8888888888888888,
           "#fdca26"
          ],
          [
           1.0,
           "#f0f921"
          ]
         ]
        },
        "margin": {
         "t": 60
        }
       },
       "config": {
        "plotlyServerURL": "https://plot.ly"
       }
      },
      "text/html": "<div>                            <div id=\"08f69961-d2c2-421e-87da-daf7f06757e4\" class=\"plotly-graph-div\" style=\"height:525px; width:100%;\"></div>            <script type=\"text/javascript\">                require([\"plotly\"], function(Plotly) {                    window.PLOTLYENV=window.PLOTLYENV || {};                                    if (document.getElementById(\"08f69961-d2c2-421e-87da-daf7f06757e4\")) {                    Plotly.newPlot(                        \"08f69961-d2c2-421e-87da-daf7f06757e4\",                        [{\"coloraxis\":\"coloraxis\",\"name\":\"0\",\"x\":[\"cat\",\"SDG1\",\"SDG2\",\"SDG3\",\"SDG4\",\"SDG5\",\"SDG6\",\"SDG7\",\"SDG8\",\"SDG9\",\"SDG10\",\"SDG11\",\"SDG12\",\"SDG13\",\"SDG14\",\"SDG15\",\"SDG16\",\"SDG17\"],\"y\":[\"AI\",\"IOT\",\"additive_manufacturing\",\"big_data\",\"blockchain\",\"computing_infrastructure\",\"robotics\"],\"z\":[[\"AI\",0.49298063,0.6042978,0.5479529,0.48692077,0.38651305,0.5855344,0.66121584,0.5331017,0.57730055,0.54764456,0.58214176,0.58126795,0.55537325,0.5867328,0.5699171,0.4930523,0.54223025],[\"IOT\",0.5144336,0.5829803,0.522464,0.41465604,0.29463208,0.56325495,0.44770125,0.5006411,0.48258555,0.4427623,0.5017061,0.54079276,0.5029713,0.45032474,0.55556005,0.34230757,0.46783718],[\"additive_manufacturing\",0.43168503,0.4899689,0.6283972,0.4783369,0.32548067,0.7348778,0.63845867,0.46154794,0.53701663,0.4997642,0.6511235,0.56622016,0.5478928,0.6452285,0.56511116,0.44293645,0.45416704],[\"big_data\",0.44164023,0.5828298,0.412534,0.40967563,0.357421,0.48924404,0.3623053,0.42814934,0.42317763,0.4464505,0.51460516,0.41925335,0.42084408,0.47833917,0.4860396,0.36259836,0.4723222],[\"blockchain\",0.40660676,0.48024178,0.36233142,0.34485093,0.11588573,0.5756825,0.47500372,0.4303511,0.5162255,0.4440059,0.53186715,0.48397705,0.44059193,0.4652835,0.4876525,0.25610003,0.46837628],[\"computing_infrastructure\",0.47096917,0.5552951,0.4950906,0.4807654,0.30037233,0.54232186,0.48443064,0.49054864,0.4776473,0.44722685,0.5220045,0.4561463,0.4910627,0.5057013,0.5350582,0.28709477,0.50068086],[\"robotics\",0.4201082,0.62555915,0.4904863,0.4807008,0.23801647,0.5792299,0.59207016,0.46590862,0.5760234,0.4983385,0.52583915,0.5519083,0.5141572,0.5400634,0.5652863,0.38835156,0.51749945]],\"type\":\"heatmap\",\"xaxis\":\"x\",\"yaxis\":\"y\",\"hovertemplate\":\"x: %{x}<br>y: %{y}<br>color: %{z}<extra></extra>\"}],                        {\"template\":{\"data\":{\"barpolar\":[{\"marker\":{\"line\":{\"color\":\"white\",\"width\":0.5},\"pattern\":{\"fillmode\":\"overlay\",\"size\":10,\"solidity\":0.2}},\"type\":\"barpolar\"}],\"bar\":[{\"error_x\":{\"color\":\"rgb(36,36,36)\"},\"error_y\":{\"color\":\"rgb(36,36,36)\"},\"marker\":{\"line\":{\"color\":\"white\",\"width\":0.5},\"pattern\":{\"fillmode\":\"overlay\",\"size\":10,\"solidity\":0.2}},\"type\":\"bar\"}],\"carpet\":[{\"aaxis\":{\"endlinecolor\":\"rgb(36,36,36)\",\"gridcolor\":\"white\",\"linecolor\":\"white\",\"minorgridcolor\":\"white\",\"startlinecolor\":\"rgb(36,36,36)\"},\"baxis\":{\"endlinecolor\":\"rgb(36,36,36)\",\"gridcolor\":\"white\",\"linecolor\":\"white\",\"minorgridcolor\":\"white\",\"startlinecolor\":\"rgb(36,36,36)\"},\"type\":\"carpet\"}],\"choropleth\":[{\"colorbar\":{\"outlinewidth\":1,\"tickcolor\":\"rgb(36,36,36)\",\"ticks\":\"outside\"},\"type\":\"choropleth\"}],\"contourcarpet\":[{\"colorbar\":{\"outlinewidth\":1,\"tickcolor\":\"rgb(36,36,36)\",\"ticks\":\"outside\"},\"type\":\"contourcarpet\"}],\"contour\":[{\"colorbar\":{\"outlinewidth\":1,\"tickcolor\":\"rgb(36,36,36)\",\"ticks\":\"outside\"},\"colorscale\":[[0.0,\"#440154\"],[0.1111111111111111,\"#482878\"],[0.2222222222222222,\"#3e4989\"],[0.3333333333333333,\"#31688e\"],[0.4444444444444444,\"#26828e\"],[0.5555555555555556,\"#1f9e89\"],[0.6666666666666666,\"#35b779\"],[0.7777777777777778,\"#6ece58\"],[0.8888888888888888,\"#b5de2b\"],[1.0,\"#fde725\"]],\"type\":\"contour\"}],\"heatmapgl\":[{\"colorbar\":{\"outlinewidth\":1,\"tickcolor\":\"rgb(36,36,36)\",\"ticks\":\"outside\"},\"colorscale\":[[0.0,\"#440154\"],[0.1111111111111111,\"#482878\"],[0.2222222222222222,\"#3e4989\"],[0.3333333333333333,\"#31688e\"],[0.4444444444444444,\"#26828e\"],[0.5555555555555556,\"#1f9e89\"],[0.6666666666666666,\"#35b779\"],[0.7777777777777778,\"#6ece58\"],[0.8888888888888888,\"#b5de2b\"],[1.0,\"#fde725\"]],\"type\":\"heatmapgl\"}],\"heatmap\":[{\"colorbar\":{\"outlinewidth\":1,\"tickcolor\":\"rgb(36,36,36)\",\"ticks\":\"outside\"},\"colorscale\":[[0.0,\"#440154\"],[0.1111111111111111,\"#482878\"],[0.2222222222222222,\"#3e4989\"],[0.3333333333333333,\"#31688e\"],[0.4444444444444444,\"#26828e\"],[0.5555555555555556,\"#1f9e89\"],[0.6666666666666666,\"#35b779\"],[0.7777777777777778,\"#6ece58\"],[0.8888888888888888,\"#b5de2b\"],[1.0,\"#fde725\"]],\"type\":\"heatmap\"}],\"histogram2dcontour\":[{\"colorbar\":{\"outlinewidth\":1,\"tickcolor\":\"rgb(36,36,36)\",\"ticks\":\"outside\"},\"colorscale\":[[0.0,\"#440154\"],[0.1111111111111111,\"#482878\"],[0.2222222222222222,\"#3e4989\"],[0.3333333333333333,\"#31688e\"],[0.4444444444444444,\"#26828e\"],[0.5555555555555556,\"#1f9e89\"],[0.6666666666666666,\"#35b779\"],[0.7777777777777778,\"#6ece58\"],[0.8888888888888888,\"#b5de2b\"],[1.0,\"#fde725\"]],\"type\":\"histogram2dcontour\"}],\"histogram2d\":[{\"colorbar\":{\"outlinewidth\":1,\"tickcolor\":\"rgb(36,36,36)\",\"ticks\":\"outside\"},\"colorscale\":[[0.0,\"#440154\"],[0.1111111111111111,\"#482878\"],[0.2222222222222222,\"#3e4989\"],[0.3333333333333333,\"#31688e\"],[0.4444444444444444,\"#26828e\"],[0.5555555555555556,\"#1f9e89\"],[0.6666666666666666,\"#35b779\"],[0.7777777777777778,\"#6ece58\"],[0.8888888888888888,\"#b5de2b\"],[1.0,\"#fde725\"]],\"type\":\"histogram2d\"}],\"histogram\":[{\"marker\":{\"line\":{\"color\":\"white\",\"width\":0.6}},\"type\":\"histogram\"}],\"mesh3d\":[{\"colorbar\":{\"outlinewidth\":1,\"tickcolor\":\"rgb(36,36,36)\",\"ticks\":\"outside\"},\"type\":\"mesh3d\"}],\"parcoords\":[{\"line\":{\"colorbar\":{\"outlinewidth\":1,\"tickcolor\":\"rgb(36,36,36)\",\"ticks\":\"outside\"}},\"type\":\"parcoords\"}],\"pie\":[{\"automargin\":true,\"type\":\"pie\"}],\"scatter3d\":[{\"line\":{\"colorbar\":{\"outlinewidth\":1,\"tickcolor\":\"rgb(36,36,36)\",\"ticks\":\"outside\"}},\"marker\":{\"colorbar\":{\"outlinewidth\":1,\"tickcolor\":\"rgb(36,36,36)\",\"ticks\":\"outside\"}},\"type\":\"scatter3d\"}],\"scattercarpet\":[{\"marker\":{\"colorbar\":{\"outlinewidth\":1,\"tickcolor\":\"rgb(36,36,36)\",\"ticks\":\"outside\"}},\"type\":\"scattercarpet\"}],\"scattergeo\":[{\"marker\":{\"colorbar\":{\"outlinewidth\":1,\"tickcolor\":\"rgb(36,36,36)\",\"ticks\":\"outside\"}},\"type\":\"scattergeo\"}],\"scattergl\":[{\"marker\":{\"colorbar\":{\"outlinewidth\":1,\"tickcolor\":\"rgb(36,36,36)\",\"ticks\":\"outside\"}},\"type\":\"scattergl\"}],\"scattermapbox\":[{\"marker\":{\"colorbar\":{\"outlinewidth\":1,\"tickcolor\":\"rgb(36,36,36)\",\"ticks\":\"outside\"}},\"type\":\"scattermapbox\"}],\"scatterpolargl\":[{\"marker\":{\"colorbar\":{\"outlinewidth\":1,\"tickcolor\":\"rgb(36,36,36)\",\"ticks\":\"outside\"}},\"type\":\"scatterpolargl\"}],\"scatterpolar\":[{\"marker\":{\"colorbar\":{\"outlinewidth\":1,\"tickcolor\":\"rgb(36,36,36)\",\"ticks\":\"outside\"}},\"type\":\"scatterpolar\"}],\"scatter\":[{\"fillpattern\":{\"fillmode\":\"overlay\",\"size\":10,\"solidity\":0.2},\"type\":\"scatter\"}],\"scatterternary\":[{\"marker\":{\"colorbar\":{\"outlinewidth\":1,\"tickcolor\":\"rgb(36,36,36)\",\"ticks\":\"outside\"}},\"type\":\"scatterternary\"}],\"surface\":[{\"colorbar\":{\"outlinewidth\":1,\"tickcolor\":\"rgb(36,36,36)\",\"ticks\":\"outside\"},\"colorscale\":[[0.0,\"#440154\"],[0.1111111111111111,\"#482878\"],[0.2222222222222222,\"#3e4989\"],[0.3333333333333333,\"#31688e\"],[0.4444444444444444,\"#26828e\"],[0.5555555555555556,\"#1f9e89\"],[0.6666666666666666,\"#35b779\"],[0.7777777777777778,\"#6ece58\"],[0.8888888888888888,\"#b5de2b\"],[1.0,\"#fde725\"]],\"type\":\"surface\"}],\"table\":[{\"cells\":{\"fill\":{\"color\":\"rgb(237,237,237)\"},\"line\":{\"color\":\"white\"}},\"header\":{\"fill\":{\"color\":\"rgb(217,217,217)\"},\"line\":{\"color\":\"white\"}},\"type\":\"table\"}]},\"layout\":{\"annotationdefaults\":{\"arrowhead\":0,\"arrowwidth\":1},\"autotypenumbers\":\"strict\",\"coloraxis\":{\"colorbar\":{\"outlinewidth\":1,\"tickcolor\":\"rgb(36,36,36)\",\"ticks\":\"outside\"}},\"colorscale\":{\"diverging\":[[0.0,\"rgb(103,0,31)\"],[0.1,\"rgb(178,24,43)\"],[0.2,\"rgb(214,96,77)\"],[0.3,\"rgb(244,165,130)\"],[0.4,\"rgb(253,219,199)\"],[0.5,\"rgb(247,247,247)\"],[0.6,\"rgb(209,229,240)\"],[0.7,\"rgb(146,197,222)\"],[0.8,\"rgb(67,147,195)\"],[0.9,\"rgb(33,102,172)\"],[1.0,\"rgb(5,48,97)\"]],\"sequential\":[[0.0,\"#440154\"],[0.1111111111111111,\"#482878\"],[0.2222222222222222,\"#3e4989\"],[0.3333333333333333,\"#31688e\"],[0.4444444444444444,\"#26828e\"],[0.5555555555555556,\"#1f9e89\"],[0.6666666666666666,\"#35b779\"],[0.7777777777777778,\"#6ece58\"],[0.8888888888888888,\"#b5de2b\"],[1.0,\"#fde725\"]],\"sequentialminus\":[[0.0,\"#440154\"],[0.1111111111111111,\"#482878\"],[0.2222222222222222,\"#3e4989\"],[0.3333333333333333,\"#31688e\"],[0.4444444444444444,\"#26828e\"],[0.5555555555555556,\"#1f9e89\"],[0.6666666666666666,\"#35b779\"],[0.7777777777777778,\"#6ece58\"],[0.8888888888888888,\"#b5de2b\"],[1.0,\"#fde725\"]]},\"colorway\":[\"#1F77B4\",\"#FF7F0E\",\"#2CA02C\",\"#D62728\",\"#9467BD\",\"#8C564B\",\"#E377C2\",\"#7F7F7F\",\"#BCBD22\",\"#17BECF\"],\"font\":{\"color\":\"rgb(36,36,36)\"},\"geo\":{\"bgcolor\":\"white\",\"lakecolor\":\"white\",\"landcolor\":\"white\",\"showlakes\":true,\"showland\":true,\"subunitcolor\":\"white\"},\"hoverlabel\":{\"align\":\"left\"},\"hovermode\":\"closest\",\"mapbox\":{\"style\":\"light\"},\"paper_bgcolor\":\"white\",\"plot_bgcolor\":\"white\",\"polar\":{\"angularaxis\":{\"gridcolor\":\"rgb(232,232,232)\",\"linecolor\":\"rgb(36,36,36)\",\"showgrid\":false,\"showline\":true,\"ticks\":\"outside\"},\"bgcolor\":\"white\",\"radialaxis\":{\"gridcolor\":\"rgb(232,232,232)\",\"linecolor\":\"rgb(36,36,36)\",\"showgrid\":false,\"showline\":true,\"ticks\":\"outside\"}},\"scene\":{\"xaxis\":{\"backgroundcolor\":\"white\",\"gridcolor\":\"rgb(232,232,232)\",\"gridwidth\":2,\"linecolor\":\"rgb(36,36,36)\",\"showbackground\":true,\"showgrid\":false,\"showline\":true,\"ticks\":\"outside\",\"zeroline\":false,\"zerolinecolor\":\"rgb(36,36,36)\"},\"yaxis\":{\"backgroundcolor\":\"white\",\"gridcolor\":\"rgb(232,232,232)\",\"gridwidth\":2,\"linecolor\":\"rgb(36,36,36)\",\"showbackground\":true,\"showgrid\":false,\"showline\":true,\"ticks\":\"outside\",\"zeroline\":false,\"zerolinecolor\":\"rgb(36,36,36)\"},\"zaxis\":{\"backgroundcolor\":\"white\",\"gridcolor\":\"rgb(232,232,232)\",\"gridwidth\":2,\"linecolor\":\"rgb(36,36,36)\",\"showbackground\":true,\"showgrid\":false,\"showline\":true,\"ticks\":\"outside\",\"zeroline\":false,\"zerolinecolor\":\"rgb(36,36,36)\"}},\"shapedefaults\":{\"fillcolor\":\"black\",\"line\":{\"width\":0},\"opacity\":0.3},\"ternary\":{\"aaxis\":{\"gridcolor\":\"rgb(232,232,232)\",\"linecolor\":\"rgb(36,36,36)\",\"showgrid\":false,\"showline\":true,\"ticks\":\"outside\"},\"baxis\":{\"gridcolor\":\"rgb(232,232,232)\",\"linecolor\":\"rgb(36,36,36)\",\"showgrid\":false,\"showline\":true,\"ticks\":\"outside\"},\"bgcolor\":\"white\",\"caxis\":{\"gridcolor\":\"rgb(232,232,232)\",\"linecolor\":\"rgb(36,36,36)\",\"showgrid\":false,\"showline\":true,\"ticks\":\"outside\"}},\"title\":{\"x\":0.05},\"xaxis\":{\"automargin\":true,\"gridcolor\":\"rgb(232,232,232)\",\"linecolor\":\"rgb(36,36,36)\",\"showgrid\":false,\"showline\":true,\"ticks\":\"outside\",\"title\":{\"standoff\":15},\"zeroline\":false,\"zerolinecolor\":\"rgb(36,36,36)\"},\"yaxis\":{\"automargin\":true,\"gridcolor\":\"rgb(232,232,232)\",\"linecolor\":\"rgb(36,36,36)\",\"showgrid\":false,\"showline\":true,\"ticks\":\"outside\",\"title\":{\"standoff\":15},\"zeroline\":false,\"zerolinecolor\":\"rgb(36,36,36)\"}}},\"xaxis\":{\"anchor\":\"y\",\"domain\":[0.0,1.0],\"scaleanchor\":\"y\",\"constrain\":\"domain\"},\"yaxis\":{\"anchor\":\"x\",\"domain\":[0.0,1.0],\"autorange\":\"reversed\",\"constrain\":\"domain\"},\"coloraxis\":{\"colorscale\":[[0.0,\"#0d0887\"],[0.1111111111111111,\"#46039f\"],[0.2222222222222222,\"#7201a8\"],[0.3333333333333333,\"#9c179e\"],[0.4444444444444444,\"#bd3786\"],[0.5555555555555556,\"#d8576b\"],[0.6666666666666666,\"#ed7953\"],[0.7777777777777778,\"#fb9f3a\"],[0.8888888888888888,\"#fdca26\"],[1.0,\"#f0f921\"]]},\"margin\":{\"t\":60}},                        {\"responsive\": true}                    ).then(function(){\n                            \nvar gd = document.getElementById('08f69961-d2c2-421e-87da-daf7f06757e4');\nvar x = new MutationObserver(function (mutations, observer) {{\n        var display = window.getComputedStyle(gd).display;\n        if (!display || display === 'none') {{\n            console.log([gd, 'removed!']);\n            Plotly.purge(gd);\n            observer.disconnect();\n        }}\n}});\n\n// Listen for the removal of the full notebook cells\nvar notebookContainer = gd.closest('#notebook-container');\nif (notebookContainer) {{\n    x.observe(notebookContainer, {childList: true});\n}}\n\n// Listen for the clearing of the current output cell\nvar outputEl = gd.closest('.output');\nif (outputEl) {{\n    x.observe(outputEl, {childList: true});\n}}\n\n                        })                };                });            </script>        </div>"
     },
     "metadata": {},
     "output_type": "display_data"
    }
   ],
   "source": [
    "import plotly.express as px\n",
    "\n",
    "fig = px.imshow(df, y=df.cat)\n",
    "fig.update_layout(template=\"simple_white\")\n",
    "fig.show()"
   ],
   "metadata": {
    "collapsed": false
   }
  },
  {
   "cell_type": "code",
   "execution_count": 57,
   "outputs": [],
   "source": [
    "fig.write_image(\"../img/sent_heatmap.jpeg\")"
   ],
   "metadata": {
    "collapsed": false
   }
  },
  {
   "cell_type": "code",
   "execution_count": 35,
   "outputs": [
    {
     "data": {
      "text/plain": "                           sent   SDG1   SDG2   SDG3   SDG4   SDG5   SDG6  \\\ncat                                                                         \nAI                        37715  37715  37715  37715  37715  37715  37715   \nIOT                       18530  18530  18530  18530  18530  18530  18530   \nadditive_manufacturing     3040   3040   3040   3040   3040   3040   3040   \nbig_data                   7564   7564   7564   7564   7564   7564   7564   \nblockchain                 1645   1645   1645   1645   1645   1645   1645   \ncomputing_infrastructure   8114   8114   8114   8114   8114   8114   8114   \nrobotics                  10289  10289  10289  10289  10289  10289  10289   \n\n                           SDG7   SDG8   SDG9  SDG10  SDG11  SDG12  SDG13  \\\ncat                                                                         \nAI                        37715  37715  37715  37715  37715  37715  37715   \nIOT                       18530  18530  18530  18530  18530  18530  18530   \nadditive_manufacturing     3040   3040   3040   3040   3040   3040   3040   \nbig_data                   7564   7564   7564   7564   7564   7564   7564   \nblockchain                 1645   1645   1645   1645   1645   1645   1645   \ncomputing_infrastructure   8114   8114   8114   8114   8114   8114   8114   \nrobotics                  10289  10289  10289  10289  10289  10289  10289   \n\n                          SDG14  SDG15  SDG16  SDG17  \ncat                                                   \nAI                        37715  37715  37715  37715  \nIOT                       18530  18530  18530  18530  \nadditive_manufacturing     3040   3040   3040   3040  \nbig_data                   7564   7564   7564   7564  \nblockchain                 1645   1645   1645   1645  \ncomputing_infrastructure   8114   8114   8114   8114  \nrobotics                  10289  10289  10289  10289  ",
      "text/html": "<div>\n<style scoped>\n    .dataframe tbody tr th:only-of-type {\n        vertical-align: middle;\n    }\n\n    .dataframe tbody tr th {\n        vertical-align: top;\n    }\n\n    .dataframe thead th {\n        text-align: right;\n    }\n</style>\n<table border=\"1\" class=\"dataframe\">\n  <thead>\n    <tr style=\"text-align: right;\">\n      <th></th>\n      <th>sent</th>\n      <th>SDG1</th>\n      <th>SDG2</th>\n      <th>SDG3</th>\n      <th>SDG4</th>\n      <th>SDG5</th>\n      <th>SDG6</th>\n      <th>SDG7</th>\n      <th>SDG8</th>\n      <th>SDG9</th>\n      <th>SDG10</th>\n      <th>SDG11</th>\n      <th>SDG12</th>\n      <th>SDG13</th>\n      <th>SDG14</th>\n      <th>SDG15</th>\n      <th>SDG16</th>\n      <th>SDG17</th>\n    </tr>\n    <tr>\n      <th>cat</th>\n      <th></th>\n      <th></th>\n      <th></th>\n      <th></th>\n      <th></th>\n      <th></th>\n      <th></th>\n      <th></th>\n      <th></th>\n      <th></th>\n      <th></th>\n      <th></th>\n      <th></th>\n      <th></th>\n      <th></th>\n      <th></th>\n      <th></th>\n      <th></th>\n    </tr>\n  </thead>\n  <tbody>\n    <tr>\n      <th>AI</th>\n      <td>37715</td>\n      <td>37715</td>\n      <td>37715</td>\n      <td>37715</td>\n      <td>37715</td>\n      <td>37715</td>\n      <td>37715</td>\n      <td>37715</td>\n      <td>37715</td>\n      <td>37715</td>\n      <td>37715</td>\n      <td>37715</td>\n      <td>37715</td>\n      <td>37715</td>\n      <td>37715</td>\n      <td>37715</td>\n      <td>37715</td>\n      <td>37715</td>\n    </tr>\n    <tr>\n      <th>IOT</th>\n      <td>18530</td>\n      <td>18530</td>\n      <td>18530</td>\n      <td>18530</td>\n      <td>18530</td>\n      <td>18530</td>\n      <td>18530</td>\n      <td>18530</td>\n      <td>18530</td>\n      <td>18530</td>\n      <td>18530</td>\n      <td>18530</td>\n      <td>18530</td>\n      <td>18530</td>\n      <td>18530</td>\n      <td>18530</td>\n      <td>18530</td>\n      <td>18530</td>\n    </tr>\n    <tr>\n      <th>additive_manufacturing</th>\n      <td>3040</td>\n      <td>3040</td>\n      <td>3040</td>\n      <td>3040</td>\n      <td>3040</td>\n      <td>3040</td>\n      <td>3040</td>\n      <td>3040</td>\n      <td>3040</td>\n      <td>3040</td>\n      <td>3040</td>\n      <td>3040</td>\n      <td>3040</td>\n      <td>3040</td>\n      <td>3040</td>\n      <td>3040</td>\n      <td>3040</td>\n      <td>3040</td>\n    </tr>\n    <tr>\n      <th>big_data</th>\n      <td>7564</td>\n      <td>7564</td>\n      <td>7564</td>\n      <td>7564</td>\n      <td>7564</td>\n      <td>7564</td>\n      <td>7564</td>\n      <td>7564</td>\n      <td>7564</td>\n      <td>7564</td>\n      <td>7564</td>\n      <td>7564</td>\n      <td>7564</td>\n      <td>7564</td>\n      <td>7564</td>\n      <td>7564</td>\n      <td>7564</td>\n      <td>7564</td>\n    </tr>\n    <tr>\n      <th>blockchain</th>\n      <td>1645</td>\n      <td>1645</td>\n      <td>1645</td>\n      <td>1645</td>\n      <td>1645</td>\n      <td>1645</td>\n      <td>1645</td>\n      <td>1645</td>\n      <td>1645</td>\n      <td>1645</td>\n      <td>1645</td>\n      <td>1645</td>\n      <td>1645</td>\n      <td>1645</td>\n      <td>1645</td>\n      <td>1645</td>\n      <td>1645</td>\n      <td>1645</td>\n    </tr>\n    <tr>\n      <th>computing_infrastructure</th>\n      <td>8114</td>\n      <td>8114</td>\n      <td>8114</td>\n      <td>8114</td>\n      <td>8114</td>\n      <td>8114</td>\n      <td>8114</td>\n      <td>8114</td>\n      <td>8114</td>\n      <td>8114</td>\n      <td>8114</td>\n      <td>8114</td>\n      <td>8114</td>\n      <td>8114</td>\n      <td>8114</td>\n      <td>8114</td>\n      <td>8114</td>\n      <td>8114</td>\n    </tr>\n    <tr>\n      <th>robotics</th>\n      <td>10289</td>\n      <td>10289</td>\n      <td>10289</td>\n      <td>10289</td>\n      <td>10289</td>\n      <td>10289</td>\n      <td>10289</td>\n      <td>10289</td>\n      <td>10289</td>\n      <td>10289</td>\n      <td>10289</td>\n      <td>10289</td>\n      <td>10289</td>\n      <td>10289</td>\n      <td>10289</td>\n      <td>10289</td>\n      <td>10289</td>\n      <td>10289</td>\n    </tr>\n  </tbody>\n</table>\n</div>"
     },
     "execution_count": 35,
     "metadata": {},
     "output_type": "execute_result"
    }
   ],
   "source": [],
   "metadata": {
    "collapsed": false
   }
  },
  {
   "cell_type": "code",
   "execution_count": 66,
   "outputs": [
    {
     "data": {
      "text/plain": "                              SDG1      SDG2      SDG3      SDG4      SDG5  \\\ncat                                                                          \nAI                        0.492981  0.604298  0.547953  0.486921  0.386513   \nIOT                       0.514434  0.582980  0.522464  0.414656       NaN   \nadditive_manufacturing         NaN       NaN  0.628397  0.478337       NaN   \nbig_data                  0.441640  0.582830  0.412534  0.409676       NaN   \nblockchain                     NaN       NaN  0.362331       NaN       NaN   \ncomputing_infrastructure       NaN  0.555295  0.495091  0.480765       NaN   \nrobotics                  0.420108  0.625559  0.490486  0.480701       NaN   \n\n                              SDG6      SDG7      SDG8      SDG9     SDG10  \\\ncat                                                                          \nAI                        0.585534  0.661216  0.533102  0.577301  0.547645   \nIOT                       0.563255  0.447701  0.500641  0.482586  0.442762   \nadditive_manufacturing    0.734878  0.638459  0.461548  0.537017       NaN   \nbig_data                  0.489244  0.362305  0.428149  0.423178  0.446451   \nblockchain                     NaN  0.475004  0.430351  0.516226       NaN   \ncomputing_infrastructure  0.542322  0.484431  0.490549  0.477647  0.447227   \nrobotics                  0.579230  0.592070  0.465909  0.576023  0.498338   \n\n                             SDG11     SDG12     SDG13     SDG14     SDG15  \\\ncat                                                                          \nAI                        0.582142  0.581268  0.555373  0.586733  0.569917   \nIOT                       0.501706  0.540793  0.502971  0.450325  0.555560   \nadditive_manufacturing    0.651124  0.566220  0.547893  0.645229  0.565111   \nbig_data                  0.514605  0.419253  0.420844  0.478339  0.486040   \nblockchain                0.531867  0.483977  0.440592       NaN  0.487653   \ncomputing_infrastructure  0.522004  0.456146  0.491063  0.505701  0.535058   \nrobotics                  0.525839  0.551908  0.514157  0.540063  0.565286   \n\n                             SDG16     SDG17  \ncat                                           \nAI                        0.493052  0.542230  \nIOT                       0.342308  0.467837  \nadditive_manufacturing         NaN  0.454167  \nbig_data                  0.362598  0.472322  \nblockchain                0.256100  0.468376  \ncomputing_infrastructure  0.287095  0.500681  \nrobotics                  0.388352  0.517499  ",
      "text/html": "<div>\n<style scoped>\n    .dataframe tbody tr th:only-of-type {\n        vertical-align: middle;\n    }\n\n    .dataframe tbody tr th {\n        vertical-align: top;\n    }\n\n    .dataframe thead th {\n        text-align: right;\n    }\n</style>\n<table border=\"1\" class=\"dataframe\">\n  <thead>\n    <tr style=\"text-align: right;\">\n      <th></th>\n      <th>SDG1</th>\n      <th>SDG2</th>\n      <th>SDG3</th>\n      <th>SDG4</th>\n      <th>SDG5</th>\n      <th>SDG6</th>\n      <th>SDG7</th>\n      <th>SDG8</th>\n      <th>SDG9</th>\n      <th>SDG10</th>\n      <th>SDG11</th>\n      <th>SDG12</th>\n      <th>SDG13</th>\n      <th>SDG14</th>\n      <th>SDG15</th>\n      <th>SDG16</th>\n      <th>SDG17</th>\n    </tr>\n    <tr>\n      <th>cat</th>\n      <th></th>\n      <th></th>\n      <th></th>\n      <th></th>\n      <th></th>\n      <th></th>\n      <th></th>\n      <th></th>\n      <th></th>\n      <th></th>\n      <th></th>\n      <th></th>\n      <th></th>\n      <th></th>\n      <th></th>\n      <th></th>\n      <th></th>\n    </tr>\n  </thead>\n  <tbody>\n    <tr>\n      <th>AI</th>\n      <td>0.492981</td>\n      <td>0.604298</td>\n      <td>0.547953</td>\n      <td>0.486921</td>\n      <td>0.386513</td>\n      <td>0.585534</td>\n      <td>0.661216</td>\n      <td>0.533102</td>\n      <td>0.577301</td>\n      <td>0.547645</td>\n      <td>0.582142</td>\n      <td>0.581268</td>\n      <td>0.555373</td>\n      <td>0.586733</td>\n      <td>0.569917</td>\n      <td>0.493052</td>\n      <td>0.542230</td>\n    </tr>\n    <tr>\n      <th>IOT</th>\n      <td>0.514434</td>\n      <td>0.582980</td>\n      <td>0.522464</td>\n      <td>0.414656</td>\n      <td>NaN</td>\n      <td>0.563255</td>\n      <td>0.447701</td>\n      <td>0.500641</td>\n      <td>0.482586</td>\n      <td>0.442762</td>\n      <td>0.501706</td>\n      <td>0.540793</td>\n      <td>0.502971</td>\n      <td>0.450325</td>\n      <td>0.555560</td>\n      <td>0.342308</td>\n      <td>0.467837</td>\n    </tr>\n    <tr>\n      <th>additive_manufacturing</th>\n      <td>NaN</td>\n      <td>NaN</td>\n      <td>0.628397</td>\n      <td>0.478337</td>\n      <td>NaN</td>\n      <td>0.734878</td>\n      <td>0.638459</td>\n      <td>0.461548</td>\n      <td>0.537017</td>\n      <td>NaN</td>\n      <td>0.651124</td>\n      <td>0.566220</td>\n      <td>0.547893</td>\n      <td>0.645229</td>\n      <td>0.565111</td>\n      <td>NaN</td>\n      <td>0.454167</td>\n    </tr>\n    <tr>\n      <th>big_data</th>\n      <td>0.441640</td>\n      <td>0.582830</td>\n      <td>0.412534</td>\n      <td>0.409676</td>\n      <td>NaN</td>\n      <td>0.489244</td>\n      <td>0.362305</td>\n      <td>0.428149</td>\n      <td>0.423178</td>\n      <td>0.446451</td>\n      <td>0.514605</td>\n      <td>0.419253</td>\n      <td>0.420844</td>\n      <td>0.478339</td>\n      <td>0.486040</td>\n      <td>0.362598</td>\n      <td>0.472322</td>\n    </tr>\n    <tr>\n      <th>blockchain</th>\n      <td>NaN</td>\n      <td>NaN</td>\n      <td>0.362331</td>\n      <td>NaN</td>\n      <td>NaN</td>\n      <td>NaN</td>\n      <td>0.475004</td>\n      <td>0.430351</td>\n      <td>0.516226</td>\n      <td>NaN</td>\n      <td>0.531867</td>\n      <td>0.483977</td>\n      <td>0.440592</td>\n      <td>NaN</td>\n      <td>0.487653</td>\n      <td>0.256100</td>\n      <td>0.468376</td>\n    </tr>\n    <tr>\n      <th>computing_infrastructure</th>\n      <td>NaN</td>\n      <td>0.555295</td>\n      <td>0.495091</td>\n      <td>0.480765</td>\n      <td>NaN</td>\n      <td>0.542322</td>\n      <td>0.484431</td>\n      <td>0.490549</td>\n      <td>0.477647</td>\n      <td>0.447227</td>\n      <td>0.522004</td>\n      <td>0.456146</td>\n      <td>0.491063</td>\n      <td>0.505701</td>\n      <td>0.535058</td>\n      <td>0.287095</td>\n      <td>0.500681</td>\n    </tr>\n    <tr>\n      <th>robotics</th>\n      <td>0.420108</td>\n      <td>0.625559</td>\n      <td>0.490486</td>\n      <td>0.480701</td>\n      <td>NaN</td>\n      <td>0.579230</td>\n      <td>0.592070</td>\n      <td>0.465909</td>\n      <td>0.576023</td>\n      <td>0.498338</td>\n      <td>0.525839</td>\n      <td>0.551908</td>\n      <td>0.514157</td>\n      <td>0.540063</td>\n      <td>0.565286</td>\n      <td>0.388352</td>\n      <td>0.517499</td>\n    </tr>\n  </tbody>\n</table>\n</div>"
     },
     "execution_count": 66,
     "metadata": {},
     "output_type": "execute_result"
    }
   ],
   "source": [
    "# Same graphs only for intersection >=100 publications\n",
    "lst_ser = []\n",
    "for sdg in lst_sdg:\n",
    "    df = df_plot_table[df_plot_table[sdg]]\n",
    "    gr = df.groupby('cat')['sent'].aggregate(['count', 'mean'])\n",
    "    gr['mean'] =  np.where(gr['count'] > 100, gr['mean'], np.NAN)\n",
    "    lst_ser.append(gr['mean'].rename(sdg))\n",
    "    # lst_ser.append(df.groupby('cat')['sent'].mean().rename(str(sdg)))\n",
    "df = pd.concat(lst_ser, axis=1)\n",
    "df\n"
   ],
   "metadata": {
    "collapsed": false
   }
  },
  {
   "cell_type": "code",
   "execution_count": 70,
   "outputs": [
    {
     "data": {
      "text/plain": "                          count      mean\ncat                                      \nAI                          187  0.386513\nIOT                          19  0.294632\nadditive_manufacturing        3  0.325481\nbig_data                     23  0.357421\nblockchain                   13  0.115886\ncomputing_infrastructure      1  0.300372\nrobotics                     21  0.238016",
      "text/html": "<div>\n<style scoped>\n    .dataframe tbody tr th:only-of-type {\n        vertical-align: middle;\n    }\n\n    .dataframe tbody tr th {\n        vertical-align: top;\n    }\n\n    .dataframe thead th {\n        text-align: right;\n    }\n</style>\n<table border=\"1\" class=\"dataframe\">\n  <thead>\n    <tr style=\"text-align: right;\">\n      <th></th>\n      <th>count</th>\n      <th>mean</th>\n    </tr>\n    <tr>\n      <th>cat</th>\n      <th></th>\n      <th></th>\n    </tr>\n  </thead>\n  <tbody>\n    <tr>\n      <th>AI</th>\n      <td>187</td>\n      <td>0.386513</td>\n    </tr>\n    <tr>\n      <th>IOT</th>\n      <td>19</td>\n      <td>0.294632</td>\n    </tr>\n    <tr>\n      <th>additive_manufacturing</th>\n      <td>3</td>\n      <td>0.325481</td>\n    </tr>\n    <tr>\n      <th>big_data</th>\n      <td>23</td>\n      <td>0.357421</td>\n    </tr>\n    <tr>\n      <th>blockchain</th>\n      <td>13</td>\n      <td>0.115886</td>\n    </tr>\n    <tr>\n      <th>computing_infrastructure</th>\n      <td>1</td>\n      <td>0.300372</td>\n    </tr>\n    <tr>\n      <th>robotics</th>\n      <td>21</td>\n      <td>0.238016</td>\n    </tr>\n  </tbody>\n</table>\n</div>"
     },
     "execution_count": 70,
     "metadata": {},
     "output_type": "execute_result"
    }
   ],
   "source": [
    "# SDG 5\n",
    "df = df_plot_table[df_plot_table['SDG5']]\n",
    "gr5 = df.groupby('cat')['sent'].aggregate(['count', 'mean'])\n",
    "gr5"
   ],
   "metadata": {
    "collapsed": false
   }
  },
  {
   "cell_type": "code",
   "execution_count": 71,
   "outputs": [],
   "source": [],
   "metadata": {
    "collapsed": false
   }
  },
  {
   "cell_type": "code",
   "execution_count": 68,
   "outputs": [
    {
     "data": {
      "text/plain": "                          count      mean\ncat                                      \nAI                          187  0.386513\nIOT                          19  0.294632\nadditive_manufacturing        3  0.325481\nbig_data                     23  0.357421\nblockchain                   13  0.115886\ncomputing_infrastructure      1  0.300372\nrobotics                     21  0.238016",
      "text/html": "<div>\n<style scoped>\n    .dataframe tbody tr th:only-of-type {\n        vertical-align: middle;\n    }\n\n    .dataframe tbody tr th {\n        vertical-align: top;\n    }\n\n    .dataframe thead th {\n        text-align: right;\n    }\n</style>\n<table border=\"1\" class=\"dataframe\">\n  <thead>\n    <tr style=\"text-align: right;\">\n      <th></th>\n      <th>count</th>\n      <th>mean</th>\n    </tr>\n    <tr>\n      <th>cat</th>\n      <th></th>\n      <th></th>\n    </tr>\n  </thead>\n  <tbody>\n    <tr>\n      <th>AI</th>\n      <td>187</td>\n      <td>0.386513</td>\n    </tr>\n    <tr>\n      <th>IOT</th>\n      <td>19</td>\n      <td>0.294632</td>\n    </tr>\n    <tr>\n      <th>additive_manufacturing</th>\n      <td>3</td>\n      <td>0.325481</td>\n    </tr>\n    <tr>\n      <th>big_data</th>\n      <td>23</td>\n      <td>0.357421</td>\n    </tr>\n    <tr>\n      <th>blockchain</th>\n      <td>13</td>\n      <td>0.115886</td>\n    </tr>\n    <tr>\n      <th>computing_infrastructure</th>\n      <td>1</td>\n      <td>0.300372</td>\n    </tr>\n    <tr>\n      <th>robotics</th>\n      <td>21</td>\n      <td>0.238016</td>\n    </tr>\n  </tbody>\n</table>\n</div>"
     },
     "execution_count": 68,
     "metadata": {},
     "output_type": "execute_result"
    }
   ],
   "source": [
    "# SDG 16\n",
    "df = df_plot_table[df_plot_table['SDG5']]\n",
    "gr16 = df.groupby('cat')['sent'].aggregate(['count', 'mean'])\n",
    "gr16"
   ],
   "metadata": {
    "collapsed": false
   }
  },
  {
   "cell_type": "code",
   "execution_count": null,
   "outputs": [],
   "source": [],
   "metadata": {
    "collapsed": false
   }
  },
  {
   "cell_type": "code",
   "execution_count": 65,
   "outputs": [
    {
     "data": {
      "application/vnd.plotly.v1+json": {
       "data": [
        {
         "coloraxis": "coloraxis",
         "name": "0",
         "x": [
          "SDG1",
          "SDG2",
          "SDG3",
          "SDG4",
          "SDG5",
          "SDG6",
          "SDG7",
          "SDG8",
          "SDG9",
          "SDG10",
          "SDG11",
          "SDG12",
          "SDG13",
          "SDG14",
          "SDG15",
          "SDG16",
          "SDG17"
         ],
         "y": [
          "AI",
          "IOT",
          "additive_manufacturing",
          "big_data",
          "blockchain",
          "computing_infrastructure",
          "robotics"
         ],
         "z": [
          [
           0.49298062920570374,
           0.6042978167533875,
           0.5479528903961182,
           0.4869207739830017,
           0.3865130543708801,
           0.585534393787384,
           0.6612158417701721,
           0.5331016778945923,
           0.5773005485534668,
           0.5476445555686951,
           0.5821417570114136,
           0.5812679529190063,
           0.5553732514381409,
           0.586732804775238,
           0.5699170827865601,
           0.49305230379104614,
           0.5422302484512329
          ],
          [
           null,
           0.5829802751541138,
           0.5224639773368835,
           0.41465604305267334,
           null,
           0.5632549524307251,
           0.44770124554634094,
           0.5006411075592041,
           0.4825855493545532,
           null,
           0.5017061233520508,
           0.5407927632331848,
           0.5029712915420532,
           0.45032474398612976,
           0.5555600523948669,
           0.34230756759643555,
           0.4678371846675873
          ],
          [
           null,
           null,
           0.6283972263336182,
           null,
           null,
           0.7348778247833252,
           0.6384586691856384,
           0.46154794096946716,
           0.5370166301727295,
           null,
           0.6511235237121582,
           0.5662201642990112,
           0.5478928089141846,
           0.6452285051345825,
           0.5651111602783203,
           null,
           null
          ],
          [
           0.4416402280330658,
           0.5828297734260559,
           0.4125339984893799,
           0.40967562794685364,
           null,
           0.4892440438270569,
           0.36230531334877014,
           0.42814934253692627,
           0.4231776297092438,
           null,
           0.5146051645278931,
           0.4192533493041992,
           0.42084407806396484,
           0.47833916544914246,
           0.4860396087169647,
           0.36259835958480835,
           0.4723221957683563
          ],
          [
           null,
           null,
           0.36233142018318176,
           null,
           null,
           null,
           0.475003719329834,
           null,
           null,
           null,
           0.5318671464920044,
           0.4839770495891571,
           0.4405919313430786,
           null,
           0.4876525104045868,
           0.25610002875328064,
           0.4683762788772583
          ],
          [
           null,
           null,
           0.4950906038284302,
           0.4807654023170471,
           null,
           0.5423218607902527,
           0.4844306409358978,
           0.49054864048957825,
           0.4776473045349121,
           0.4472268521785736,
           0.5220044851303101,
           0.4561462998390198,
           0.4910627007484436,
           0.5057013034820557,
           0.5350582003593445,
           0.28709477186203003,
           0.5006808638572693
          ],
          [
           null,
           0.6255591511726379,
           0.4904862940311432,
           0.4807007908821106,
           null,
           0.5792298913002014,
           0.5920701622962952,
           0.46590861678123474,
           0.5760233998298645,
           0.4983384907245636,
           0.5258391499519348,
           0.5519083142280579,
           0.5141571760177612,
           0.5400633811950684,
           0.5652862787246704,
           0.38835155963897705,
           0.5174994468688965
          ]
         ],
         "type": "heatmap",
         "xaxis": "x",
         "yaxis": "y",
         "hovertemplate": "x: %{x}<br>cat: %{y}<br>color: %{z}<extra></extra>"
        }
       ],
       "layout": {
        "template": {
         "data": {
          "barpolar": [
           {
            "marker": {
             "line": {
              "color": "white",
              "width": 0.5
             },
             "pattern": {
              "fillmode": "overlay",
              "size": 10,
              "solidity": 0.2
             }
            },
            "type": "barpolar"
           }
          ],
          "bar": [
           {
            "error_x": {
             "color": "rgb(36,36,36)"
            },
            "error_y": {
             "color": "rgb(36,36,36)"
            },
            "marker": {
             "line": {
              "color": "white",
              "width": 0.5
             },
             "pattern": {
              "fillmode": "overlay",
              "size": 10,
              "solidity": 0.2
             }
            },
            "type": "bar"
           }
          ],
          "carpet": [
           {
            "aaxis": {
             "endlinecolor": "rgb(36,36,36)",
             "gridcolor": "white",
             "linecolor": "white",
             "minorgridcolor": "white",
             "startlinecolor": "rgb(36,36,36)"
            },
            "baxis": {
             "endlinecolor": "rgb(36,36,36)",
             "gridcolor": "white",
             "linecolor": "white",
             "minorgridcolor": "white",
             "startlinecolor": "rgb(36,36,36)"
            },
            "type": "carpet"
           }
          ],
          "choropleth": [
           {
            "colorbar": {
             "outlinewidth": 1,
             "tickcolor": "rgb(36,36,36)",
             "ticks": "outside"
            },
            "type": "choropleth"
           }
          ],
          "contourcarpet": [
           {
            "colorbar": {
             "outlinewidth": 1,
             "tickcolor": "rgb(36,36,36)",
             "ticks": "outside"
            },
            "type": "contourcarpet"
           }
          ],
          "contour": [
           {
            "colorbar": {
             "outlinewidth": 1,
             "tickcolor": "rgb(36,36,36)",
             "ticks": "outside"
            },
            "colorscale": [
             [
              0.0,
              "#440154"
             ],
             [
              0.1111111111111111,
              "#482878"
             ],
             [
              0.2222222222222222,
              "#3e4989"
             ],
             [
              0.3333333333333333,
              "#31688e"
             ],
             [
              0.4444444444444444,
              "#26828e"
             ],
             [
              0.5555555555555556,
              "#1f9e89"
             ],
             [
              0.6666666666666666,
              "#35b779"
             ],
             [
              0.7777777777777778,
              "#6ece58"
             ],
             [
              0.8888888888888888,
              "#b5de2b"
             ],
             [
              1.0,
              "#fde725"
             ]
            ],
            "type": "contour"
           }
          ],
          "heatmapgl": [
           {
            "colorbar": {
             "outlinewidth": 1,
             "tickcolor": "rgb(36,36,36)",
             "ticks": "outside"
            },
            "colorscale": [
             [
              0.0,
              "#440154"
             ],
             [
              0.1111111111111111,
              "#482878"
             ],
             [
              0.2222222222222222,
              "#3e4989"
             ],
             [
              0.3333333333333333,
              "#31688e"
             ],
             [
              0.4444444444444444,
              "#26828e"
             ],
             [
              0.5555555555555556,
              "#1f9e89"
             ],
             [
              0.6666666666666666,
              "#35b779"
             ],
             [
              0.7777777777777778,
              "#6ece58"
             ],
             [
              0.8888888888888888,
              "#b5de2b"
             ],
             [
              1.0,
              "#fde725"
             ]
            ],
            "type": "heatmapgl"
           }
          ],
          "heatmap": [
           {
            "colorbar": {
             "outlinewidth": 1,
             "tickcolor": "rgb(36,36,36)",
             "ticks": "outside"
            },
            "colorscale": [
             [
              0.0,
              "#440154"
             ],
             [
              0.1111111111111111,
              "#482878"
             ],
             [
              0.2222222222222222,
              "#3e4989"
             ],
             [
              0.3333333333333333,
              "#31688e"
             ],
             [
              0.4444444444444444,
              "#26828e"
             ],
             [
              0.5555555555555556,
              "#1f9e89"
             ],
             [
              0.6666666666666666,
              "#35b779"
             ],
             [
              0.7777777777777778,
              "#6ece58"
             ],
             [
              0.8888888888888888,
              "#b5de2b"
             ],
             [
              1.0,
              "#fde725"
             ]
            ],
            "type": "heatmap"
           }
          ],
          "histogram2dcontour": [
           {
            "colorbar": {
             "outlinewidth": 1,
             "tickcolor": "rgb(36,36,36)",
             "ticks": "outside"
            },
            "colorscale": [
             [
              0.0,
              "#440154"
             ],
             [
              0.1111111111111111,
              "#482878"
             ],
             [
              0.2222222222222222,
              "#3e4989"
             ],
             [
              0.3333333333333333,
              "#31688e"
             ],
             [
              0.4444444444444444,
              "#26828e"
             ],
             [
              0.5555555555555556,
              "#1f9e89"
             ],
             [
              0.6666666666666666,
              "#35b779"
             ],
             [
              0.7777777777777778,
              "#6ece58"
             ],
             [
              0.8888888888888888,
              "#b5de2b"
             ],
             [
              1.0,
              "#fde725"
             ]
            ],
            "type": "histogram2dcontour"
           }
          ],
          "histogram2d": [
           {
            "colorbar": {
             "outlinewidth": 1,
             "tickcolor": "rgb(36,36,36)",
             "ticks": "outside"
            },
            "colorscale": [
             [
              0.0,
              "#440154"
             ],
             [
              0.1111111111111111,
              "#482878"
             ],
             [
              0.2222222222222222,
              "#3e4989"
             ],
             [
              0.3333333333333333,
              "#31688e"
             ],
             [
              0.4444444444444444,
              "#26828e"
             ],
             [
              0.5555555555555556,
              "#1f9e89"
             ],
             [
              0.6666666666666666,
              "#35b779"
             ],
             [
              0.7777777777777778,
              "#6ece58"
             ],
             [
              0.8888888888888888,
              "#b5de2b"
             ],
             [
              1.0,
              "#fde725"
             ]
            ],
            "type": "histogram2d"
           }
          ],
          "histogram": [
           {
            "marker": {
             "line": {
              "color": "white",
              "width": 0.6
             }
            },
            "type": "histogram"
           }
          ],
          "mesh3d": [
           {
            "colorbar": {
             "outlinewidth": 1,
             "tickcolor": "rgb(36,36,36)",
             "ticks": "outside"
            },
            "type": "mesh3d"
           }
          ],
          "parcoords": [
           {
            "line": {
             "colorbar": {
              "outlinewidth": 1,
              "tickcolor": "rgb(36,36,36)",
              "ticks": "outside"
             }
            },
            "type": "parcoords"
           }
          ],
          "pie": [
           {
            "automargin": true,
            "type": "pie"
           }
          ],
          "scatter3d": [
           {
            "line": {
             "colorbar": {
              "outlinewidth": 1,
              "tickcolor": "rgb(36,36,36)",
              "ticks": "outside"
             }
            },
            "marker": {
             "colorbar": {
              "outlinewidth": 1,
              "tickcolor": "rgb(36,36,36)",
              "ticks": "outside"
             }
            },
            "type": "scatter3d"
           }
          ],
          "scattercarpet": [
           {
            "marker": {
             "colorbar": {
              "outlinewidth": 1,
              "tickcolor": "rgb(36,36,36)",
              "ticks": "outside"
             }
            },
            "type": "scattercarpet"
           }
          ],
          "scattergeo": [
           {
            "marker": {
             "colorbar": {
              "outlinewidth": 1,
              "tickcolor": "rgb(36,36,36)",
              "ticks": "outside"
             }
            },
            "type": "scattergeo"
           }
          ],
          "scattergl": [
           {
            "marker": {
             "colorbar": {
              "outlinewidth": 1,
              "tickcolor": "rgb(36,36,36)",
              "ticks": "outside"
             }
            },
            "type": "scattergl"
           }
          ],
          "scattermapbox": [
           {
            "marker": {
             "colorbar": {
              "outlinewidth": 1,
              "tickcolor": "rgb(36,36,36)",
              "ticks": "outside"
             }
            },
            "type": "scattermapbox"
           }
          ],
          "scatterpolargl": [
           {
            "marker": {
             "colorbar": {
              "outlinewidth": 1,
              "tickcolor": "rgb(36,36,36)",
              "ticks": "outside"
             }
            },
            "type": "scatterpolargl"
           }
          ],
          "scatterpolar": [
           {
            "marker": {
             "colorbar": {
              "outlinewidth": 1,
              "tickcolor": "rgb(36,36,36)",
              "ticks": "outside"
             }
            },
            "type": "scatterpolar"
           }
          ],
          "scatter": [
           {
            "fillpattern": {
             "fillmode": "overlay",
             "size": 10,
             "solidity": 0.2
            },
            "type": "scatter"
           }
          ],
          "scatterternary": [
           {
            "marker": {
             "colorbar": {
              "outlinewidth": 1,
              "tickcolor": "rgb(36,36,36)",
              "ticks": "outside"
             }
            },
            "type": "scatterternary"
           }
          ],
          "surface": [
           {
            "colorbar": {
             "outlinewidth": 1,
             "tickcolor": "rgb(36,36,36)",
             "ticks": "outside"
            },
            "colorscale": [
             [
              0.0,
              "#440154"
             ],
             [
              0.1111111111111111,
              "#482878"
             ],
             [
              0.2222222222222222,
              "#3e4989"
             ],
             [
              0.3333333333333333,
              "#31688e"
             ],
             [
              0.4444444444444444,
              "#26828e"
             ],
             [
              0.5555555555555556,
              "#1f9e89"
             ],
             [
              0.6666666666666666,
              "#35b779"
             ],
             [
              0.7777777777777778,
              "#6ece58"
             ],
             [
              0.8888888888888888,
              "#b5de2b"
             ],
             [
              1.0,
              "#fde725"
             ]
            ],
            "type": "surface"
           }
          ],
          "table": [
           {
            "cells": {
             "fill": {
              "color": "rgb(237,237,237)"
             },
             "line": {
              "color": "white"
             }
            },
            "header": {
             "fill": {
              "color": "rgb(217,217,217)"
             },
             "line": {
              "color": "white"
             }
            },
            "type": "table"
           }
          ]
         },
         "layout": {
          "annotationdefaults": {
           "arrowhead": 0,
           "arrowwidth": 1
          },
          "autotypenumbers": "strict",
          "coloraxis": {
           "colorbar": {
            "outlinewidth": 1,
            "tickcolor": "rgb(36,36,36)",
            "ticks": "outside"
           }
          },
          "colorscale": {
           "diverging": [
            [
             0.0,
             "rgb(103,0,31)"
            ],
            [
             0.1,
             "rgb(178,24,43)"
            ],
            [
             0.2,
             "rgb(214,96,77)"
            ],
            [
             0.3,
             "rgb(244,165,130)"
            ],
            [
             0.4,
             "rgb(253,219,199)"
            ],
            [
             0.5,
             "rgb(247,247,247)"
            ],
            [
             0.6,
             "rgb(209,229,240)"
            ],
            [
             0.7,
             "rgb(146,197,222)"
            ],
            [
             0.8,
             "rgb(67,147,195)"
            ],
            [
             0.9,
             "rgb(33,102,172)"
            ],
            [
             1.0,
             "rgb(5,48,97)"
            ]
           ],
           "sequential": [
            [
             0.0,
             "#440154"
            ],
            [
             0.1111111111111111,
             "#482878"
            ],
            [
             0.2222222222222222,
             "#3e4989"
            ],
            [
             0.3333333333333333,
             "#31688e"
            ],
            [
             0.4444444444444444,
             "#26828e"
            ],
            [
             0.5555555555555556,
             "#1f9e89"
            ],
            [
             0.6666666666666666,
             "#35b779"
            ],
            [
             0.7777777777777778,
             "#6ece58"
            ],
            [
             0.8888888888888888,
             "#b5de2b"
            ],
            [
             1.0,
             "#fde725"
            ]
           ],
           "sequentialminus": [
            [
             0.0,
             "#440154"
            ],
            [
             0.1111111111111111,
             "#482878"
            ],
            [
             0.2222222222222222,
             "#3e4989"
            ],
            [
             0.3333333333333333,
             "#31688e"
            ],
            [
             0.4444444444444444,
             "#26828e"
            ],
            [
             0.5555555555555556,
             "#1f9e89"
            ],
            [
             0.6666666666666666,
             "#35b779"
            ],
            [
             0.7777777777777778,
             "#6ece58"
            ],
            [
             0.8888888888888888,
             "#b5de2b"
            ],
            [
             1.0,
             "#fde725"
            ]
           ]
          },
          "colorway": [
           "#1F77B4",
           "#FF7F0E",
           "#2CA02C",
           "#D62728",
           "#9467BD",
           "#8C564B",
           "#E377C2",
           "#7F7F7F",
           "#BCBD22",
           "#17BECF"
          ],
          "font": {
           "color": "rgb(36,36,36)"
          },
          "geo": {
           "bgcolor": "white",
           "lakecolor": "white",
           "landcolor": "white",
           "showlakes": true,
           "showland": true,
           "subunitcolor": "white"
          },
          "hoverlabel": {
           "align": "left"
          },
          "hovermode": "closest",
          "mapbox": {
           "style": "light"
          },
          "paper_bgcolor": "white",
          "plot_bgcolor": "white",
          "polar": {
           "angularaxis": {
            "gridcolor": "rgb(232,232,232)",
            "linecolor": "rgb(36,36,36)",
            "showgrid": false,
            "showline": true,
            "ticks": "outside"
           },
           "bgcolor": "white",
           "radialaxis": {
            "gridcolor": "rgb(232,232,232)",
            "linecolor": "rgb(36,36,36)",
            "showgrid": false,
            "showline": true,
            "ticks": "outside"
           }
          },
          "scene": {
           "xaxis": {
            "backgroundcolor": "white",
            "gridcolor": "rgb(232,232,232)",
            "gridwidth": 2,
            "linecolor": "rgb(36,36,36)",
            "showbackground": true,
            "showgrid": false,
            "showline": true,
            "ticks": "outside",
            "zeroline": false,
            "zerolinecolor": "rgb(36,36,36)"
           },
           "yaxis": {
            "backgroundcolor": "white",
            "gridcolor": "rgb(232,232,232)",
            "gridwidth": 2,
            "linecolor": "rgb(36,36,36)",
            "showbackground": true,
            "showgrid": false,
            "showline": true,
            "ticks": "outside",
            "zeroline": false,
            "zerolinecolor": "rgb(36,36,36)"
           },
           "zaxis": {
            "backgroundcolor": "white",
            "gridcolor": "rgb(232,232,232)",
            "gridwidth": 2,
            "linecolor": "rgb(36,36,36)",
            "showbackground": true,
            "showgrid": false,
            "showline": true,
            "ticks": "outside",
            "zeroline": false,
            "zerolinecolor": "rgb(36,36,36)"
           }
          },
          "shapedefaults": {
           "fillcolor": "black",
           "line": {
            "width": 0
           },
           "opacity": 0.3
          },
          "ternary": {
           "aaxis": {
            "gridcolor": "rgb(232,232,232)",
            "linecolor": "rgb(36,36,36)",
            "showgrid": false,
            "showline": true,
            "ticks": "outside"
           },
           "baxis": {
            "gridcolor": "rgb(232,232,232)",
            "linecolor": "rgb(36,36,36)",
            "showgrid": false,
            "showline": true,
            "ticks": "outside"
           },
           "bgcolor": "white",
           "caxis": {
            "gridcolor": "rgb(232,232,232)",
            "linecolor": "rgb(36,36,36)",
            "showgrid": false,
            "showline": true,
            "ticks": "outside"
           }
          },
          "title": {
           "x": 0.05
          },
          "xaxis": {
           "automargin": true,
           "gridcolor": "rgb(232,232,232)",
           "linecolor": "rgb(36,36,36)",
           "showgrid": false,
           "showline": true,
           "ticks": "outside",
           "title": {
            "standoff": 15
           },
           "zeroline": false,
           "zerolinecolor": "rgb(36,36,36)"
          },
          "yaxis": {
           "automargin": true,
           "gridcolor": "rgb(232,232,232)",
           "linecolor": "rgb(36,36,36)",
           "showgrid": false,
           "showline": true,
           "ticks": "outside",
           "title": {
            "standoff": 15
           },
           "zeroline": false,
           "zerolinecolor": "rgb(36,36,36)"
          }
         }
        },
        "xaxis": {
         "anchor": "y",
         "domain": [
          0.0,
          1.0
         ],
         "scaleanchor": "y",
         "constrain": "domain"
        },
        "yaxis": {
         "anchor": "x",
         "domain": [
          0.0,
          1.0
         ],
         "autorange": "reversed",
         "constrain": "domain",
         "title": {
          "text": "cat"
         }
        },
        "coloraxis": {
         "colorscale": [
          [
           0.0,
           "#0d0887"
          ],
          [
           0.1111111111111111,
           "#46039f"
          ],
          [
           0.2222222222222222,
           "#7201a8"
          ],
          [
           0.3333333333333333,
           "#9c179e"
          ],
          [
           0.4444444444444444,
           "#bd3786"
          ],
          [
           0.5555555555555556,
           "#d8576b"
          ],
          [
           0.6666666666666666,
           "#ed7953"
          ],
          [
           0.7777777777777778,
           "#fb9f3a"
          ],
          [
           0.8888888888888888,
           "#fdca26"
          ],
          [
           1.0,
           "#f0f921"
          ]
         ]
        },
        "margin": {
         "t": 60
        }
       },
       "config": {
        "plotlyServerURL": "https://plot.ly"
       }
      },
      "text/html": "<div>                            <div id=\"4963a38f-f55b-4fd7-9518-55c650337b25\" class=\"plotly-graph-div\" style=\"height:525px; width:100%;\"></div>            <script type=\"text/javascript\">                require([\"plotly\"], function(Plotly) {                    window.PLOTLYENV=window.PLOTLYENV || {};                                    if (document.getElementById(\"4963a38f-f55b-4fd7-9518-55c650337b25\")) {                    Plotly.newPlot(                        \"4963a38f-f55b-4fd7-9518-55c650337b25\",                        [{\"coloraxis\":\"coloraxis\",\"name\":\"0\",\"x\":[\"SDG1\",\"SDG2\",\"SDG3\",\"SDG4\",\"SDG5\",\"SDG6\",\"SDG7\",\"SDG8\",\"SDG9\",\"SDG10\",\"SDG11\",\"SDG12\",\"SDG13\",\"SDG14\",\"SDG15\",\"SDG16\",\"SDG17\"],\"y\":[\"AI\",\"IOT\",\"additive_manufacturing\",\"big_data\",\"blockchain\",\"computing_infrastructure\",\"robotics\"],\"z\":[[0.49298062920570374,0.6042978167533875,0.5479528903961182,0.4869207739830017,0.3865130543708801,0.585534393787384,0.6612158417701721,0.5331016778945923,0.5773005485534668,0.5476445555686951,0.5821417570114136,0.5812679529190063,0.5553732514381409,0.586732804775238,0.5699170827865601,0.49305230379104614,0.5422302484512329],[null,0.5829802751541138,0.5224639773368835,0.41465604305267334,null,0.5632549524307251,0.44770124554634094,0.5006411075592041,0.4825855493545532,null,0.5017061233520508,0.5407927632331848,0.5029712915420532,0.45032474398612976,0.5555600523948669,0.34230756759643555,0.4678371846675873],[null,null,0.6283972263336182,null,null,0.7348778247833252,0.6384586691856384,0.46154794096946716,0.5370166301727295,null,0.6511235237121582,0.5662201642990112,0.5478928089141846,0.6452285051345825,0.5651111602783203,null,null],[0.4416402280330658,0.5828297734260559,0.4125339984893799,0.40967562794685364,null,0.4892440438270569,0.36230531334877014,0.42814934253692627,0.4231776297092438,null,0.5146051645278931,0.4192533493041992,0.42084407806396484,0.47833916544914246,0.4860396087169647,0.36259835958480835,0.4723221957683563],[null,null,0.36233142018318176,null,null,null,0.475003719329834,null,null,null,0.5318671464920044,0.4839770495891571,0.4405919313430786,null,0.4876525104045868,0.25610002875328064,0.4683762788772583],[null,null,0.4950906038284302,0.4807654023170471,null,0.5423218607902527,0.4844306409358978,0.49054864048957825,0.4776473045349121,0.4472268521785736,0.5220044851303101,0.4561462998390198,0.4910627007484436,0.5057013034820557,0.5350582003593445,0.28709477186203003,0.5006808638572693],[null,0.6255591511726379,0.4904862940311432,0.4807007908821106,null,0.5792298913002014,0.5920701622962952,0.46590861678123474,0.5760233998298645,0.4983384907245636,0.5258391499519348,0.5519083142280579,0.5141571760177612,0.5400633811950684,0.5652862787246704,0.38835155963897705,0.5174994468688965]],\"type\":\"heatmap\",\"xaxis\":\"x\",\"yaxis\":\"y\",\"hovertemplate\":\"x: %{x}<br>cat: %{y}<br>color: %{z}<extra></extra>\"}],                        {\"template\":{\"data\":{\"barpolar\":[{\"marker\":{\"line\":{\"color\":\"white\",\"width\":0.5},\"pattern\":{\"fillmode\":\"overlay\",\"size\":10,\"solidity\":0.2}},\"type\":\"barpolar\"}],\"bar\":[{\"error_x\":{\"color\":\"rgb(36,36,36)\"},\"error_y\":{\"color\":\"rgb(36,36,36)\"},\"marker\":{\"line\":{\"color\":\"white\",\"width\":0.5},\"pattern\":{\"fillmode\":\"overlay\",\"size\":10,\"solidity\":0.2}},\"type\":\"bar\"}],\"carpet\":[{\"aaxis\":{\"endlinecolor\":\"rgb(36,36,36)\",\"gridcolor\":\"white\",\"linecolor\":\"white\",\"minorgridcolor\":\"white\",\"startlinecolor\":\"rgb(36,36,36)\"},\"baxis\":{\"endlinecolor\":\"rgb(36,36,36)\",\"gridcolor\":\"white\",\"linecolor\":\"white\",\"minorgridcolor\":\"white\",\"startlinecolor\":\"rgb(36,36,36)\"},\"type\":\"carpet\"}],\"choropleth\":[{\"colorbar\":{\"outlinewidth\":1,\"tickcolor\":\"rgb(36,36,36)\",\"ticks\":\"outside\"},\"type\":\"choropleth\"}],\"contourcarpet\":[{\"colorbar\":{\"outlinewidth\":1,\"tickcolor\":\"rgb(36,36,36)\",\"ticks\":\"outside\"},\"type\":\"contourcarpet\"}],\"contour\":[{\"colorbar\":{\"outlinewidth\":1,\"tickcolor\":\"rgb(36,36,36)\",\"ticks\":\"outside\"},\"colorscale\":[[0.0,\"#440154\"],[0.1111111111111111,\"#482878\"],[0.2222222222222222,\"#3e4989\"],[0.3333333333333333,\"#31688e\"],[0.4444444444444444,\"#26828e\"],[0.5555555555555556,\"#1f9e89\"],[0.6666666666666666,\"#35b779\"],[0.7777777777777778,\"#6ece58\"],[0.8888888888888888,\"#b5de2b\"],[1.0,\"#fde725\"]],\"type\":\"contour\"}],\"heatmapgl\":[{\"colorbar\":{\"outlinewidth\":1,\"tickcolor\":\"rgb(36,36,36)\",\"ticks\":\"outside\"},\"colorscale\":[[0.0,\"#440154\"],[0.1111111111111111,\"#482878\"],[0.2222222222222222,\"#3e4989\"],[0.3333333333333333,\"#31688e\"],[0.4444444444444444,\"#26828e\"],[0.5555555555555556,\"#1f9e89\"],[0.6666666666666666,\"#35b779\"],[0.7777777777777778,\"#6ece58\"],[0.8888888888888888,\"#b5de2b\"],[1.0,\"#fde725\"]],\"type\":\"heatmapgl\"}],\"heatmap\":[{\"colorbar\":{\"outlinewidth\":1,\"tickcolor\":\"rgb(36,36,36)\",\"ticks\":\"outside\"},\"colorscale\":[[0.0,\"#440154\"],[0.1111111111111111,\"#482878\"],[0.2222222222222222,\"#3e4989\"],[0.3333333333333333,\"#31688e\"],[0.4444444444444444,\"#26828e\"],[0.5555555555555556,\"#1f9e89\"],[0.6666666666666666,\"#35b779\"],[0.7777777777777778,\"#6ece58\"],[0.8888888888888888,\"#b5de2b\"],[1.0,\"#fde725\"]],\"type\":\"heatmap\"}],\"histogram2dcontour\":[{\"colorbar\":{\"outlinewidth\":1,\"tickcolor\":\"rgb(36,36,36)\",\"ticks\":\"outside\"},\"colorscale\":[[0.0,\"#440154\"],[0.1111111111111111,\"#482878\"],[0.2222222222222222,\"#3e4989\"],[0.3333333333333333,\"#31688e\"],[0.4444444444444444,\"#26828e\"],[0.5555555555555556,\"#1f9e89\"],[0.6666666666666666,\"#35b779\"],[0.7777777777777778,\"#6ece58\"],[0.8888888888888888,\"#b5de2b\"],[1.0,\"#fde725\"]],\"type\":\"histogram2dcontour\"}],\"histogram2d\":[{\"colorbar\":{\"outlinewidth\":1,\"tickcolor\":\"rgb(36,36,36)\",\"ticks\":\"outside\"},\"colorscale\":[[0.0,\"#440154\"],[0.1111111111111111,\"#482878\"],[0.2222222222222222,\"#3e4989\"],[0.3333333333333333,\"#31688e\"],[0.4444444444444444,\"#26828e\"],[0.5555555555555556,\"#1f9e89\"],[0.6666666666666666,\"#35b779\"],[0.7777777777777778,\"#6ece58\"],[0.8888888888888888,\"#b5de2b\"],[1.0,\"#fde725\"]],\"type\":\"histogram2d\"}],\"histogram\":[{\"marker\":{\"line\":{\"color\":\"white\",\"width\":0.6}},\"type\":\"histogram\"}],\"mesh3d\":[{\"colorbar\":{\"outlinewidth\":1,\"tickcolor\":\"rgb(36,36,36)\",\"ticks\":\"outside\"},\"type\":\"mesh3d\"}],\"parcoords\":[{\"line\":{\"colorbar\":{\"outlinewidth\":1,\"tickcolor\":\"rgb(36,36,36)\",\"ticks\":\"outside\"}},\"type\":\"parcoords\"}],\"pie\":[{\"automargin\":true,\"type\":\"pie\"}],\"scatter3d\":[{\"line\":{\"colorbar\":{\"outlinewidth\":1,\"tickcolor\":\"rgb(36,36,36)\",\"ticks\":\"outside\"}},\"marker\":{\"colorbar\":{\"outlinewidth\":1,\"tickcolor\":\"rgb(36,36,36)\",\"ticks\":\"outside\"}},\"type\":\"scatter3d\"}],\"scattercarpet\":[{\"marker\":{\"colorbar\":{\"outlinewidth\":1,\"tickcolor\":\"rgb(36,36,36)\",\"ticks\":\"outside\"}},\"type\":\"scattercarpet\"}],\"scattergeo\":[{\"marker\":{\"colorbar\":{\"outlinewidth\":1,\"tickcolor\":\"rgb(36,36,36)\",\"ticks\":\"outside\"}},\"type\":\"scattergeo\"}],\"scattergl\":[{\"marker\":{\"colorbar\":{\"outlinewidth\":1,\"tickcolor\":\"rgb(36,36,36)\",\"ticks\":\"outside\"}},\"type\":\"scattergl\"}],\"scattermapbox\":[{\"marker\":{\"colorbar\":{\"outlinewidth\":1,\"tickcolor\":\"rgb(36,36,36)\",\"ticks\":\"outside\"}},\"type\":\"scattermapbox\"}],\"scatterpolargl\":[{\"marker\":{\"colorbar\":{\"outlinewidth\":1,\"tickcolor\":\"rgb(36,36,36)\",\"ticks\":\"outside\"}},\"type\":\"scatterpolargl\"}],\"scatterpolar\":[{\"marker\":{\"colorbar\":{\"outlinewidth\":1,\"tickcolor\":\"rgb(36,36,36)\",\"ticks\":\"outside\"}},\"type\":\"scatterpolar\"}],\"scatter\":[{\"fillpattern\":{\"fillmode\":\"overlay\",\"size\":10,\"solidity\":0.2},\"type\":\"scatter\"}],\"scatterternary\":[{\"marker\":{\"colorbar\":{\"outlinewidth\":1,\"tickcolor\":\"rgb(36,36,36)\",\"ticks\":\"outside\"}},\"type\":\"scatterternary\"}],\"surface\":[{\"colorbar\":{\"outlinewidth\":1,\"tickcolor\":\"rgb(36,36,36)\",\"ticks\":\"outside\"},\"colorscale\":[[0.0,\"#440154\"],[0.1111111111111111,\"#482878\"],[0.2222222222222222,\"#3e4989\"],[0.3333333333333333,\"#31688e\"],[0.4444444444444444,\"#26828e\"],[0.5555555555555556,\"#1f9e89\"],[0.6666666666666666,\"#35b779\"],[0.7777777777777778,\"#6ece58\"],[0.8888888888888888,\"#b5de2b\"],[1.0,\"#fde725\"]],\"type\":\"surface\"}],\"table\":[{\"cells\":{\"fill\":{\"color\":\"rgb(237,237,237)\"},\"line\":{\"color\":\"white\"}},\"header\":{\"fill\":{\"color\":\"rgb(217,217,217)\"},\"line\":{\"color\":\"white\"}},\"type\":\"table\"}]},\"layout\":{\"annotationdefaults\":{\"arrowhead\":0,\"arrowwidth\":1},\"autotypenumbers\":\"strict\",\"coloraxis\":{\"colorbar\":{\"outlinewidth\":1,\"tickcolor\":\"rgb(36,36,36)\",\"ticks\":\"outside\"}},\"colorscale\":{\"diverging\":[[0.0,\"rgb(103,0,31)\"],[0.1,\"rgb(178,24,43)\"],[0.2,\"rgb(214,96,77)\"],[0.3,\"rgb(244,165,130)\"],[0.4,\"rgb(253,219,199)\"],[0.5,\"rgb(247,247,247)\"],[0.6,\"rgb(209,229,240)\"],[0.7,\"rgb(146,197,222)\"],[0.8,\"rgb(67,147,195)\"],[0.9,\"rgb(33,102,172)\"],[1.0,\"rgb(5,48,97)\"]],\"sequential\":[[0.0,\"#440154\"],[0.1111111111111111,\"#482878\"],[0.2222222222222222,\"#3e4989\"],[0.3333333333333333,\"#31688e\"],[0.4444444444444444,\"#26828e\"],[0.5555555555555556,\"#1f9e89\"],[0.6666666666666666,\"#35b779\"],[0.7777777777777778,\"#6ece58\"],[0.8888888888888888,\"#b5de2b\"],[1.0,\"#fde725\"]],\"sequentialminus\":[[0.0,\"#440154\"],[0.1111111111111111,\"#482878\"],[0.2222222222222222,\"#3e4989\"],[0.3333333333333333,\"#31688e\"],[0.4444444444444444,\"#26828e\"],[0.5555555555555556,\"#1f9e89\"],[0.6666666666666666,\"#35b779\"],[0.7777777777777778,\"#6ece58\"],[0.8888888888888888,\"#b5de2b\"],[1.0,\"#fde725\"]]},\"colorway\":[\"#1F77B4\",\"#FF7F0E\",\"#2CA02C\",\"#D62728\",\"#9467BD\",\"#8C564B\",\"#E377C2\",\"#7F7F7F\",\"#BCBD22\",\"#17BECF\"],\"font\":{\"color\":\"rgb(36,36,36)\"},\"geo\":{\"bgcolor\":\"white\",\"lakecolor\":\"white\",\"landcolor\":\"white\",\"showlakes\":true,\"showland\":true,\"subunitcolor\":\"white\"},\"hoverlabel\":{\"align\":\"left\"},\"hovermode\":\"closest\",\"mapbox\":{\"style\":\"light\"},\"paper_bgcolor\":\"white\",\"plot_bgcolor\":\"white\",\"polar\":{\"angularaxis\":{\"gridcolor\":\"rgb(232,232,232)\",\"linecolor\":\"rgb(36,36,36)\",\"showgrid\":false,\"showline\":true,\"ticks\":\"outside\"},\"bgcolor\":\"white\",\"radialaxis\":{\"gridcolor\":\"rgb(232,232,232)\",\"linecolor\":\"rgb(36,36,36)\",\"showgrid\":false,\"showline\":true,\"ticks\":\"outside\"}},\"scene\":{\"xaxis\":{\"backgroundcolor\":\"white\",\"gridcolor\":\"rgb(232,232,232)\",\"gridwidth\":2,\"linecolor\":\"rgb(36,36,36)\",\"showbackground\":true,\"showgrid\":false,\"showline\":true,\"ticks\":\"outside\",\"zeroline\":false,\"zerolinecolor\":\"rgb(36,36,36)\"},\"yaxis\":{\"backgroundcolor\":\"white\",\"gridcolor\":\"rgb(232,232,232)\",\"gridwidth\":2,\"linecolor\":\"rgb(36,36,36)\",\"showbackground\":true,\"showgrid\":false,\"showline\":true,\"ticks\":\"outside\",\"zeroline\":false,\"zerolinecolor\":\"rgb(36,36,36)\"},\"zaxis\":{\"backgroundcolor\":\"white\",\"gridcolor\":\"rgb(232,232,232)\",\"gridwidth\":2,\"linecolor\":\"rgb(36,36,36)\",\"showbackground\":true,\"showgrid\":false,\"showline\":true,\"ticks\":\"outside\",\"zeroline\":false,\"zerolinecolor\":\"rgb(36,36,36)\"}},\"shapedefaults\":{\"fillcolor\":\"black\",\"line\":{\"width\":0},\"opacity\":0.3},\"ternary\":{\"aaxis\":{\"gridcolor\":\"rgb(232,232,232)\",\"linecolor\":\"rgb(36,36,36)\",\"showgrid\":false,\"showline\":true,\"ticks\":\"outside\"},\"baxis\":{\"gridcolor\":\"rgb(232,232,232)\",\"linecolor\":\"rgb(36,36,36)\",\"showgrid\":false,\"showline\":true,\"ticks\":\"outside\"},\"bgcolor\":\"white\",\"caxis\":{\"gridcolor\":\"rgb(232,232,232)\",\"linecolor\":\"rgb(36,36,36)\",\"showgrid\":false,\"showline\":true,\"ticks\":\"outside\"}},\"title\":{\"x\":0.05},\"xaxis\":{\"automargin\":true,\"gridcolor\":\"rgb(232,232,232)\",\"linecolor\":\"rgb(36,36,36)\",\"showgrid\":false,\"showline\":true,\"ticks\":\"outside\",\"title\":{\"standoff\":15},\"zeroline\":false,\"zerolinecolor\":\"rgb(36,36,36)\"},\"yaxis\":{\"automargin\":true,\"gridcolor\":\"rgb(232,232,232)\",\"linecolor\":\"rgb(36,36,36)\",\"showgrid\":false,\"showline\":true,\"ticks\":\"outside\",\"title\":{\"standoff\":15},\"zeroline\":false,\"zerolinecolor\":\"rgb(36,36,36)\"}}},\"xaxis\":{\"anchor\":\"y\",\"domain\":[0.0,1.0],\"scaleanchor\":\"y\",\"constrain\":\"domain\"},\"yaxis\":{\"anchor\":\"x\",\"domain\":[0.0,1.0],\"autorange\":\"reversed\",\"constrain\":\"domain\",\"title\":{\"text\":\"cat\"}},\"coloraxis\":{\"colorscale\":[[0.0,\"#0d0887\"],[0.1111111111111111,\"#46039f\"],[0.2222222222222222,\"#7201a8\"],[0.3333333333333333,\"#9c179e\"],[0.4444444444444444,\"#bd3786\"],[0.5555555555555556,\"#d8576b\"],[0.6666666666666666,\"#ed7953\"],[0.7777777777777778,\"#fb9f3a\"],[0.8888888888888888,\"#fdca26\"],[1.0,\"#f0f921\"]]},\"margin\":{\"t\":60}},                        {\"responsive\": true}                    ).then(function(){\n                            \nvar gd = document.getElementById('4963a38f-f55b-4fd7-9518-55c650337b25');\nvar x = new MutationObserver(function (mutations, observer) {{\n        var display = window.getComputedStyle(gd).display;\n        if (!display || display === 'none') {{\n            console.log([gd, 'removed!']);\n            Plotly.purge(gd);\n            observer.disconnect();\n        }}\n}});\n\n// Listen for the removal of the full notebook cells\nvar notebookContainer = gd.closest('#notebook-container');\nif (notebookContainer) {{\n    x.observe(notebookContainer, {childList: true});\n}}\n\n// Listen for the clearing of the current output cell\nvar outputEl = gd.closest('.output');\nif (outputEl) {{\n    x.observe(outputEl, {childList: true});\n}}\n\n                        })                };                });            </script>        </div>"
     },
     "metadata": {},
     "output_type": "display_data"
    }
   ],
   "source": [
    "fig = px.imshow(df)\n",
    "fig.update_layout(template=\"simple_white\")\n",
    "fig.write_image(\"../img/sent_heatmap_gr100_pubs.jpeg\")\n",
    "fig.show()"
   ],
   "metadata": {
    "collapsed": false
   }
  },
  {
   "cell_type": "code",
   "execution_count": 46,
   "outputs": [
    {
     "data": {
      "text/plain": "                          count      mean\ncat                                      \nAI                          451  0.492981\nIOT                          85       NaN\nadditive_manufacturing       25       NaN\nbig_data                    115  0.441640\nblockchain                   44       NaN\ncomputing_infrastructure     33       NaN\nrobotics                     90       NaN",
      "text/html": "<div>\n<style scoped>\n    .dataframe tbody tr th:only-of-type {\n        vertical-align: middle;\n    }\n\n    .dataframe tbody tr th {\n        vertical-align: top;\n    }\n\n    .dataframe thead th {\n        text-align: right;\n    }\n</style>\n<table border=\"1\" class=\"dataframe\">\n  <thead>\n    <tr style=\"text-align: right;\">\n      <th></th>\n      <th>count</th>\n      <th>mean</th>\n    </tr>\n    <tr>\n      <th>cat</th>\n      <th></th>\n      <th></th>\n    </tr>\n  </thead>\n  <tbody>\n    <tr>\n      <th>AI</th>\n      <td>451</td>\n      <td>0.492981</td>\n    </tr>\n    <tr>\n      <th>IOT</th>\n      <td>85</td>\n      <td>NaN</td>\n    </tr>\n    <tr>\n      <th>additive_manufacturing</th>\n      <td>25</td>\n      <td>NaN</td>\n    </tr>\n    <tr>\n      <th>big_data</th>\n      <td>115</td>\n      <td>0.441640</td>\n    </tr>\n    <tr>\n      <th>blockchain</th>\n      <td>44</td>\n      <td>NaN</td>\n    </tr>\n    <tr>\n      <th>computing_infrastructure</th>\n      <td>33</td>\n      <td>NaN</td>\n    </tr>\n    <tr>\n      <th>robotics</th>\n      <td>90</td>\n      <td>NaN</td>\n    </tr>\n  </tbody>\n</table>\n</div>"
     },
     "execution_count": 46,
     "metadata": {},
     "output_type": "execute_result"
    }
   ],
   "source": [
    "a"
   ],
   "metadata": {
    "collapsed": false
   }
  },
  {
   "cell_type": "code",
   "execution_count": null,
   "outputs": [],
   "source": [],
   "metadata": {
    "collapsed": false
   }
  }
 ],
 "metadata": {
  "kernelspec": {
   "display_name": "Python 3",
   "language": "python",
   "name": "python3"
  },
  "language_info": {
   "codemirror_mode": {
    "name": "ipython",
    "version": 2
   },
   "file_extension": ".py",
   "mimetype": "text/x-python",
   "name": "python",
   "nbconvert_exporter": "python",
   "pygments_lexer": "ipython2",
   "version": "2.7.6"
  }
 },
 "nbformat": 4,
 "nbformat_minor": 0
}
