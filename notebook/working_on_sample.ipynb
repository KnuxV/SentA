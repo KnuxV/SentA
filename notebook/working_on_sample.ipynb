{
 "cells": [
  {
   "cell_type": "code",
   "execution_count": 3,
   "metadata": {
    "collapsed": true
   },
   "outputs": [],
   "source": [
    "import pandas as pd\n",
    "\n",
    "# Loading all samples\n",
    "sample_all = pd.read_excel(\"../data/Sample_SB_CG.xlsx\", index_col=0)\n",
    "sample_giac = pd.read_excel('../data/GD sample.xlsx', index_col=0)\n",
    "sample_marco = pd.read_pickle(\"../data/marco_sample.pkl\")"
   ]
  },
  {
   "cell_type": "code",
   "execution_count": 5,
   "outputs": [
    {
     "data": {
      "text/plain": "                                                   TI  \\\n0   Lung nodule classification using artificial cr...   \n1   Predicting the motivators of telemedicine acce...   \n2   Breast Nodules Computer-Aided Diagnostic Syste...   \n3   Risk transmission from the COVID-19 to metals ...   \n4   Outcomes after total robotic esophagectomy for...   \n..                                                ...   \n65  Ontology based Multidimensional Data Warehousi...   \n66  Two Indirect Methods about Environmental Damag...   \n67  Drought Stress Detection Using Low-Cost Comput...   \n68  Extracting Opinion Targets from Environmental ...   \n69  Toward Stable Network Performance in Wireless ...   \n\n                                                   DE  SDG  \\\n0   Artificial life; Artificial crawlers; Rose dia...    3   \n1   Telemedicine; TAM model; ANN; Multiple regress...    3   \n2   Breast nodule classification; cerebellar model...    3   \n3   The COVID-19; Precious metals; Industrial meta...    3   \n4   Robotic surgery; esophageal surgery; minimally...    3   \n..                                                ...  ...   \n65  Data warehousing; multidimensional; ontology d...   13   \n66  ship oil spill accident; environmental damage;...   13   \n67  Agriculture; Stress; Machine learning; Compute...   13   \n68  Opinion mining; sentiment analysis; opinion ta...   13   \n69  Design; Algorithms; Performance; Wireless sens...   13   \n\n                                                   AB     AI  robotics    IOT  \\\n0   Lung cancer is the major cause of death among ...   True     False  False   \n1   Since the outbreak of COVID-19, healthcare pro...   True     False  False   \n2   Since the mortality rate of breast cancer in w...   True     False  False   \n3   We examine the risk transmission from the COVI...  False     False  False   \n4   Background: Robot-assisted minimally invasive ...  False      True  False   \n..                                                ...    ...       ...    ...   \n65  A full understanding of many unconventional hy...   True     False  False   \n66  Two methods based on GA-SVM[genetic algorithm ...   True     False  False   \n67  The real-time detection of drought stress has ...   True     False  False   \n68  Policy makers and environmental organizations ...   True     False  False   \n69  Many applications in wireless sensor networks ...  False     False   True   \n\n    big_data  computing_infrastructure  additive_manufacturing  blockchain  \\\n0      False                     False                   False       False   \n1      False                     False                   False       False   \n2      False                     False                   False       False   \n3      False                     False                   False        True   \n4      False                     False                   False       False   \n..       ...                       ...                     ...         ...   \n65     False                     False                   False       False   \n66     False                     False                   False       False   \n67     False                     False                   False       False   \n68     False                     False                   False       False   \n69     False                     False                   False       False   \n\n                                               sdgkey  \\\n0   cancer has the highest mortality, death among ...   \n1               Pandemic; COVID-19, COVID-19 pandemic   \n2                     mortality rate of breast cancer   \n3                                   COVID-19 pandemic   \n4                                                       \n..                                                ...   \n65                                                      \n66                                                      \n67                                     climate change   \n68  action; keyword analysis; climate, climate change   \n69           reducing transmission energy consumption   \n\n                                        dtkey  \n0                               expert system  \n1                              Neural network  \n2                              neural network  \n3                            CRYPTOCURRENCIES  \n4                              Robot, robotic  \n..                                        ...  \n65                                data-mining  \n66                             Neural Network  \n67          computer vision, machine learning  \n68                         sentiment analysis  \n69  sensor networks, wireless sensor networks  \n\n[70 rows x 13 columns]",
      "text/html": "<div>\n<style scoped>\n    .dataframe tbody tr th:only-of-type {\n        vertical-align: middle;\n    }\n\n    .dataframe tbody tr th {\n        vertical-align: top;\n    }\n\n    .dataframe thead th {\n        text-align: right;\n    }\n</style>\n<table border=\"1\" class=\"dataframe\">\n  <thead>\n    <tr style=\"text-align: right;\">\n      <th></th>\n      <th>TI</th>\n      <th>DE</th>\n      <th>SDG</th>\n      <th>AB</th>\n      <th>AI</th>\n      <th>robotics</th>\n      <th>IOT</th>\n      <th>big_data</th>\n      <th>computing_infrastructure</th>\n      <th>additive_manufacturing</th>\n      <th>blockchain</th>\n      <th>sdgkey</th>\n      <th>dtkey</th>\n    </tr>\n  </thead>\n  <tbody>\n    <tr>\n      <th>0</th>\n      <td>Lung nodule classification using artificial cr...</td>\n      <td>Artificial life; Artificial crawlers; Rose dia...</td>\n      <td>3</td>\n      <td>Lung cancer is the major cause of death among ...</td>\n      <td>True</td>\n      <td>False</td>\n      <td>False</td>\n      <td>False</td>\n      <td>False</td>\n      <td>False</td>\n      <td>False</td>\n      <td>cancer has the highest mortality, death among ...</td>\n      <td>expert system</td>\n    </tr>\n    <tr>\n      <th>1</th>\n      <td>Predicting the motivators of telemedicine acce...</td>\n      <td>Telemedicine; TAM model; ANN; Multiple regress...</td>\n      <td>3</td>\n      <td>Since the outbreak of COVID-19, healthcare pro...</td>\n      <td>True</td>\n      <td>False</td>\n      <td>False</td>\n      <td>False</td>\n      <td>False</td>\n      <td>False</td>\n      <td>False</td>\n      <td>Pandemic; COVID-19, COVID-19 pandemic</td>\n      <td>Neural network</td>\n    </tr>\n    <tr>\n      <th>2</th>\n      <td>Breast Nodules Computer-Aided Diagnostic Syste...</td>\n      <td>Breast nodule classification; cerebellar model...</td>\n      <td>3</td>\n      <td>Since the mortality rate of breast cancer in w...</td>\n      <td>True</td>\n      <td>False</td>\n      <td>False</td>\n      <td>False</td>\n      <td>False</td>\n      <td>False</td>\n      <td>False</td>\n      <td>mortality rate of breast cancer</td>\n      <td>neural network</td>\n    </tr>\n    <tr>\n      <th>3</th>\n      <td>Risk transmission from the COVID-19 to metals ...</td>\n      <td>The COVID-19; Precious metals; Industrial meta...</td>\n      <td>3</td>\n      <td>We examine the risk transmission from the COVI...</td>\n      <td>False</td>\n      <td>False</td>\n      <td>False</td>\n      <td>False</td>\n      <td>False</td>\n      <td>False</td>\n      <td>True</td>\n      <td>COVID-19 pandemic</td>\n      <td>CRYPTOCURRENCIES</td>\n    </tr>\n    <tr>\n      <th>4</th>\n      <td>Outcomes after total robotic esophagectomy for...</td>\n      <td>Robotic surgery; esophageal surgery; minimally...</td>\n      <td>3</td>\n      <td>Background: Robot-assisted minimally invasive ...</td>\n      <td>False</td>\n      <td>True</td>\n      <td>False</td>\n      <td>False</td>\n      <td>False</td>\n      <td>False</td>\n      <td>False</td>\n      <td></td>\n      <td>Robot, robotic</td>\n    </tr>\n    <tr>\n      <th>...</th>\n      <td>...</td>\n      <td>...</td>\n      <td>...</td>\n      <td>...</td>\n      <td>...</td>\n      <td>...</td>\n      <td>...</td>\n      <td>...</td>\n      <td>...</td>\n      <td>...</td>\n      <td>...</td>\n      <td>...</td>\n      <td>...</td>\n    </tr>\n    <tr>\n      <th>65</th>\n      <td>Ontology based Multidimensional Data Warehousi...</td>\n      <td>Data warehousing; multidimensional; ontology d...</td>\n      <td>13</td>\n      <td>A full understanding of many unconventional hy...</td>\n      <td>True</td>\n      <td>False</td>\n      <td>False</td>\n      <td>False</td>\n      <td>False</td>\n      <td>False</td>\n      <td>False</td>\n      <td></td>\n      <td>data-mining</td>\n    </tr>\n    <tr>\n      <th>66</th>\n      <td>Two Indirect Methods about Environmental Damag...</td>\n      <td>ship oil spill accident; environmental damage;...</td>\n      <td>13</td>\n      <td>Two methods based on GA-SVM[genetic algorithm ...</td>\n      <td>True</td>\n      <td>False</td>\n      <td>False</td>\n      <td>False</td>\n      <td>False</td>\n      <td>False</td>\n      <td>False</td>\n      <td></td>\n      <td>Neural Network</td>\n    </tr>\n    <tr>\n      <th>67</th>\n      <td>Drought Stress Detection Using Low-Cost Comput...</td>\n      <td>Agriculture; Stress; Machine learning; Compute...</td>\n      <td>13</td>\n      <td>The real-time detection of drought stress has ...</td>\n      <td>True</td>\n      <td>False</td>\n      <td>False</td>\n      <td>False</td>\n      <td>False</td>\n      <td>False</td>\n      <td>False</td>\n      <td>climate change</td>\n      <td>computer vision, machine learning</td>\n    </tr>\n    <tr>\n      <th>68</th>\n      <td>Extracting Opinion Targets from Environmental ...</td>\n      <td>Opinion mining; sentiment analysis; opinion ta...</td>\n      <td>13</td>\n      <td>Policy makers and environmental organizations ...</td>\n      <td>True</td>\n      <td>False</td>\n      <td>False</td>\n      <td>False</td>\n      <td>False</td>\n      <td>False</td>\n      <td>False</td>\n      <td>action; keyword analysis; climate, climate change</td>\n      <td>sentiment analysis</td>\n    </tr>\n    <tr>\n      <th>69</th>\n      <td>Toward Stable Network Performance in Wireless ...</td>\n      <td>Design; Algorithms; Performance; Wireless sens...</td>\n      <td>13</td>\n      <td>Many applications in wireless sensor networks ...</td>\n      <td>False</td>\n      <td>False</td>\n      <td>True</td>\n      <td>False</td>\n      <td>False</td>\n      <td>False</td>\n      <td>False</td>\n      <td>reducing transmission energy consumption</td>\n      <td>sensor networks, wireless sensor networks</td>\n    </tr>\n  </tbody>\n</table>\n<p>70 rows × 13 columns</p>\n</div>"
     },
     "execution_count": 5,
     "metadata": {},
     "output_type": "execute_result"
    }
   ],
   "source": [
    "sample_marco"
   ],
   "metadata": {
    "collapsed": false
   }
  },
  {
   "cell_type": "code",
   "execution_count": 51,
   "outputs": [],
   "source": [
    "# Filtering Giac\n",
    "sample_giac = sample_giac.loc[sample_all[\"Annotator\"] == \"Giacomo\"]\n",
    "# Adding Giac sample to sample_all\n",
    "sample_all.loc[sample_giac.index, :] = sample_giac\n",
    "sample_all.to_excel(\"../data/sample_fully_annotated.xlsx\", index=None)"
   ],
   "metadata": {
    "collapsed": false
   }
  },
  {
   "cell_type": "code",
   "execution_count": 53,
   "outputs": [
    {
     "data": {
      "text/plain": "                                                    TI  \\\n0    Beyond the learning curve: a review of complex...   \n1    CVDNet: A novel deep learning architecture for...   \n2    Towards the sustainable development of smart c...   \n3    Mapping the Educational Applications of Augmen...   \n4    Artificial intelligence for the early detectio...   \n..                                                 ...   \n135  weather@homedevelopment and validation of a ve...   \n136  I/O Performance Characterization of Lustre and...   \n137  Stand Structure and Local Landscape Variables ...   \n138  A Data-Driven Energy Platform: From Energy Per...   \n139  Data-driven approaches to integrated closed-lo...   \n\n                                                    DE  SDG  \\\n0    Robotic surgery; thoracic; outcomes; learning-...    3   \n1    Deep learning; Convolutional neural network; C...    3   \n2    Sustainable cities; COVID-19 pandemic; video s...    3   \n3    technology; education; application; augmented ...    3   \n4    Artificial intelligence; Machine learning; Dee...    3   \n..                                                 ...  ...   \n135  global climate model; regional climate model; ...   13   \n136  Lustre file system; I/O performance evaluation...   13   \n137  landscape metrics; forest management; artifici...   13   \n138  data exploration; data visualization; energy p...   13   \n139  sustainable supply chain; Robust optimization;...   13   \n\n                                                    AB     AI  robotics  \\\n0    The number of thoracic surgery cases performed...  False      True   \n1    The COVID-19 pandemic is an emerging respirato...   True     False   \n2    Sustainable smart city initiatives around the ...   True     False   \n3    The use of technology in education is increasi...   True     False   \n4    Colorectal cancer (CRC) was the second-ranked ...   True     False   \n..                                                 ...    ...       ...   \n135  Demonstrating the effect that climate change i...  False     False   \n136  In this paper we study the performance of the ...  False     False   \n137  Plant diversity is a core value of forests and...   True     False   \n138  The energy performance certificate (EPC) is a ...   True     False   \n139  In this paper, the problem of sustainable clos...  False     False   \n\n       IOT  big_data  computing_infrastructure  additive_manufacturing  \\\n0    False     False                     False                   False   \n1    False     False                     False                   False   \n2    False     False                     False                   False   \n3    False     False                     False                   False   \n4    False     False                     False                   False   \n..     ...       ...                       ...                     ...   \n135  False     False                      True                   False   \n136  False     False                      True                   False   \n137  False     False                     False                   False   \n138  False     False                     False                   False   \n139  False      True                     False                   False   \n\n     blockchain                                             sdgkey  \\\n0         False                                                  0   \n1         False                                  COVID-19 pandemic   \n2         False  combat the COVID-19, COVID-19 pandemic, Sustai...   \n3         False                                  COVID-19 pandemic   \n4         False                                                  0   \n..          ...                                                ...   \n135       False  anthropogenic climate, climate change, climate...   \n136       False                                   climate modeling   \n137       False                                                  0   \n138       False                     greenhouse gas, greenhouse gas   \n139       False                     greenhouse gas, greenhouse gas   \n\n                                                 dtkey  \\\n0                                 robotic, robotically   \n1    Artificial Intelligence, Deep Learning, Neural...   \n2                      deep learning, object detection   \n3                                    Augmented Reality   \n4    artificial intelligence, Deep learning, Machin...   \n..                                                 ...   \n135                              distributed computing   \n136                                     supercomputing   \n137                                    neural networks   \n138                                       data mining    \n139                                           Big Data   \n\n                                    Term1  \\\n0    avg\\nNeg: 0.01\\nNeu: 0.18\\nPos: 0.81   \n1    avg\\nNeg: 0.03\\nNeu: 0.37\\nPos: 0.59   \n2    avg\\nNeg: 0.02\\nNeu: 0.17\\nPos: 0.81   \n3    avg\\nNeg: 0.02\\nNeu: 0.41\\nPos: 0.57   \n4    avg\\nNeg: 0.05\\nNeu: 0.32\\nPos: 0.63   \n..                                    ...   \n135  avg\\nNeg: 0.02\\nNeu: 0.11\\nPos: 0.87   \n136  avg\\nNeg: 0.01\\nNeu: 0.52\\nPos: 0.47   \n137  avg\\nNeg: 0.05\\nNeu: 0.36\\nPos: 0.59   \n138  avg\\nNeg: 0.01\\nNeu: 0.22\\nPos: 0.77   \n139  avg\\nNeg: 0.04\\nNeu: 0.21\\nPos: 0.75   \n\n                                                 Term2  \\\n0             robotic\\nNeg: 0.01\\nNeu: 0.16\\nPos: 0.83   \n1    Artificial Intelligence\\nNeg: 0.03\\nNeu: 0.35\\...   \n2        deep learning\\nNeg: 0.02\\nNeu: 0.2\\nPos: 0.78   \n3    Augmented Reality\\nNeg: 0.02\\nNeu: 0.5\\nPos: 0.48   \n4    artificial intelligence\\nNeg: 0.04\\nNeu: 0.21\\...   \n..                                                 ...   \n135  distributed computing\\nNeg: 0.02\\nNeu: 0.14\\nP...   \n136    supercomputing\\nNeg: 0.01\\nNeu: 0.67\\nPos: 0.32   \n137   neural networks\\nNeg: 0.04\\nNeu: 0.39\\nPos: 0.57   \n138      data mining \\nNeg: 0.01\\nNeu: 0.07\\nPos: 0.92   \n139          Big Data\\nNeg: 0.02\\nNeu: 0.22\\nPos: 0.76   \n\n                                                 Term3  \\\n0         robotically\\nNeg: 0.01\\nNeu: 0.15\\nPos: 0.84   \n1       Deep Learning\\nNeg: 0.03\\nNeu: 0.38\\nPos: 0.58   \n2    object detection\\nNeg: 0.02\\nNeu: 0.16\\nPos: 0.82   \n3                                                    0   \n4       Deep learning\\nNeg: 0.05\\nNeu: 0.24\\nPos: 0.71   \n..                                                 ...   \n135                                                  0   \n136                                                  0   \n137                                                  0   \n138                                                  0   \n139                                                  0   \n\n                                                 Term4 Term5 Annotator  \\\n0                                                    0     0   Claudia   \n1      Neural Network\\nNeg: 0.03\\nNeu: 0.38\\nPos: 0.59     0   Claudia   \n2                                                    0     0   Claudia   \n3                                                    0     0   Claudia   \n4    Machine learning\\nNeg: 0.05\\nNeu: 0.23\\nPos: 0.73     0   Claudia   \n..                                                 ...   ...       ...   \n135                                                  0     0     Kevin   \n136                                                  0     0     Kevin   \n137                                                  0     0     Kevin   \n138                                                  0     0     Kevin   \n139                                                  0     0     Kevin   \n\n    Annotation  \n0          Pos  \n1          Pos  \n2          Pos  \n3          Pos  \n4          Pos  \n..         ...  \n135        Pos  \n136        Neu  \n137        Neu  \n138        Pos  \n139        Pos  \n\n[140 rows x 20 columns]",
      "text/html": "<div>\n<style scoped>\n    .dataframe tbody tr th:only-of-type {\n        vertical-align: middle;\n    }\n\n    .dataframe tbody tr th {\n        vertical-align: top;\n    }\n\n    .dataframe thead th {\n        text-align: right;\n    }\n</style>\n<table border=\"1\" class=\"dataframe\">\n  <thead>\n    <tr style=\"text-align: right;\">\n      <th></th>\n      <th>TI</th>\n      <th>DE</th>\n      <th>SDG</th>\n      <th>AB</th>\n      <th>AI</th>\n      <th>robotics</th>\n      <th>IOT</th>\n      <th>big_data</th>\n      <th>computing_infrastructure</th>\n      <th>additive_manufacturing</th>\n      <th>blockchain</th>\n      <th>sdgkey</th>\n      <th>dtkey</th>\n      <th>Term1</th>\n      <th>Term2</th>\n      <th>Term3</th>\n      <th>Term4</th>\n      <th>Term5</th>\n      <th>Annotator</th>\n      <th>Annotation</th>\n    </tr>\n  </thead>\n  <tbody>\n    <tr>\n      <th>0</th>\n      <td>Beyond the learning curve: a review of complex...</td>\n      <td>Robotic surgery; thoracic; outcomes; learning-...</td>\n      <td>3</td>\n      <td>The number of thoracic surgery cases performed...</td>\n      <td>False</td>\n      <td>True</td>\n      <td>False</td>\n      <td>False</td>\n      <td>False</td>\n      <td>False</td>\n      <td>False</td>\n      <td>0</td>\n      <td>robotic, robotically</td>\n      <td>avg\\nNeg: 0.01\\nNeu: 0.18\\nPos: 0.81</td>\n      <td>robotic\\nNeg: 0.01\\nNeu: 0.16\\nPos: 0.83</td>\n      <td>robotically\\nNeg: 0.01\\nNeu: 0.15\\nPos: 0.84</td>\n      <td>0</td>\n      <td>0</td>\n      <td>Claudia</td>\n      <td>Pos</td>\n    </tr>\n    <tr>\n      <th>1</th>\n      <td>CVDNet: A novel deep learning architecture for...</td>\n      <td>Deep learning; Convolutional neural network; C...</td>\n      <td>3</td>\n      <td>The COVID-19 pandemic is an emerging respirato...</td>\n      <td>True</td>\n      <td>False</td>\n      <td>False</td>\n      <td>False</td>\n      <td>False</td>\n      <td>False</td>\n      <td>False</td>\n      <td>COVID-19 pandemic</td>\n      <td>Artificial Intelligence, Deep Learning, Neural...</td>\n      <td>avg\\nNeg: 0.03\\nNeu: 0.37\\nPos: 0.59</td>\n      <td>Artificial Intelligence\\nNeg: 0.03\\nNeu: 0.35\\...</td>\n      <td>Deep Learning\\nNeg: 0.03\\nNeu: 0.38\\nPos: 0.58</td>\n      <td>Neural Network\\nNeg: 0.03\\nNeu: 0.38\\nPos: 0.59</td>\n      <td>0</td>\n      <td>Claudia</td>\n      <td>Pos</td>\n    </tr>\n    <tr>\n      <th>2</th>\n      <td>Towards the sustainable development of smart c...</td>\n      <td>Sustainable cities; COVID-19 pandemic; video s...</td>\n      <td>3</td>\n      <td>Sustainable smart city initiatives around the ...</td>\n      <td>True</td>\n      <td>False</td>\n      <td>False</td>\n      <td>False</td>\n      <td>False</td>\n      <td>False</td>\n      <td>False</td>\n      <td>combat the COVID-19, COVID-19 pandemic, Sustai...</td>\n      <td>deep learning, object detection</td>\n      <td>avg\\nNeg: 0.02\\nNeu: 0.17\\nPos: 0.81</td>\n      <td>deep learning\\nNeg: 0.02\\nNeu: 0.2\\nPos: 0.78</td>\n      <td>object detection\\nNeg: 0.02\\nNeu: 0.16\\nPos: 0.82</td>\n      <td>0</td>\n      <td>0</td>\n      <td>Claudia</td>\n      <td>Pos</td>\n    </tr>\n    <tr>\n      <th>3</th>\n      <td>Mapping the Educational Applications of Augmen...</td>\n      <td>technology; education; application; augmented ...</td>\n      <td>3</td>\n      <td>The use of technology in education is increasi...</td>\n      <td>True</td>\n      <td>False</td>\n      <td>False</td>\n      <td>False</td>\n      <td>False</td>\n      <td>False</td>\n      <td>False</td>\n      <td>COVID-19 pandemic</td>\n      <td>Augmented Reality</td>\n      <td>avg\\nNeg: 0.02\\nNeu: 0.41\\nPos: 0.57</td>\n      <td>Augmented Reality\\nNeg: 0.02\\nNeu: 0.5\\nPos: 0.48</td>\n      <td>0</td>\n      <td>0</td>\n      <td>0</td>\n      <td>Claudia</td>\n      <td>Pos</td>\n    </tr>\n    <tr>\n      <th>4</th>\n      <td>Artificial intelligence for the early detectio...</td>\n      <td>Artificial intelligence; Machine learning; Dee...</td>\n      <td>3</td>\n      <td>Colorectal cancer (CRC) was the second-ranked ...</td>\n      <td>True</td>\n      <td>False</td>\n      <td>False</td>\n      <td>False</td>\n      <td>False</td>\n      <td>False</td>\n      <td>False</td>\n      <td>0</td>\n      <td>artificial intelligence, Deep learning, Machin...</td>\n      <td>avg\\nNeg: 0.05\\nNeu: 0.32\\nPos: 0.63</td>\n      <td>artificial intelligence\\nNeg: 0.04\\nNeu: 0.21\\...</td>\n      <td>Deep learning\\nNeg: 0.05\\nNeu: 0.24\\nPos: 0.71</td>\n      <td>Machine learning\\nNeg: 0.05\\nNeu: 0.23\\nPos: 0.73</td>\n      <td>0</td>\n      <td>Claudia</td>\n      <td>Pos</td>\n    </tr>\n    <tr>\n      <th>...</th>\n      <td>...</td>\n      <td>...</td>\n      <td>...</td>\n      <td>...</td>\n      <td>...</td>\n      <td>...</td>\n      <td>...</td>\n      <td>...</td>\n      <td>...</td>\n      <td>...</td>\n      <td>...</td>\n      <td>...</td>\n      <td>...</td>\n      <td>...</td>\n      <td>...</td>\n      <td>...</td>\n      <td>...</td>\n      <td>...</td>\n      <td>...</td>\n      <td>...</td>\n    </tr>\n    <tr>\n      <th>135</th>\n      <td>weather@homedevelopment and validation of a ve...</td>\n      <td>global climate model; regional climate model; ...</td>\n      <td>13</td>\n      <td>Demonstrating the effect that climate change i...</td>\n      <td>False</td>\n      <td>False</td>\n      <td>False</td>\n      <td>False</td>\n      <td>True</td>\n      <td>False</td>\n      <td>False</td>\n      <td>anthropogenic climate, climate change, climate...</td>\n      <td>distributed computing</td>\n      <td>avg\\nNeg: 0.02\\nNeu: 0.11\\nPos: 0.87</td>\n      <td>distributed computing\\nNeg: 0.02\\nNeu: 0.14\\nP...</td>\n      <td>0</td>\n      <td>0</td>\n      <td>0</td>\n      <td>Kevin</td>\n      <td>Pos</td>\n    </tr>\n    <tr>\n      <th>136</th>\n      <td>I/O Performance Characterization of Lustre and...</td>\n      <td>Lustre file system; I/O performance evaluation...</td>\n      <td>13</td>\n      <td>In this paper we study the performance of the ...</td>\n      <td>False</td>\n      <td>False</td>\n      <td>False</td>\n      <td>False</td>\n      <td>True</td>\n      <td>False</td>\n      <td>False</td>\n      <td>climate modeling</td>\n      <td>supercomputing</td>\n      <td>avg\\nNeg: 0.01\\nNeu: 0.52\\nPos: 0.47</td>\n      <td>supercomputing\\nNeg: 0.01\\nNeu: 0.67\\nPos: 0.32</td>\n      <td>0</td>\n      <td>0</td>\n      <td>0</td>\n      <td>Kevin</td>\n      <td>Neu</td>\n    </tr>\n    <tr>\n      <th>137</th>\n      <td>Stand Structure and Local Landscape Variables ...</td>\n      <td>landscape metrics; forest management; artifici...</td>\n      <td>13</td>\n      <td>Plant diversity is a core value of forests and...</td>\n      <td>True</td>\n      <td>False</td>\n      <td>False</td>\n      <td>False</td>\n      <td>False</td>\n      <td>False</td>\n      <td>False</td>\n      <td>0</td>\n      <td>neural networks</td>\n      <td>avg\\nNeg: 0.05\\nNeu: 0.36\\nPos: 0.59</td>\n      <td>neural networks\\nNeg: 0.04\\nNeu: 0.39\\nPos: 0.57</td>\n      <td>0</td>\n      <td>0</td>\n      <td>0</td>\n      <td>Kevin</td>\n      <td>Neu</td>\n    </tr>\n    <tr>\n      <th>138</th>\n      <td>A Data-Driven Energy Platform: From Energy Per...</td>\n      <td>data exploration; data visualization; energy p...</td>\n      <td>13</td>\n      <td>The energy performance certificate (EPC) is a ...</td>\n      <td>True</td>\n      <td>False</td>\n      <td>False</td>\n      <td>False</td>\n      <td>False</td>\n      <td>False</td>\n      <td>False</td>\n      <td>greenhouse gas, greenhouse gas</td>\n      <td>data mining</td>\n      <td>avg\\nNeg: 0.01\\nNeu: 0.22\\nPos: 0.77</td>\n      <td>data mining \\nNeg: 0.01\\nNeu: 0.07\\nPos: 0.92</td>\n      <td>0</td>\n      <td>0</td>\n      <td>0</td>\n      <td>Kevin</td>\n      <td>Pos</td>\n    </tr>\n    <tr>\n      <th>139</th>\n      <td>Data-driven approaches to integrated closed-lo...</td>\n      <td>sustainable supply chain; Robust optimization;...</td>\n      <td>13</td>\n      <td>In this paper, the problem of sustainable clos...</td>\n      <td>False</td>\n      <td>False</td>\n      <td>False</td>\n      <td>True</td>\n      <td>False</td>\n      <td>False</td>\n      <td>False</td>\n      <td>greenhouse gas, greenhouse gas</td>\n      <td>Big Data</td>\n      <td>avg\\nNeg: 0.04\\nNeu: 0.21\\nPos: 0.75</td>\n      <td>Big Data\\nNeg: 0.02\\nNeu: 0.22\\nPos: 0.76</td>\n      <td>0</td>\n      <td>0</td>\n      <td>0</td>\n      <td>Kevin</td>\n      <td>Pos</td>\n    </tr>\n  </tbody>\n</table>\n<p>140 rows × 20 columns</p>\n</div>"
     },
     "execution_count": 53,
     "metadata": {},
     "output_type": "execute_result"
    }
   ],
   "source": [
    "sample_all"
   ],
   "metadata": {
    "collapsed": false
   }
  },
  {
   "cell_type": "code",
   "execution_count": 42,
   "outputs": [
    {
     "data": {
      "text/plain": "'Artificial Intelligence\\nNeg: 0.03\\nNeu: 0.35\\nPos: 0.62'"
     },
     "execution_count": 42,
     "metadata": {},
     "output_type": "execute_result"
    }
   ],
   "source": [
    "import re\n",
    "r = r'(.+)\\nNeg: (0\\.[0-9]{2})\\nNeu: (0\\.[0-9]{2})\\nPos: (0\\.[0-9]{2})'\n",
    "m = re.search(r, \"Artificial Intelligence\\nNeg: 0.03\\nNeu: 0.35\\nPos: 0.62\", re.M)\n",
    "m.group(0)"
   ],
   "metadata": {
    "collapsed": false
   }
  },
  {
   "cell_type": "code",
   "execution_count": 107,
   "outputs": [],
   "source": [
    "def convert_sent(txt):\n",
    "    \"\"\"\n",
    "    Transform the text in column \"Termn\" to a tuple. Tuple is equal to (digital_keyword, sent_neg, sent_neu, sent_pos)\n",
    "    :param txt:\n",
    "    :return:\n",
    "    \"\"\"\n",
    "    r = r'(.+)\\nNeg: (\\d\\.?[0-9]*)\\nNeu: (\\d\\.?[0-9]*)\\nPos: (\\d\\.?[0-9]*)'\n",
    "    m = re.search(r, txt, re.M)\n",
    "    if m:\n",
    "        return m.group(1), m.group(2), m.group(3), m.group(4)\n",
    "\n",
    "def annotate(*term):\n",
    "    \"\"\"\n",
    "    Once Termn columns have been transform to tuples, we can compute the sentiment for the given publication by avging each neg, neu, pos and return the hightest avg\n",
    "    :param term:\n",
    "    :return:\n",
    "    \"\"\"\n",
    "    def ind_to_sent(ind:int):\n",
    "        if index_highest_sent == 0:\n",
    "            return \"Neg\"\n",
    "        elif index_highest_sent == 1:\n",
    "            return \"Neu\"\n",
    "        elif index_highest_sent == 2:\n",
    "            return \"Pos\"\n",
    "\n",
    "    if len(term) == 1:\n",
    "        tuple_neg_neu_pos = term[0][1:]\n",
    "        index_highest_sent = tuple_neg_neu_pos.index(max(tuple_neg_neu_pos))\n",
    "        return ind_to_sent(index_highest_sent)\n",
    "\n",
    "    else:\n",
    "        # We ignore the first elem of term as it is the sentiment of an empty string\n",
    "        lst_tuples = [t[1:] for t in term[1:] if t]\n",
    "        avg_tup = sum(float(elt[0]) for elt in lst_tuples)/len(lst_tuples), sum(float(elt[1]) for elt in lst_tuples)/len(lst_tuples), sum(float(elt[2]) for elt in lst_tuples)/len(lst_tuples)\n",
    "        index_highest_sent = avg_tup.index(max(avg_tup))\n",
    "        return ind_to_sent(index_highest_sent)\n"
   ],
   "metadata": {
    "collapsed": false
   }
  },
  {
   "cell_type": "code",
   "execution_count": 90,
   "outputs": [
    {
     "data": {
      "text/plain": "2.6666666666666665"
     },
     "execution_count": 90,
     "metadata": {},
     "output_type": "execute_result"
    }
   ],
   "source": [],
   "metadata": {
    "collapsed": false
   }
  },
  {
   "cell_type": "code",
   "execution_count": 79,
   "outputs": [
    {
     "data": {
      "text/plain": "'Neg'"
     },
     "execution_count": 79,
     "metadata": {},
     "output_type": "execute_result"
    }
   ],
   "source": [
    "a = ('robotic', 0.91, 0.16, 0.83)\n",
    "convert_sent(\"Artificial Intelligence\\nNeg: 0\\nNeu: 0.1\\nPos: 1\")\n",
    "annotate(a)"
   ],
   "metadata": {
    "collapsed": false
   }
  },
  {
   "cell_type": "code",
   "execution_count": 63,
   "outputs": [
    {
     "data": {
      "text/plain": "                                                                                                   DE  \\\nTI                                                                                                      \nBeyond the learning curve: a review of complex ...  Robotic surgery; thoracic; outcomes; learning-...   \nCVDNet: A novel deep learning architecture for ...  Deep learning; Convolutional neural network; C...   \nTowards the sustainable development of smart ci...  Sustainable cities; COVID-19 pandemic; video s...   \nMapping the Educational Applications of Augment...  technology; education; application; augmented ...   \nArtificial intelligence for the early detection...  Artificial intelligence; Machine learning; Dee...   \n...                                                                                               ...   \nweather@homedevelopment and validation of a ver...  global climate model; regional climate model; ...   \nI/O Performance Characterization of Lustre and ...  Lustre file system; I/O performance evaluation...   \nStand Structure and Local Landscape Variables A...  landscape metrics; forest management; artifici...   \nA Data-Driven Energy Platform: From Energy Perf...  data exploration; data visualization; energy p...   \nData-driven approaches to integrated closed-loo...  sustainable supply chain; Robust optimization;...   \n\n                                                    SDG  \\\nTI                                                        \nBeyond the learning curve: a review of complex ...    3   \nCVDNet: A novel deep learning architecture for ...    3   \nTowards the sustainable development of smart ci...    3   \nMapping the Educational Applications of Augment...    3   \nArtificial intelligence for the early detection...    3   \n...                                                 ...   \nweather@homedevelopment and validation of a ver...   13   \nI/O Performance Characterization of Lustre and ...   13   \nStand Structure and Local Landscape Variables A...   13   \nA Data-Driven Energy Platform: From Energy Perf...   13   \nData-driven approaches to integrated closed-loo...   13   \n\n                                                                                                   AB  \\\nTI                                                                                                      \nBeyond the learning curve: a review of complex ...  The number of thoracic surgery cases performed...   \nCVDNet: A novel deep learning architecture for ...  The COVID-19 pandemic is an emerging respirato...   \nTowards the sustainable development of smart ci...  Sustainable smart city initiatives around the ...   \nMapping the Educational Applications of Augment...  The use of technology in education is increasi...   \nArtificial intelligence for the early detection...  Colorectal cancer (CRC) was the second-ranked ...   \n...                                                                                               ...   \nweather@homedevelopment and validation of a ver...  Demonstrating the effect that climate change i...   \nI/O Performance Characterization of Lustre and ...  In this paper we study the performance of the ...   \nStand Structure and Local Landscape Variables A...  Plant diversity is a core value of forests and...   \nA Data-Driven Energy Platform: From Energy Perf...  The energy performance certificate (EPC) is a ...   \nData-driven approaches to integrated closed-loo...  In this paper, the problem of sustainable clos...   \n\n                                                       AI  robotics    IOT  \\\nTI                                                                           \nBeyond the learning curve: a review of complex ...  False      True  False   \nCVDNet: A novel deep learning architecture for ...   True     False  False   \nTowards the sustainable development of smart ci...   True     False  False   \nMapping the Educational Applications of Augment...   True     False  False   \nArtificial intelligence for the early detection...   True     False  False   \n...                                                   ...       ...    ...   \nweather@homedevelopment and validation of a ver...  False     False  False   \nI/O Performance Characterization of Lustre and ...  False     False  False   \nStand Structure and Local Landscape Variables A...   True     False  False   \nA Data-Driven Energy Platform: From Energy Perf...   True     False  False   \nData-driven approaches to integrated closed-loo...  False     False  False   \n\n                                                    big_data  \\\nTI                                                             \nBeyond the learning curve: a review of complex ...     False   \nCVDNet: A novel deep learning architecture for ...     False   \nTowards the sustainable development of smart ci...     False   \nMapping the Educational Applications of Augment...     False   \nArtificial intelligence for the early detection...     False   \n...                                                      ...   \nweather@homedevelopment and validation of a ver...     False   \nI/O Performance Characterization of Lustre and ...     False   \nStand Structure and Local Landscape Variables A...     False   \nA Data-Driven Energy Platform: From Energy Perf...     False   \nData-driven approaches to integrated closed-loo...      True   \n\n                                                    computing_infrastructure  \\\nTI                                                                             \nBeyond the learning curve: a review of complex ...                     False   \nCVDNet: A novel deep learning architecture for ...                     False   \nTowards the sustainable development of smart ci...                     False   \nMapping the Educational Applications of Augment...                     False   \nArtificial intelligence for the early detection...                     False   \n...                                                                      ...   \nweather@homedevelopment and validation of a ver...                      True   \nI/O Performance Characterization of Lustre and ...                      True   \nStand Structure and Local Landscape Variables A...                     False   \nA Data-Driven Energy Platform: From Energy Perf...                     False   \nData-driven approaches to integrated closed-loo...                     False   \n\n                                                    additive_manufacturing  \\\nTI                                                                           \nBeyond the learning curve: a review of complex ...                   False   \nCVDNet: A novel deep learning architecture for ...                   False   \nTowards the sustainable development of smart ci...                   False   \nMapping the Educational Applications of Augment...                   False   \nArtificial intelligence for the early detection...                   False   \n...                                                                    ...   \nweather@homedevelopment and validation of a ver...                   False   \nI/O Performance Characterization of Lustre and ...                   False   \nStand Structure and Local Landscape Variables A...                   False   \nA Data-Driven Energy Platform: From Energy Perf...                   False   \nData-driven approaches to integrated closed-loo...                   False   \n\n                                                    blockchain  \\\nTI                                                               \nBeyond the learning curve: a review of complex ...       False   \nCVDNet: A novel deep learning architecture for ...       False   \nTowards the sustainable development of smart ci...       False   \nMapping the Educational Applications of Augment...       False   \nArtificial intelligence for the early detection...       False   \n...                                                        ...   \nweather@homedevelopment and validation of a ver...       False   \nI/O Performance Characterization of Lustre and ...       False   \nStand Structure and Local Landscape Variables A...       False   \nA Data-Driven Energy Platform: From Energy Perf...       False   \nData-driven approaches to integrated closed-loo...       False   \n\n                                                                                               sdgkey  \\\nTI                                                                                                      \nBeyond the learning curve: a review of complex ...                                                  0   \nCVDNet: A novel deep learning architecture for ...                                  COVID-19 pandemic   \nTowards the sustainable development of smart ci...  combat the COVID-19, COVID-19 pandemic, Sustai...   \nMapping the Educational Applications of Augment...                                  COVID-19 pandemic   \nArtificial intelligence for the early detection...                                                  0   \n...                                                                                               ...   \nweather@homedevelopment and validation of a ver...  anthropogenic climate, climate change, climate...   \nI/O Performance Characterization of Lustre and ...                                   climate modeling   \nStand Structure and Local Landscape Variables A...                                                  0   \nA Data-Driven Energy Platform: From Energy Perf...                     greenhouse gas, greenhouse gas   \nData-driven approaches to integrated closed-loo...                     greenhouse gas, greenhouse gas   \n\n                                                                                                dtkey  \\\nTI                                                                                                      \nBeyond the learning curve: a review of complex ...                               robotic, robotically   \nCVDNet: A novel deep learning architecture for ...  Artificial Intelligence, Deep Learning, Neural...   \nTowards the sustainable development of smart ci...                    deep learning, object detection   \nMapping the Educational Applications of Augment...                                  Augmented Reality   \nArtificial intelligence for the early detection...  artificial intelligence, Deep learning, Machin...   \n...                                                                                               ...   \nweather@homedevelopment and validation of a ver...                              distributed computing   \nI/O Performance Characterization of Lustre and ...                                     supercomputing   \nStand Structure and Local Landscape Variables A...                                    neural networks   \nA Data-Driven Energy Platform: From Energy Perf...                                       data mining    \nData-driven approaches to integrated closed-loo...                                           Big Data   \n\n                                                                      Term1  \\\nTI                                                                            \nBeyond the learning curve: a review of complex ...  (avg, 0.01, 0.18, 0.81)   \nCVDNet: A novel deep learning architecture for ...  (avg, 0.03, 0.37, 0.59)   \nTowards the sustainable development of smart ci...  (avg, 0.02, 0.17, 0.81)   \nMapping the Educational Applications of Augment...  (avg, 0.02, 0.41, 0.57)   \nArtificial intelligence for the early detection...  (avg, 0.05, 0.32, 0.63)   \n...                                                                     ...   \nweather@homedevelopment and validation of a ver...  (avg, 0.02, 0.11, 0.87)   \nI/O Performance Characterization of Lustre and ...  (avg, 0.01, 0.52, 0.47)   \nStand Structure and Local Landscape Variables A...  (avg, 0.05, 0.36, 0.59)   \nA Data-Driven Energy Platform: From Energy Perf...  (avg, 0.01, 0.22, 0.77)   \nData-driven approaches to integrated closed-loo...  (avg, 0.04, 0.21, 0.75)   \n\n                                                                                          Term2  \\\nTI                                                                                                \nBeyond the learning curve: a review of complex ...                  (robotic, 0.01, 0.16, 0.83)   \nCVDNet: A novel deep learning architecture for ...  (Artificial Intelligence, 0.03, 0.35, 0.62)   \nTowards the sustainable development of smart ci...             (deep learning, 0.02, 0.2, 0.78)   \nMapping the Educational Applications of Augment...         (Augmented Reality, 0.02, 0.5, 0.48)   \nArtificial intelligence for the early detection...  (artificial intelligence, 0.04, 0.21, 0.75)   \n...                                                                                         ...   \nweather@homedevelopment and validation of a ver...    (distributed computing, 0.02, 0.14, 0.85)   \nI/O Performance Characterization of Lustre and ...           (supercomputing, 0.01, 0.67, 0.32)   \nStand Structure and Local Landscape Variables A...          (neural networks, 0.04, 0.39, 0.57)   \nA Data-Driven Energy Platform: From Energy Perf...             (data mining , 0.01, 0.07, 0.92)   \nData-driven approaches to integrated closed-loo...                 (Big Data, 0.02, 0.22, 0.76)   \n\n                                                                                   Term3  \\\nTI                                                                                         \nBeyond the learning curve: a review of complex ...       (robotically, 0.01, 0.15, 0.84)   \nCVDNet: A novel deep learning architecture for ...     (Deep Learning, 0.03, 0.38, 0.58)   \nTowards the sustainable development of smart ci...  (object detection, 0.02, 0.16, 0.82)   \nMapping the Educational Applications of Augment...                                  None   \nArtificial intelligence for the early detection...     (Deep learning, 0.05, 0.24, 0.71)   \n...                                                                                  ...   \nweather@homedevelopment and validation of a ver...                                  None   \nI/O Performance Characterization of Lustre and ...                                  None   \nStand Structure and Local Landscape Variables A...                                  None   \nA Data-Driven Energy Platform: From Energy Perf...                                  None   \nData-driven approaches to integrated closed-loo...                                  None   \n\n                                                                                   Term4  \\\nTI                                                                                         \nBeyond the learning curve: a review of complex ...                                  None   \nCVDNet: A novel deep learning architecture for ...    (Neural Network, 0.03, 0.38, 0.59)   \nTowards the sustainable development of smart ci...                                  None   \nMapping the Educational Applications of Augment...                                  None   \nArtificial intelligence for the early detection...  (Machine learning, 0.05, 0.23, 0.73)   \n...                                                                                  ...   \nweather@homedevelopment and validation of a ver...                                  None   \nI/O Performance Characterization of Lustre and ...                                  None   \nStand Structure and Local Landscape Variables A...                                  None   \nA Data-Driven Energy Platform: From Energy Perf...                                  None   \nData-driven approaches to integrated closed-loo...                                  None   \n\n                                                   Term5 Annotator Annotation  \nTI                                                                             \nBeyond the learning curve: a review of complex ...  None   Claudia        Pos  \nCVDNet: A novel deep learning architecture for ...  None   Claudia        Pos  \nTowards the sustainable development of smart ci...  None   Claudia        Pos  \nMapping the Educational Applications of Augment...  None   Claudia        Pos  \nArtificial intelligence for the early detection...  None   Claudia        Pos  \n...                                                  ...       ...        ...  \nweather@homedevelopment and validation of a ver...  None     Kevin        Pos  \nI/O Performance Characterization of Lustre and ...  None     Kevin        Neu  \nStand Structure and Local Landscape Variables A...  None     Kevin        Neu  \nA Data-Driven Energy Platform: From Energy Perf...  None     Kevin        Pos  \nData-driven approaches to integrated closed-loo...  None     Kevin        Pos  \n\n[140 rows x 19 columns]",
      "text/html": "<div>\n<style scoped>\n    .dataframe tbody tr th:only-of-type {\n        vertical-align: middle;\n    }\n\n    .dataframe tbody tr th {\n        vertical-align: top;\n    }\n\n    .dataframe thead th {\n        text-align: right;\n    }\n</style>\n<table border=\"1\" class=\"dataframe\">\n  <thead>\n    <tr style=\"text-align: right;\">\n      <th></th>\n      <th>DE</th>\n      <th>SDG</th>\n      <th>AB</th>\n      <th>AI</th>\n      <th>robotics</th>\n      <th>IOT</th>\n      <th>big_data</th>\n      <th>computing_infrastructure</th>\n      <th>additive_manufacturing</th>\n      <th>blockchain</th>\n      <th>sdgkey</th>\n      <th>dtkey</th>\n      <th>Term1</th>\n      <th>Term2</th>\n      <th>Term3</th>\n      <th>Term4</th>\n      <th>Term5</th>\n      <th>Annotator</th>\n      <th>Annotation</th>\n    </tr>\n    <tr>\n      <th>TI</th>\n      <th></th>\n      <th></th>\n      <th></th>\n      <th></th>\n      <th></th>\n      <th></th>\n      <th></th>\n      <th></th>\n      <th></th>\n      <th></th>\n      <th></th>\n      <th></th>\n      <th></th>\n      <th></th>\n      <th></th>\n      <th></th>\n      <th></th>\n      <th></th>\n      <th></th>\n    </tr>\n  </thead>\n  <tbody>\n    <tr>\n      <th>Beyond the learning curve: a review of complex cases in robotic thoracic surgery</th>\n      <td>Robotic surgery; thoracic; outcomes; learning-...</td>\n      <td>3</td>\n      <td>The number of thoracic surgery cases performed...</td>\n      <td>False</td>\n      <td>True</td>\n      <td>False</td>\n      <td>False</td>\n      <td>False</td>\n      <td>False</td>\n      <td>False</td>\n      <td>0</td>\n      <td>robotic, robotically</td>\n      <td>(avg, 0.01, 0.18, 0.81)</td>\n      <td>(robotic, 0.01, 0.16, 0.83)</td>\n      <td>(robotically, 0.01, 0.15, 0.84)</td>\n      <td>None</td>\n      <td>None</td>\n      <td>Claudia</td>\n      <td>Pos</td>\n    </tr>\n    <tr>\n      <th>CVDNet: A novel deep learning architecture for detection of coronavirus (Covid-19) from chest x-ray images</th>\n      <td>Deep learning; Convolutional neural network; C...</td>\n      <td>3</td>\n      <td>The COVID-19 pandemic is an emerging respirato...</td>\n      <td>True</td>\n      <td>False</td>\n      <td>False</td>\n      <td>False</td>\n      <td>False</td>\n      <td>False</td>\n      <td>False</td>\n      <td>COVID-19 pandemic</td>\n      <td>Artificial Intelligence, Deep Learning, Neural...</td>\n      <td>(avg, 0.03, 0.37, 0.59)</td>\n      <td>(Artificial Intelligence, 0.03, 0.35, 0.62)</td>\n      <td>(Deep Learning, 0.03, 0.38, 0.58)</td>\n      <td>(Neural Network, 0.03, 0.38, 0.59)</td>\n      <td>None</td>\n      <td>Claudia</td>\n      <td>Pos</td>\n    </tr>\n    <tr>\n      <th>Towards the sustainable development of smart cities through mass video surveillance: A response to the COVID-19 pandemic</th>\n      <td>Sustainable cities; COVID-19 pandemic; video s...</td>\n      <td>3</td>\n      <td>Sustainable smart city initiatives around the ...</td>\n      <td>True</td>\n      <td>False</td>\n      <td>False</td>\n      <td>False</td>\n      <td>False</td>\n      <td>False</td>\n      <td>False</td>\n      <td>combat the COVID-19, COVID-19 pandemic, Sustai...</td>\n      <td>deep learning, object detection</td>\n      <td>(avg, 0.02, 0.17, 0.81)</td>\n      <td>(deep learning, 0.02, 0.2, 0.78)</td>\n      <td>(object detection, 0.02, 0.16, 0.82)</td>\n      <td>None</td>\n      <td>None</td>\n      <td>Claudia</td>\n      <td>Pos</td>\n    </tr>\n    <tr>\n      <th>Mapping the Educational Applications of Augmented Reality Research using A Bibliometric Analysis</th>\n      <td>technology; education; application; augmented ...</td>\n      <td>3</td>\n      <td>The use of technology in education is increasi...</td>\n      <td>True</td>\n      <td>False</td>\n      <td>False</td>\n      <td>False</td>\n      <td>False</td>\n      <td>False</td>\n      <td>False</td>\n      <td>COVID-19 pandemic</td>\n      <td>Augmented Reality</td>\n      <td>(avg, 0.02, 0.41, 0.57)</td>\n      <td>(Augmented Reality, 0.02, 0.5, 0.48)</td>\n      <td>None</td>\n      <td>None</td>\n      <td>None</td>\n      <td>Claudia</td>\n      <td>Pos</td>\n    </tr>\n    <tr>\n      <th>Artificial intelligence for the early detection of colorectal cancer: A comprehensive review of its advantages and misconceptions</th>\n      <td>Artificial intelligence; Machine learning; Dee...</td>\n      <td>3</td>\n      <td>Colorectal cancer (CRC) was the second-ranked ...</td>\n      <td>True</td>\n      <td>False</td>\n      <td>False</td>\n      <td>False</td>\n      <td>False</td>\n      <td>False</td>\n      <td>False</td>\n      <td>0</td>\n      <td>artificial intelligence, Deep learning, Machin...</td>\n      <td>(avg, 0.05, 0.32, 0.63)</td>\n      <td>(artificial intelligence, 0.04, 0.21, 0.75)</td>\n      <td>(Deep learning, 0.05, 0.24, 0.71)</td>\n      <td>(Machine learning, 0.05, 0.23, 0.73)</td>\n      <td>None</td>\n      <td>Claudia</td>\n      <td>Pos</td>\n    </tr>\n    <tr>\n      <th>...</th>\n      <td>...</td>\n      <td>...</td>\n      <td>...</td>\n      <td>...</td>\n      <td>...</td>\n      <td>...</td>\n      <td>...</td>\n      <td>...</td>\n      <td>...</td>\n      <td>...</td>\n      <td>...</td>\n      <td>...</td>\n      <td>...</td>\n      <td>...</td>\n      <td>...</td>\n      <td>...</td>\n      <td>...</td>\n      <td>...</td>\n      <td>...</td>\n    </tr>\n    <tr>\n      <th>weather@homedevelopment and validation of a very large ensemble modelling system for probabilistic event attribution</th>\n      <td>global climate model; regional climate model; ...</td>\n      <td>13</td>\n      <td>Demonstrating the effect that climate change i...</td>\n      <td>False</td>\n      <td>False</td>\n      <td>False</td>\n      <td>False</td>\n      <td>True</td>\n      <td>False</td>\n      <td>False</td>\n      <td>anthropogenic climate, climate change, climate...</td>\n      <td>distributed computing</td>\n      <td>(avg, 0.02, 0.11, 0.87)</td>\n      <td>(distributed computing, 0.02, 0.14, 0.85)</td>\n      <td>None</td>\n      <td>None</td>\n      <td>None</td>\n      <td>Kevin</td>\n      <td>Pos</td>\n    </tr>\n    <tr>\n      <th>I/O Performance Characterization of Lustre and NASA Applications on Pleiades</th>\n      <td>Lustre file system; I/O performance evaluation...</td>\n      <td>13</td>\n      <td>In this paper we study the performance of the ...</td>\n      <td>False</td>\n      <td>False</td>\n      <td>False</td>\n      <td>False</td>\n      <td>True</td>\n      <td>False</td>\n      <td>False</td>\n      <td>climate modeling</td>\n      <td>supercomputing</td>\n      <td>(avg, 0.01, 0.52, 0.47)</td>\n      <td>(supercomputing, 0.01, 0.67, 0.32)</td>\n      <td>None</td>\n      <td>None</td>\n      <td>None</td>\n      <td>Kevin</td>\n      <td>Neu</td>\n    </tr>\n    <tr>\n      <th>Stand Structure and Local Landscape Variables Are the Dominant Factors Explaining Shrub and Tree Diversity in Mediterranean Forests</th>\n      <td>landscape metrics; forest management; artifici...</td>\n      <td>13</td>\n      <td>Plant diversity is a core value of forests and...</td>\n      <td>True</td>\n      <td>False</td>\n      <td>False</td>\n      <td>False</td>\n      <td>False</td>\n      <td>False</td>\n      <td>False</td>\n      <td>0</td>\n      <td>neural networks</td>\n      <td>(avg, 0.05, 0.36, 0.59)</td>\n      <td>(neural networks, 0.04, 0.39, 0.57)</td>\n      <td>None</td>\n      <td>None</td>\n      <td>None</td>\n      <td>Kevin</td>\n      <td>Neu</td>\n    </tr>\n    <tr>\n      <th>A Data-Driven Energy Platform: From Energy Performance Certificates to Human-Readable Knowledge through Dynamic High-Resolution Geospatial Maps</th>\n      <td>data exploration; data visualization; energy p...</td>\n      <td>13</td>\n      <td>The energy performance certificate (EPC) is a ...</td>\n      <td>True</td>\n      <td>False</td>\n      <td>False</td>\n      <td>False</td>\n      <td>False</td>\n      <td>False</td>\n      <td>False</td>\n      <td>greenhouse gas, greenhouse gas</td>\n      <td>data mining</td>\n      <td>(avg, 0.01, 0.22, 0.77)</td>\n      <td>(data mining , 0.01, 0.07, 0.92)</td>\n      <td>None</td>\n      <td>None</td>\n      <td>None</td>\n      <td>Kevin</td>\n      <td>Pos</td>\n    </tr>\n    <tr>\n      <th>Data-driven approaches to integrated closed-loop sustainable supply chain design under multi-uncertainties</th>\n      <td>sustainable supply chain; Robust optimization;...</td>\n      <td>13</td>\n      <td>In this paper, the problem of sustainable clos...</td>\n      <td>False</td>\n      <td>False</td>\n      <td>False</td>\n      <td>True</td>\n      <td>False</td>\n      <td>False</td>\n      <td>False</td>\n      <td>greenhouse gas, greenhouse gas</td>\n      <td>Big Data</td>\n      <td>(avg, 0.04, 0.21, 0.75)</td>\n      <td>(Big Data, 0.02, 0.22, 0.76)</td>\n      <td>None</td>\n      <td>None</td>\n      <td>None</td>\n      <td>Kevin</td>\n      <td>Pos</td>\n    </tr>\n  </tbody>\n</table>\n<p>140 rows × 19 columns</p>\n</div>"
     },
     "execution_count": 63,
     "metadata": {},
     "output_type": "execute_result"
    }
   ],
   "source": [
    "sample_all = pd.read_excel(\"../data/sample_fully_annotated.xlsx\", index_col=0)\n",
    "sample_all['Term1'] = sample_all['Term1'].apply(convert_sent)\n",
    "sample_all['Term2'] = sample_all['Term2'].apply(convert_sent)\n",
    "sample_all['Term3'] = sample_all['Term3'].apply(convert_sent)\n",
    "sample_all['Term4'] = sample_all['Term4'].apply(convert_sent)\n",
    "sample_all['Term5'] = sample_all['Term5'].apply(convert_sent)\n",
    "sample_all"
   ],
   "metadata": {
    "collapsed": false
   }
  },
  {
   "cell_type": "code",
   "execution_count": 110,
   "outputs": [
    {
     "name": "stdout",
     "output_type": "stream",
     "text": [
      "[('0.01', '0.16', '0.83'), ('0.01', '0.15', '0.84')]\n",
      "(0.01, 0.155, 0.835)\n",
      "[('0.03', '0.35', '0.62'), ('0.03', '0.38', '0.58'), ('0.03', '0.38', '0.59')]\n",
      "(0.03, 0.36999999999999994, 0.5966666666666667)\n",
      "[('0.02', '0.2', '0.78'), ('0.02', '0.16', '0.82')]\n",
      "(0.02, 0.18, 0.8)\n",
      "[('0.02', '0.5', '0.48')]\n",
      "(0.02, 0.5, 0.48)\n",
      "[('0.04', '0.21', '0.75'), ('0.05', '0.24', '0.71'), ('0.05', '0.23', '0.73')]\n",
      "(0.04666666666666667, 0.22666666666666666, 0.73)\n",
      "[('0.07', '0.37', '0.56'), ('0.07', '0.39', '0.54'), ('0.06', '0.42', '0.52')]\n",
      "(0.06666666666666667, 0.3933333333333333, 0.54)\n",
      "[('0.05', '0.6', '0.34')]\n",
      "(0.05, 0.6, 0.34)\n",
      "[('0.01', '0.06', '0.93')]\n",
      "(0.01, 0.06, 0.93)\n",
      "[('0.02', '0.56', '0.42')]\n",
      "(0.02, 0.56, 0.42)\n",
      "[('0.11', '0.22', '0.67'), ('0.09', '0.21', '0.7')]\n",
      "(0.1, 0.215, 0.685)\n",
      "[('0.08', '0.63', '0.29')]\n",
      "(0.08, 0.63, 0.29)\n",
      "[('0.05', '0.56', '0.39')]\n",
      "(0.05, 0.56, 0.39)\n",
      "[('0.03', '0.25', '0.72'), ('0.02', '0.17', '0.81')]\n",
      "(0.025, 0.21000000000000002, 0.765)\n",
      "[('0.04', '0.31', '0.65')]\n",
      "(0.04, 0.31, 0.65)\n",
      "[('0.03', '0.14', '0.84'), ('0.03', '0.2', '0.77'), ('0.03', '0.24', '0.73')]\n",
      "(0.03, 0.19333333333333336, 0.7799999999999999)\n",
      "[('0.09', '0.27', '0.64')]\n",
      "(0.09, 0.27, 0.64)\n",
      "[('0.02', '0.45', '0.53')]\n",
      "(0.02, 0.45, 0.53)\n",
      "[('0.03', '0.24', '0.73'), ('0.03', '0.24', '0.74')]\n",
      "(0.03, 0.24, 0.735)\n",
      "[('0.02', '0.1', '0.88'), ('0.04', '0.29', '0.67')]\n",
      "(0.03, 0.195, 0.775)\n",
      "[('0.53', '0.25', '0.23')]\n",
      "(0.53, 0.25, 0.23)\n",
      "[('0.3', '0.48', '0.21'), ('0.3', '0.48', '0.21')]\n",
      "(0.3, 0.48, 0.21)\n",
      "[('0.08', '0.62', '0.3')]\n",
      "(0.08, 0.62, 0.3)\n",
      "[('0.35', '0.29', '0.36'), ('0.35', '0.28', '0.37'), ('0.37', '0.29', '0.35')]\n",
      "(0.35666666666666663, 0.2866666666666667, 0.36000000000000004)\n",
      "[('0.04', '0.5', '0.46'), ('0.06', '0.57', '0.37')]\n",
      "(0.05, 0.5349999999999999, 0.41500000000000004)\n",
      "[('0.45', '0.32', '0.23')]\n",
      "(0.45, 0.32, 0.23)\n",
      "[('0.05', '0.82', '0.13'), ('0.05', '0.85', '0.11')]\n",
      "(0.05, 0.835, 0.12)\n",
      "[('0.03', '0.89', '0.08'), ('0.02', '0.89', '0.09')]\n",
      "(0.025, 0.89, 0.08499999999999999)\n",
      "[('0.02', '0.1', '0.88'), ('0.02', '0.11', '0.87')]\n",
      "(0.02, 0.10500000000000001, 0.875)\n",
      "[('0.53', '0.27', '0.2')]\n",
      "(0.53, 0.27, 0.2)\n",
      "[('0.47', '0.31', '0.22')]\n",
      "(0.47, 0.31, 0.22)\n",
      "[('0.08', '0.33', '0.59')]\n",
      "(0.08, 0.33, 0.59)\n",
      "[('0.27', '0.18', '0.55')]\n",
      "(0.27, 0.18, 0.55)\n",
      "[('0.01', '0.18', '0.81')]\n",
      "(0.01, 0.18, 0.81)\n",
      "[('0.01', '0.74', '0.25'), ('0.01', '0.5', '0.49')]\n",
      "(0.01, 0.62, 0.37)\n",
      "[('0.05', '0.13', '0.82'), ('0.06', '0.14', '0.8')]\n",
      "(0.055, 0.135, 0.81)\n",
      "[('0.24', '0.43', '0.33')]\n",
      "(0.24, 0.43, 0.33)\n",
      "[('0.05', '0.57', '0.38')]\n",
      "(0.05, 0.57, 0.38)\n",
      "[('0.07', '0.26', '0.66')]\n",
      "(0.07, 0.26, 0.66)\n",
      "[('0.05', '0.6', '0.35'), ('0.05', '0.58', '0.37')]\n",
      "(0.05, 0.59, 0.36)\n",
      "[('0.1', '0.55', '0.35')]\n",
      "(0.1, 0.55, 0.35)\n",
      "[('0.02', '0.67', '0.31'), ('0.02', '0.43', '0.54')]\n",
      "(0.02, 0.55, 0.42500000000000004)\n",
      "[('0.01', '0.47', '0.53')]\n",
      "(0.01, 0.47, 0.53)\n",
      "[('0.04', '0.59', '0.37')]\n",
      "(0.04, 0.59, 0.37)\n",
      "[('0.26', '0.38', '0.36'), ('0.27', '0.35', '0.38'), ('0.16', '0.64', '0.2')]\n",
      "(0.23, 0.4566666666666667, 0.3133333333333333)\n",
      "[('0.02', '0.43', '0.55'), ('0.02', '0.39', '0.59')]\n",
      "(0.02, 0.41000000000000003, 0.5700000000000001)\n",
      "[('0.01', '0.72', '0.27'), ('0.02', '0.59', '0.4')]\n",
      "(0.015, 0.655, 0.335)\n",
      "[('0.02', '0.4', '0.58'), ('0.02', '0.39', '0.6')]\n",
      "(0.02, 0.395, 0.59)\n",
      "[('0.08', '0.72', '0.2')]\n",
      "(0.08, 0.72, 0.2)\n",
      "[('0.02', '0.41', '0.57'), ('0.02', '0.44', '0.53')]\n",
      "(0.02, 0.425, 0.55)\n",
      "[('0.03', '0.51', '0.46'), ('0.02', '0.61', '0.37'), ('0.03', '0.53', '0.44'), ('0.02', '0.82', '0.16')]\n",
      "(0.025, 0.6175, 0.3575)\n",
      "[('0.01', '0.71', '0.27'), ('0.01', '0.4', '0.59')]\n",
      "(0.01, 0.5549999999999999, 0.43)\n",
      "[('0.02', '0.23', '0.75'), ('0.01', '0.08', '0.91'), ('0.01', '0.22', '0.77')]\n",
      "(0.013333333333333334, 0.17666666666666667, 0.81)\n",
      "[('0.02', '0.06', '0.92')]\n",
      "(0.02, 0.06, 0.92)\n",
      "[('0.03', '0.21', '0.76'), ('0.03', '0.18', '0.79')]\n",
      "(0.03, 0.195, 0.775)\n",
      "[('0.09', '0.28', '0.63'), ('0.13', '0.18', '0.69')]\n",
      "(0.11, 0.23, 0.6599999999999999)\n",
      "[('0.02', '0.17', '0.82'), ('0.02', '0.13', '0.85')]\n",
      "(0.02, 0.15000000000000002, 0.835)\n",
      "[('0.03', '0.21', '0.75'), ('0.03', '0.19', '0.78')]\n",
      "(0.03, 0.2, 0.765)\n",
      "[('0.06', '0.25', '0.69')]\n",
      "(0.06, 0.25, 0.69)\n",
      "[('0.01', '0.16', '0.83'), ('0.01', '0.23', '0.76')]\n",
      "(0.01, 0.195, 0.7949999999999999)\n",
      "[('0.01', '0.1', '0.9'), ('0.01', '0.08', '0.92')]\n",
      "(0.01, 0.09, 0.91)\n",
      "[('0.03', '0.91', '0.06')]\n",
      "(0.03, 0.91, 0.06)\n",
      "[('0.04', '0.49', '0.46'), ('0.05', '0.4', '0.55'), ('0.05', '0.51', '0.44'), ('0.03', '0.68', '0.29')]\n",
      "(0.0425, 0.52, 0.435)\n",
      "[('0.02', '0.23', '0.75'), ('0.02', '0.23', '0.75')]\n",
      "(0.02, 0.23, 0.75)\n",
      "[('0.07', '0.21', '0.72')]\n",
      "(0.07, 0.21, 0.72)\n",
      "[('0.03', '0.72', '0.26')]\n",
      "(0.03, 0.72, 0.26)\n",
      "[('0.01', '0.58', '0.4'), ('0.02', '0.59', '0.4')]\n",
      "(0.015, 0.585, 0.4)\n",
      "[('0.01', '0.05', '0.94')]\n",
      "(0.01, 0.05, 0.94)\n",
      "[('0.01', '0.58', '0.4')]\n",
      "(0.01, 0.58, 0.4)\n",
      "[('0.01', '0.57', '0.43'), ('0.01', '0.62', '0.37'), ('0.01', '0.67', '0.32')]\n",
      "(0.01, 0.62, 0.37333333333333335)\n",
      "[('0.04', '0.53', '0.43'), ('0.03', '0.42', '0.55')]\n",
      "(0.035, 0.475, 0.49)\n",
      "[('0.03', '0.52', '0.46')]\n",
      "(0.03, 0.52, 0.46)\n",
      "[('0.01', '0.03', '0.96'), ('0.01', '0.04', '0.94')]\n",
      "(0.01, 0.035, 0.95)\n",
      "[('0.02', '0.22', '0.76'), ('0.02', '0.08', '0.91'), ('0.02', '0.09', '0.89'), ('0.02', '0.08', '0.9')]\n",
      "(0.02, 0.11750000000000001, 0.865)\n",
      "[('0.01', '0.13', '0.86')]\n",
      "(0.01, 0.13, 0.86)\n",
      "[('0.02', '0.89', '0.09'), ('0.01', '0.79', '0.19')]\n",
      "(0.015, 0.8400000000000001, 0.14)\n",
      "[('0.04', '0.45', '0.51'), ('0.03', '0.54', '0.43'), ('0.03', '0.54', '0.43')]\n",
      "(0.03333333333333333, 0.51, 0.4566666666666666)\n",
      "[('0.01', '0.3', '0.7'), ('0.01', '0.28', '0.71')]\n",
      "(0.01, 0.29000000000000004, 0.705)\n",
      "[('0.14', '0.27', '0.59')]\n",
      "(0.14, 0.27, 0.59)\n",
      "[('0.03', '0.17', '0.81')]\n",
      "(0.03, 0.17, 0.81)\n",
      "[('0.01', '0.28', '0.71')]\n",
      "(0.01, 0.28, 0.71)\n",
      "[('0.36', '0.35', '0.29')]\n",
      "(0.36, 0.35, 0.29)\n",
      "[('0.2', '0.56', '0.24')]\n",
      "(0.2, 0.56, 0.24)\n",
      "[('0.02', '0.9', '0.08')]\n",
      "(0.02, 0.9, 0.08)\n",
      "[('0.01', '0.07', '0.91')]\n",
      "(0.01, 0.07, 0.91)\n",
      "[('0.07', '0.34', '0.59')]\n",
      "(0.07, 0.34, 0.59)\n",
      "[('0.01', '0.1', '0.89')]\n",
      "(0.01, 0.1, 0.89)\n",
      "[('0.1', '0.77', '0.12')]\n",
      "(0.1, 0.77, 0.12)\n",
      "[('0.09', '0.26', '0.65')]\n",
      "(0.09, 0.26, 0.65)\n",
      "[('0.03', '0.3', '0.67')]\n",
      "(0.03, 0.3, 0.67)\n",
      "[('0.14', '0.65', '0.21'), ('0.14', '0.62', '0.24')]\n",
      "(0.14, 0.635, 0.22499999999999998)\n",
      "[('0.2', '0.2', '0.6')]\n",
      "(0.2, 0.2, 0.6)\n",
      "[('0.03', '0.08', '0.89')]\n",
      "(0.03, 0.08, 0.89)\n",
      "[('0.02', '0.67', '0.31')]\n",
      "(0.02, 0.67, 0.31)\n",
      "[('0.01', '0.26', '0.73')]\n",
      "(0.01, 0.26, 0.73)\n",
      "[('0.03', '0.49', '0.48')]\n",
      "(0.03, 0.49, 0.48)\n",
      "[('0.01', '0.17', '0.82'), ('0.01', '0.17', '0.82')]\n",
      "(0.01, 0.17, 0.82)\n",
      "[('0.06', '0.57', '0.37')]\n",
      "(0.06, 0.57, 0.37)\n",
      "[('0.06', '0.51', '0.43'), ('0.06', '0.54', '0.41')]\n",
      "(0.06, 0.525, 0.42)\n",
      "[('0.63', '0.22', '0.15')]\n",
      "(0.63, 0.22, 0.15)\n",
      "[('0.01', '0.59', '0.41'), ('0.01', '0.47', '0.52'), ('0.01', '0.32', '0.67')]\n",
      "(0.01, 0.46, 0.5333333333333333)\n",
      "[('0.1', '0.28', '0.62')]\n",
      "(0.1, 0.28, 0.62)\n",
      "[('0.01', '0.08', '0.91'), ('0.02', '0.29', '0.68')]\n",
      "(0.015, 0.185, 0.795)\n",
      "[('0.02', '0.24', '0.74')]\n",
      "(0.02, 0.24, 0.74)\n",
      "[('0.01', '0.8', '0.19'), ('0.01', '0.77', '0.22')]\n",
      "(0.01, 0.785, 0.20500000000000002)\n",
      "[('0.03', '0.22', '0.75')]\n",
      "(0.03, 0.22, 0.75)\n",
      "[('0.01', '0.8', '0.19')]\n",
      "(0.01, 0.8, 0.19)\n",
      "[('0.07', '0.27', '0.67'), ('0.06', '0.24', '0.69')]\n",
      "(0.065, 0.255, 0.6799999999999999)\n",
      "[('0.19', '0.18', '0.62')]\n",
      "(0.19, 0.18, 0.62)\n",
      "[('0.04', '0.52', '0.44')]\n",
      "(0.04, 0.52, 0.44)\n",
      "[('0.01', '0.21', '0.78'), ('0.01', '0.2', '0.79')]\n",
      "(0.01, 0.20500000000000002, 0.785)\n",
      "[('0.01', '0.53', '0.46'), ('0.01', '0.38', '0.61'), ('0.01', '0.47', '0.52')]\n",
      "(0.01, 0.45999999999999996, 0.53)\n",
      "[('0.02', '0.22', '0.76')]\n",
      "(0.02, 0.22, 0.76)\n",
      "[('0.04', '0.15', '0.81'), ('0.04', '0.13', '0.84')]\n",
      "(0.04, 0.14, 0.825)\n",
      "[('0.04', '0.36', '0.6')]\n",
      "(0.04, 0.36, 0.6)\n",
      "[('0.02', '0.1', '0.89'), ('0.02', '0.15', '0.84')]\n",
      "(0.02, 0.125, 0.865)\n",
      "[('0.05', '0.19', '0.76'), ('0.04', '0.2', '0.75'), ('0.05', '0.2', '0.75')]\n",
      "(0.04666666666666667, 0.19666666666666668, 0.7533333333333333)\n",
      "[('0.07', '0.19', '0.73'), ('0.07', '0.18', '0.75')]\n",
      "(0.07, 0.185, 0.74)\n",
      "[('0.07', '0.25', '0.68'), ('0.07', '0.27', '0.67'), ('0.06', '0.28', '0.67'), ('0.05', '0.25', '0.71')]\n",
      "(0.0625, 0.2625, 0.6825)\n",
      "[('0.02', '0.13', '0.85')]\n",
      "(0.02, 0.13, 0.85)\n",
      "[('0.02', '0.81', '0.17'), ('0.01', '0.83', '0.16')]\n",
      "(0.015, 0.8200000000000001, 0.165)\n",
      "[('0.15', '0.57', '0.28')]\n",
      "(0.15, 0.57, 0.28)\n",
      "[('0.03', '0.21', '0.76')]\n",
      "(0.03, 0.21, 0.76)\n",
      "[('0.01', '0.18', '0.81')]\n",
      "(0.01, 0.18, 0.81)\n",
      "[('0.01', '0.05', '0.95'), ('0.0', '0.04', '0.96')]\n",
      "(0.005, 0.045, 0.955)\n",
      "[('0.01', '0.13', '0.85')]\n",
      "(0.01, 0.13, 0.85)\n",
      "[('0.02', '0.44', '0.54')]\n",
      "(0.02, 0.44, 0.54)\n",
      "[('0.03', '0.24', '0.73')]\n",
      "(0.03, 0.24, 0.73)\n",
      "[('0.05', '0.4', '0.55'), ('0.03', '0.41', '0.56')]\n",
      "(0.04, 0.405, 0.555)\n",
      "[('0.01', '0.23', '0.76'), ('0.01', '0.23', '0.76'), ('0.01', '0.28', '0.71')]\n",
      "(0.01, 0.24666666666666667, 0.7433333333333333)\n",
      "[('0.11', '0.35', '0.55')]\n",
      "(0.11, 0.35, 0.55)\n",
      "[('0.01', '0.04', '0.95'), ('0.01', '0.04', '0.95'), ('0.01', '0.05', '0.94')]\n",
      "(0.01, 0.043333333333333335, 0.9466666666666667)\n",
      "[('0.02', '0.75', '0.22'), ('0.02', '0.7', '0.28')]\n",
      "(0.02, 0.725, 0.25)\n",
      "[('0.03', '0.32', '0.65'), ('0.03', '0.33', '0.64'), ('0.04', '0.3', '0.67')]\n",
      "(0.03333333333333333, 0.31666666666666665, 0.6533333333333333)\n",
      "[('0.03', '0.84', '0.13')]\n",
      "(0.03, 0.84, 0.13)\n",
      "[('0.04', '0.3', '0.66')]\n",
      "(0.04, 0.3, 0.66)\n",
      "[('0.02', '0.14', '0.85')]\n",
      "(0.02, 0.14, 0.85)\n",
      "[('0.01', '0.67', '0.32')]\n",
      "(0.01, 0.67, 0.32)\n",
      "[('0.04', '0.39', '0.57')]\n",
      "(0.04, 0.39, 0.57)\n",
      "[('0.01', '0.07', '0.92')]\n",
      "(0.01, 0.07, 0.92)\n",
      "[('0.02', '0.22', '0.76')]\n",
      "(0.02, 0.22, 0.76)\n"
     ]
    }
   ],
   "source": [
    "sample_all['roberta_sent'] = sample_all.apply(lambda x: annotate(x['Term1'],x['Term2'],x['Term3'],x['Term4'],x['Term5']), axis=1)\n",
    "sample_all = sample_all.rename(columns={\"Annotation\": \"manual_sent\"})"
   ],
   "metadata": {
    "collapsed": false
   }
  },
  {
   "cell_type": "code",
   "execution_count": 111,
   "outputs": [
    {
     "data": {
      "text/plain": "                                                                                                   DE  \\\nTI                                                                                                      \nBeyond the learning curve: a review of complex ...  Robotic surgery; thoracic; outcomes; learning-...   \nCVDNet: A novel deep learning architecture for ...  Deep learning; Convolutional neural network; C...   \nTowards the sustainable development of smart ci...  Sustainable cities; COVID-19 pandemic; video s...   \nMapping the Educational Applications of Augment...  technology; education; application; augmented ...   \nArtificial intelligence for the early detection...  Artificial intelligence; Machine learning; Dee...   \n...                                                                                               ...   \nweather@homedevelopment and validation of a ver...  global climate model; regional climate model; ...   \nI/O Performance Characterization of Lustre and ...  Lustre file system; I/O performance evaluation...   \nStand Structure and Local Landscape Variables A...  landscape metrics; forest management; artifici...   \nA Data-Driven Energy Platform: From Energy Perf...  data exploration; data visualization; energy p...   \nData-driven approaches to integrated closed-loo...  sustainable supply chain; Robust optimization;...   \n\n                                                    SDG  \\\nTI                                                        \nBeyond the learning curve: a review of complex ...    3   \nCVDNet: A novel deep learning architecture for ...    3   \nTowards the sustainable development of smart ci...    3   \nMapping the Educational Applications of Augment...    3   \nArtificial intelligence for the early detection...    3   \n...                                                 ...   \nweather@homedevelopment and validation of a ver...   13   \nI/O Performance Characterization of Lustre and ...   13   \nStand Structure and Local Landscape Variables A...   13   \nA Data-Driven Energy Platform: From Energy Perf...   13   \nData-driven approaches to integrated closed-loo...   13   \n\n                                                                                                   AB  \\\nTI                                                                                                      \nBeyond the learning curve: a review of complex ...  The number of thoracic surgery cases performed...   \nCVDNet: A novel deep learning architecture for ...  The COVID-19 pandemic is an emerging respirato...   \nTowards the sustainable development of smart ci...  Sustainable smart city initiatives around the ...   \nMapping the Educational Applications of Augment...  The use of technology in education is increasi...   \nArtificial intelligence for the early detection...  Colorectal cancer (CRC) was the second-ranked ...   \n...                                                                                               ...   \nweather@homedevelopment and validation of a ver...  Demonstrating the effect that climate change i...   \nI/O Performance Characterization of Lustre and ...  In this paper we study the performance of the ...   \nStand Structure and Local Landscape Variables A...  Plant diversity is a core value of forests and...   \nA Data-Driven Energy Platform: From Energy Perf...  The energy performance certificate (EPC) is a ...   \nData-driven approaches to integrated closed-loo...  In this paper, the problem of sustainable clos...   \n\n                                                       AI  robotics    IOT  \\\nTI                                                                           \nBeyond the learning curve: a review of complex ...  False      True  False   \nCVDNet: A novel deep learning architecture for ...   True     False  False   \nTowards the sustainable development of smart ci...   True     False  False   \nMapping the Educational Applications of Augment...   True     False  False   \nArtificial intelligence for the early detection...   True     False  False   \n...                                                   ...       ...    ...   \nweather@homedevelopment and validation of a ver...  False     False  False   \nI/O Performance Characterization of Lustre and ...  False     False  False   \nStand Structure and Local Landscape Variables A...   True     False  False   \nA Data-Driven Energy Platform: From Energy Perf...   True     False  False   \nData-driven approaches to integrated closed-loo...  False     False  False   \n\n                                                    big_data  \\\nTI                                                             \nBeyond the learning curve: a review of complex ...     False   \nCVDNet: A novel deep learning architecture for ...     False   \nTowards the sustainable development of smart ci...     False   \nMapping the Educational Applications of Augment...     False   \nArtificial intelligence for the early detection...     False   \n...                                                      ...   \nweather@homedevelopment and validation of a ver...     False   \nI/O Performance Characterization of Lustre and ...     False   \nStand Structure and Local Landscape Variables A...     False   \nA Data-Driven Energy Platform: From Energy Perf...     False   \nData-driven approaches to integrated closed-loo...      True   \n\n                                                    computing_infrastructure  \\\nTI                                                                             \nBeyond the learning curve: a review of complex ...                     False   \nCVDNet: A novel deep learning architecture for ...                     False   \nTowards the sustainable development of smart ci...                     False   \nMapping the Educational Applications of Augment...                     False   \nArtificial intelligence for the early detection...                     False   \n...                                                                      ...   \nweather@homedevelopment and validation of a ver...                      True   \nI/O Performance Characterization of Lustre and ...                      True   \nStand Structure and Local Landscape Variables A...                     False   \nA Data-Driven Energy Platform: From Energy Perf...                     False   \nData-driven approaches to integrated closed-loo...                     False   \n\n                                                    additive_manufacturing  \\\nTI                                                                           \nBeyond the learning curve: a review of complex ...                   False   \nCVDNet: A novel deep learning architecture for ...                   False   \nTowards the sustainable development of smart ci...                   False   \nMapping the Educational Applications of Augment...                   False   \nArtificial intelligence for the early detection...                   False   \n...                                                                    ...   \nweather@homedevelopment and validation of a ver...                   False   \nI/O Performance Characterization of Lustre and ...                   False   \nStand Structure and Local Landscape Variables A...                   False   \nA Data-Driven Energy Platform: From Energy Perf...                   False   \nData-driven approaches to integrated closed-loo...                   False   \n\n                                                    blockchain  \\\nTI                                                               \nBeyond the learning curve: a review of complex ...       False   \nCVDNet: A novel deep learning architecture for ...       False   \nTowards the sustainable development of smart ci...       False   \nMapping the Educational Applications of Augment...       False   \nArtificial intelligence for the early detection...       False   \n...                                                        ...   \nweather@homedevelopment and validation of a ver...       False   \nI/O Performance Characterization of Lustre and ...       False   \nStand Structure and Local Landscape Variables A...       False   \nA Data-Driven Energy Platform: From Energy Perf...       False   \nData-driven approaches to integrated closed-loo...       False   \n\n                                                                                               sdgkey  \\\nTI                                                                                                      \nBeyond the learning curve: a review of complex ...                                                  0   \nCVDNet: A novel deep learning architecture for ...                                  COVID-19 pandemic   \nTowards the sustainable development of smart ci...  combat the COVID-19, COVID-19 pandemic, Sustai...   \nMapping the Educational Applications of Augment...                                  COVID-19 pandemic   \nArtificial intelligence for the early detection...                                                  0   \n...                                                                                               ...   \nweather@homedevelopment and validation of a ver...  anthropogenic climate, climate change, climate...   \nI/O Performance Characterization of Lustre and ...                                   climate modeling   \nStand Structure and Local Landscape Variables A...                                                  0   \nA Data-Driven Energy Platform: From Energy Perf...                     greenhouse gas, greenhouse gas   \nData-driven approaches to integrated closed-loo...                     greenhouse gas, greenhouse gas   \n\n                                                                                                dtkey  \\\nTI                                                                                                      \nBeyond the learning curve: a review of complex ...                               robotic, robotically   \nCVDNet: A novel deep learning architecture for ...  Artificial Intelligence, Deep Learning, Neural...   \nTowards the sustainable development of smart ci...                    deep learning, object detection   \nMapping the Educational Applications of Augment...                                  Augmented Reality   \nArtificial intelligence for the early detection...  artificial intelligence, Deep learning, Machin...   \n...                                                                                               ...   \nweather@homedevelopment and validation of a ver...                              distributed computing   \nI/O Performance Characterization of Lustre and ...                                     supercomputing   \nStand Structure and Local Landscape Variables A...                                    neural networks   \nA Data-Driven Energy Platform: From Energy Perf...                                       data mining    \nData-driven approaches to integrated closed-loo...                                           Big Data   \n\n                                                                      Term1  \\\nTI                                                                            \nBeyond the learning curve: a review of complex ...  (avg, 0.01, 0.18, 0.81)   \nCVDNet: A novel deep learning architecture for ...  (avg, 0.03, 0.37, 0.59)   \nTowards the sustainable development of smart ci...  (avg, 0.02, 0.17, 0.81)   \nMapping the Educational Applications of Augment...  (avg, 0.02, 0.41, 0.57)   \nArtificial intelligence for the early detection...  (avg, 0.05, 0.32, 0.63)   \n...                                                                     ...   \nweather@homedevelopment and validation of a ver...  (avg, 0.02, 0.11, 0.87)   \nI/O Performance Characterization of Lustre and ...  (avg, 0.01, 0.52, 0.47)   \nStand Structure and Local Landscape Variables A...  (avg, 0.05, 0.36, 0.59)   \nA Data-Driven Energy Platform: From Energy Perf...  (avg, 0.01, 0.22, 0.77)   \nData-driven approaches to integrated closed-loo...  (avg, 0.04, 0.21, 0.75)   \n\n                                                                                          Term2  \\\nTI                                                                                                \nBeyond the learning curve: a review of complex ...                  (robotic, 0.01, 0.16, 0.83)   \nCVDNet: A novel deep learning architecture for ...  (Artificial Intelligence, 0.03, 0.35, 0.62)   \nTowards the sustainable development of smart ci...             (deep learning, 0.02, 0.2, 0.78)   \nMapping the Educational Applications of Augment...         (Augmented Reality, 0.02, 0.5, 0.48)   \nArtificial intelligence for the early detection...  (artificial intelligence, 0.04, 0.21, 0.75)   \n...                                                                                         ...   \nweather@homedevelopment and validation of a ver...    (distributed computing, 0.02, 0.14, 0.85)   \nI/O Performance Characterization of Lustre and ...           (supercomputing, 0.01, 0.67, 0.32)   \nStand Structure and Local Landscape Variables A...          (neural networks, 0.04, 0.39, 0.57)   \nA Data-Driven Energy Platform: From Energy Perf...             (data mining , 0.01, 0.07, 0.92)   \nData-driven approaches to integrated closed-loo...                 (Big Data, 0.02, 0.22, 0.76)   \n\n                                                                                   Term3  \\\nTI                                                                                         \nBeyond the learning curve: a review of complex ...       (robotically, 0.01, 0.15, 0.84)   \nCVDNet: A novel deep learning architecture for ...     (Deep Learning, 0.03, 0.38, 0.58)   \nTowards the sustainable development of smart ci...  (object detection, 0.02, 0.16, 0.82)   \nMapping the Educational Applications of Augment...                                  None   \nArtificial intelligence for the early detection...     (Deep learning, 0.05, 0.24, 0.71)   \n...                                                                                  ...   \nweather@homedevelopment and validation of a ver...                                  None   \nI/O Performance Characterization of Lustre and ...                                  None   \nStand Structure and Local Landscape Variables A...                                  None   \nA Data-Driven Energy Platform: From Energy Perf...                                  None   \nData-driven approaches to integrated closed-loo...                                  None   \n\n                                                                                   Term4  \\\nTI                                                                                         \nBeyond the learning curve: a review of complex ...                                  None   \nCVDNet: A novel deep learning architecture for ...    (Neural Network, 0.03, 0.38, 0.59)   \nTowards the sustainable development of smart ci...                                  None   \nMapping the Educational Applications of Augment...                                  None   \nArtificial intelligence for the early detection...  (Machine learning, 0.05, 0.23, 0.73)   \n...                                                                                  ...   \nweather@homedevelopment and validation of a ver...                                  None   \nI/O Performance Characterization of Lustre and ...                                  None   \nStand Structure and Local Landscape Variables A...                                  None   \nA Data-Driven Energy Platform: From Energy Perf...                                  None   \nData-driven approaches to integrated closed-loo...                                  None   \n\n                                                   Term5 Annotator  \\\nTI                                                                   \nBeyond the learning curve: a review of complex ...  None   Claudia   \nCVDNet: A novel deep learning architecture for ...  None   Claudia   \nTowards the sustainable development of smart ci...  None   Claudia   \nMapping the Educational Applications of Augment...  None   Claudia   \nArtificial intelligence for the early detection...  None   Claudia   \n...                                                  ...       ...   \nweather@homedevelopment and validation of a ver...  None     Kevin   \nI/O Performance Characterization of Lustre and ...  None     Kevin   \nStand Structure and Local Landscape Variables A...  None     Kevin   \nA Data-Driven Energy Platform: From Energy Perf...  None     Kevin   \nData-driven approaches to integrated closed-loo...  None     Kevin   \n\n                                                   manual_sent roberta_sent  \nTI                                                                           \nBeyond the learning curve: a review of complex ...         Pos          Pos  \nCVDNet: A novel deep learning architecture for ...         Pos          Pos  \nTowards the sustainable development of smart ci...         Pos          Pos  \nMapping the Educational Applications of Augment...         Pos          Neu  \nArtificial intelligence for the early detection...         Pos          Pos  \n...                                                        ...          ...  \nweather@homedevelopment and validation of a ver...         Pos          Pos  \nI/O Performance Characterization of Lustre and ...         Neu          Neu  \nStand Structure and Local Landscape Variables A...         Neu          Pos  \nA Data-Driven Energy Platform: From Energy Perf...         Pos          Pos  \nData-driven approaches to integrated closed-loo...         Pos          Pos  \n\n[140 rows x 20 columns]",
      "text/html": "<div>\n<style scoped>\n    .dataframe tbody tr th:only-of-type {\n        vertical-align: middle;\n    }\n\n    .dataframe tbody tr th {\n        vertical-align: top;\n    }\n\n    .dataframe thead th {\n        text-align: right;\n    }\n</style>\n<table border=\"1\" class=\"dataframe\">\n  <thead>\n    <tr style=\"text-align: right;\">\n      <th></th>\n      <th>DE</th>\n      <th>SDG</th>\n      <th>AB</th>\n      <th>AI</th>\n      <th>robotics</th>\n      <th>IOT</th>\n      <th>big_data</th>\n      <th>computing_infrastructure</th>\n      <th>additive_manufacturing</th>\n      <th>blockchain</th>\n      <th>sdgkey</th>\n      <th>dtkey</th>\n      <th>Term1</th>\n      <th>Term2</th>\n      <th>Term3</th>\n      <th>Term4</th>\n      <th>Term5</th>\n      <th>Annotator</th>\n      <th>manual_sent</th>\n      <th>roberta_sent</th>\n    </tr>\n    <tr>\n      <th>TI</th>\n      <th></th>\n      <th></th>\n      <th></th>\n      <th></th>\n      <th></th>\n      <th></th>\n      <th></th>\n      <th></th>\n      <th></th>\n      <th></th>\n      <th></th>\n      <th></th>\n      <th></th>\n      <th></th>\n      <th></th>\n      <th></th>\n      <th></th>\n      <th></th>\n      <th></th>\n      <th></th>\n    </tr>\n  </thead>\n  <tbody>\n    <tr>\n      <th>Beyond the learning curve: a review of complex cases in robotic thoracic surgery</th>\n      <td>Robotic surgery; thoracic; outcomes; learning-...</td>\n      <td>3</td>\n      <td>The number of thoracic surgery cases performed...</td>\n      <td>False</td>\n      <td>True</td>\n      <td>False</td>\n      <td>False</td>\n      <td>False</td>\n      <td>False</td>\n      <td>False</td>\n      <td>0</td>\n      <td>robotic, robotically</td>\n      <td>(avg, 0.01, 0.18, 0.81)</td>\n      <td>(robotic, 0.01, 0.16, 0.83)</td>\n      <td>(robotically, 0.01, 0.15, 0.84)</td>\n      <td>None</td>\n      <td>None</td>\n      <td>Claudia</td>\n      <td>Pos</td>\n      <td>Pos</td>\n    </tr>\n    <tr>\n      <th>CVDNet: A novel deep learning architecture for detection of coronavirus (Covid-19) from chest x-ray images</th>\n      <td>Deep learning; Convolutional neural network; C...</td>\n      <td>3</td>\n      <td>The COVID-19 pandemic is an emerging respirato...</td>\n      <td>True</td>\n      <td>False</td>\n      <td>False</td>\n      <td>False</td>\n      <td>False</td>\n      <td>False</td>\n      <td>False</td>\n      <td>COVID-19 pandemic</td>\n      <td>Artificial Intelligence, Deep Learning, Neural...</td>\n      <td>(avg, 0.03, 0.37, 0.59)</td>\n      <td>(Artificial Intelligence, 0.03, 0.35, 0.62)</td>\n      <td>(Deep Learning, 0.03, 0.38, 0.58)</td>\n      <td>(Neural Network, 0.03, 0.38, 0.59)</td>\n      <td>None</td>\n      <td>Claudia</td>\n      <td>Pos</td>\n      <td>Pos</td>\n    </tr>\n    <tr>\n      <th>Towards the sustainable development of smart cities through mass video surveillance: A response to the COVID-19 pandemic</th>\n      <td>Sustainable cities; COVID-19 pandemic; video s...</td>\n      <td>3</td>\n      <td>Sustainable smart city initiatives around the ...</td>\n      <td>True</td>\n      <td>False</td>\n      <td>False</td>\n      <td>False</td>\n      <td>False</td>\n      <td>False</td>\n      <td>False</td>\n      <td>combat the COVID-19, COVID-19 pandemic, Sustai...</td>\n      <td>deep learning, object detection</td>\n      <td>(avg, 0.02, 0.17, 0.81)</td>\n      <td>(deep learning, 0.02, 0.2, 0.78)</td>\n      <td>(object detection, 0.02, 0.16, 0.82)</td>\n      <td>None</td>\n      <td>None</td>\n      <td>Claudia</td>\n      <td>Pos</td>\n      <td>Pos</td>\n    </tr>\n    <tr>\n      <th>Mapping the Educational Applications of Augmented Reality Research using A Bibliometric Analysis</th>\n      <td>technology; education; application; augmented ...</td>\n      <td>3</td>\n      <td>The use of technology in education is increasi...</td>\n      <td>True</td>\n      <td>False</td>\n      <td>False</td>\n      <td>False</td>\n      <td>False</td>\n      <td>False</td>\n      <td>False</td>\n      <td>COVID-19 pandemic</td>\n      <td>Augmented Reality</td>\n      <td>(avg, 0.02, 0.41, 0.57)</td>\n      <td>(Augmented Reality, 0.02, 0.5, 0.48)</td>\n      <td>None</td>\n      <td>None</td>\n      <td>None</td>\n      <td>Claudia</td>\n      <td>Pos</td>\n      <td>Neu</td>\n    </tr>\n    <tr>\n      <th>Artificial intelligence for the early detection of colorectal cancer: A comprehensive review of its advantages and misconceptions</th>\n      <td>Artificial intelligence; Machine learning; Dee...</td>\n      <td>3</td>\n      <td>Colorectal cancer (CRC) was the second-ranked ...</td>\n      <td>True</td>\n      <td>False</td>\n      <td>False</td>\n      <td>False</td>\n      <td>False</td>\n      <td>False</td>\n      <td>False</td>\n      <td>0</td>\n      <td>artificial intelligence, Deep learning, Machin...</td>\n      <td>(avg, 0.05, 0.32, 0.63)</td>\n      <td>(artificial intelligence, 0.04, 0.21, 0.75)</td>\n      <td>(Deep learning, 0.05, 0.24, 0.71)</td>\n      <td>(Machine learning, 0.05, 0.23, 0.73)</td>\n      <td>None</td>\n      <td>Claudia</td>\n      <td>Pos</td>\n      <td>Pos</td>\n    </tr>\n    <tr>\n      <th>...</th>\n      <td>...</td>\n      <td>...</td>\n      <td>...</td>\n      <td>...</td>\n      <td>...</td>\n      <td>...</td>\n      <td>...</td>\n      <td>...</td>\n      <td>...</td>\n      <td>...</td>\n      <td>...</td>\n      <td>...</td>\n      <td>...</td>\n      <td>...</td>\n      <td>...</td>\n      <td>...</td>\n      <td>...</td>\n      <td>...</td>\n      <td>...</td>\n      <td>...</td>\n    </tr>\n    <tr>\n      <th>weather@homedevelopment and validation of a very large ensemble modelling system for probabilistic event attribution</th>\n      <td>global climate model; regional climate model; ...</td>\n      <td>13</td>\n      <td>Demonstrating the effect that climate change i...</td>\n      <td>False</td>\n      <td>False</td>\n      <td>False</td>\n      <td>False</td>\n      <td>True</td>\n      <td>False</td>\n      <td>False</td>\n      <td>anthropogenic climate, climate change, climate...</td>\n      <td>distributed computing</td>\n      <td>(avg, 0.02, 0.11, 0.87)</td>\n      <td>(distributed computing, 0.02, 0.14, 0.85)</td>\n      <td>None</td>\n      <td>None</td>\n      <td>None</td>\n      <td>Kevin</td>\n      <td>Pos</td>\n      <td>Pos</td>\n    </tr>\n    <tr>\n      <th>I/O Performance Characterization of Lustre and NASA Applications on Pleiades</th>\n      <td>Lustre file system; I/O performance evaluation...</td>\n      <td>13</td>\n      <td>In this paper we study the performance of the ...</td>\n      <td>False</td>\n      <td>False</td>\n      <td>False</td>\n      <td>False</td>\n      <td>True</td>\n      <td>False</td>\n      <td>False</td>\n      <td>climate modeling</td>\n      <td>supercomputing</td>\n      <td>(avg, 0.01, 0.52, 0.47)</td>\n      <td>(supercomputing, 0.01, 0.67, 0.32)</td>\n      <td>None</td>\n      <td>None</td>\n      <td>None</td>\n      <td>Kevin</td>\n      <td>Neu</td>\n      <td>Neu</td>\n    </tr>\n    <tr>\n      <th>Stand Structure and Local Landscape Variables Are the Dominant Factors Explaining Shrub and Tree Diversity in Mediterranean Forests</th>\n      <td>landscape metrics; forest management; artifici...</td>\n      <td>13</td>\n      <td>Plant diversity is a core value of forests and...</td>\n      <td>True</td>\n      <td>False</td>\n      <td>False</td>\n      <td>False</td>\n      <td>False</td>\n      <td>False</td>\n      <td>False</td>\n      <td>0</td>\n      <td>neural networks</td>\n      <td>(avg, 0.05, 0.36, 0.59)</td>\n      <td>(neural networks, 0.04, 0.39, 0.57)</td>\n      <td>None</td>\n      <td>None</td>\n      <td>None</td>\n      <td>Kevin</td>\n      <td>Neu</td>\n      <td>Pos</td>\n    </tr>\n    <tr>\n      <th>A Data-Driven Energy Platform: From Energy Performance Certificates to Human-Readable Knowledge through Dynamic High-Resolution Geospatial Maps</th>\n      <td>data exploration; data visualization; energy p...</td>\n      <td>13</td>\n      <td>The energy performance certificate (EPC) is a ...</td>\n      <td>True</td>\n      <td>False</td>\n      <td>False</td>\n      <td>False</td>\n      <td>False</td>\n      <td>False</td>\n      <td>False</td>\n      <td>greenhouse gas, greenhouse gas</td>\n      <td>data mining</td>\n      <td>(avg, 0.01, 0.22, 0.77)</td>\n      <td>(data mining , 0.01, 0.07, 0.92)</td>\n      <td>None</td>\n      <td>None</td>\n      <td>None</td>\n      <td>Kevin</td>\n      <td>Pos</td>\n      <td>Pos</td>\n    </tr>\n    <tr>\n      <th>Data-driven approaches to integrated closed-loop sustainable supply chain design under multi-uncertainties</th>\n      <td>sustainable supply chain; Robust optimization;...</td>\n      <td>13</td>\n      <td>In this paper, the problem of sustainable clos...</td>\n      <td>False</td>\n      <td>False</td>\n      <td>False</td>\n      <td>True</td>\n      <td>False</td>\n      <td>False</td>\n      <td>False</td>\n      <td>greenhouse gas, greenhouse gas</td>\n      <td>Big Data</td>\n      <td>(avg, 0.04, 0.21, 0.75)</td>\n      <td>(Big Data, 0.02, 0.22, 0.76)</td>\n      <td>None</td>\n      <td>None</td>\n      <td>None</td>\n      <td>Kevin</td>\n      <td>Pos</td>\n      <td>Pos</td>\n    </tr>\n  </tbody>\n</table>\n<p>140 rows × 20 columns</p>\n</div>"
     },
     "execution_count": 111,
     "metadata": {},
     "output_type": "execute_result"
    }
   ],
   "source": [
    "sample_all"
   ],
   "metadata": {
    "collapsed": false
   }
  },
  {
   "cell_type": "code",
   "execution_count": 112,
   "outputs": [],
   "source": [
    "def compute_accuracy(manual_sent, model_sent):\n",
    "    size = len(manual_sent)\n",
    "    count_positive = 0\n",
    "    for i in range(size):\n",
    "        if manual_sent[i] == model_sent[i]:\n",
    "            count_positive += 1\n",
    "    return count_positive/size\n"
   ],
   "metadata": {
    "collapsed": false
   }
  },
  {
   "cell_type": "code",
   "execution_count": 113,
   "outputs": [
    {
     "data": {
      "text/plain": "0.6714285714285714"
     },
     "execution_count": 113,
     "metadata": {},
     "output_type": "execute_result"
    }
   ],
   "source": [
    "# Accuracy Roberta\n",
    "compute_accuracy(sample_all.manual_sent.to_list(), sample_all.roberta_sent.to_list())"
   ],
   "metadata": {
    "collapsed": false
   }
  },
  {
   "cell_type": "code",
   "execution_count": 114,
   "outputs": [],
   "source": [
    "sample_all.to_excel(\"../data/sample_fully_annotated.xlsx\", index=None)"
   ],
   "metadata": {
    "collapsed": false
   }
  },
  {
   "cell_type": "code",
   "execution_count": null,
   "outputs": [],
   "source": [],
   "metadata": {
    "collapsed": false
   }
  }
 ],
 "metadata": {
  "kernelspec": {
   "display_name": "Python 3",
   "language": "python",
   "name": "python3"
  },
  "language_info": {
   "codemirror_mode": {
    "name": "ipython",
    "version": 2
   },
   "file_extension": ".py",
   "mimetype": "text/x-python",
   "name": "python",
   "nbconvert_exporter": "python",
   "pygments_lexer": "ipython2",
   "version": "2.7.6"
  }
 },
 "nbformat": 4,
 "nbformat_minor": 0
}
